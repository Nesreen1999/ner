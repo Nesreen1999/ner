{
 "cells": [
  {
   "cell_type": "code",
   "execution_count": 1,
   "id": "35ab586f",
   "metadata": {},
   "outputs": [],
   "source": [
    "#Import necessary libraries:\n",
    "import requests\n",
    "import json\n",
    "import time\n",
    "import urllib3\n",
    "import plotly.express as px\n",
    "from pycountry_convert import country_name_to_country_alpha3\n",
    "import pandas as pd\n",
    "from tempfile import NamedTemporaryFile\n",
    "import urllib.request as request\n",
    "import matplotlib.font_manager as fm\n",
    "import matplotlib.pyplot as plt"
   ]
  },
  {
   "cell_type": "code",
   "execution_count": 2,
   "id": "64038cab",
   "metadata": {},
   "outputs": [],
   "source": [
    "#Getting the Lato font \n",
    "github_url = 'https://github.com/google/fonts/blob/main/ofl/lato/Lato-Regular.ttf'\n",
    "url = github_url + '?raw=true'  # You want the actual file, not some html\n",
    "proxy_handler = request.ProxyHandler({'https':'http://nfekihromdha:@2changinpwd@proxy60-2.oddo.fr:8080'})\n",
    "opener = request.build_opener(proxy_handler)\n",
    "req = opener.open(url)\n",
    "data = req.read()\n",
    "f = NamedTemporaryFile(delete=False, suffix='.ttf')\n",
    "f.write(data)\n",
    "f.close()\n",
    "prop = fm.FontProperties(fname=f.name)"
   ]
  },
  {
   "cell_type": "code",
   "execution_count": 3,
   "id": "b2e4e0a4",
   "metadata": {},
   "outputs": [],
   "source": [
    "import pyodbc \n",
    "import pandas as pd\n",
    "conn = pyodbc.connect(\"Driver={SQL Server};\"\n",
    "                      \"Server=YDATLWCRM0002;\"\n",
    "                      \"Database=DB_DW_CRM;\"\n",
    "                      \"Trusted_Connection=yes;\")"
   ]
  },
  {
   "cell_type": "code",
   "execution_count": 4,
   "id": "f6bb9dfe",
   "metadata": {},
   "outputs": [
    {
     "name": "stderr",
     "output_type": "stream",
     "text": [
      "<ipython-input-4-d7c3045b1694>:2: UserWarning: pandas only supports SQLAlchemy connectable (engine/connection) or database string URI or sqlite3 DBAPI2 connection. Other DBAPI2 objects are not tested. Please consider using SQLAlchemy.\n",
      "  country = pd.read_sql_query(country, conn)\n"
     ]
    },
    {
     "name": "stdout",
     "output_type": "stream",
     "text": [
      "Connection closed\n"
     ]
    }
   ],
   "source": [
    "country=\"SELECT [Country_EN],[Account_Name],[Visit address] FROM [DB_DW_CRM].[dbo].[DWH_DIM_ACCOUNT]\"\n",
    "country = pd.read_sql_query(country, conn)\n",
    "conn.close()\n",
    "print('Connection closed')"
   ]
  },
  {
   "cell_type": "code",
   "execution_count": 5,
   "id": "a9b58ef3",
   "metadata": {},
   "outputs": [],
   "source": [
    "df=country[country['Account_Name'].str.contains('test')==False]\n",
    "df=df[df['Account_Name'].str.contains('Test')==False]\n",
    "df=df[df['Visit address'].str.contains('test')==False]\n",
    "df=df.replace({'':None})"
   ]
  },
  {
   "cell_type": "code",
   "execution_count": 120,
   "id": "289da642",
   "metadata": {
    "scrolled": true
   },
   "outputs": [
    {
     "data": {
      "text/plain": [
       "255096"
      ]
     },
     "execution_count": 120,
     "metadata": {},
     "output_type": "execute_result"
    }
   ],
   "source": [
    "len(df)"
   ]
  },
  {
   "cell_type": "code",
   "execution_count": 320,
   "id": "6f8be6a5",
   "metadata": {},
   "outputs": [],
   "source": [
    "def missingness_plot(data):\n",
    "    df=pd.DataFrame()\n",
    "    df['Present']=list(data.count())\n",
    "    df['Present_Percent']=list(data.count()/len(data)*100)\n",
    "    df['Missing']=list(data.isna().sum())\n",
    "    df['Missing_Percent']=list(data.isna().mean())\n",
    "    df['columns']=list(data.columns)\n",
    "    fig = px.histogram(df,x='columns',y=['Missing','Present'],color_discrete_sequence=['#003C30','#55A185'],width=520)\n",
    "    fig.update_layout(\n",
    "    title_text='Missingness Bar Chart', # title of plot\n",
    "    xaxis_title_text='', # xaxis label\n",
    "    yaxis_title_text='Count')\n",
    "    fig.update_traces(opacity=0.85)\n",
    "    fig.update_xaxes(tickangle=-45)\n",
    "    fig.show()"
   ]
  },
  {
   "cell_type": "code",
   "execution_count": 321,
   "id": "0d42f1a4",
   "metadata": {},
   "outputs": [
    {
     "data": {
      "application/vnd.plotly.v1+json": {
       "config": {
        "plotlyServerURL": "https://plot.ly"
       },
       "data": [
        {
         "alignmentgroup": "True",
         "bingroup": "x",
         "histfunc": "sum",
         "hovertemplate": "variable=Missing<br>columns=%{x}<br>sum of value=%{y}<extra></extra>",
         "legendgroup": "Missing",
         "marker": {
          "color": "#003C30",
          "pattern": {
           "shape": ""
          }
         },
         "name": "Missing",
         "offsetgroup": "Missing",
         "opacity": 0.85,
         "orientation": "v",
         "showlegend": true,
         "type": "histogram",
         "x": [
          "Country_EN",
          "Account_Name",
          "Visit address"
         ],
         "xaxis": "x",
         "y": [
          171534,
          5,
          218944
         ],
         "yaxis": "y"
        },
        {
         "alignmentgroup": "True",
         "bingroup": "x",
         "histfunc": "sum",
         "hovertemplate": "variable=Present<br>columns=%{x}<br>sum of value=%{y}<extra></extra>",
         "legendgroup": "Present",
         "marker": {
          "color": "#55A185",
          "pattern": {
           "shape": ""
          }
         },
         "name": "Present",
         "offsetgroup": "Present",
         "opacity": 0.85,
         "orientation": "v",
         "showlegend": true,
         "type": "histogram",
         "x": [
          "Country_EN",
          "Account_Name",
          "Visit address"
         ],
         "xaxis": "x",
         "y": [
          83562,
          255091,
          36152
         ],
         "yaxis": "y"
        }
       ],
       "layout": {
        "barmode": "relative",
        "legend": {
         "title": {
          "text": "variable"
         },
         "tracegroupgap": 0
        },
        "margin": {
         "t": 60
        },
        "template": {
         "data": {
          "bar": [
           {
            "error_x": {
             "color": "#2a3f5f"
            },
            "error_y": {
             "color": "#2a3f5f"
            },
            "marker": {
             "line": {
              "color": "#E5ECF6",
              "width": 0.5
             },
             "pattern": {
              "fillmode": "overlay",
              "size": 10,
              "solidity": 0.2
             }
            },
            "type": "bar"
           }
          ],
          "barpolar": [
           {
            "marker": {
             "line": {
              "color": "#E5ECF6",
              "width": 0.5
             },
             "pattern": {
              "fillmode": "overlay",
              "size": 10,
              "solidity": 0.2
             }
            },
            "type": "barpolar"
           }
          ],
          "carpet": [
           {
            "aaxis": {
             "endlinecolor": "#2a3f5f",
             "gridcolor": "white",
             "linecolor": "white",
             "minorgridcolor": "white",
             "startlinecolor": "#2a3f5f"
            },
            "baxis": {
             "endlinecolor": "#2a3f5f",
             "gridcolor": "white",
             "linecolor": "white",
             "minorgridcolor": "white",
             "startlinecolor": "#2a3f5f"
            },
            "type": "carpet"
           }
          ],
          "choropleth": [
           {
            "colorbar": {
             "outlinewidth": 0,
             "ticks": ""
            },
            "type": "choropleth"
           }
          ],
          "contour": [
           {
            "colorbar": {
             "outlinewidth": 0,
             "ticks": ""
            },
            "colorscale": [
             [
              0,
              "#0d0887"
             ],
             [
              0.1111111111111111,
              "#46039f"
             ],
             [
              0.2222222222222222,
              "#7201a8"
             ],
             [
              0.3333333333333333,
              "#9c179e"
             ],
             [
              0.4444444444444444,
              "#bd3786"
             ],
             [
              0.5555555555555556,
              "#d8576b"
             ],
             [
              0.6666666666666666,
              "#ed7953"
             ],
             [
              0.7777777777777778,
              "#fb9f3a"
             ],
             [
              0.8888888888888888,
              "#fdca26"
             ],
             [
              1,
              "#f0f921"
             ]
            ],
            "type": "contour"
           }
          ],
          "contourcarpet": [
           {
            "colorbar": {
             "outlinewidth": 0,
             "ticks": ""
            },
            "type": "contourcarpet"
           }
          ],
          "heatmap": [
           {
            "colorbar": {
             "outlinewidth": 0,
             "ticks": ""
            },
            "colorscale": [
             [
              0,
              "#0d0887"
             ],
             [
              0.1111111111111111,
              "#46039f"
             ],
             [
              0.2222222222222222,
              "#7201a8"
             ],
             [
              0.3333333333333333,
              "#9c179e"
             ],
             [
              0.4444444444444444,
              "#bd3786"
             ],
             [
              0.5555555555555556,
              "#d8576b"
             ],
             [
              0.6666666666666666,
              "#ed7953"
             ],
             [
              0.7777777777777778,
              "#fb9f3a"
             ],
             [
              0.8888888888888888,
              "#fdca26"
             ],
             [
              1,
              "#f0f921"
             ]
            ],
            "type": "heatmap"
           }
          ],
          "heatmapgl": [
           {
            "colorbar": {
             "outlinewidth": 0,
             "ticks": ""
            },
            "colorscale": [
             [
              0,
              "#0d0887"
             ],
             [
              0.1111111111111111,
              "#46039f"
             ],
             [
              0.2222222222222222,
              "#7201a8"
             ],
             [
              0.3333333333333333,
              "#9c179e"
             ],
             [
              0.4444444444444444,
              "#bd3786"
             ],
             [
              0.5555555555555556,
              "#d8576b"
             ],
             [
              0.6666666666666666,
              "#ed7953"
             ],
             [
              0.7777777777777778,
              "#fb9f3a"
             ],
             [
              0.8888888888888888,
              "#fdca26"
             ],
             [
              1,
              "#f0f921"
             ]
            ],
            "type": "heatmapgl"
           }
          ],
          "histogram": [
           {
            "marker": {
             "pattern": {
              "fillmode": "overlay",
              "size": 10,
              "solidity": 0.2
             }
            },
            "type": "histogram"
           }
          ],
          "histogram2d": [
           {
            "colorbar": {
             "outlinewidth": 0,
             "ticks": ""
            },
            "colorscale": [
             [
              0,
              "#0d0887"
             ],
             [
              0.1111111111111111,
              "#46039f"
             ],
             [
              0.2222222222222222,
              "#7201a8"
             ],
             [
              0.3333333333333333,
              "#9c179e"
             ],
             [
              0.4444444444444444,
              "#bd3786"
             ],
             [
              0.5555555555555556,
              "#d8576b"
             ],
             [
              0.6666666666666666,
              "#ed7953"
             ],
             [
              0.7777777777777778,
              "#fb9f3a"
             ],
             [
              0.8888888888888888,
              "#fdca26"
             ],
             [
              1,
              "#f0f921"
             ]
            ],
            "type": "histogram2d"
           }
          ],
          "histogram2dcontour": [
           {
            "colorbar": {
             "outlinewidth": 0,
             "ticks": ""
            },
            "colorscale": [
             [
              0,
              "#0d0887"
             ],
             [
              0.1111111111111111,
              "#46039f"
             ],
             [
              0.2222222222222222,
              "#7201a8"
             ],
             [
              0.3333333333333333,
              "#9c179e"
             ],
             [
              0.4444444444444444,
              "#bd3786"
             ],
             [
              0.5555555555555556,
              "#d8576b"
             ],
             [
              0.6666666666666666,
              "#ed7953"
             ],
             [
              0.7777777777777778,
              "#fb9f3a"
             ],
             [
              0.8888888888888888,
              "#fdca26"
             ],
             [
              1,
              "#f0f921"
             ]
            ],
            "type": "histogram2dcontour"
           }
          ],
          "mesh3d": [
           {
            "colorbar": {
             "outlinewidth": 0,
             "ticks": ""
            },
            "type": "mesh3d"
           }
          ],
          "parcoords": [
           {
            "line": {
             "colorbar": {
              "outlinewidth": 0,
              "ticks": ""
             }
            },
            "type": "parcoords"
           }
          ],
          "pie": [
           {
            "automargin": true,
            "type": "pie"
           }
          ],
          "scatter": [
           {
            "fillpattern": {
             "fillmode": "overlay",
             "size": 10,
             "solidity": 0.2
            },
            "type": "scatter"
           }
          ],
          "scatter3d": [
           {
            "line": {
             "colorbar": {
              "outlinewidth": 0,
              "ticks": ""
             }
            },
            "marker": {
             "colorbar": {
              "outlinewidth": 0,
              "ticks": ""
             }
            },
            "type": "scatter3d"
           }
          ],
          "scattercarpet": [
           {
            "marker": {
             "colorbar": {
              "outlinewidth": 0,
              "ticks": ""
             }
            },
            "type": "scattercarpet"
           }
          ],
          "scattergeo": [
           {
            "marker": {
             "colorbar": {
              "outlinewidth": 0,
              "ticks": ""
             }
            },
            "type": "scattergeo"
           }
          ],
          "scattergl": [
           {
            "marker": {
             "colorbar": {
              "outlinewidth": 0,
              "ticks": ""
             }
            },
            "type": "scattergl"
           }
          ],
          "scattermapbox": [
           {
            "marker": {
             "colorbar": {
              "outlinewidth": 0,
              "ticks": ""
             }
            },
            "type": "scattermapbox"
           }
          ],
          "scatterpolar": [
           {
            "marker": {
             "colorbar": {
              "outlinewidth": 0,
              "ticks": ""
             }
            },
            "type": "scatterpolar"
           }
          ],
          "scatterpolargl": [
           {
            "marker": {
             "colorbar": {
              "outlinewidth": 0,
              "ticks": ""
             }
            },
            "type": "scatterpolargl"
           }
          ],
          "scatterternary": [
           {
            "marker": {
             "colorbar": {
              "outlinewidth": 0,
              "ticks": ""
             }
            },
            "type": "scatterternary"
           }
          ],
          "surface": [
           {
            "colorbar": {
             "outlinewidth": 0,
             "ticks": ""
            },
            "colorscale": [
             [
              0,
              "#0d0887"
             ],
             [
              0.1111111111111111,
              "#46039f"
             ],
             [
              0.2222222222222222,
              "#7201a8"
             ],
             [
              0.3333333333333333,
              "#9c179e"
             ],
             [
              0.4444444444444444,
              "#bd3786"
             ],
             [
              0.5555555555555556,
              "#d8576b"
             ],
             [
              0.6666666666666666,
              "#ed7953"
             ],
             [
              0.7777777777777778,
              "#fb9f3a"
             ],
             [
              0.8888888888888888,
              "#fdca26"
             ],
             [
              1,
              "#f0f921"
             ]
            ],
            "type": "surface"
           }
          ],
          "table": [
           {
            "cells": {
             "fill": {
              "color": "#EBF0F8"
             },
             "line": {
              "color": "white"
             }
            },
            "header": {
             "fill": {
              "color": "#C8D4E3"
             },
             "line": {
              "color": "white"
             }
            },
            "type": "table"
           }
          ]
         },
         "layout": {
          "annotationdefaults": {
           "arrowcolor": "#2a3f5f",
           "arrowhead": 0,
           "arrowwidth": 1
          },
          "autotypenumbers": "strict",
          "coloraxis": {
           "colorbar": {
            "outlinewidth": 0,
            "ticks": ""
           }
          },
          "colorscale": {
           "diverging": [
            [
             0,
             "#8e0152"
            ],
            [
             0.1,
             "#c51b7d"
            ],
            [
             0.2,
             "#de77ae"
            ],
            [
             0.3,
             "#f1b6da"
            ],
            [
             0.4,
             "#fde0ef"
            ],
            [
             0.5,
             "#f7f7f7"
            ],
            [
             0.6,
             "#e6f5d0"
            ],
            [
             0.7,
             "#b8e186"
            ],
            [
             0.8,
             "#7fbc41"
            ],
            [
             0.9,
             "#4d9221"
            ],
            [
             1,
             "#276419"
            ]
           ],
           "sequential": [
            [
             0,
             "#0d0887"
            ],
            [
             0.1111111111111111,
             "#46039f"
            ],
            [
             0.2222222222222222,
             "#7201a8"
            ],
            [
             0.3333333333333333,
             "#9c179e"
            ],
            [
             0.4444444444444444,
             "#bd3786"
            ],
            [
             0.5555555555555556,
             "#d8576b"
            ],
            [
             0.6666666666666666,
             "#ed7953"
            ],
            [
             0.7777777777777778,
             "#fb9f3a"
            ],
            [
             0.8888888888888888,
             "#fdca26"
            ],
            [
             1,
             "#f0f921"
            ]
           ],
           "sequentialminus": [
            [
             0,
             "#0d0887"
            ],
            [
             0.1111111111111111,
             "#46039f"
            ],
            [
             0.2222222222222222,
             "#7201a8"
            ],
            [
             0.3333333333333333,
             "#9c179e"
            ],
            [
             0.4444444444444444,
             "#bd3786"
            ],
            [
             0.5555555555555556,
             "#d8576b"
            ],
            [
             0.6666666666666666,
             "#ed7953"
            ],
            [
             0.7777777777777778,
             "#fb9f3a"
            ],
            [
             0.8888888888888888,
             "#fdca26"
            ],
            [
             1,
             "#f0f921"
            ]
           ]
          },
          "colorway": [
           "#636efa",
           "#EF553B",
           "#00cc96",
           "#ab63fa",
           "#FFA15A",
           "#19d3f3",
           "#FF6692",
           "#B6E880",
           "#FF97FF",
           "#FECB52"
          ],
          "font": {
           "color": "#2a3f5f"
          },
          "geo": {
           "bgcolor": "white",
           "lakecolor": "white",
           "landcolor": "#E5ECF6",
           "showlakes": true,
           "showland": true,
           "subunitcolor": "white"
          },
          "hoverlabel": {
           "align": "left"
          },
          "hovermode": "closest",
          "mapbox": {
           "style": "light"
          },
          "paper_bgcolor": "white",
          "plot_bgcolor": "#E5ECF6",
          "polar": {
           "angularaxis": {
            "gridcolor": "white",
            "linecolor": "white",
            "ticks": ""
           },
           "bgcolor": "#E5ECF6",
           "radialaxis": {
            "gridcolor": "white",
            "linecolor": "white",
            "ticks": ""
           }
          },
          "scene": {
           "xaxis": {
            "backgroundcolor": "#E5ECF6",
            "gridcolor": "white",
            "gridwidth": 2,
            "linecolor": "white",
            "showbackground": true,
            "ticks": "",
            "zerolinecolor": "white"
           },
           "yaxis": {
            "backgroundcolor": "#E5ECF6",
            "gridcolor": "white",
            "gridwidth": 2,
            "linecolor": "white",
            "showbackground": true,
            "ticks": "",
            "zerolinecolor": "white"
           },
           "zaxis": {
            "backgroundcolor": "#E5ECF6",
            "gridcolor": "white",
            "gridwidth": 2,
            "linecolor": "white",
            "showbackground": true,
            "ticks": "",
            "zerolinecolor": "white"
           }
          },
          "shapedefaults": {
           "line": {
            "color": "#2a3f5f"
           }
          },
          "ternary": {
           "aaxis": {
            "gridcolor": "white",
            "linecolor": "white",
            "ticks": ""
           },
           "baxis": {
            "gridcolor": "white",
            "linecolor": "white",
            "ticks": ""
           },
           "bgcolor": "#E5ECF6",
           "caxis": {
            "gridcolor": "white",
            "linecolor": "white",
            "ticks": ""
           }
          },
          "title": {
           "x": 0.05
          },
          "xaxis": {
           "automargin": true,
           "gridcolor": "white",
           "linecolor": "white",
           "ticks": "",
           "title": {
            "standoff": 15
           },
           "zerolinecolor": "white",
           "zerolinewidth": 2
          },
          "yaxis": {
           "automargin": true,
           "gridcolor": "white",
           "linecolor": "white",
           "ticks": "",
           "title": {
            "standoff": 15
           },
           "zerolinecolor": "white",
           "zerolinewidth": 2
          }
         }
        },
        "title": {
         "text": "Missingness Bar Chart"
        },
        "width": 520,
        "xaxis": {
         "anchor": "y",
         "domain": [
          0,
          1
         ],
         "tickangle": -45,
         "title": {
          "text": ""
         }
        },
        "yaxis": {
         "anchor": "x",
         "domain": [
          0,
          1
         ],
         "title": {
          "text": "Count"
         }
        }
       }
      },
      "text/html": [
       "<div>                            <div id=\"c672e990-8da8-4a27-9ecf-6dd13bdeaa68\" class=\"plotly-graph-div\" style=\"height:525px; width:520px;\"></div>            <script type=\"text/javascript\">                require([\"plotly\"], function(Plotly) {                    window.PLOTLYENV=window.PLOTLYENV || {};                                    if (document.getElementById(\"c672e990-8da8-4a27-9ecf-6dd13bdeaa68\")) {                    Plotly.newPlot(                        \"c672e990-8da8-4a27-9ecf-6dd13bdeaa68\",                        [{\"alignmentgroup\":\"True\",\"bingroup\":\"x\",\"histfunc\":\"sum\",\"hovertemplate\":\"variable=Missing<br>columns=%{x}<br>sum of value=%{y}<extra></extra>\",\"legendgroup\":\"Missing\",\"marker\":{\"color\":\"#003C30\",\"pattern\":{\"shape\":\"\"}},\"name\":\"Missing\",\"offsetgroup\":\"Missing\",\"orientation\":\"v\",\"showlegend\":true,\"x\":[\"Country_EN\",\"Account_Name\",\"Visit address\"],\"xaxis\":\"x\",\"y\":[171534,5,218944],\"yaxis\":\"y\",\"type\":\"histogram\",\"opacity\":0.85},{\"alignmentgroup\":\"True\",\"bingroup\":\"x\",\"histfunc\":\"sum\",\"hovertemplate\":\"variable=Present<br>columns=%{x}<br>sum of value=%{y}<extra></extra>\",\"legendgroup\":\"Present\",\"marker\":{\"color\":\"#55A185\",\"pattern\":{\"shape\":\"\"}},\"name\":\"Present\",\"offsetgroup\":\"Present\",\"orientation\":\"v\",\"showlegend\":true,\"x\":[\"Country_EN\",\"Account_Name\",\"Visit address\"],\"xaxis\":\"x\",\"y\":[83562,255091,36152],\"yaxis\":\"y\",\"type\":\"histogram\",\"opacity\":0.85}],                        {\"template\":{\"data\":{\"histogram2dcontour\":[{\"type\":\"histogram2dcontour\",\"colorbar\":{\"outlinewidth\":0,\"ticks\":\"\"},\"colorscale\":[[0.0,\"#0d0887\"],[0.1111111111111111,\"#46039f\"],[0.2222222222222222,\"#7201a8\"],[0.3333333333333333,\"#9c179e\"],[0.4444444444444444,\"#bd3786\"],[0.5555555555555556,\"#d8576b\"],[0.6666666666666666,\"#ed7953\"],[0.7777777777777778,\"#fb9f3a\"],[0.8888888888888888,\"#fdca26\"],[1.0,\"#f0f921\"]]}],\"choropleth\":[{\"type\":\"choropleth\",\"colorbar\":{\"outlinewidth\":0,\"ticks\":\"\"}}],\"histogram2d\":[{\"type\":\"histogram2d\",\"colorbar\":{\"outlinewidth\":0,\"ticks\":\"\"},\"colorscale\":[[0.0,\"#0d0887\"],[0.1111111111111111,\"#46039f\"],[0.2222222222222222,\"#7201a8\"],[0.3333333333333333,\"#9c179e\"],[0.4444444444444444,\"#bd3786\"],[0.5555555555555556,\"#d8576b\"],[0.6666666666666666,\"#ed7953\"],[0.7777777777777778,\"#fb9f3a\"],[0.8888888888888888,\"#fdca26\"],[1.0,\"#f0f921\"]]}],\"heatmap\":[{\"type\":\"heatmap\",\"colorbar\":{\"outlinewidth\":0,\"ticks\":\"\"},\"colorscale\":[[0.0,\"#0d0887\"],[0.1111111111111111,\"#46039f\"],[0.2222222222222222,\"#7201a8\"],[0.3333333333333333,\"#9c179e\"],[0.4444444444444444,\"#bd3786\"],[0.5555555555555556,\"#d8576b\"],[0.6666666666666666,\"#ed7953\"],[0.7777777777777778,\"#fb9f3a\"],[0.8888888888888888,\"#fdca26\"],[1.0,\"#f0f921\"]]}],\"heatmapgl\":[{\"type\":\"heatmapgl\",\"colorbar\":{\"outlinewidth\":0,\"ticks\":\"\"},\"colorscale\":[[0.0,\"#0d0887\"],[0.1111111111111111,\"#46039f\"],[0.2222222222222222,\"#7201a8\"],[0.3333333333333333,\"#9c179e\"],[0.4444444444444444,\"#bd3786\"],[0.5555555555555556,\"#d8576b\"],[0.6666666666666666,\"#ed7953\"],[0.7777777777777778,\"#fb9f3a\"],[0.8888888888888888,\"#fdca26\"],[1.0,\"#f0f921\"]]}],\"contourcarpet\":[{\"type\":\"contourcarpet\",\"colorbar\":{\"outlinewidth\":0,\"ticks\":\"\"}}],\"contour\":[{\"type\":\"contour\",\"colorbar\":{\"outlinewidth\":0,\"ticks\":\"\"},\"colorscale\":[[0.0,\"#0d0887\"],[0.1111111111111111,\"#46039f\"],[0.2222222222222222,\"#7201a8\"],[0.3333333333333333,\"#9c179e\"],[0.4444444444444444,\"#bd3786\"],[0.5555555555555556,\"#d8576b\"],[0.6666666666666666,\"#ed7953\"],[0.7777777777777778,\"#fb9f3a\"],[0.8888888888888888,\"#fdca26\"],[1.0,\"#f0f921\"]]}],\"surface\":[{\"type\":\"surface\",\"colorbar\":{\"outlinewidth\":0,\"ticks\":\"\"},\"colorscale\":[[0.0,\"#0d0887\"],[0.1111111111111111,\"#46039f\"],[0.2222222222222222,\"#7201a8\"],[0.3333333333333333,\"#9c179e\"],[0.4444444444444444,\"#bd3786\"],[0.5555555555555556,\"#d8576b\"],[0.6666666666666666,\"#ed7953\"],[0.7777777777777778,\"#fb9f3a\"],[0.8888888888888888,\"#fdca26\"],[1.0,\"#f0f921\"]]}],\"mesh3d\":[{\"type\":\"mesh3d\",\"colorbar\":{\"outlinewidth\":0,\"ticks\":\"\"}}],\"scatter\":[{\"fillpattern\":{\"fillmode\":\"overlay\",\"size\":10,\"solidity\":0.2},\"type\":\"scatter\"}],\"parcoords\":[{\"type\":\"parcoords\",\"line\":{\"colorbar\":{\"outlinewidth\":0,\"ticks\":\"\"}}}],\"scatterpolargl\":[{\"type\":\"scatterpolargl\",\"marker\":{\"colorbar\":{\"outlinewidth\":0,\"ticks\":\"\"}}}],\"bar\":[{\"error_x\":{\"color\":\"#2a3f5f\"},\"error_y\":{\"color\":\"#2a3f5f\"},\"marker\":{\"line\":{\"color\":\"#E5ECF6\",\"width\":0.5},\"pattern\":{\"fillmode\":\"overlay\",\"size\":10,\"solidity\":0.2}},\"type\":\"bar\"}],\"scattergeo\":[{\"type\":\"scattergeo\",\"marker\":{\"colorbar\":{\"outlinewidth\":0,\"ticks\":\"\"}}}],\"scatterpolar\":[{\"type\":\"scatterpolar\",\"marker\":{\"colorbar\":{\"outlinewidth\":0,\"ticks\":\"\"}}}],\"histogram\":[{\"marker\":{\"pattern\":{\"fillmode\":\"overlay\",\"size\":10,\"solidity\":0.2}},\"type\":\"histogram\"}],\"scattergl\":[{\"type\":\"scattergl\",\"marker\":{\"colorbar\":{\"outlinewidth\":0,\"ticks\":\"\"}}}],\"scatter3d\":[{\"type\":\"scatter3d\",\"line\":{\"colorbar\":{\"outlinewidth\":0,\"ticks\":\"\"}},\"marker\":{\"colorbar\":{\"outlinewidth\":0,\"ticks\":\"\"}}}],\"scattermapbox\":[{\"type\":\"scattermapbox\",\"marker\":{\"colorbar\":{\"outlinewidth\":0,\"ticks\":\"\"}}}],\"scatterternary\":[{\"type\":\"scatterternary\",\"marker\":{\"colorbar\":{\"outlinewidth\":0,\"ticks\":\"\"}}}],\"scattercarpet\":[{\"type\":\"scattercarpet\",\"marker\":{\"colorbar\":{\"outlinewidth\":0,\"ticks\":\"\"}}}],\"carpet\":[{\"aaxis\":{\"endlinecolor\":\"#2a3f5f\",\"gridcolor\":\"white\",\"linecolor\":\"white\",\"minorgridcolor\":\"white\",\"startlinecolor\":\"#2a3f5f\"},\"baxis\":{\"endlinecolor\":\"#2a3f5f\",\"gridcolor\":\"white\",\"linecolor\":\"white\",\"minorgridcolor\":\"white\",\"startlinecolor\":\"#2a3f5f\"},\"type\":\"carpet\"}],\"table\":[{\"cells\":{\"fill\":{\"color\":\"#EBF0F8\"},\"line\":{\"color\":\"white\"}},\"header\":{\"fill\":{\"color\":\"#C8D4E3\"},\"line\":{\"color\":\"white\"}},\"type\":\"table\"}],\"barpolar\":[{\"marker\":{\"line\":{\"color\":\"#E5ECF6\",\"width\":0.5},\"pattern\":{\"fillmode\":\"overlay\",\"size\":10,\"solidity\":0.2}},\"type\":\"barpolar\"}],\"pie\":[{\"automargin\":true,\"type\":\"pie\"}]},\"layout\":{\"autotypenumbers\":\"strict\",\"colorway\":[\"#636efa\",\"#EF553B\",\"#00cc96\",\"#ab63fa\",\"#FFA15A\",\"#19d3f3\",\"#FF6692\",\"#B6E880\",\"#FF97FF\",\"#FECB52\"],\"font\":{\"color\":\"#2a3f5f\"},\"hovermode\":\"closest\",\"hoverlabel\":{\"align\":\"left\"},\"paper_bgcolor\":\"white\",\"plot_bgcolor\":\"#E5ECF6\",\"polar\":{\"bgcolor\":\"#E5ECF6\",\"angularaxis\":{\"gridcolor\":\"white\",\"linecolor\":\"white\",\"ticks\":\"\"},\"radialaxis\":{\"gridcolor\":\"white\",\"linecolor\":\"white\",\"ticks\":\"\"}},\"ternary\":{\"bgcolor\":\"#E5ECF6\",\"aaxis\":{\"gridcolor\":\"white\",\"linecolor\":\"white\",\"ticks\":\"\"},\"baxis\":{\"gridcolor\":\"white\",\"linecolor\":\"white\",\"ticks\":\"\"},\"caxis\":{\"gridcolor\":\"white\",\"linecolor\":\"white\",\"ticks\":\"\"}},\"coloraxis\":{\"colorbar\":{\"outlinewidth\":0,\"ticks\":\"\"}},\"colorscale\":{\"sequential\":[[0.0,\"#0d0887\"],[0.1111111111111111,\"#46039f\"],[0.2222222222222222,\"#7201a8\"],[0.3333333333333333,\"#9c179e\"],[0.4444444444444444,\"#bd3786\"],[0.5555555555555556,\"#d8576b\"],[0.6666666666666666,\"#ed7953\"],[0.7777777777777778,\"#fb9f3a\"],[0.8888888888888888,\"#fdca26\"],[1.0,\"#f0f921\"]],\"sequentialminus\":[[0.0,\"#0d0887\"],[0.1111111111111111,\"#46039f\"],[0.2222222222222222,\"#7201a8\"],[0.3333333333333333,\"#9c179e\"],[0.4444444444444444,\"#bd3786\"],[0.5555555555555556,\"#d8576b\"],[0.6666666666666666,\"#ed7953\"],[0.7777777777777778,\"#fb9f3a\"],[0.8888888888888888,\"#fdca26\"],[1.0,\"#f0f921\"]],\"diverging\":[[0,\"#8e0152\"],[0.1,\"#c51b7d\"],[0.2,\"#de77ae\"],[0.3,\"#f1b6da\"],[0.4,\"#fde0ef\"],[0.5,\"#f7f7f7\"],[0.6,\"#e6f5d0\"],[0.7,\"#b8e186\"],[0.8,\"#7fbc41\"],[0.9,\"#4d9221\"],[1,\"#276419\"]]},\"xaxis\":{\"gridcolor\":\"white\",\"linecolor\":\"white\",\"ticks\":\"\",\"title\":{\"standoff\":15},\"zerolinecolor\":\"white\",\"automargin\":true,\"zerolinewidth\":2},\"yaxis\":{\"gridcolor\":\"white\",\"linecolor\":\"white\",\"ticks\":\"\",\"title\":{\"standoff\":15},\"zerolinecolor\":\"white\",\"automargin\":true,\"zerolinewidth\":2},\"scene\":{\"xaxis\":{\"backgroundcolor\":\"#E5ECF6\",\"gridcolor\":\"white\",\"linecolor\":\"white\",\"showbackground\":true,\"ticks\":\"\",\"zerolinecolor\":\"white\",\"gridwidth\":2},\"yaxis\":{\"backgroundcolor\":\"#E5ECF6\",\"gridcolor\":\"white\",\"linecolor\":\"white\",\"showbackground\":true,\"ticks\":\"\",\"zerolinecolor\":\"white\",\"gridwidth\":2},\"zaxis\":{\"backgroundcolor\":\"#E5ECF6\",\"gridcolor\":\"white\",\"linecolor\":\"white\",\"showbackground\":true,\"ticks\":\"\",\"zerolinecolor\":\"white\",\"gridwidth\":2}},\"shapedefaults\":{\"line\":{\"color\":\"#2a3f5f\"}},\"annotationdefaults\":{\"arrowcolor\":\"#2a3f5f\",\"arrowhead\":0,\"arrowwidth\":1},\"geo\":{\"bgcolor\":\"white\",\"landcolor\":\"#E5ECF6\",\"subunitcolor\":\"white\",\"showland\":true,\"showlakes\":true,\"lakecolor\":\"white\"},\"title\":{\"x\":0.05},\"mapbox\":{\"style\":\"light\"}}},\"xaxis\":{\"anchor\":\"y\",\"domain\":[0.0,1.0],\"title\":{\"text\":\"\"},\"tickangle\":-45},\"yaxis\":{\"anchor\":\"x\",\"domain\":[0.0,1.0],\"title\":{\"text\":\"Count\"}},\"legend\":{\"title\":{\"text\":\"variable\"},\"tracegroupgap\":0},\"margin\":{\"t\":60},\"barmode\":\"relative\",\"width\":520,\"title\":{\"text\":\"Missingness Bar Chart\"}},                        {\"responsive\": true}                    ).then(function(){\n",
       "                            \n",
       "var gd = document.getElementById('c672e990-8da8-4a27-9ecf-6dd13bdeaa68');\n",
       "var x = new MutationObserver(function (mutations, observer) {{\n",
       "        var display = window.getComputedStyle(gd).display;\n",
       "        if (!display || display === 'none') {{\n",
       "            console.log([gd, 'removed!']);\n",
       "            Plotly.purge(gd);\n",
       "            observer.disconnect();\n",
       "        }}\n",
       "}});\n",
       "\n",
       "// Listen for the removal of the full notebook cells\n",
       "var notebookContainer = gd.closest('#notebook-container');\n",
       "if (notebookContainer) {{\n",
       "    x.observe(notebookContainer, {childList: true});\n",
       "}}\n",
       "\n",
       "// Listen for the clearing of the current output cell\n",
       "var outputEl = gd.closest('.output');\n",
       "if (outputEl) {{\n",
       "    x.observe(outputEl, {childList: true});\n",
       "}}\n",
       "\n",
       "                        })                };                });            </script>        </div>"
      ]
     },
     "metadata": {},
     "output_type": "display_data"
    }
   ],
   "source": [
    "missingness_plot(df)"
   ]
  },
  {
   "cell_type": "code",
   "execution_count": 6,
   "id": "413407b5",
   "metadata": {},
   "outputs": [],
   "source": [
    "df2=df.dropna()"
   ]
  },
  {
   "cell_type": "code",
   "execution_count": 7,
   "id": "5c674b98",
   "metadata": {},
   "outputs": [],
   "source": [
    "unique_countries=df2['Country_EN'].unique()"
   ]
  },
  {
   "cell_type": "code",
   "execution_count": 8,
   "id": "dc96f7b5",
   "metadata": {},
   "outputs": [
    {
     "data": {
      "text/plain": [
       "array(['Netherlands', 'Malta', 'United States of America (USA)',\n",
       "       'Lithuania', 'Estonia', 'Finland', 'Germany', 'Luxembourg',\n",
       "       'Norway', 'Switzerland', 'Spain', 'Sweden', 'Hungary',\n",
       "       'United Kingdom', 'France', 'Italy', 'Denmark', 'Austria',\n",
       "       'Belgium', 'Canada', 'Liechtenstein', 'China', 'San Marino',\n",
       "       'Australia', 'Ireland', 'Japan', 'Qatar', 'Monaco', 'Jersey',\n",
       "       'Scotland', 'Czech Republic', 'Portugal', 'Latvia', 'Algeria',\n",
       "       'Bulgaria', 'India', 'Greece', 'Israel', 'Lebanon', 'Tunisia',\n",
       "       \"Korea, Democratic People's Republic of\", 'Swaziland',\n",
       "       'French Guiana', 'Taiwan', 'Gibraltar', 'Singapore', 'Hong Kong',\n",
       "       'Korea, Republic of', 'Brazil', 'Cayman Islands', 'Bahamas',\n",
       "       'New Caledonia', 'French Polynesia', 'United Arab Emirates',\n",
       "       'Poland', 'Russian Federation', 'Cyprus', 'South Africa',\n",
       "       'Morocco', 'Kuwait', 'Oman', 'Virgin Islands, British',\n",
       "       'Not defined', 'Mauritius', 'Andorra', 'Bermuda', 'Mexico',\n",
       "       'Saudi Arabia', 'Guernsey', 'Bahrain', 'New Zealand', 'Croatia',\n",
       "       'Argentina', 'Syrian Arab Republic', 'Jordan', 'Chile',\n",
       "       'Philippines', 'Malaysia', 'Thailand', 'Brunei Darussalam', 'Peru',\n",
       "       'Colombia', 'Ecuador', 'Turkey', 'Panama', 'Grenada', 'Uruguay',\n",
       "       'Afghanistan', 'Saint Pierre and Miquelon', 'USA', 'Slovenia',\n",
       "       'The Netherlands', 'Albania', 'Iceland', 'Romania', 'Slovakia'],\n",
       "      dtype=object)"
      ]
     },
     "execution_count": 8,
     "metadata": {},
     "output_type": "execute_result"
    }
   ],
   "source": [
    "unique_countries"
   ]
  },
  {
   "cell_type": "code",
   "execution_count": 279,
   "id": "426c6ea9",
   "metadata": {},
   "outputs": [],
   "source": [
    "def top_5_countries(data):\n",
    "    cnt={}\n",
    "    for country in list(data['Country_EN'].unique()):\n",
    "        try:\n",
    "            cnt[country]=data['Country_EN'].value_counts()[country]\n",
    "        except:\n",
    "            pass\n",
    "    sorted_cnt=dict(sorted(cnt.items(), key=lambda item:item[1],reverse=True))\n",
    "    top_5=[]\n",
    "    i=0\n",
    "    count=0\n",
    "    while i<5:\n",
    "        top_5.append(list(sorted_cnt.items())[i])\n",
    "        i+=1\n",
    "    for j in range(5,len(sorted_cnt)):\n",
    "        count+=list(sorted_cnt.values())[j]\n",
    "    top_5=dict(top_5)\n",
    "    top_5=dict(sorted(top_5.items(), key=lambda item:item[1],reverse=False))\n",
    "    items = list(top_5.items())\n",
    "    items.insert(0,('Other',count))\n",
    "    top_5=dict(items)\n",
    "    return top_5"
   ]
  },
  {
   "cell_type": "code",
   "execution_count": 314,
   "id": "31f2ec50",
   "metadata": {},
   "outputs": [],
   "source": [
    "def top_5_countries_plot(data):\n",
    "    dic=top_5_countries(data)\n",
    "    fig =  go.Figure(go.Bar(\n",
    "    x=list(dic.values()),\n",
    "    y=list(dic.keys()),\n",
    "    marker_color=[\"#C96048\",\"#2E5144\",\"#88A682\",\"#55A185\",\"#272529\",'#003C30'],\n",
    "    name='Country_EN',\n",
    "    orientation='h'\n",
    "    ),layout={'title': 'Top 5 frequent countries'})\n",
    "    fig.update_layout( hoverlabel=dict(\n",
    "        bgcolor=\"#F7F2EE\",\n",
    "        font_size=16,\n",
    "        font_family='Lato-Light'\n",
    "    ),\n",
    "    title=dict(font_size=23,font_family='Lato-Regular'),\n",
    "    xaxis_title_text='Number of accounts in each country', # xaxis label\n",
    "    yaxis_title_text='Country',)\n",
    "    fig.update_traces(opacity=0.85)\n",
    "    fig.show()"
   ]
  },
  {
   "cell_type": "code",
   "execution_count": 315,
   "id": "b1e0bf07",
   "metadata": {},
   "outputs": [
    {
     "data": {
      "application/vnd.plotly.v1+json": {
       "config": {
        "plotlyServerURL": "https://plot.ly"
       },
       "data": [
        {
         "marker": {
          "color": [
           "#C96048",
           "#2E5144",
           "#88A682",
           "#55A185",
           "#272529",
           "#003C30"
          ]
         },
         "name": "Country_EN",
         "opacity": 0.85,
         "orientation": "h",
         "type": "bar",
         "x": [
          5670,
          1255,
          1744,
          4863,
          8256,
          13372
         ],
         "y": [
          "Other",
          "United Kingdom",
          "Switzerland",
          "Not defined",
          "Germany",
          "France"
         ]
        }
       ],
       "layout": {
        "hoverlabel": {
         "bgcolor": "#F7F2EE",
         "font": {
          "family": "Lato-Light",
          "size": 16
         }
        },
        "template": {
         "data": {
          "bar": [
           {
            "error_x": {
             "color": "#2a3f5f"
            },
            "error_y": {
             "color": "#2a3f5f"
            },
            "marker": {
             "line": {
              "color": "#E5ECF6",
              "width": 0.5
             },
             "pattern": {
              "fillmode": "overlay",
              "size": 10,
              "solidity": 0.2
             }
            },
            "type": "bar"
           }
          ],
          "barpolar": [
           {
            "marker": {
             "line": {
              "color": "#E5ECF6",
              "width": 0.5
             },
             "pattern": {
              "fillmode": "overlay",
              "size": 10,
              "solidity": 0.2
             }
            },
            "type": "barpolar"
           }
          ],
          "carpet": [
           {
            "aaxis": {
             "endlinecolor": "#2a3f5f",
             "gridcolor": "white",
             "linecolor": "white",
             "minorgridcolor": "white",
             "startlinecolor": "#2a3f5f"
            },
            "baxis": {
             "endlinecolor": "#2a3f5f",
             "gridcolor": "white",
             "linecolor": "white",
             "minorgridcolor": "white",
             "startlinecolor": "#2a3f5f"
            },
            "type": "carpet"
           }
          ],
          "choropleth": [
           {
            "colorbar": {
             "outlinewidth": 0,
             "ticks": ""
            },
            "type": "choropleth"
           }
          ],
          "contour": [
           {
            "colorbar": {
             "outlinewidth": 0,
             "ticks": ""
            },
            "colorscale": [
             [
              0,
              "#0d0887"
             ],
             [
              0.1111111111111111,
              "#46039f"
             ],
             [
              0.2222222222222222,
              "#7201a8"
             ],
             [
              0.3333333333333333,
              "#9c179e"
             ],
             [
              0.4444444444444444,
              "#bd3786"
             ],
             [
              0.5555555555555556,
              "#d8576b"
             ],
             [
              0.6666666666666666,
              "#ed7953"
             ],
             [
              0.7777777777777778,
              "#fb9f3a"
             ],
             [
              0.8888888888888888,
              "#fdca26"
             ],
             [
              1,
              "#f0f921"
             ]
            ],
            "type": "contour"
           }
          ],
          "contourcarpet": [
           {
            "colorbar": {
             "outlinewidth": 0,
             "ticks": ""
            },
            "type": "contourcarpet"
           }
          ],
          "heatmap": [
           {
            "colorbar": {
             "outlinewidth": 0,
             "ticks": ""
            },
            "colorscale": [
             [
              0,
              "#0d0887"
             ],
             [
              0.1111111111111111,
              "#46039f"
             ],
             [
              0.2222222222222222,
              "#7201a8"
             ],
             [
              0.3333333333333333,
              "#9c179e"
             ],
             [
              0.4444444444444444,
              "#bd3786"
             ],
             [
              0.5555555555555556,
              "#d8576b"
             ],
             [
              0.6666666666666666,
              "#ed7953"
             ],
             [
              0.7777777777777778,
              "#fb9f3a"
             ],
             [
              0.8888888888888888,
              "#fdca26"
             ],
             [
              1,
              "#f0f921"
             ]
            ],
            "type": "heatmap"
           }
          ],
          "heatmapgl": [
           {
            "colorbar": {
             "outlinewidth": 0,
             "ticks": ""
            },
            "colorscale": [
             [
              0,
              "#0d0887"
             ],
             [
              0.1111111111111111,
              "#46039f"
             ],
             [
              0.2222222222222222,
              "#7201a8"
             ],
             [
              0.3333333333333333,
              "#9c179e"
             ],
             [
              0.4444444444444444,
              "#bd3786"
             ],
             [
              0.5555555555555556,
              "#d8576b"
             ],
             [
              0.6666666666666666,
              "#ed7953"
             ],
             [
              0.7777777777777778,
              "#fb9f3a"
             ],
             [
              0.8888888888888888,
              "#fdca26"
             ],
             [
              1,
              "#f0f921"
             ]
            ],
            "type": "heatmapgl"
           }
          ],
          "histogram": [
           {
            "marker": {
             "pattern": {
              "fillmode": "overlay",
              "size": 10,
              "solidity": 0.2
             }
            },
            "type": "histogram"
           }
          ],
          "histogram2d": [
           {
            "colorbar": {
             "outlinewidth": 0,
             "ticks": ""
            },
            "colorscale": [
             [
              0,
              "#0d0887"
             ],
             [
              0.1111111111111111,
              "#46039f"
             ],
             [
              0.2222222222222222,
              "#7201a8"
             ],
             [
              0.3333333333333333,
              "#9c179e"
             ],
             [
              0.4444444444444444,
              "#bd3786"
             ],
             [
              0.5555555555555556,
              "#d8576b"
             ],
             [
              0.6666666666666666,
              "#ed7953"
             ],
             [
              0.7777777777777778,
              "#fb9f3a"
             ],
             [
              0.8888888888888888,
              "#fdca26"
             ],
             [
              1,
              "#f0f921"
             ]
            ],
            "type": "histogram2d"
           }
          ],
          "histogram2dcontour": [
           {
            "colorbar": {
             "outlinewidth": 0,
             "ticks": ""
            },
            "colorscale": [
             [
              0,
              "#0d0887"
             ],
             [
              0.1111111111111111,
              "#46039f"
             ],
             [
              0.2222222222222222,
              "#7201a8"
             ],
             [
              0.3333333333333333,
              "#9c179e"
             ],
             [
              0.4444444444444444,
              "#bd3786"
             ],
             [
              0.5555555555555556,
              "#d8576b"
             ],
             [
              0.6666666666666666,
              "#ed7953"
             ],
             [
              0.7777777777777778,
              "#fb9f3a"
             ],
             [
              0.8888888888888888,
              "#fdca26"
             ],
             [
              1,
              "#f0f921"
             ]
            ],
            "type": "histogram2dcontour"
           }
          ],
          "mesh3d": [
           {
            "colorbar": {
             "outlinewidth": 0,
             "ticks": ""
            },
            "type": "mesh3d"
           }
          ],
          "parcoords": [
           {
            "line": {
             "colorbar": {
              "outlinewidth": 0,
              "ticks": ""
             }
            },
            "type": "parcoords"
           }
          ],
          "pie": [
           {
            "automargin": true,
            "type": "pie"
           }
          ],
          "scatter": [
           {
            "fillpattern": {
             "fillmode": "overlay",
             "size": 10,
             "solidity": 0.2
            },
            "type": "scatter"
           }
          ],
          "scatter3d": [
           {
            "line": {
             "colorbar": {
              "outlinewidth": 0,
              "ticks": ""
             }
            },
            "marker": {
             "colorbar": {
              "outlinewidth": 0,
              "ticks": ""
             }
            },
            "type": "scatter3d"
           }
          ],
          "scattercarpet": [
           {
            "marker": {
             "colorbar": {
              "outlinewidth": 0,
              "ticks": ""
             }
            },
            "type": "scattercarpet"
           }
          ],
          "scattergeo": [
           {
            "marker": {
             "colorbar": {
              "outlinewidth": 0,
              "ticks": ""
             }
            },
            "type": "scattergeo"
           }
          ],
          "scattergl": [
           {
            "marker": {
             "colorbar": {
              "outlinewidth": 0,
              "ticks": ""
             }
            },
            "type": "scattergl"
           }
          ],
          "scattermapbox": [
           {
            "marker": {
             "colorbar": {
              "outlinewidth": 0,
              "ticks": ""
             }
            },
            "type": "scattermapbox"
           }
          ],
          "scatterpolar": [
           {
            "marker": {
             "colorbar": {
              "outlinewidth": 0,
              "ticks": ""
             }
            },
            "type": "scatterpolar"
           }
          ],
          "scatterpolargl": [
           {
            "marker": {
             "colorbar": {
              "outlinewidth": 0,
              "ticks": ""
             }
            },
            "type": "scatterpolargl"
           }
          ],
          "scatterternary": [
           {
            "marker": {
             "colorbar": {
              "outlinewidth": 0,
              "ticks": ""
             }
            },
            "type": "scatterternary"
           }
          ],
          "surface": [
           {
            "colorbar": {
             "outlinewidth": 0,
             "ticks": ""
            },
            "colorscale": [
             [
              0,
              "#0d0887"
             ],
             [
              0.1111111111111111,
              "#46039f"
             ],
             [
              0.2222222222222222,
              "#7201a8"
             ],
             [
              0.3333333333333333,
              "#9c179e"
             ],
             [
              0.4444444444444444,
              "#bd3786"
             ],
             [
              0.5555555555555556,
              "#d8576b"
             ],
             [
              0.6666666666666666,
              "#ed7953"
             ],
             [
              0.7777777777777778,
              "#fb9f3a"
             ],
             [
              0.8888888888888888,
              "#fdca26"
             ],
             [
              1,
              "#f0f921"
             ]
            ],
            "type": "surface"
           }
          ],
          "table": [
           {
            "cells": {
             "fill": {
              "color": "#EBF0F8"
             },
             "line": {
              "color": "white"
             }
            },
            "header": {
             "fill": {
              "color": "#C8D4E3"
             },
             "line": {
              "color": "white"
             }
            },
            "type": "table"
           }
          ]
         },
         "layout": {
          "annotationdefaults": {
           "arrowcolor": "#2a3f5f",
           "arrowhead": 0,
           "arrowwidth": 1
          },
          "autotypenumbers": "strict",
          "coloraxis": {
           "colorbar": {
            "outlinewidth": 0,
            "ticks": ""
           }
          },
          "colorscale": {
           "diverging": [
            [
             0,
             "#8e0152"
            ],
            [
             0.1,
             "#c51b7d"
            ],
            [
             0.2,
             "#de77ae"
            ],
            [
             0.3,
             "#f1b6da"
            ],
            [
             0.4,
             "#fde0ef"
            ],
            [
             0.5,
             "#f7f7f7"
            ],
            [
             0.6,
             "#e6f5d0"
            ],
            [
             0.7,
             "#b8e186"
            ],
            [
             0.8,
             "#7fbc41"
            ],
            [
             0.9,
             "#4d9221"
            ],
            [
             1,
             "#276419"
            ]
           ],
           "sequential": [
            [
             0,
             "#0d0887"
            ],
            [
             0.1111111111111111,
             "#46039f"
            ],
            [
             0.2222222222222222,
             "#7201a8"
            ],
            [
             0.3333333333333333,
             "#9c179e"
            ],
            [
             0.4444444444444444,
             "#bd3786"
            ],
            [
             0.5555555555555556,
             "#d8576b"
            ],
            [
             0.6666666666666666,
             "#ed7953"
            ],
            [
             0.7777777777777778,
             "#fb9f3a"
            ],
            [
             0.8888888888888888,
             "#fdca26"
            ],
            [
             1,
             "#f0f921"
            ]
           ],
           "sequentialminus": [
            [
             0,
             "#0d0887"
            ],
            [
             0.1111111111111111,
             "#46039f"
            ],
            [
             0.2222222222222222,
             "#7201a8"
            ],
            [
             0.3333333333333333,
             "#9c179e"
            ],
            [
             0.4444444444444444,
             "#bd3786"
            ],
            [
             0.5555555555555556,
             "#d8576b"
            ],
            [
             0.6666666666666666,
             "#ed7953"
            ],
            [
             0.7777777777777778,
             "#fb9f3a"
            ],
            [
             0.8888888888888888,
             "#fdca26"
            ],
            [
             1,
             "#f0f921"
            ]
           ]
          },
          "colorway": [
           "#636efa",
           "#EF553B",
           "#00cc96",
           "#ab63fa",
           "#FFA15A",
           "#19d3f3",
           "#FF6692",
           "#B6E880",
           "#FF97FF",
           "#FECB52"
          ],
          "font": {
           "color": "#2a3f5f"
          },
          "geo": {
           "bgcolor": "white",
           "lakecolor": "white",
           "landcolor": "#E5ECF6",
           "showlakes": true,
           "showland": true,
           "subunitcolor": "white"
          },
          "hoverlabel": {
           "align": "left"
          },
          "hovermode": "closest",
          "mapbox": {
           "style": "light"
          },
          "paper_bgcolor": "white",
          "plot_bgcolor": "#E5ECF6",
          "polar": {
           "angularaxis": {
            "gridcolor": "white",
            "linecolor": "white",
            "ticks": ""
           },
           "bgcolor": "#E5ECF6",
           "radialaxis": {
            "gridcolor": "white",
            "linecolor": "white",
            "ticks": ""
           }
          },
          "scene": {
           "xaxis": {
            "backgroundcolor": "#E5ECF6",
            "gridcolor": "white",
            "gridwidth": 2,
            "linecolor": "white",
            "showbackground": true,
            "ticks": "",
            "zerolinecolor": "white"
           },
           "yaxis": {
            "backgroundcolor": "#E5ECF6",
            "gridcolor": "white",
            "gridwidth": 2,
            "linecolor": "white",
            "showbackground": true,
            "ticks": "",
            "zerolinecolor": "white"
           },
           "zaxis": {
            "backgroundcolor": "#E5ECF6",
            "gridcolor": "white",
            "gridwidth": 2,
            "linecolor": "white",
            "showbackground": true,
            "ticks": "",
            "zerolinecolor": "white"
           }
          },
          "shapedefaults": {
           "line": {
            "color": "#2a3f5f"
           }
          },
          "ternary": {
           "aaxis": {
            "gridcolor": "white",
            "linecolor": "white",
            "ticks": ""
           },
           "baxis": {
            "gridcolor": "white",
            "linecolor": "white",
            "ticks": ""
           },
           "bgcolor": "#E5ECF6",
           "caxis": {
            "gridcolor": "white",
            "linecolor": "white",
            "ticks": ""
           }
          },
          "title": {
           "x": 0.05
          },
          "xaxis": {
           "automargin": true,
           "gridcolor": "white",
           "linecolor": "white",
           "ticks": "",
           "title": {
            "standoff": 15
           },
           "zerolinecolor": "white",
           "zerolinewidth": 2
          },
          "yaxis": {
           "automargin": true,
           "gridcolor": "white",
           "linecolor": "white",
           "ticks": "",
           "title": {
            "standoff": 15
           },
           "zerolinecolor": "white",
           "zerolinewidth": 2
          }
         }
        },
        "title": {
         "font": {
          "family": "Lato-Regular",
          "size": 23
         },
         "text": "Top 5 frequent countries"
        },
        "xaxis": {
         "title": {
          "text": "Number of accounts in each country"
         }
        },
        "yaxis": {
         "title": {
          "text": "Country"
         }
        }
       }
      },
      "text/html": [
       "<div>                            <div id=\"d63d992a-8809-4e24-8fd4-e8165197d419\" class=\"plotly-graph-div\" style=\"height:525px; width:100%;\"></div>            <script type=\"text/javascript\">                require([\"plotly\"], function(Plotly) {                    window.PLOTLYENV=window.PLOTLYENV || {};                                    if (document.getElementById(\"d63d992a-8809-4e24-8fd4-e8165197d419\")) {                    Plotly.newPlot(                        \"d63d992a-8809-4e24-8fd4-e8165197d419\",                        [{\"marker\":{\"color\":[\"#C96048\",\"#2E5144\",\"#88A682\",\"#55A185\",\"#272529\",\"#003C30\"]},\"name\":\"Country_EN\",\"orientation\":\"h\",\"x\":[5670,1255,1744,4863,8256,13372],\"y\":[\"Other\",\"United Kingdom\",\"Switzerland\",\"Not defined\",\"Germany\",\"France\"],\"type\":\"bar\",\"opacity\":0.85}],                        {\"title\":{\"text\":\"Top 5 frequent countries\",\"font\":{\"size\":23,\"family\":\"Lato-Regular\"}},\"template\":{\"data\":{\"histogram2dcontour\":[{\"type\":\"histogram2dcontour\",\"colorbar\":{\"outlinewidth\":0,\"ticks\":\"\"},\"colorscale\":[[0.0,\"#0d0887\"],[0.1111111111111111,\"#46039f\"],[0.2222222222222222,\"#7201a8\"],[0.3333333333333333,\"#9c179e\"],[0.4444444444444444,\"#bd3786\"],[0.5555555555555556,\"#d8576b\"],[0.6666666666666666,\"#ed7953\"],[0.7777777777777778,\"#fb9f3a\"],[0.8888888888888888,\"#fdca26\"],[1.0,\"#f0f921\"]]}],\"choropleth\":[{\"type\":\"choropleth\",\"colorbar\":{\"outlinewidth\":0,\"ticks\":\"\"}}],\"histogram2d\":[{\"type\":\"histogram2d\",\"colorbar\":{\"outlinewidth\":0,\"ticks\":\"\"},\"colorscale\":[[0.0,\"#0d0887\"],[0.1111111111111111,\"#46039f\"],[0.2222222222222222,\"#7201a8\"],[0.3333333333333333,\"#9c179e\"],[0.4444444444444444,\"#bd3786\"],[0.5555555555555556,\"#d8576b\"],[0.6666666666666666,\"#ed7953\"],[0.7777777777777778,\"#fb9f3a\"],[0.8888888888888888,\"#fdca26\"],[1.0,\"#f0f921\"]]}],\"heatmap\":[{\"type\":\"heatmap\",\"colorbar\":{\"outlinewidth\":0,\"ticks\":\"\"},\"colorscale\":[[0.0,\"#0d0887\"],[0.1111111111111111,\"#46039f\"],[0.2222222222222222,\"#7201a8\"],[0.3333333333333333,\"#9c179e\"],[0.4444444444444444,\"#bd3786\"],[0.5555555555555556,\"#d8576b\"],[0.6666666666666666,\"#ed7953\"],[0.7777777777777778,\"#fb9f3a\"],[0.8888888888888888,\"#fdca26\"],[1.0,\"#f0f921\"]]}],\"heatmapgl\":[{\"type\":\"heatmapgl\",\"colorbar\":{\"outlinewidth\":0,\"ticks\":\"\"},\"colorscale\":[[0.0,\"#0d0887\"],[0.1111111111111111,\"#46039f\"],[0.2222222222222222,\"#7201a8\"],[0.3333333333333333,\"#9c179e\"],[0.4444444444444444,\"#bd3786\"],[0.5555555555555556,\"#d8576b\"],[0.6666666666666666,\"#ed7953\"],[0.7777777777777778,\"#fb9f3a\"],[0.8888888888888888,\"#fdca26\"],[1.0,\"#f0f921\"]]}],\"contourcarpet\":[{\"type\":\"contourcarpet\",\"colorbar\":{\"outlinewidth\":0,\"ticks\":\"\"}}],\"contour\":[{\"type\":\"contour\",\"colorbar\":{\"outlinewidth\":0,\"ticks\":\"\"},\"colorscale\":[[0.0,\"#0d0887\"],[0.1111111111111111,\"#46039f\"],[0.2222222222222222,\"#7201a8\"],[0.3333333333333333,\"#9c179e\"],[0.4444444444444444,\"#bd3786\"],[0.5555555555555556,\"#d8576b\"],[0.6666666666666666,\"#ed7953\"],[0.7777777777777778,\"#fb9f3a\"],[0.8888888888888888,\"#fdca26\"],[1.0,\"#f0f921\"]]}],\"surface\":[{\"type\":\"surface\",\"colorbar\":{\"outlinewidth\":0,\"ticks\":\"\"},\"colorscale\":[[0.0,\"#0d0887\"],[0.1111111111111111,\"#46039f\"],[0.2222222222222222,\"#7201a8\"],[0.3333333333333333,\"#9c179e\"],[0.4444444444444444,\"#bd3786\"],[0.5555555555555556,\"#d8576b\"],[0.6666666666666666,\"#ed7953\"],[0.7777777777777778,\"#fb9f3a\"],[0.8888888888888888,\"#fdca26\"],[1.0,\"#f0f921\"]]}],\"mesh3d\":[{\"type\":\"mesh3d\",\"colorbar\":{\"outlinewidth\":0,\"ticks\":\"\"}}],\"scatter\":[{\"fillpattern\":{\"fillmode\":\"overlay\",\"size\":10,\"solidity\":0.2},\"type\":\"scatter\"}],\"parcoords\":[{\"type\":\"parcoords\",\"line\":{\"colorbar\":{\"outlinewidth\":0,\"ticks\":\"\"}}}],\"scatterpolargl\":[{\"type\":\"scatterpolargl\",\"marker\":{\"colorbar\":{\"outlinewidth\":0,\"ticks\":\"\"}}}],\"bar\":[{\"error_x\":{\"color\":\"#2a3f5f\"},\"error_y\":{\"color\":\"#2a3f5f\"},\"marker\":{\"line\":{\"color\":\"#E5ECF6\",\"width\":0.5},\"pattern\":{\"fillmode\":\"overlay\",\"size\":10,\"solidity\":0.2}},\"type\":\"bar\"}],\"scattergeo\":[{\"type\":\"scattergeo\",\"marker\":{\"colorbar\":{\"outlinewidth\":0,\"ticks\":\"\"}}}],\"scatterpolar\":[{\"type\":\"scatterpolar\",\"marker\":{\"colorbar\":{\"outlinewidth\":0,\"ticks\":\"\"}}}],\"histogram\":[{\"marker\":{\"pattern\":{\"fillmode\":\"overlay\",\"size\":10,\"solidity\":0.2}},\"type\":\"histogram\"}],\"scattergl\":[{\"type\":\"scattergl\",\"marker\":{\"colorbar\":{\"outlinewidth\":0,\"ticks\":\"\"}}}],\"scatter3d\":[{\"type\":\"scatter3d\",\"line\":{\"colorbar\":{\"outlinewidth\":0,\"ticks\":\"\"}},\"marker\":{\"colorbar\":{\"outlinewidth\":0,\"ticks\":\"\"}}}],\"scattermapbox\":[{\"type\":\"scattermapbox\",\"marker\":{\"colorbar\":{\"outlinewidth\":0,\"ticks\":\"\"}}}],\"scatterternary\":[{\"type\":\"scatterternary\",\"marker\":{\"colorbar\":{\"outlinewidth\":0,\"ticks\":\"\"}}}],\"scattercarpet\":[{\"type\":\"scattercarpet\",\"marker\":{\"colorbar\":{\"outlinewidth\":0,\"ticks\":\"\"}}}],\"carpet\":[{\"aaxis\":{\"endlinecolor\":\"#2a3f5f\",\"gridcolor\":\"white\",\"linecolor\":\"white\",\"minorgridcolor\":\"white\",\"startlinecolor\":\"#2a3f5f\"},\"baxis\":{\"endlinecolor\":\"#2a3f5f\",\"gridcolor\":\"white\",\"linecolor\":\"white\",\"minorgridcolor\":\"white\",\"startlinecolor\":\"#2a3f5f\"},\"type\":\"carpet\"}],\"table\":[{\"cells\":{\"fill\":{\"color\":\"#EBF0F8\"},\"line\":{\"color\":\"white\"}},\"header\":{\"fill\":{\"color\":\"#C8D4E3\"},\"line\":{\"color\":\"white\"}},\"type\":\"table\"}],\"barpolar\":[{\"marker\":{\"line\":{\"color\":\"#E5ECF6\",\"width\":0.5},\"pattern\":{\"fillmode\":\"overlay\",\"size\":10,\"solidity\":0.2}},\"type\":\"barpolar\"}],\"pie\":[{\"automargin\":true,\"type\":\"pie\"}]},\"layout\":{\"autotypenumbers\":\"strict\",\"colorway\":[\"#636efa\",\"#EF553B\",\"#00cc96\",\"#ab63fa\",\"#FFA15A\",\"#19d3f3\",\"#FF6692\",\"#B6E880\",\"#FF97FF\",\"#FECB52\"],\"font\":{\"color\":\"#2a3f5f\"},\"hovermode\":\"closest\",\"hoverlabel\":{\"align\":\"left\"},\"paper_bgcolor\":\"white\",\"plot_bgcolor\":\"#E5ECF6\",\"polar\":{\"bgcolor\":\"#E5ECF6\",\"angularaxis\":{\"gridcolor\":\"white\",\"linecolor\":\"white\",\"ticks\":\"\"},\"radialaxis\":{\"gridcolor\":\"white\",\"linecolor\":\"white\",\"ticks\":\"\"}},\"ternary\":{\"bgcolor\":\"#E5ECF6\",\"aaxis\":{\"gridcolor\":\"white\",\"linecolor\":\"white\",\"ticks\":\"\"},\"baxis\":{\"gridcolor\":\"white\",\"linecolor\":\"white\",\"ticks\":\"\"},\"caxis\":{\"gridcolor\":\"white\",\"linecolor\":\"white\",\"ticks\":\"\"}},\"coloraxis\":{\"colorbar\":{\"outlinewidth\":0,\"ticks\":\"\"}},\"colorscale\":{\"sequential\":[[0.0,\"#0d0887\"],[0.1111111111111111,\"#46039f\"],[0.2222222222222222,\"#7201a8\"],[0.3333333333333333,\"#9c179e\"],[0.4444444444444444,\"#bd3786\"],[0.5555555555555556,\"#d8576b\"],[0.6666666666666666,\"#ed7953\"],[0.7777777777777778,\"#fb9f3a\"],[0.8888888888888888,\"#fdca26\"],[1.0,\"#f0f921\"]],\"sequentialminus\":[[0.0,\"#0d0887\"],[0.1111111111111111,\"#46039f\"],[0.2222222222222222,\"#7201a8\"],[0.3333333333333333,\"#9c179e\"],[0.4444444444444444,\"#bd3786\"],[0.5555555555555556,\"#d8576b\"],[0.6666666666666666,\"#ed7953\"],[0.7777777777777778,\"#fb9f3a\"],[0.8888888888888888,\"#fdca26\"],[1.0,\"#f0f921\"]],\"diverging\":[[0,\"#8e0152\"],[0.1,\"#c51b7d\"],[0.2,\"#de77ae\"],[0.3,\"#f1b6da\"],[0.4,\"#fde0ef\"],[0.5,\"#f7f7f7\"],[0.6,\"#e6f5d0\"],[0.7,\"#b8e186\"],[0.8,\"#7fbc41\"],[0.9,\"#4d9221\"],[1,\"#276419\"]]},\"xaxis\":{\"gridcolor\":\"white\",\"linecolor\":\"white\",\"ticks\":\"\",\"title\":{\"standoff\":15},\"zerolinecolor\":\"white\",\"automargin\":true,\"zerolinewidth\":2},\"yaxis\":{\"gridcolor\":\"white\",\"linecolor\":\"white\",\"ticks\":\"\",\"title\":{\"standoff\":15},\"zerolinecolor\":\"white\",\"automargin\":true,\"zerolinewidth\":2},\"scene\":{\"xaxis\":{\"backgroundcolor\":\"#E5ECF6\",\"gridcolor\":\"white\",\"linecolor\":\"white\",\"showbackground\":true,\"ticks\":\"\",\"zerolinecolor\":\"white\",\"gridwidth\":2},\"yaxis\":{\"backgroundcolor\":\"#E5ECF6\",\"gridcolor\":\"white\",\"linecolor\":\"white\",\"showbackground\":true,\"ticks\":\"\",\"zerolinecolor\":\"white\",\"gridwidth\":2},\"zaxis\":{\"backgroundcolor\":\"#E5ECF6\",\"gridcolor\":\"white\",\"linecolor\":\"white\",\"showbackground\":true,\"ticks\":\"\",\"zerolinecolor\":\"white\",\"gridwidth\":2}},\"shapedefaults\":{\"line\":{\"color\":\"#2a3f5f\"}},\"annotationdefaults\":{\"arrowcolor\":\"#2a3f5f\",\"arrowhead\":0,\"arrowwidth\":1},\"geo\":{\"bgcolor\":\"white\",\"landcolor\":\"#E5ECF6\",\"subunitcolor\":\"white\",\"showland\":true,\"showlakes\":true,\"lakecolor\":\"white\"},\"title\":{\"x\":0.05},\"mapbox\":{\"style\":\"light\"}}},\"hoverlabel\":{\"font\":{\"size\":16,\"family\":\"Lato-Light\"},\"bgcolor\":\"#F7F2EE\"},\"xaxis\":{\"title\":{\"text\":\"Number of accounts in each country\"}},\"yaxis\":{\"title\":{\"text\":\"Country\"}}},                        {\"responsive\": true}                    ).then(function(){\n",
       "                            \n",
       "var gd = document.getElementById('d63d992a-8809-4e24-8fd4-e8165197d419');\n",
       "var x = new MutationObserver(function (mutations, observer) {{\n",
       "        var display = window.getComputedStyle(gd).display;\n",
       "        if (!display || display === 'none') {{\n",
       "            console.log([gd, 'removed!']);\n",
       "            Plotly.purge(gd);\n",
       "            observer.disconnect();\n",
       "        }}\n",
       "}});\n",
       "\n",
       "// Listen for the removal of the full notebook cells\n",
       "var notebookContainer = gd.closest('#notebook-container');\n",
       "if (notebookContainer) {{\n",
       "    x.observe(notebookContainer, {childList: true});\n",
       "}}\n",
       "\n",
       "// Listen for the clearing of the current output cell\n",
       "var outputEl = gd.closest('.output');\n",
       "if (outputEl) {{\n",
       "    x.observe(outputEl, {childList: true});\n",
       "}}\n",
       "\n",
       "                        })                };                });            </script>        </div>"
      ]
     },
     "metadata": {},
     "output_type": "display_data"
    }
   ],
   "source": [
    "#import \n",
    "import plotly.graph_objects as go\n",
    "import numpy as np\n",
    "top_5_countries_plot(df2)"
   ]
  },
  {
   "cell_type": "code",
   "execution_count": 163,
   "id": "6380100f",
   "metadata": {},
   "outputs": [],
   "source": [
    "from wordcloud import WordCloud\n",
    "from os import path\n",
    "import matplotlib.pyplot as plt\n",
    "from PIL import Image"
   ]
  },
  {
   "cell_type": "code",
   "execution_count": 177,
   "id": "6c87aa88",
   "metadata": {},
   "outputs": [],
   "source": [
    "mask = np.array(Image.open(path.join(r'C:\\Users\\nfekihromdha\\OneDrive - ODDO BHF\\Bureau', \"img.png\")))"
   ]
  },
  {
   "cell_type": "code",
   "execution_count": 324,
   "id": "cd3c64e3",
   "metadata": {},
   "outputs": [
    {
     "data": {
      "image/png": "[encoded data removed]",
      "text/plain": [
       "<Figure size 900x600 with 1 Axes>"
      ]
     },
     "metadata": {
      "needs_background": "light"
     },
     "output_type": "display_data"
    }
   ],
   "source": [
    "#mask = np.array(Image.open(r'C:\\Users\\nfekihromdha\\Downloads\\img.png'))\n",
    "wc = WordCloud(mask=mask,background_color=\"white\",width=10000,min_font_size=20, \n",
    "                      height=8000,contour_color='#003C30')\n",
    "wc.generate_from_frequencies(sorted_cnt)\n",
    "plt.figure(dpi=150)\n",
    "plt.imshow(wc, interpolation=\"bilinear\")\n",
    "plt.axis(\"off\")\n",
    "plt.show()"
   ]
  },
  {
   "cell_type": "code",
   "execution_count": 133,
   "id": "ca46bc67",
   "metadata": {},
   "outputs": [],
   "source": [
    "def get_continent(col):\n",
    "    try:\n",
    "        cn_a3_code =  country_name_to_country_alpha3(col)\n",
    "    except:\n",
    "        cn_a3_code = 'Unknown' \n",
    "    return (cn_a3_code)"
   ]
  },
  {
   "cell_type": "code",
   "execution_count": 134,
   "id": "6edb45fd",
   "metadata": {},
   "outputs": [],
   "source": [
    "df2['Country_nm']=df2['Country_EN'].apply(get_continent)"
   ]
  },
  {
   "cell_type": "code",
   "execution_count": 135,
   "id": "3cb73db6",
   "metadata": {},
   "outputs": [],
   "source": [
    "df2['Country_EN']=df2['Country_EN'].replace({'United States of America (USA)':'USA','Scotland':'GBR','The Netherlands':'Netherlands'})\n",
    "df2['Country_nm']=df2['Country_EN'].apply(get_continent)"
   ]
  },
  {
   "cell_type": "code",
   "execution_count": 449,
   "id": "220ebb47",
   "metadata": {},
   "outputs": [],
   "source": [
    "import pickle\n",
    "with open('validAdress', 'rb') as f1:\n",
    "    validAdress = pickle.load(f1)\n",
    "with open('invalidAdress', 'rb') as f2:\n",
    "    invalidAdress = pickle.load(f2)"
   ]
  },
  {
   "cell_type": "code",
   "execution_count": 361,
   "id": "fb30680e",
   "metadata": {},
   "outputs": [],
   "source": [
    "def pie_Chart_adresses(data,validAdress,invalidAdress):\n",
    "    \n",
    "    labels = ['Invalid addresses', 'Valid addresses']\n",
    "    x=round((len(invalidAdress)/len(data))*100)\n",
    "    y=round((len(validAdress)/len(data))*100)\n",
    "    pourcentages = [x,y]\n",
    "    fig =  go.Figure(data=[go.Pie(labels=labels, values=pourcentages, pull=[0, 0.07])],layout={'title': 'Percent of Invalid Adresses'})\n",
    "    fig.update_traces(textposition='inside', textinfo='percent+label',marker=dict(colors=['#003C30','#55A185']))\n",
    "    fig.update_layout( hoverlabel=dict(\n",
    "        bgcolor=\"#F7F2EE\"\n",
    "    ),\n",
    "    title=dict(font_size=23,font_family='Lato-Regular'))\n",
    "    fig.show()"
   ]
  },
  {
   "cell_type": "code",
   "execution_count": 362,
   "id": "9df2376c",
   "metadata": {},
   "outputs": [
    {
     "data": {
      "application/vnd.plotly.v1+json": {
       "config": {
        "plotlyServerURL": "https://plot.ly"
       },
       "data": [
        {
         "labels": [
          "Invalid addresses",
          "Valid addresses"
         ],
         "marker": {
          "colors": [
           "#003C30",
           "#55A185"
          ]
         },
         "pull": [
          0,
          0.07
         ],
         "textinfo": "percent+label",
         "textposition": "inside",
         "type": "pie",
         "values": [
          38,
          62
         ]
        }
       ],
       "layout": {
        "hoverlabel": {
         "bgcolor": "#F7F2EE"
        },
        "template": {
         "data": {
          "bar": [
           {
            "error_x": {
             "color": "#2a3f5f"
            },
            "error_y": {
             "color": "#2a3f5f"
            },
            "marker": {
             "line": {
              "color": "#E5ECF6",
              "width": 0.5
             },
             "pattern": {
              "fillmode": "overlay",
              "size": 10,
              "solidity": 0.2
             }
            },
            "type": "bar"
           }
          ],
          "barpolar": [
           {
            "marker": {
             "line": {
              "color": "#E5ECF6",
              "width": 0.5
             },
             "pattern": {
              "fillmode": "overlay",
              "size": 10,
              "solidity": 0.2
             }
            },
            "type": "barpolar"
           }
          ],
          "carpet": [
           {
            "aaxis": {
             "endlinecolor": "#2a3f5f",
             "gridcolor": "white",
             "linecolor": "white",
             "minorgridcolor": "white",
             "startlinecolor": "#2a3f5f"
            },
            "baxis": {
             "endlinecolor": "#2a3f5f",
             "gridcolor": "white",
             "linecolor": "white",
             "minorgridcolor": "white",
             "startlinecolor": "#2a3f5f"
            },
            "type": "carpet"
           }
          ],
          "choropleth": [
           {
            "colorbar": {
             "outlinewidth": 0,
             "ticks": ""
            },
            "type": "choropleth"
           }
          ],
          "contour": [
           {
            "colorbar": {
             "outlinewidth": 0,
             "ticks": ""
            },
            "colorscale": [
             [
              0,
              "#0d0887"
             ],
             [
              0.1111111111111111,
              "#46039f"
             ],
             [
              0.2222222222222222,
              "#7201a8"
             ],
             [
              0.3333333333333333,
              "#9c179e"
             ],
             [
              0.4444444444444444,
              "#bd3786"
             ],
             [
              0.5555555555555556,
              "#d8576b"
             ],
             [
              0.6666666666666666,
              "#ed7953"
             ],
             [
              0.7777777777777778,
              "#fb9f3a"
             ],
             [
              0.8888888888888888,
              "#fdca26"
             ],
             [
              1,
              "#f0f921"
             ]
            ],
            "type": "contour"
           }
          ],
          "contourcarpet": [
           {
            "colorbar": {
             "outlinewidth": 0,
             "ticks": ""
            },
            "type": "contourcarpet"
           }
          ],
          "heatmap": [
           {
            "colorbar": {
             "outlinewidth": 0,
             "ticks": ""
            },
            "colorscale": [
             [
              0,
              "#0d0887"
             ],
             [
              0.1111111111111111,
              "#46039f"
             ],
             [
              0.2222222222222222,
              "#7201a8"
             ],
             [
              0.3333333333333333,
              "#9c179e"
             ],
             [
              0.4444444444444444,
              "#bd3786"
             ],
             [
              0.5555555555555556,
              "#d8576b"
             ],
             [
              0.6666666666666666,
              "#ed7953"
             ],
             [
              0.7777777777777778,
              "#fb9f3a"
             ],
             [
              0.8888888888888888,
              "#fdca26"
             ],
             [
              1,
              "#f0f921"
             ]
            ],
            "type": "heatmap"
           }
          ],
          "heatmapgl": [
           {
            "colorbar": {
             "outlinewidth": 0,
             "ticks": ""
            },
            "colorscale": [
             [
              0,
              "#0d0887"
             ],
             [
              0.1111111111111111,
              "#46039f"
             ],
             [
              0.2222222222222222,
              "#7201a8"
             ],
             [
              0.3333333333333333,
              "#9c179e"
             ],
             [
              0.4444444444444444,
              "#bd3786"
             ],
             [
              0.5555555555555556,
              "#d8576b"
             ],
             [
              0.6666666666666666,
              "#ed7953"
             ],
             [
              0.7777777777777778,
              "#fb9f3a"
             ],
             [
              0.8888888888888888,
              "#fdca26"
             ],
             [
              1,
              "#f0f921"
             ]
            ],
            "type": "heatmapgl"
           }
          ],
          "histogram": [
           {
            "marker": {
             "pattern": {
              "fillmode": "overlay",
              "size": 10,
              "solidity": 0.2
             }
            },
            "type": "histogram"
           }
          ],
          "histogram2d": [
           {
            "colorbar": {
             "outlinewidth": 0,
             "ticks": ""
            },
            "colorscale": [
             [
              0,
              "#0d0887"
             ],
             [
              0.1111111111111111,
              "#46039f"
             ],
             [
              0.2222222222222222,
              "#7201a8"
             ],
             [
              0.3333333333333333,
              "#9c179e"
             ],
             [
              0.4444444444444444,
              "#bd3786"
             ],
             [
              0.5555555555555556,
              "#d8576b"
             ],
             [
              0.6666666666666666,
              "#ed7953"
             ],
             [
              0.7777777777777778,
              "#fb9f3a"
             ],
             [
              0.8888888888888888,
              "#fdca26"
             ],
             [
              1,
              "#f0f921"
             ]
            ],
            "type": "histogram2d"
           }
          ],
          "histogram2dcontour": [
           {
            "colorbar": {
             "outlinewidth": 0,
             "ticks": ""
            },
            "colorscale": [
             [
              0,
              "#0d0887"
             ],
             [
              0.1111111111111111,
              "#46039f"
             ],
             [
              0.2222222222222222,
              "#7201a8"
             ],
             [
              0.3333333333333333,
              "#9c179e"
             ],
             [
              0.4444444444444444,
              "#bd3786"
             ],
             [
              0.5555555555555556,
              "#d8576b"
             ],
             [
              0.6666666666666666,
              "#ed7953"
             ],
             [
              0.7777777777777778,
              "#fb9f3a"
             ],
             [
              0.8888888888888888,
              "#fdca26"
             ],
             [
              1,
              "#f0f921"
             ]
            ],
            "type": "histogram2dcontour"
           }
          ],
          "mesh3d": [
           {
            "colorbar": {
             "outlinewidth": 0,
             "ticks": ""
            },
            "type": "mesh3d"
           }
          ],
          "parcoords": [
           {
            "line": {
             "colorbar": {
              "outlinewidth": 0,
              "ticks": ""
             }
            },
            "type": "parcoords"
           }
          ],
          "pie": [
           {
            "automargin": true,
            "type": "pie"
           }
          ],
          "scatter": [
           {
            "fillpattern": {
             "fillmode": "overlay",
             "size": 10,
             "solidity": 0.2
            },
            "type": "scatter"
           }
          ],
          "scatter3d": [
           {
            "line": {
             "colorbar": {
              "outlinewidth": 0,
              "ticks": ""
             }
            },
            "marker": {
             "colorbar": {
              "outlinewidth": 0,
              "ticks": ""
             }
            },
            "type": "scatter3d"
           }
          ],
          "scattercarpet": [
           {
            "marker": {
             "colorbar": {
              "outlinewidth": 0,
              "ticks": ""
             }
            },
            "type": "scattercarpet"
           }
          ],
          "scattergeo": [
           {
            "marker": {
             "colorbar": {
              "outlinewidth": 0,
              "ticks": ""
             }
            },
            "type": "scattergeo"
           }
          ],
          "scattergl": [
           {
            "marker": {
             "colorbar": {
              "outlinewidth": 0,
              "ticks": ""
             }
            },
            "type": "scattergl"
           }
          ],
          "scattermapbox": [
           {
            "marker": {
             "colorbar": {
              "outlinewidth": 0,
              "ticks": ""
             }
            },
            "type": "scattermapbox"
           }
          ],
          "scatterpolar": [
           {
            "marker": {
             "colorbar": {
              "outlinewidth": 0,
              "ticks": ""
             }
            },
            "type": "scatterpolar"
           }
          ],
          "scatterpolargl": [
           {
            "marker": {
             "colorbar": {
              "outlinewidth": 0,
              "ticks": ""
             }
            },
            "type": "scatterpolargl"
           }
          ],
          "scatterternary": [
           {
            "marker": {
             "colorbar": {
              "outlinewidth": 0,
              "ticks": ""
             }
            },
            "type": "scatterternary"
           }
          ],
          "surface": [
           {
            "colorbar": {
             "outlinewidth": 0,
             "ticks": ""
            },
            "colorscale": [
             [
              0,
              "#0d0887"
             ],
             [
              0.1111111111111111,
              "#46039f"
             ],
             [
              0.2222222222222222,
              "#7201a8"
             ],
             [
              0.3333333333333333,
              "#9c179e"
             ],
             [
              0.4444444444444444,
              "#bd3786"
             ],
             [
              0.5555555555555556,
              "#d8576b"
             ],
             [
              0.6666666666666666,
              "#ed7953"
             ],
             [
              0.7777777777777778,
              "#fb9f3a"
             ],
             [
              0.8888888888888888,
              "#fdca26"
             ],
             [
              1,
              "#f0f921"
             ]
            ],
            "type": "surface"
           }
          ],
          "table": [
           {
            "cells": {
             "fill": {
              "color": "#EBF0F8"
             },
             "line": {
              "color": "white"
             }
            },
            "header": {
             "fill": {
              "color": "#C8D4E3"
             },
             "line": {
              "color": "white"
             }
            },
            "type": "table"
           }
          ]
         },
         "layout": {
          "annotationdefaults": {
           "arrowcolor": "#2a3f5f",
           "arrowhead": 0,
           "arrowwidth": 1
          },
          "autotypenumbers": "strict",
          "coloraxis": {
           "colorbar": {
            "outlinewidth": 0,
            "ticks": ""
           }
          },
          "colorscale": {
           "diverging": [
            [
             0,
             "#8e0152"
            ],
            [
             0.1,
             "#c51b7d"
            ],
            [
             0.2,
             "#de77ae"
            ],
            [
             0.3,
             "#f1b6da"
            ],
            [
             0.4,
             "#fde0ef"
            ],
            [
             0.5,
             "#f7f7f7"
            ],
            [
             0.6,
             "#e6f5d0"
            ],
            [
             0.7,
             "#b8e186"
            ],
            [
             0.8,
             "#7fbc41"
            ],
            [
             0.9,
             "#4d9221"
            ],
            [
             1,
             "#276419"
            ]
           ],
           "sequential": [
            [
             0,
             "#0d0887"
            ],
            [
             0.1111111111111111,
             "#46039f"
            ],
            [
             0.2222222222222222,
             "#7201a8"
            ],
            [
             0.3333333333333333,
             "#9c179e"
            ],
            [
             0.4444444444444444,
             "#bd3786"
            ],
            [
             0.5555555555555556,
             "#d8576b"
            ],
            [
             0.6666666666666666,
             "#ed7953"
            ],
            [
             0.7777777777777778,
             "#fb9f3a"
            ],
            [
             0.8888888888888888,
             "#fdca26"
            ],
            [
             1,
             "#f0f921"
            ]
           ],
           "sequentialminus": [
            [
             0,
             "#0d0887"
            ],
            [
             0.1111111111111111,
             "#46039f"
            ],
            [
             0.2222222222222222,
             "#7201a8"
            ],
            [
             0.3333333333333333,
             "#9c179e"
            ],
            [
             0.4444444444444444,
             "#bd3786"
            ],
            [
             0.5555555555555556,
             "#d8576b"
            ],
            [
             0.6666666666666666,
             "#ed7953"
            ],
            [
             0.7777777777777778,
             "#fb9f3a"
            ],
            [
             0.8888888888888888,
             "#fdca26"
            ],
            [
             1,
             "#f0f921"
            ]
           ]
          },
          "colorway": [
           "#636efa",
           "#EF553B",
           "#00cc96",
           "#ab63fa",
           "#FFA15A",
           "#19d3f3",
           "#FF6692",
           "#B6E880",
           "#FF97FF",
           "#FECB52"
          ],
          "font": {
           "color": "#2a3f5f"
          },
          "geo": {
           "bgcolor": "white",
           "lakecolor": "white",
           "landcolor": "#E5ECF6",
           "showlakes": true,
           "showland": true,
           "subunitcolor": "white"
          },
          "hoverlabel": {
           "align": "left"
          },
          "hovermode": "closest",
          "mapbox": {
           "style": "light"
          },
          "paper_bgcolor": "white",
          "plot_bgcolor": "#E5ECF6",
          "polar": {
           "angularaxis": {
            "gridcolor": "white",
            "linecolor": "white",
            "ticks": ""
           },
           "bgcolor": "#E5ECF6",
           "radialaxis": {
            "gridcolor": "white",
            "linecolor": "white",
            "ticks": ""
           }
          },
          "scene": {
           "xaxis": {
            "backgroundcolor": "#E5ECF6",
            "gridcolor": "white",
            "gridwidth": 2,
            "linecolor": "white",
            "showbackground": true,
            "ticks": "",
            "zerolinecolor": "white"
           },
           "yaxis": {
            "backgroundcolor": "#E5ECF6",
            "gridcolor": "white",
            "gridwidth": 2,
            "linecolor": "white",
            "showbackground": true,
            "ticks": "",
            "zerolinecolor": "white"
           },
           "zaxis": {
            "backgroundcolor": "#E5ECF6",
            "gridcolor": "white",
            "gridwidth": 2,
            "linecolor": "white",
            "showbackground": true,
            "ticks": "",
            "zerolinecolor": "white"
           }
          },
          "shapedefaults": {
           "line": {
            "color": "#2a3f5f"
           }
          },
          "ternary": {
           "aaxis": {
            "gridcolor": "white",
            "linecolor": "white",
            "ticks": ""
           },
           "baxis": {
            "gridcolor": "white",
            "linecolor": "white",
            "ticks": ""
           },
           "bgcolor": "#E5ECF6",
           "caxis": {
            "gridcolor": "white",
            "linecolor": "white",
            "ticks": ""
           }
          },
          "title": {
           "x": 0.05
          },
          "xaxis": {
           "automargin": true,
           "gridcolor": "white",
           "linecolor": "white",
           "ticks": "",
           "title": {
            "standoff": 15
           },
           "zerolinecolor": "white",
           "zerolinewidth": 2
          },
          "yaxis": {
           "automargin": true,
           "gridcolor": "white",
           "linecolor": "white",
           "ticks": "",
           "title": {
            "standoff": 15
           },
           "zerolinecolor": "white",
           "zerolinewidth": 2
          }
         }
        },
        "title": {
         "font": {
          "family": "Lato-Regular",
          "size": 23
         },
         "text": "Percent of Invalid Adresses"
        }
       }
      },
      "text/html": [
       "<div>                            <div id=\"11f5e09e-4a2a-44ff-abf5-2d6fe7fd4bc3\" class=\"plotly-graph-div\" style=\"height:525px; width:100%;\"></div>            <script type=\"text/javascript\">                require([\"plotly\"], function(Plotly) {                    window.PLOTLYENV=window.PLOTLYENV || {};                                    if (document.getElementById(\"11f5e09e-4a2a-44ff-abf5-2d6fe7fd4bc3\")) {                    Plotly.newPlot(                        \"11f5e09e-4a2a-44ff-abf5-2d6fe7fd4bc3\",                        [{\"labels\":[\"Invalid addresses\",\"Valid addresses\"],\"pull\":[0,0.07],\"values\":[38,62],\"type\":\"pie\",\"marker\":{\"colors\":[\"#003C30\",\"#55A185\"]},\"textinfo\":\"percent+label\",\"textposition\":\"inside\"}],                        {\"title\":{\"text\":\"Percent of Invalid Adresses\",\"font\":{\"size\":23,\"family\":\"Lato-Regular\"}},\"template\":{\"data\":{\"histogram2dcontour\":[{\"type\":\"histogram2dcontour\",\"colorbar\":{\"outlinewidth\":0,\"ticks\":\"\"},\"colorscale\":[[0.0,\"#0d0887\"],[0.1111111111111111,\"#46039f\"],[0.2222222222222222,\"#7201a8\"],[0.3333333333333333,\"#9c179e\"],[0.4444444444444444,\"#bd3786\"],[0.5555555555555556,\"#d8576b\"],[0.6666666666666666,\"#ed7953\"],[0.7777777777777778,\"#fb9f3a\"],[0.8888888888888888,\"#fdca26\"],[1.0,\"#f0f921\"]]}],\"choropleth\":[{\"type\":\"choropleth\",\"colorbar\":{\"outlinewidth\":0,\"ticks\":\"\"}}],\"histogram2d\":[{\"type\":\"histogram2d\",\"colorbar\":{\"outlinewidth\":0,\"ticks\":\"\"},\"colorscale\":[[0.0,\"#0d0887\"],[0.1111111111111111,\"#46039f\"],[0.2222222222222222,\"#7201a8\"],[0.3333333333333333,\"#9c179e\"],[0.4444444444444444,\"#bd3786\"],[0.5555555555555556,\"#d8576b\"],[0.6666666666666666,\"#ed7953\"],[0.7777777777777778,\"#fb9f3a\"],[0.8888888888888888,\"#fdca26\"],[1.0,\"#f0f921\"]]}],\"heatmap\":[{\"type\":\"heatmap\",\"colorbar\":{\"outlinewidth\":0,\"ticks\":\"\"},\"colorscale\":[[0.0,\"#0d0887\"],[0.1111111111111111,\"#46039f\"],[0.2222222222222222,\"#7201a8\"],[0.3333333333333333,\"#9c179e\"],[0.4444444444444444,\"#bd3786\"],[0.5555555555555556,\"#d8576b\"],[0.6666666666666666,\"#ed7953\"],[0.7777777777777778,\"#fb9f3a\"],[0.8888888888888888,\"#fdca26\"],[1.0,\"#f0f921\"]]}],\"heatmapgl\":[{\"type\":\"heatmapgl\",\"colorbar\":{\"outlinewidth\":0,\"ticks\":\"\"},\"colorscale\":[[0.0,\"#0d0887\"],[0.1111111111111111,\"#46039f\"],[0.2222222222222222,\"#7201a8\"],[0.3333333333333333,\"#9c179e\"],[0.4444444444444444,\"#bd3786\"],[0.5555555555555556,\"#d8576b\"],[0.6666666666666666,\"#ed7953\"],[0.7777777777777778,\"#fb9f3a\"],[0.8888888888888888,\"#fdca26\"],[1.0,\"#f0f921\"]]}],\"contourcarpet\":[{\"type\":\"contourcarpet\",\"colorbar\":{\"outlinewidth\":0,\"ticks\":\"\"}}],\"contour\":[{\"type\":\"contour\",\"colorbar\":{\"outlinewidth\":0,\"ticks\":\"\"},\"colorscale\":[[0.0,\"#0d0887\"],[0.1111111111111111,\"#46039f\"],[0.2222222222222222,\"#7201a8\"],[0.3333333333333333,\"#9c179e\"],[0.4444444444444444,\"#bd3786\"],[0.5555555555555556,\"#d8576b\"],[0.6666666666666666,\"#ed7953\"],[0.7777777777777778,\"#fb9f3a\"],[0.8888888888888888,\"#fdca26\"],[1.0,\"#f0f921\"]]}],\"surface\":[{\"type\":\"surface\",\"colorbar\":{\"outlinewidth\":0,\"ticks\":\"\"},\"colorscale\":[[0.0,\"#0d0887\"],[0.1111111111111111,\"#46039f\"],[0.2222222222222222,\"#7201a8\"],[0.3333333333333333,\"#9c179e\"],[0.4444444444444444,\"#bd3786\"],[0.5555555555555556,\"#d8576b\"],[0.6666666666666666,\"#ed7953\"],[0.7777777777777778,\"#fb9f3a\"],[0.8888888888888888,\"#fdca26\"],[1.0,\"#f0f921\"]]}],\"mesh3d\":[{\"type\":\"mesh3d\",\"colorbar\":{\"outlinewidth\":0,\"ticks\":\"\"}}],\"scatter\":[{\"fillpattern\":{\"fillmode\":\"overlay\",\"size\":10,\"solidity\":0.2},\"type\":\"scatter\"}],\"parcoords\":[{\"type\":\"parcoords\",\"line\":{\"colorbar\":{\"outlinewidth\":0,\"ticks\":\"\"}}}],\"scatterpolargl\":[{\"type\":\"scatterpolargl\",\"marker\":{\"colorbar\":{\"outlinewidth\":0,\"ticks\":\"\"}}}],\"bar\":[{\"error_x\":{\"color\":\"#2a3f5f\"},\"error_y\":{\"color\":\"#2a3f5f\"},\"marker\":{\"line\":{\"color\":\"#E5ECF6\",\"width\":0.5},\"pattern\":{\"fillmode\":\"overlay\",\"size\":10,\"solidity\":0.2}},\"type\":\"bar\"}],\"scattergeo\":[{\"type\":\"scattergeo\",\"marker\":{\"colorbar\":{\"outlinewidth\":0,\"ticks\":\"\"}}}],\"scatterpolar\":[{\"type\":\"scatterpolar\",\"marker\":{\"colorbar\":{\"outlinewidth\":0,\"ticks\":\"\"}}}],\"histogram\":[{\"marker\":{\"pattern\":{\"fillmode\":\"overlay\",\"size\":10,\"solidity\":0.2}},\"type\":\"histogram\"}],\"scattergl\":[{\"type\":\"scattergl\",\"marker\":{\"colorbar\":{\"outlinewidth\":0,\"ticks\":\"\"}}}],\"scatter3d\":[{\"type\":\"scatter3d\",\"line\":{\"colorbar\":{\"outlinewidth\":0,\"ticks\":\"\"}},\"marker\":{\"colorbar\":{\"outlinewidth\":0,\"ticks\":\"\"}}}],\"scattermapbox\":[{\"type\":\"scattermapbox\",\"marker\":{\"colorbar\":{\"outlinewidth\":0,\"ticks\":\"\"}}}],\"scatterternary\":[{\"type\":\"scatterternary\",\"marker\":{\"colorbar\":{\"outlinewidth\":0,\"ticks\":\"\"}}}],\"scattercarpet\":[{\"type\":\"scattercarpet\",\"marker\":{\"colorbar\":{\"outlinewidth\":0,\"ticks\":\"\"}}}],\"carpet\":[{\"aaxis\":{\"endlinecolor\":\"#2a3f5f\",\"gridcolor\":\"white\",\"linecolor\":\"white\",\"minorgridcolor\":\"white\",\"startlinecolor\":\"#2a3f5f\"},\"baxis\":{\"endlinecolor\":\"#2a3f5f\",\"gridcolor\":\"white\",\"linecolor\":\"white\",\"minorgridcolor\":\"white\",\"startlinecolor\":\"#2a3f5f\"},\"type\":\"carpet\"}],\"table\":[{\"cells\":{\"fill\":{\"color\":\"#EBF0F8\"},\"line\":{\"color\":\"white\"}},\"header\":{\"fill\":{\"color\":\"#C8D4E3\"},\"line\":{\"color\":\"white\"}},\"type\":\"table\"}],\"barpolar\":[{\"marker\":{\"line\":{\"color\":\"#E5ECF6\",\"width\":0.5},\"pattern\":{\"fillmode\":\"overlay\",\"size\":10,\"solidity\":0.2}},\"type\":\"barpolar\"}],\"pie\":[{\"automargin\":true,\"type\":\"pie\"}]},\"layout\":{\"autotypenumbers\":\"strict\",\"colorway\":[\"#636efa\",\"#EF553B\",\"#00cc96\",\"#ab63fa\",\"#FFA15A\",\"#19d3f3\",\"#FF6692\",\"#B6E880\",\"#FF97FF\",\"#FECB52\"],\"font\":{\"color\":\"#2a3f5f\"},\"hovermode\":\"closest\",\"hoverlabel\":{\"align\":\"left\"},\"paper_bgcolor\":\"white\",\"plot_bgcolor\":\"#E5ECF6\",\"polar\":{\"bgcolor\":\"#E5ECF6\",\"angularaxis\":{\"gridcolor\":\"white\",\"linecolor\":\"white\",\"ticks\":\"\"},\"radialaxis\":{\"gridcolor\":\"white\",\"linecolor\":\"white\",\"ticks\":\"\"}},\"ternary\":{\"bgcolor\":\"#E5ECF6\",\"aaxis\":{\"gridcolor\":\"white\",\"linecolor\":\"white\",\"ticks\":\"\"},\"baxis\":{\"gridcolor\":\"white\",\"linecolor\":\"white\",\"ticks\":\"\"},\"caxis\":{\"gridcolor\":\"white\",\"linecolor\":\"white\",\"ticks\":\"\"}},\"coloraxis\":{\"colorbar\":{\"outlinewidth\":0,\"ticks\":\"\"}},\"colorscale\":{\"sequential\":[[0.0,\"#0d0887\"],[0.1111111111111111,\"#46039f\"],[0.2222222222222222,\"#7201a8\"],[0.3333333333333333,\"#9c179e\"],[0.4444444444444444,\"#bd3786\"],[0.5555555555555556,\"#d8576b\"],[0.6666666666666666,\"#ed7953\"],[0.7777777777777778,\"#fb9f3a\"],[0.8888888888888888,\"#fdca26\"],[1.0,\"#f0f921\"]],\"sequentialminus\":[[0.0,\"#0d0887\"],[0.1111111111111111,\"#46039f\"],[0.2222222222222222,\"#7201a8\"],[0.3333333333333333,\"#9c179e\"],[0.4444444444444444,\"#bd3786\"],[0.5555555555555556,\"#d8576b\"],[0.6666666666666666,\"#ed7953\"],[0.7777777777777778,\"#fb9f3a\"],[0.8888888888888888,\"#fdca26\"],[1.0,\"#f0f921\"]],\"diverging\":[[0,\"#8e0152\"],[0.1,\"#c51b7d\"],[0.2,\"#de77ae\"],[0.3,\"#f1b6da\"],[0.4,\"#fde0ef\"],[0.5,\"#f7f7f7\"],[0.6,\"#e6f5d0\"],[0.7,\"#b8e186\"],[0.8,\"#7fbc41\"],[0.9,\"#4d9221\"],[1,\"#276419\"]]},\"xaxis\":{\"gridcolor\":\"white\",\"linecolor\":\"white\",\"ticks\":\"\",\"title\":{\"standoff\":15},\"zerolinecolor\":\"white\",\"automargin\":true,\"zerolinewidth\":2},\"yaxis\":{\"gridcolor\":\"white\",\"linecolor\":\"white\",\"ticks\":\"\",\"title\":{\"standoff\":15},\"zerolinecolor\":\"white\",\"automargin\":true,\"zerolinewidth\":2},\"scene\":{\"xaxis\":{\"backgroundcolor\":\"#E5ECF6\",\"gridcolor\":\"white\",\"linecolor\":\"white\",\"showbackground\":true,\"ticks\":\"\",\"zerolinecolor\":\"white\",\"gridwidth\":2},\"yaxis\":{\"backgroundcolor\":\"#E5ECF6\",\"gridcolor\":\"white\",\"linecolor\":\"white\",\"showbackground\":true,\"ticks\":\"\",\"zerolinecolor\":\"white\",\"gridwidth\":2},\"zaxis\":{\"backgroundcolor\":\"#E5ECF6\",\"gridcolor\":\"white\",\"linecolor\":\"white\",\"showbackground\":true,\"ticks\":\"\",\"zerolinecolor\":\"white\",\"gridwidth\":2}},\"shapedefaults\":{\"line\":{\"color\":\"#2a3f5f\"}},\"annotationdefaults\":{\"arrowcolor\":\"#2a3f5f\",\"arrowhead\":0,\"arrowwidth\":1},\"geo\":{\"bgcolor\":\"white\",\"landcolor\":\"#E5ECF6\",\"subunitcolor\":\"white\",\"showland\":true,\"showlakes\":true,\"lakecolor\":\"white\"},\"title\":{\"x\":0.05},\"mapbox\":{\"style\":\"light\"}}},\"hoverlabel\":{\"bgcolor\":\"#F7F2EE\"}},                        {\"responsive\": true}                    ).then(function(){\n",
       "                            \n",
       "var gd = document.getElementById('11f5e09e-4a2a-44ff-abf5-2d6fe7fd4bc3');\n",
       "var x = new MutationObserver(function (mutations, observer) {{\n",
       "        var display = window.getComputedStyle(gd).display;\n",
       "        if (!display || display === 'none') {{\n",
       "            console.log([gd, 'removed!']);\n",
       "            Plotly.purge(gd);\n",
       "            observer.disconnect();\n",
       "        }}\n",
       "}});\n",
       "\n",
       "// Listen for the removal of the full notebook cells\n",
       "var notebookContainer = gd.closest('#notebook-container');\n",
       "if (notebookContainer) {{\n",
       "    x.observe(notebookContainer, {childList: true});\n",
       "}}\n",
       "\n",
       "// Listen for the clearing of the current output cell\n",
       "var outputEl = gd.closest('.output');\n",
       "if (outputEl) {{\n",
       "    x.observe(outputEl, {childList: true});\n",
       "}}\n",
       "\n",
       "                        })                };                });            </script>        </div>"
      ]
     },
     "metadata": {},
     "output_type": "display_data"
    }
   ],
   "source": [
    "pie_Chart_adresses(df2,validAdress,invalidAdress)"
   ]
  },
  {
   "cell_type": "markdown",
   "id": "ae7a92b8",
   "metadata": {},
   "source": [
    "### Exploring messy data and missingness in invalid adresses"
   ]
  },
  {
   "cell_type": "code",
   "execution_count": 390,
   "id": "d8ad316b",
   "metadata": {},
   "outputs": [],
   "source": [
    "#nombre max de composantes des addresses:\n",
    "max=0\n",
    "for i in invalidAdress:\n",
    "    s=i.split()\n",
    "    if len(s)>max:\n",
    "        max=len(s)"
   ]
  },
  {
   "cell_type": "code",
   "execution_count": 391,
   "id": "b269b230",
   "metadata": {},
   "outputs": [
    {
     "data": {
      "text/plain": [
       "34"
      ]
     },
     "execution_count": 391,
     "metadata": {},
     "output_type": "execute_result"
    }
   ],
   "source": [
    "max"
   ]
  },
  {
   "cell_type": "code",
   "execution_count": 397,
   "id": "45c9d23b",
   "metadata": {},
   "outputs": [],
   "source": [
    "#la plus longue adresse:\n",
    "plus_longue_adresses=[]\n",
    "for i in invalidAdress:\n",
    "    s=i.split()\n",
    "    if len(s)==max:\n",
    "        plus_longue_adresses.append(i)"
   ]
  },
  {
   "cell_type": "code",
   "execution_count": 396,
   "id": "f1345116",
   "metadata": {},
   "outputs": [
    {
     "data": {
      "text/plain": [
       "[' 5 avenue de Bourgogne BP 36, 21802 Dijon | 5 avenue de BourgogneBP 36, 21802 Dijon | BFC Banque Privée - Pôle Gestion Sous Mandat  5 avenue de Bourgogne – BP 63, 21802 Quetigny']"
      ]
     },
     "execution_count": 396,
     "metadata": {},
     "output_type": "execute_result"
    }
   ],
   "source": [
    "plus_longue_adresses"
   ]
  },
  {
   "cell_type": "code",
   "execution_count": 403,
   "id": "92b9330b",
   "metadata": {
    "scrolled": true
   },
   "outputs": [
    {
     "name": "stdout",
     "output_type": "stream",
     "text": [
      "[' ,', ' ,', ' ,', ' ,', ' ,', ' ,', ' ,', ' ,', ' ,', ' ,', ' ,', ' ,', ' ,', ' ,', ' ,', ' ,', ' ,', ' ,', ' ,', ' ,', ' ,', ' ,', ' ,', ' ,', ' ,', ' ,', ' ,', ' ,', ' ,', ' ,', ' ,', ' ,', ' ,', ' ,', ' ,', ' ,', ' ,', ' ,', ' ,', ' ,', ' ,', ' ,', ' ,', ' ,', ' ,', ' ,', ' ,', ' ,', ' ,', ' ,', ' ,', ' ,', ' ,', ' ,', ' ,', ' ,', ' ,', ' ,', ' ,', ' ,', ' ,', ' ,', ' ,', ' ,', ' ,', ' ,', ' ,', ' ,', ' ,', ' ,', ' ,', ' ,', ' ,', ' ,', ' ,', ' ,', ' ,', ' ,', ' -,', ' .,', ' ,', ' ,']\n"
     ]
    },
    {
     "data": {
      "text/plain": [
       "82"
      ]
     },
     "execution_count": 403,
     "metadata": {},
     "output_type": "execute_result"
    }
   ],
   "source": [
    "#plus_courte_adresses\n",
    "plus_courte_adresses=[]\n",
    "for i in invalidAdress:\n",
    "    s=i.split()\n",
    "    if len(s)==1:\n",
    "        plus_courte_adresses.append(i)\n",
    "print(plus_courte_adresses) #missing addresses\n",
    "missing_=len(plus_courte_adresses)\n",
    "missing_"
   ]
  },
  {
   "cell_type": "code",
   "execution_count": 418,
   "id": "e38eb6cf",
   "metadata": {},
   "outputs": [],
   "source": [
    "different_sizes=[]\n",
    "for i in invalidAdress:\n",
    "    s=i.split()\n",
    "    if len(s)<=max:\n",
    "        different_sizes.append(len(s))"
   ]
  },
  {
   "cell_type": "code",
   "execution_count": 420,
   "id": "19b5f12d",
   "metadata": {},
   "outputs": [
    {
     "name": "stdout",
     "output_type": "stream",
     "text": [
      "{1, 2, 3, 4, 5, 6, 7, 8, 9, 10, 11, 12, 13, 14, 15, 16, 17, 18, 19, 20, 21, 22, 23, 24, 25, 26, 27, 28, 29, 30, 31, 33, 34}\n"
     ]
    }
   ],
   "source": [
    "print(set(different_sizes))"
   ]
  },
  {
   "cell_type": "code",
   "execution_count": 430,
   "id": "583d3788",
   "metadata": {},
   "outputs": [],
   "source": [
    "#Exploring the other types of missingness\n",
    "occ_2=0\n",
    "occ_3=0\n",
    "len2=[]\n",
    "len3=[]\n",
    "for i in invalidAdress:\n",
    "    s=i.split()\n",
    "    if len(s)==2:\n",
    "        len2.append(i)\n",
    "        occ_2+=1\n",
    "    if len(s)==3:\n",
    "        len3.append(i)\n",
    "        occ_3+=1"
   ]
  },
  {
   "cell_type": "code",
   "execution_count": 575,
   "id": "8ab37f67",
   "metadata": {},
   "outputs": [
    {
     "name": "stdout",
     "output_type": "stream",
     "text": [
      "[' *, *', ' -, -', ' -, -', ' fdfff, fff', ' Appieto, 20167', ' BP30836, 98895', ' BP66131, 35671', ' Postfach, 8058', ' Zugspitzstrasse140, 86165', ' Marius-Eriksen-Strasse1, 17291', ' XX, 75009', ' poiuytreza, 75000', ' Oustry, 81300', ' Oustry, 81300', ' Charles-de-Gaulle-Platz1, 50679', ' Charles-de-Gaulle-Platz1, 50679', ' Charles-de-Gaulle-Platz1, 50679', ' Charles-de-Gaulle-Platz1, 50679', ' Aeschengraben21, 4001', ' Strawinskylaan1203, 1077', ' Galusstrasse 4,', ' ben.foster@teneobluerubicon.com, 9', ' vfvf, 75', ' www.Norican.com, 1145', ' Hamburg, 52483', ' Dublin, 54836', ' Brazil, 247458', ' xxxxxx, 123']\n"
     ]
    },
    {
     "data": {
      "text/plain": [
       "28"
      ]
     },
     "execution_count": 575,
     "metadata": {},
     "output_type": "execute_result"
    }
   ],
   "source": [
    "print(len2)\n",
    "len(len2)"
   ]
  },
  {
   "cell_type": "code",
   "execution_count": 434,
   "id": "3442f461",
   "metadata": {
    "scrolled": true
   },
   "outputs": [
    {
     "name": "stdout",
     "output_type": "stream",
     "text": [
      "[' Zugspitzstrasse140, 86165 Augsburg', ' xx, xx Bergkamen', ' Hovedvejen2, 2600 GLOSTRUP', ' Lissin 27,  Tel-Aviv', ' Mythenquai 50/60,  Paris', ' fontaine, F53100 Fontaine-Daniel', ' ., | .,', ' I/FF-3, 85045 Ingolstadt', ' Carl-Bosch-Strasse 38, 67056', ' xx, 99 Singapour', ' v, 29000 Quimper', ' PRIV/DIR, 75886 Paris', ' xxx, D-50679 Cologne', ' BP69, 28088 Chartres', ' s, 75014 Paris', ' XXX, 91080 Courcouronnes', ' xxx, 1000 Brussels', ' xxxxxxx, xxxxx Liège', ' AAAA, 28000 Madrid', ' Tasmowa 7, NA', ' 0, 0 Geneve', ' 0, 0 Gland', ' 0, 0 Zuerich', ' 0, 0 Zuerich', ' Roques, 31570 Vaux', ' Beausoleil, 31140 Montberon', ' BP 7091, 00000', ' Vallicella, 20215 Vescovato', ' BP 21033, 00000', ' BP 21033, 98713', ' BP 20974, 20700', ' Beauplan, 97131 Terre-De-Haut', ' ZA Valpark, 59316', ' BP 16205, 00000', ' Oustry, 81300 Entremont-Le-Vieux', ' Pouzols, 43120 Lempdes-Sur-Allagnon', ' Migaudon, 79150 Limalonges', ' Etrez, 01340 Saint-Bois', ' BP 4451, 00000', ' Brusselsesteenweg, 502, 00000', ' Hovestraat, 40, 00000', ' Brusselsesteenweg 321, 00000', ' Withoeflei 9, 00000', ' Anselmostraat 2, 00000', ' Dorpstraat 10, 00000', ' Trigory, 35440 Rennes', ' Weena 455, 3013', ' xx, CC Toronto', ' Holtegaten 29, 3555', ' Regeringsgatan 56, 10338', ' Orrspelsvaegen 83, 16766', ' Strandvaegen 7B, 11456', ' Holm 22-28&#x0D;\\nFlensburg,', ' Floridsdorfer Haupst.1, 210', ' Sveavaegen 24-26, 11157', ' BP 1035, 76061', ' BP 3, 31410', ' Uitbreidingstraat, 10-16, 00000', ' Uitbreidingstraat, 10-16, 00000', ' Museumstraat 12D, 00000', ' Rijsenberstraat 148, 00000', ' Roderveldlaan 5, 00000', ' Hovestraat, 40, 00000', ' Legeweg 135/11, 00000', ' BP 1035, 76061', ' Museumstraat 12D, 00000', ' Uitbreidingstraat, 10-16, 00000', ' Rijsenberstraat 148, 00000', ' Uitbreidingstraat, 10-16, 00000', ' Rijsenberstraat 148, 00000', ' Pen-Lan-Vian, 22260 Pen-Lan-Van', ' Lieudit Brunissard, 5350', ' BP 50061, 34873', ' ROQUES, 31570 Vaux', ' Les Fauchinières, 49520', ' B.P. 296, 13269', ' MIGAUDON, 79150 Limalonges', ' BP 7091, 97276', ' LA BRAZADIÈRE, 35310', ' BP 21033, 98713', ' impasse MONTVALLON, 69380', ' Lalande d#DL#Abas, 35580', ' L#DL#atelier, 87700 Aixe-Sur-Vienne', ' Zinkstraat 1, B-2490', ' Amstelveenseweg 500, 1081', ' Donau-City-Street 9, 1220', ' Medienallee 7, D-85774', ' Bruggesteenweg 164, B-8830', ' Case Postale, 1001', ' Henkelstrasse 67, 40191', ' Taurusavenue 111, 2132', ' Bahnofstrasse 12, 8001', ' Brieffach 1848-2, 38436', ' Satamakatu 3, 00016', ' Bakkavegur 8, FO-625', ' Kabinvagen 5, 19587', ' Dublin Road Kingscourt,', ' Fredsborgsgatan 24, 11441', ' Petuelring 130, 80788', ' Krogshoejvej 36, 2880', ' Grimsehlstrasse 31, 37555', ' Hagaloekkeien 13, 1383', ' Margretetorpsvaegen, 260 92', ' Niittytaival 13, 02201', ' Slattarod, S-260 93', ' F.-W.-Scherer-Strasse 24, 5020', ' Nordwestring 101, 90319', ' Siedereistrasse 9, 6281', ' Marcel-Breuer-Strabe 6, 80807', ' Brahmsplatz 6, 1041', ' Darwinweg 24, 2333', ' Bahstrasse 24, 8603', ' Postfach 1, 1300', ' Oosterdoksstraat 114, 1011', ' Industriestrase-Ost 1-7, 63808', ' Roermosevej 1, 3450', ' Ornegaardsvej 18, 2820', ' Investor Relations, 81663', ' Auswaertiges Amt, 11013', ' Junghoftsrasse 24, 60311', ' Bavariaplatz 7, 82031', ' Georg-Coch-Platz 2, 1018', ' Petuelring 130, 80788', ' Carl-Bertelsmann-Str. 270, 33311', ' Gewerberstrasse 12, 4123', ' Postfach 200104, 40099', ' Loehrstr. 16, 4105', ' Muensterstrasse 33, 33482', ' Kennedy-Allee 70a, 60596', ' Hellersbergstrassse 11, 41460', ' Sixty Treadneedle Street,', ' Fraunhoferstrasse 1, 7743', ' Johannisbrunneweg 15, 61462', ' Postfach 1260, 83292', ' Gallusanlage 7, 60301', ' P.O. Box 53536,', ' Feldkirchstrasse 15, 9494', ' Weidebornweg 28, 61438', ' Katharinaenstr. 9, 20457', ' One Old Jewry,', ' Postfach 1, 1300', ' Frauenhoferstr. 15, 82152', ' Siepelkampstr. 75, 47803', ' 5th Fl.,32,Lombard Street,', ' Potfach 1140, 88330', ' Haaksbergweg 55, 1101', ' Aberspaecherstrasse 24, 73730', ' Augstaallee 2, 61348', ' Anton-Kathrein-Strasse 1-3, 83004', ' Box 6086, 11442', ' Joseph-Alberstoetter-Ring 58, 85283', ' Schlossgut Weyhern, 82281', ' Schildgesstrasse 71-163, 50321', ' Postfach 1162, 85541', ' Industriestrasse 10/12, 23840', ' Postfach 360, 57427', ' Speditionsstrasse 1, 40221', ' Ten Bishops Square,', ' PO Box 94,', ' Postfach 4221, 58042', ' Muehlendorfstrasse 15, 81671', ' 23 Savila Row,', ' Talstr. 12-21, 89579', ' Walter-v-Rath Str.20, 60320', ' 13 Mokhovaya str,', ' Ostende 5, 4288', ' Barfussgaesschen 11, 4109', ' Georg-Glocke-Str. 4, 40474', ' Postfach 1824/1, 38436', ' Stahlwiete 23, 22761', ' Jungfraustieg 51, 20354', ' Krallingerstrasse 5, 82131', ' Notkirchenstrasse 100, 44263', ' Leeghwaterstraat, 21, 2811', ' Quartier Eymieux, 07220', ' LE RIBAS, 84120', ' 33, rueTourtel, 11000', ' Les Chazalets, 43430', ' Saintonge, 16720 Saint-Meme-Les-Carrieres', ' Les Chazalets, 43430', ' Pohjoisesplanadi 33A, 100', ' eee, 88 Koeln', ' Arheilger Weg5, 64380', ' xxx, 50679 Hannover', ' Schuetzenhoehe 20, 1074', ' Postfach, 4002 Basel', ' Georg-Coch-Platz 2, 1018', ' Komturhof 2, 8527', ' Opernstr. 12, 9544', ' Opernstr. 12, 9544', ' 75 Rixbecker, 59552', ' Gustav-Petri-Str. 8, 38865', ' Boulevard, 12345 Kani-Kéli', ' Katarinavaegen 15,, 11645', ' londres&#x0D;\\n, 75001', ' AMSTERDAM&#x0D;\\n, 75001', ' Kombuisweg 31, 1041', ' Charlottenstra. 57, 10117', ' Minato-Ku, Japan, 75009', ' Perlickstr. 5, 4103', ' Kraftwerksgelaende, 31860 Emmerthal', ' Bismarckstr.1/Berliner-Tor-Platz, 46483 Wesel', ' Bismarckstr.1/Berliner-Tor-Platz, 46483 Wesel', ' Feldstrasse16, 64331 Weiterstadt', ' Wendelin-Rauch-Strasse, 97893 Freudenberg', ' Terminated, 50933 Koeln', ' VERSTORBEN, 41236 Moenchengladbach', ' Terminated, 14169 Berlin', ' xxx, 12345 Dresden', ' Holleralle, 28209 Bremen', ' Croeselaan 1, 3521', ' Gueterstrasse 1, 60327', ' , 80312 Muenchen', ' Messegelaende, 81823 Muenchen', ' Postfach, 81663 Muenchen', ' Kampchaussee 8-32, 21033', ' PF, 99998 Volkenroda', ' . , .', ' Burghof, 56428 Dernbach', ' Bahnofstrasse 45, 8098', ' 150 Cheapside&#x0D;\\n,', ' Weindenstrasse 27, 4142', ' RHONE, 69006 Lyons-La-Foret', ' AQUITAINE, 74160 Saint-Julien-En-Genevois', ' 66 Hahistadruth Avenue,', ' Overschiestraat 61-5, 1062', ' Rosterigrand 12, 11798', ' Mobilvaegen 12, 22362', ' Boxx 6630, 10246', ' Carlifornia, US, 54823', ' Rom, Italy, 45265', ' 17rue Denecourt, 77300', ' 24 Hofwisenstrasse, 8453', ' Weiherstrobel 8,  Ravensburg', ' DIFC, 507069 Dubaï']\n"
     ]
    }
   ],
   "source": [
    "print(len3)"
   ]
  },
  {
   "cell_type": "markdown",
   "id": "d10fbd65",
   "metadata": {},
   "source": [
    "### Cleaning some messy data"
   ]
  },
  {
   "cell_type": "code",
   "execution_count": 454,
   "id": "c3c9e91a",
   "metadata": {},
   "outputs": [
    {
     "data": {
      "text/plain": [
       "[' Veemkade 240-242Postbus 1912, 1000 Amsterdam',\n",
       " ' 60/22 Melita Street, VLT 1122 La Valette',\n",
       " ' Morgan Hall 381, MA 02163 Boston',\n",
       " ' Herengracht 130, 1001 AT Amsterdam',\n",
       " ' Nachtwachtlaan 20, 1038 EA Amsterdam',\n",
       " ' A. Tumeno str. 4B Corp., floor 7, LT-01109 Vilnius',\n",
       " ' Lvovo g.25, LT-09320 Vilnius',\n",
       " ' Tartu maantee 212th floor, 10145 Tallinn',\n",
       " ' Mikonkatu 15aGovernment Pension Fund, 00100 Helsinki',\n",
       " ' Jacobsleiter 8, 24159 Kiel',\n",
       " ' Am Markplatz 5, 65779 Kelkheim',\n",
       " ' Ovre Slottsgate 3, 21 Oslo',\n",
       " ' Campus UAB – Ronda de la Font del Carme, s/n, 08193 Barcelone',\n",
       " ' Mikonkatu 8, 8th floor, 00100 Helsinki',\n",
       " ' BOX 55930, 102 16 Stockholm',\n",
       " ' Rétkoez utca 5, 1118 BUDAPEST',\n",
       " ' Berzelii Park 9Box 7415, 103 91 Stockholm',\n",
       " ' 30 St James Square3rd FloorLondon SW1Y 4AL, SW1Y London',\n",
       " ' Professor J.H. Bavincklaan 2, 1183 AT Amstelveen',\n",
       " ' 43-45 Portman Square, W1H London',\n",
       " ' Piazza Gae Aulenti 4 Torre C, 20154 Milan',\n",
       " ' Rembrandt Tower 9th Floor, 1096 HA Amsterdam',\n",
       " ' 41 Lothbury1st Floor, EC2R 7AE London',\n",
       " ' 375 Park Avenue, 25th floor, NY 10152 New York',\n",
       " ' Sperlring 2, 85276 Pfaffenhofen',\n",
       " ' 3, Place Clairefontaine, 1341 Luxemburg',\n",
       " ' Postfach 900533, 60486 Frankfurt am Main',\n",
       " ' 689 5th Avenue12th Floor, NY 10022 New York',\n",
       " ' 5 EAST 44TH STREETSUITE 12, NY 10017 New York',\n",
       " ' 3 Columbus Circle15th floor, NY 10019 New York',\n",
       " ' One Letterman DriveBuilding D, Suite D3-700, CA 94129 San Francisco',\n",
       " ' 250 West 55th Street16th Floor Suite A, NY 10019 New York',\n",
       " ' 10 MOUNTAINVIEW ROAD#205, 07458 UPPER SADDLE RIVER',\n",
       " ' 527 Madison AvenueSuite 2600, NY 10022 New York',\n",
       " ' 100 Federal Street19th Floor, MA 02110 Boston',\n",
       " ' 299 Park Ave, 24th Floor, NY 10172 New York',\n",
       " ' De Boelelaan 7, Officia 1 Building - 9th Floor, 1083 HJ  Amsterdam',\n",
       " ' Postfach 301778, 10747 Berlin',\n",
       " ' 17 State Street38th Floor, 10004 New York',\n",
       " ' 225 W Upper Wacker Dr # 2400, IL 60606 Chicago',\n",
       " ' 1st Floor, 90 Long Acre, WC2E 9RA London',\n",
       " ' Novo Allé, 2880 Copenhague',\n",
       " ' Hedge Fund444 Madison Avenue, 10022 New York',\n",
       " ' Keilaranta 21, 02100 Espoo  , 02100 Espoo',\n",
       " ' 1 TUDOR STREET, EC4 YOAH London',\n",
       " ' Bâtiment E-volution - 425, rue Jean Rostand, 31670 Labege',\n",
       " ' 3rd Floor South55 Baker Street, W1U 8EW London',\n",
       " ' 22 Sackville StreetMayfair, W1S 3DN London',\n",
       " ' Senator House 85 Queen Victoria Street, EC4V 4ET London',\n",
       " ' Mythenquai 24P.O. Box, 8010 Zuerich',\n",
       " ' 1010 Sherbrooke St. West, Suite 1610, QC H3A 2R7 Montreal',\n",
       " ' 1 Rockefeller Plaza # 3000, NY 10020 New York',\n",
       " ' avenue Jean Eric BouscPo Box 40163, 57600 Forbach',\n",
       " ' Fjordalleen 162 Etg, 0250 Oslo',\n",
       " ' ZA Quartier Rietiere, 26190 LA MOTTE-FANJAS',\n",
       " ' 50A, rue de Mamer, L-8280 KEHLEN',\n",
       " ' Joe Englishstraat 54, B-2140 Antwerpen',\n",
       " ' 6B route de Trèves\\t, L-2633 Senningerberg',\n",
       " ' Pearson Plc, 80 Strand, WC2R 0RL London',\n",
       " ' 767 5th Ave, 44th Floor, NY 10153 New York',\n",
       " ' 515 MADISON AV 30TH FLOOR, 10022 New York',\n",
       " ' Ludwig-Ganghofer-Strasse 6, 82031 Gruenewald',\n",
       " ' Aleksanterinkatu 19 A, 5th floor, 00100 Helsinki',\n",
       " ' Suite 3300, Bentall 5 550 Burrard Street, V6C0B3 VANCOUVER',\n",
       " ' 104 Salisbury House,London Wall, EC2M 5RQ London',\n",
       " ' Palastrasse 10, 45290 Trier',\n",
       " ' 1 Bryant Park38th Floor, NY 10036 New York',\n",
       " \" Paris d'Activités, 38 rue Pafebruch, L-8308 Capellen\",\n",
       " ' Bâtiment D, Bureau D204 (2ème étage)2405 Route des Dolines, 06580 Valbonne',\n",
       " ' 55 New Bond Street3rd Floor, W1S 1DG London',\n",
       " ' 4 place de Saverne, 92971 La Defense',\n",
       " ' Ottostrasse 5, D-80333 Muenchen',\n",
       " ' Exchange House, 4th Floor12 Primrose Street, EC2A 2EG London',\n",
       " ' 62 Queen Street1st Floor Rex Building, EC4R1EB London',\n",
       " ' Riverbank, Meadows Business ParkCamberley, GU17 9AB Surrey',\n",
       " ' 3333 Warrenville Road, Suite 500, 60532 LISLE, IL',\n",
       " ' Sveavaegen 24-26, 11157 Stockholm',\n",
       " ' Am Graben 13/I/Top 40, 1010 Vienna',\n",
       " ' Waehringer Strasse 61 / 2.08, 1090 Vienna',\n",
       " ' Chausse de Louvain 490,  Lasne',\n",
       " ' Kraehlbuehlstrasse 45, 8044 Zuerich',\n",
       " ' Amstplein 1, 1096 HA Amsterdam',\n",
       " ' Bezelii Park 9,  Stockholm',\n",
       " ' Mannerheimintie 18, 7th floor, 00130 Helsinki',\n",
       " ' Tapiola Keskustorni 13.krs, 2100 Espoo',\n",
       " ' HvidestenKingosvej 1, DK-2630 TAASTRUP',\n",
       " ' Dronning Maudsgate 1, 0161 Oslo',\n",
       " ' 350 Park avenue18th floor, NY 10022 New York',\n",
       " ' 598 Madison Avenue15th Floor, NY 10022 New York',\n",
       " ' Broker ProfileAugustine House6A Austin Friars, EC2N 2HA London',\n",
       " ' Fabriksgasse 13, A-8700 LEOBEN',\n",
       " ' Kaeppelstr. 4-6, 76131 Karlsruhe',\n",
       " ' Erisusspitze 1, 20457 Hamburg',\n",
       " ' 2, Place Dargent, 1413 Luxemburg',\n",
       " ' Parnassusweg 21-1st floor, 1077 DB Amsterdam',\n",
       " ' 14 Hays Mews, 5269 London',\n",
       " ' Dennenweg 19, XX BLOEMENDAAL',\n",
       " ' Postbus 152, 1000 AD Amsterdam',\n",
       " ' 44 Esplanada de la Moselle, 6637 Wasserbillig',\n",
       " ' Three Columbus Cir., 26th Fl, 10019-1995 New York',\n",
       " ' Ny Østergade 7, 3, 1101 Copenhague',\n",
       " ' Via Milano 150 - Cologno Monzese, 20093 Rome',\n",
       " ' Via Ita Marzotto 8, 30025 FOSSALTA DI PORTOGRUARO',\n",
       " ' 75 9th Ave5th Floor, 10019 New York',\n",
       " ' Leifheistrasse 1, 56377 Nassau',\n",
       " ' 33A, avenue J-F Kennedy, L-1855 Luxemburg',\n",
       " ' 21 Ludlow DriveChappaqua, 10514 New York',\n",
       " ' One Financial CenterSuite 1620, 02111 Boston',\n",
       " ' 810 Seventh Avenue34th Floor, 10019 New York',\n",
       " ' 250 West 55th Street, Suite 16B, NY 10019 New York',\n",
       " ' The First Floor\\n62 Queen Street\\nRex Building, EC4R 1EB London',\n",
       " ' 1-3 Strand, 6th Floor Grand Buildings, WC2N London',\n",
       " ' 1010 Sherbrooke Ouest, H3A 2R7 Montreal',\n",
       " ' Paseo de la castellana 55 tercera planta, 28046 Madrid',\n",
       " ' 304, Route de Thionville, L-5884 HESPERANGE',\n",
       " ' One Sansome, Suite 3630, CA 94104 San Francisco',\n",
       " ' Forum 1Novartis Campus, 4056 Basel',\n",
       " ' 1 BD DE LA FOIRE, L-528 Luxemburg',\n",
       " ' 100 S Pointe Dr Apt 1501, FL 33139 Miami',\n",
       " ' ONE SANSOME ST - 3630, 94104 San Francisco',\n",
       " ' 4, rue Peternelchen, L-2370 HOWALD',\n",
       " ' Texas Commerce Tower, 2200 Ross Ave # 3100, TX 75201 Dallas',\n",
       " ' 20 Queen St. W., Suite 3100, ON M5H 3R3 Toronto',\n",
       " ' Hejreskowej 10A, DK3490 KVISTGAARD',\n",
       " ' 265 rue de la DécouverteBAT A, 31670 Labege',\n",
       " ' Salzburger Leite 1, D97616 Bad Neustadt',\n",
       " ' Nybrogatan 6, 102 40 Stockholm',\n",
       " ' c Marques de Riscal 11-a 1 est 2, 28010 Madrid',\n",
       " ' VELAZQUEZ Nº 140, 2º DERECHA, 28006 Madrid',\n",
       " ' 1 Bell StreetMaidenhead, SL6 1BU BERKSHIRE',\n",
       " ' 540 Madison Ave18th Fl, NY 10022 New York',\n",
       " ' Immermanstrasse 13, 40210 Duesseldorf',\n",
       " ' 650 SOUTH EXETER STREET, SUITE 1070, MD 21202 Baltimore',\n",
       " ' PIAZZA G. BERTOLDI 8, 47899 SERRAVALLE',\n",
       " ' 20 PARK PLAZA # 120, MA 02116 Boston',\n",
       " ' 666 Fifth Avenue34th Floor #3403, NY 10103 New York',\n",
       " ' 100 Fillmore Street#325, 80206 Denver',\n",
       " ' 546 5th Ave.9th Fl., NY 10036 New York',\n",
       " ' 666 Fifth Ave.8th Fl., NY 10103 New York',\n",
       " ' 300 PARK AVENUE25TH FLOOR, NY 10022 New York',\n",
       " ' 666 Fifth Ave.9th Fl., NY 10103 New York',\n",
       " ' 1 Rockefeller Pl.# 1205, NY 10020 New York',\n",
       " ' 551 Fifth AveSuite 1120, NY 10176 New York',\n",
       " ' 16 boulevard Déodat de Séverac CS 90312, 31773 Colomiers',\n",
       " ' One Canada SquareCanary Wharf, E14 5AL London',\n",
       " ' Bond Street House14 Clifford Street, W1S 4JU London',\n",
       " ' 45 Pall Mall4th Floor, SW1Y 5JG London',\n",
       " ' 667 Madison Ave21st fl., 10065 New York',\n",
       " ' Pépinière Paris Santé Cochin 27 Rue du Faubourg Saint-Jacques, 75014 Paris',\n",
       " ' Maintor Alte Mainzer Gasse 55, 60311 Frankfurt am Main',\n",
       " ' Avenue de la Liberté, 41, L - 1931 Luxemburg',\n",
       " ' 610 Broadway, 6th floor, NY 10012 New York',\n",
       " ' 13, rue de l’Industrie, L-8399 Windhof',\n",
       " ' 1 North Wacker Drive Suite 3950, IL 60606 Chicago',\n",
       " ' Gran Via De Les Corts Catalanes  635 Planta6th floor, 08010 Barcelone',\n",
       " ' 100 Yonge St., #1700, M5C 2W1 Toronto',\n",
       " ' 77 King St W #3710, ON M5K 1K7 Toronto',\n",
       " ' 199 Bay Street, Suite 2700, P.O. Box 108, ON M5L 1E2 Toronto',\n",
       " ' 540 West Madison StreetSuite 1900, IL 60661 Chicago',\n",
       " ' Rembrandstrasse 38, 40237 Duesseldorf',\n",
       " ' 10990 Wilshire Blvd.,#1400, CA 90024 Los Angeles',\n",
       " ' Plaza Manuel Gomez Moreno 2 Plata 17 A, 28020 Madrid',\n",
       " ' Suite 2, level 35, 60 Margaret St, NSW 2000 Sydney',\n",
       " ' GINZA FUGETSUDO 6-6-1-5F GINZACHUO-KU, 104-0061 Tokyo',\n",
       " ' Dublin Branch 9, Fitzwilliam Street Upper, Dublin 2 Dublin',\n",
       " ' 126 Guido Dezelle Straar, 1654 Huizingen',\n",
       " ' 4, rue Marché aux Herbes, L-1728 Luxemburg',\n",
       " ' 333 Bay St., #5100, Toronto, M5H 2R2',\n",
       " ' Pº de la Independencia, 19, 50001 Zaragoza',\n",
       " ' 145-157 St. John Street, EC1V 4PM London',\n",
       " ' Marktgrafenstr. 11, 10969 Berlin',\n",
       " ' AVENIDA DIAGONAL, 640, 3º E , 08017 Barcelone',\n",
       " \" 15-16 Brook's MewsMoss House, W1K 4DS London\",\n",
       " ' RT 30/02AVENUE GALILEE 5, B-1210 Brussel',\n",
       " ' Kapitein Maenhoutstraat 77B, 9830 Sint-Martens-Latem',\n",
       " ' Duboisstraat 48, B-2060 Anvers',\n",
       " ' Research ParkInterleuvenlaan 1515/D1, 3001 Heverlee',\n",
       " ' Bedrijvencentrum RoeselareIndustrieweg 45, 8800 Roeselare',\n",
       " ' Hanswijkstraat 37 A, B-2800 Mechelen',\n",
       " ' Lambroekstraat 5 D, B-1831 Diegem',\n",
       " ' Place Eugène Flagey 18, B-1050 Brussel',\n",
       " ' 48, rue de Bragance, L-1255 Luxemburg',\n",
       " ' Theresienstr. 6-8, 803333 Muenchen',\n",
       " ' 280 Park Ave., 12th Floor, 10017 New York',\n",
       " ' 57 Saint James Street, SW1ALD Edimbourg',\n",
       " ' Street No 230 C-Ring RoadAl Hilal AreaPO Box 24025, ..... Doha',\n",
       " ' Complejo Torres Cerda C juan Gris20-26- Torre Norte, 08014 Barcelone',\n",
       " ' 48 Dover Street2nd Floor - Suite 2:17, W1S 4FF London',\n",
       " ' Norrmalmstorg 14, 5trBox 7030, 11146SE Stockholm',\n",
       " ' 11A Regent Street3rd Floor, Southwest House, SW1Y 4LR London',\n",
       " ' Am Heiligen Rain 10, D-61440 Oberursel',\n",
       " ' 6 BOULEVARD DES MOULINS, 98000 Monaco City',\n",
       " ' 280 Park Avenue, 12th Floor, 10017 New York',\n",
       " ' Oxtorgsgatan 4, 2 lev., 111 57 Stockholm',\n",
       " ' Professor Kohtsvei 9, 1366 Lysaker',\n",
       " ' Olavinte 2, 10101 Turku',\n",
       " ' Oestbanegade 125, 2100 Copenhague',\n",
       " \" Olav V's Gate 5, 111 Oslo\",\n",
       " ' 2, avenue Charles de Gaulle, L-1653 Luxemburg',\n",
       " ' 505 Fifth Avenue South, 9th Floor, WA  98104 SEATTLE',\n",
       " ' Paseo del Club Deportivo 1. Bloque 13 BDCentro Emp la Finca, 28223 Madrid',\n",
       " ' Korporationsweg 13c, 8832 WILEN BEI WOLLERAU',\n",
       " ' Level 4, Berkeley SquareBerkeley Square House, W1J6BX London',\n",
       " ' General-Guisan-Quai 36, 8002 Zuerich, Suisse , 8002 Zuerich',\n",
       " ' Tour Ariane5 place de la PyramideTSA 55555, 92919 La Defense',\n",
       " ' Rue de la Chancellerie 2 box 1, 1000 Brussel',\n",
       " ' Leconfield HouseCurzon Street, W1J5JA London',\n",
       " ' Sundkrogsgade 4Marina PARK, 2100 Copenhague',\n",
       " ' 20 Park Plaza, 4th Floor, MA 02116 Boston',\n",
       " ' 44 Esplanade St Helier, JE4 9WG Jersey City',\n",
       " ' 1633 BROADWAY, 45TH FLOOR, NY 10019 New York',\n",
       " ' 1633 BROADWAY28 TH FLOOR, 10019 New York',\n",
       " ' 1001 BRICKELL BAY DRIVE, SUITE 1900, FL33131 Miami',\n",
       " ' 570 Lexington AvenueSuite 1403, NY 10022 New York',\n",
       " ' Weena 455, 013 AL Rotterdam',\n",
       " ' 2 BD de la Foire, L1528 Luxemburg',\n",
       " ' Dynamic Funds Tower1 Adelaide St. E., 28th Floor, ON M5C 2V9 Toronto',\n",
       " ' 3 Exchange PlaceSemple Street, EH3 8BL Edimbourg',\n",
       " ' One Park Place, Suite 700, 621 NW 53rd Street, 33487 New York',\n",
       " ' OP-Private TurkuPl 44, 20101 Turku',\n",
       " ' 333 W Wacker Dr # 1600, IL 60606 Chicago',\n",
       " ' 50 New Bond Street2nd Floor, W1S 1BJ London',\n",
       " ' 12, rue Léon Laval, L-3372 Leudelange',\n",
       " \" Olav V's Gate 5, 0161 Oslo\",\n",
       " ' 1000 HART ROAD, SUITE 260, IL 60010 BARRINGTON',\n",
       " ' 477 Madison Avenue, 8th Floor, NY 10022 New York',\n",
       " ' Rembrandt Tower - 9th floorAmstelplein 1, 1096 HA Amsterdam',\n",
       " ' Pobrežní 14/297, 18600 PRAHA 8',\n",
       " ' 222 Berkeley St., 15th Fl Boston, 02116 New York',\n",
       " ' Kungsgatan 5, 10399 Stockholm',\n",
       " ' 1 Haakon VII Gate, 161 Oslo',\n",
       " \" Olav V's Gate 5, 1111 Oslo\",\n",
       " ' Orrspelsvaegen 83, 16766 BROMMA',\n",
       " ' 2, rue Albert Broschette, 1245 Luxemburg',\n",
       " ' 14 Queen Annes Gate, SW1H 9AA London',\n",
       " ' 5 Schollhouse Lane East, 2 Dublin',\n",
       " ' BP 1634, L-1016 Luxemburg',\n",
       " ' Schurwiese 3, 8703 Erlenbach',\n",
       " ' Dalgasgade 25, 9. sal, 7400 HERNING',\n",
       " ' Arnnulfstrasse 39, 80636 Muenchen',\n",
       " ' Leonhard-Stinnes-Str.6, 45470 MUEHLHEIM AN DER RUHR',\n",
       " ' Joachimstaler Str.34, 10719 Berlin',\n",
       " ' Am Silberpalais 1, 47057 Duisburg',\n",
       " ' President Kennedypark 18, B-8500 Kortrijk',\n",
       " ' Rua Alexandre Herculano, 35, 1250-009 Lisbonne',\n",
       " ' Nedre Holmegt. 30-34 P.O. Box 559 Sentrum, N-4003 Stavanger',\n",
       " ' Alpenstrasse 70, 5033 Vienna',\n",
       " ' avenue de Octave Gréard, 75007 Paris',\n",
       " ' First Floor, Brookfield House\\n44 Davies Street, W1K 5JA London',\n",
       " ' Lindhagensgatan 86, 103 50 Stockholm',\n",
       " ' ZAC de MilieuxRue Adrienne Bolland, 42163 Andrezieux-Boutheon',\n",
       " ' 7 RUE DU GABIAN, 98000 Monaco City',\n",
       " ' ANTONIJAS LELA 3, LV 1010 Riga',\n",
       " ' Maester Samuelsgatan 1, 10388 Stockholm',\n",
       " ' Gebouw Vierlander, Fellenoord 23, 5612AA Eindhoven',\n",
       " ' 207 route de Fresney, 1218 GRAND SACONNEX',\n",
       " ' Herengracht 595, 1008 DG Amsterdam',\n",
       " ' 12 Rue Eugene Ruppert, L - 2543 Luxemburg',\n",
       " ' 2775 Sand Hill Road, Suite 220Menlo Park, 94025',\n",
       " ' 300 Drakes Landing Rd., # 210, Greenbrae, 94904-3123',\n",
       " ' 18 Mediavaegen, 135 48 TYRESOe',\n",
       " ' Værkmestergade 3, 2, DK-8000 Aarhus',\n",
       " ' 101 Grand Blvd, KS64106 KANSAS CITY',\n",
       " ' 5420 W. 61st Pl., KS66205-3084 SHAWNEEMISSION',\n",
       " ' Edificio Alfredo MahouPlaza Manuel Gomez Moreno, 2, 28020 Madrid',\n",
       " ' Lange Lozanastraat 254, B-2018 Antwerpen',\n",
       " ' corso Vittorio Emmanuele 101, 10128 Torino',\n",
       " ' Mercesstrasse 737, 70327 Stuttgart',\n",
       " ' Muehlenfelsstrasse 1, 37603 Holzminden',\n",
       " ' 4-6 Rond Point des Champs Elysées, 75008 Paris',\n",
       " ' One Financial Center, 30th Floor, MA 02111 Boston',\n",
       " ' Raiffeisenallee 16, d-82041 Oberhaching',\n",
       " ' 505 5th avenue20TH Florr, 10017 New York',\n",
       " ' Azia Center suite 300130th floor1233 lujiazui RING ROAD, PRC 200120 Shanghai',\n",
       " ' 200 State Street, 7th Floor, MA-02109 Boston',\n",
       " ' Principe de Vergara 125, 28002 Madrid',\n",
       " ' Prinses Beatrixlaan 15, 2595 La Haye',\n",
       " ' Via c Cantu 2, 20123 Milan',\n",
       " ' Via del Nazioni Unite 4, 43044 COLLECCHIO (PARMA)',\n",
       " ' Viale Europa 46 6th floor, 2093 Cologne',\n",
       " ' Aldwych House WeWork 71-91 Aldwych, WC2B 4HN London',\n",
       " ' BAG-IRBuilding W 11, D-51368 Leverkusen',\n",
       " ' Marienstrasse 43, D-70178 Stuttgart',\n",
       " ' 1 Plantation Place30 Fenchurch Street, EC3M 3BD London',\n",
       " ' 26 Bd Royal  7ème étage, L 2449 Luxemburg',\n",
       " ' Piazza Almerico da Schio, Pal. RPU, 00054 FIUMICINO (RM)',\n",
       " ' Waterside, PO Box 365, UB7 0GB HARMONDSWORTH',\n",
       " ' Soedra Foerstadsgatan 4, SE-211 43 Malmoe',\n",
       " ' 25 rue de la MilletièreBP 27335, 37073 Tours',\n",
       " ' AMS/SG Amsterdamseweg, 55 1182 Amstelveen',\n",
       " ' 150 Slater Street, K1A 1K3 OTTAWA',\n",
       " ' 6 D Route de Trèves, L-2633 Senningerberg',\n",
       " ' Box 2269, 403 14 Goeteborg',\n",
       " ' Via Trattati Comunitari Europei, 40127 Bologne',\n",
       " ' Vasagatan 7P.O. Box 704 14, S-107 25 Stockholm',\n",
       " ' Pohjoisesplanadi 35 AB, FIN-00100 Helsinki',\n",
       " ' 10 Grosvenor Street, W1K 4BJ London',\n",
       " ' 11th Floor71 Fenchurch Street, EC3M 4HD London',\n",
       " ' 140 Broadway - 7th Floor, NY 10005 New York',\n",
       " ' Orion House5 Upper St. Martin’s Lane, WC2H 9EA London',\n",
       " ' 5 allée Schaeffer, 2080 Luxemburg',\n",
       " ' 10 New Burlington St6th Floor, W1S 3BE London',\n",
       " ' Parque empresarial de las Rozas - Edif. TRIPARKC/ Jacinto Benavente 2 A, 28032 LAS ROZAS - MADRID',\n",
       " \" Regent's Place 10 Triton Street, NW13BF London\",\n",
       " ' Houghton Hall Business ParkPorz Avenue, LU5 5XE DUNSTABLE',\n",
       " ' 5-25, Harrington Gardens, SW7 4JW London',\n",
       " ' Level 8 7 Macquarie Place, NSW 2000 Sydney',\n",
       " ' Klara Soedra Kyrkogata 18, SE-113 88 Stockholm',\n",
       " ' 50 Fifth AvenueSuite 4100, NY 10110 New York',\n",
       " ' 200 Fifth Avenue (at 23rd Street)14th floor, NY 10010 New York',\n",
       " ' 123 Front Street West, Suite 1200, M5J 2M2 Toronto',\n",
       " ' 1 Market StreetSteuart Tower, 23rd Floor, CA 94105 San Francisco',\n",
       " ' route der Treves 6A, L-2663 Senningerberg',\n",
       " ' 21 Rue Aldringen, L-1118 Luxemburg',\n",
       " ' 15 Wrights Lane, W85SL London',\n",
       " ' Affolternstrasse 44, P.O Box 8131, CH-8050 Zuerich',\n",
       " ' 300-99 Yorkville Ave, ON M5R 3K5 Toronto',\n",
       " ' 630 5th Ave Ste 3270, NY10111 New York',\n",
       " ' 33 Sur John Rogerson Quay, 2 Dublin',\n",
       " ' 12-14 Lower Mount Street, 2 Dublin',\n",
       " ' 1-6-2 Higashi-shinbashi,Minato-ku, 105-8310 Tokyo',\n",
       " ' 338 Tonoshiro-cho, Kuze Minami-ku, 601-8205 KYOTO',\n",
       " ' JacobsweerdSt Jacobsstraat 200, 3503 RE Utrecht',\n",
       " ' Via S. Balestra 33PO Box 5349, 6901 Lugano',\n",
       " ' 76A, James Bourchier Blvd.Hill Tower, 1421 SOFIA',\n",
       " ' 4th Floor, Ramnath House18, Community Centre, Yusuf Sarai, 110049 New Delhi',\n",
       " ' 1180 Ave. of the Americas, 19th Fl, NY 10036 New York',\n",
       " ' Calle alcala 54 3°der, 28014 Madrid',\n",
       " ' 590 Madison Ave, Suite 25E, 10022 New York',\n",
       " ' 52-58 Neue Mainzer Strasse Main Power, 60323 Frankfurt am Main',\n",
       " ' 536 Broadway, 7th FI, NY 10012-3915 New York',\n",
       " ' 25 Deforest AvenueSuite 304, NJ 07901 Summit',\n",
       " ' 2 Broadgate, EC2M 7UR London',\n",
       " ' 12-18 Grosvenor Gardens, SW1W ODH London',\n",
       " ' 120 Cannon StreetCandlewick House, EC4N 6 AS London',\n",
       " ' 62 street Kifisou - Peristeri , 12132',\n",
       " ' C/ Príncipe de Vergara, 135, 28002 Madrid',\n",
       " ' P.O Box 6500, 6401 JH Heerlen',\n",
       " ' 1221  Brickell Avenue, Suite 900, FL-33131 Miami',\n",
       " ' Ermanno Palace, 27 Bd. Albert 1er, MC-98000 Monaco City',\n",
       " ' 125 Park Avenue, 25th Fl., 10017 New York',\n",
       " ' 1st Floor, Almack House26-28 King Street, SW1Y 6QW London',\n",
       " ' Waterside House35 North Wharf Road, W2 1NW London',\n",
       " ' Global House4 Temple Place, WC2R 2PG London',\n",
       " ' 9 Chiswick Park, 566 Chiswick High Road, W4 5XT London',\n",
       " ' No 3 Uxbridge Business ParkSanderson Road, UB8 1DH UXBRIDGE',\n",
       " ' 33 HolbornMail box 3/24, EC1N 2HT London',\n",
       " ' 27 Yehuda Halevi Street, 65546 Tel-Aviv',\n",
       " ' 452 5th Avenue12th Floor, NY 10018 New York',\n",
       " ' 5847 San Felipe, #930, TX 77057 Houston',\n",
       " ' Via Martiri di Cefalonia 67, 20097 Rome',\n",
       " ' Franz-Wolfram-Scherer-Strasse 24, 5101 Bergheim',\n",
       " ' Huband House, 16 Upper Mount Street, Dublin 2 Dublin',\n",
       " ' Stratton House\\n5 Stratton StreetStreet, W1J 8LA London',\n",
       " ' SESChâteau de Betzdorf, L-6815 Luxemburg',\n",
       " ' Tour Gallieni 2 – Accueil 11e étage\\n36 avenue du Général de Gaulle, 93175 Bagnolet',\n",
       " ' Beaufort CourtAdmirals Way, E14 9XL London',\n",
       " ' 40, rue de la Boëtie, 75008 Paris',\n",
       " ' Centre de Retours BP 801, 38297 Saint Quentin Fallavier',\n",
       " ' 85 Mesogeion str, 11526 Athens',\n",
       " ' Largo Jean Monnet 14, 1269 057 Lisbonne',\n",
       " ' Immeuble Ile de France115-123 avenue Charles de Gaulle, 92200 Neuilly Sur Seine',\n",
       " ' 888 Seventh Avenues, 10019 New York',\n",
       " ' 489-499 Avebury BoulevardSaxon Gate West, MK9 2NW CENTRAL MILTON KEYNES',\n",
       " ' 980 Great West Road, Middlesex TW8 9GS BRENTFORD',\n",
       " ' Kinnaird House1/4 Pall Mall East, SW1Y 5AU London',\n",
       " ' Knowle Hill Park,Fairmile LaneCobham, KT11 2PD Surrey',\n",
       " ' 3 rue Jean Monet, L-2180 Luxemburg',\n",
       " ' 3rd Floor10 Portman SquareMarylebone, WC1H 6AZ London',\n",
       " \" 1C, rue Gabiel LippmannParc d'activité Syrdall, 5365 Munsbach\",\n",
       " ' Tour Ariane5, place de la Pyramide, 92088 La Defense',\n",
       " ' 570 avenue du club hippiqueImmeuble le Derby, 13097 Aix En Provence',\n",
       " ' Chuerstrasse 82, 8808 Pfaeffikon',\n",
       " ' Aleksanterinkatu 19 A, 4th FloorPO Box 1081, FI-00101 Helsinki',\n",
       " ' Principe de Vergara, 156, 28002 Madrid',\n",
       " ' Schenkkade (laagbouw) 65, 2595 AS The Hague',\n",
       " ' 41 rue Jourdan1060 Saint Gilles, 1060 Brussels',\n",
       " ' 4th Floor, 117 Jermyn Street, SW1Y 6HH London',\n",
       " ' Neathouse PlaceVictoria, SW1V 1BH London',\n",
       " ' Lloyds Chambers, 5th Floor1 Portsoken Street, E1 8BT London',\n",
       " ' Broadwater Park - DenhamUB9 5HRUK, UB9 5HR Buckinghamshire',\n",
       " ' Commerce &amp; Finance BuildingKantariPO Box 113, 6243 Beyrouth',\n",
       " ' Luton AirportBedfordshire, LU2 9LS London',\n",
       " ' 15, rue pasteu, 92300 Levallois Peret',\n",
       " ' 10 New England Business Center DriveSuite 200, MA 01810 ANDOVER',\n",
       " ' Luise Benger Strasse 15, D-70329 Stuttgart',\n",
       " ' 5 Avenue Kléber, 75795 Paris',\n",
       " ' 29th Floor1 Adelaide Street East, ON M5C 2V9 Toronto',\n",
       " ' 200 Bay St N Tower, #1800, Toronto',\n",
       " ' 640 5th Avenue14th Floor, 10019 New York',\n",
       " ' 121 Avenue de la Faiencerie,, L-1511 Luxemburg',\n",
       " ' 225 S Lake Ave., Suite 400, 91101-3005 PASADENA',\n",
       " ' 885 Third Avenue34th Floor, NY 10022 New York',\n",
       " ' 26 rue de Louvigny, L-1946 Luxemburg',\n",
       " ' 1010 Washington Blvd., 6th Floor, CT06901 Stamford',\n",
       " ' Via Gramsci, 215, 13876 SANDIGLIANO (BI)',\n",
       " ' 780 3rd Avenue9th Floor, NY 10017 New York',\n",
       " ' 620 Eight Avenue, 10018 New York',\n",
       " ' 520 Madison Ave., 20th Fl., 10022 New York',\n",
       " ' 2-12 Holmenskanal, 1092 Copenhague',\n",
       " ' Hochstrass 43, 60313 Frankfurt am Main',\n",
       " ' Campus Bio-Ouest6 rue Alain-Bombard, 44821 Saint Herblain',\n",
       " ' rue du Lac Neuchatel 1053 les berges du Lac, . Tunis',\n",
       " ' 1 GROSVENOR PLACE - Third Floor, SW1X 7 JH London',\n",
       " ' Calle Barbara de Braganza 2Suite 2A, 28004 Madrid',\n",
       " ' Apac Fot - Parc des Affaires EDONIARue des iles des KerguelenCS 66835, 35768 Saint-Grégoire',\n",
       " ' 100 Liverpool Street, EC2M 2RH London',\n",
       " ' 40 Bank StreetCanary Wharf, E14 5 EJ London',\n",
       " ' 2 boulevard Royal, L-2983 Luxemburg',\n",
       " \" 26 Se'adia Ga'on Street, 67135 Tel-Aviv\",\n",
       " ' 32 Old Burlington Street2nd Floor, W1S 3AT London',\n",
       " ' 601 Lexington Ave, NY10022 New York',\n",
       " ' Diemermere 25,NL1112 TC Diemen,P.O.Box 12600, NL-1100 AP Amsterdam',\n",
       " ' 6TH FLOOR201 BISHOPSGATEEC2M 3NS, EC2M 3NS London',\n",
       " ' 46 avenue JF Kennedy, L-1855 Luxemburg',\n",
       " ' 161 Bay Street, Suite 3000P.O. Box 516, ON M5J 2S1 Toronto',\n",
       " ' 865 South Figueroa StreetSuite #1800, 90017 Los Angeles',\n",
       " ' One Churchill PlaceCanary Wharf, E14 5RD London',\n",
       " ' Paseo de la Castellana, nº 83-85 - Madrid11 floor, 28046 Madrid',\n",
       " ' Via de los Poblados, 3Complejo CristaliaEdificio 9, X Madrid',\n",
       " ' Torre Espacio Paseo de la Castellana, 259\\xa0 14 Floor, 28046 Madrid',\n",
       " ' Avda San Luis 77, 28033 Madrid',\n",
       " ' 157 rue Cents, L-1319 Luxemburg',\n",
       " ' Via P. Mantovani 1/8, 16149 GENOA',\n",
       " ' Langebrogade 1P.O box 17, 1001 Copenhague',\n",
       " ' 25, Ermou Str. - Nea Kifissia, GR 145 64',\n",
       " ' 57th klm National Road Athens - Lamia - Inofyta, 32011',\n",
       " ' Building K10, 51369 Leverkusen',\n",
       " ' Investor RelationsEnel S.p.A.Viale Regina Margherita,137, I - 00198 Rome',\n",
       " ' Via Sachetti, 20 - Sesto San Giovanni, 20099 Rome',\n",
       " ' 702 Southwest Eighth Street, 72716 Bentonville New York',\n",
       " ' 54 rue MartreBP 153, 92113 Clichy',\n",
       " ' 68 bis rue Marjolin, 92685 Levallois Peret',\n",
       " ' Av. Fontes Pereira de Melo, 40-9th floor, 1069-300 Lisbonne',\n",
       " ' C/Anabel Segura, 11. Edificio C, 28108 Madrid',\n",
       " ' Investor Relations Telenor Group, N-1331 Fornebu',\n",
       " ' VHH 11. floor P.O. Box 1849, D-38436 WOLKSBURG',\n",
       " ' 63 St Mary Axe, EC3A 8LE London',\n",
       " ' 2 &amp; A Half Devonshire Square, EC2M 4UJ London',\n",
       " ' Gebhardinaukio 1PO Box 308, FI-00013 Pohjola',\n",
       " ' Ultrechtseweg 44, 3704 HD Zeist',\n",
       " \" 11C rue des AulnesBP 10020, 69542 Champagne-Au-Mont-D'or\",\n",
       " ' One Strand 4th Floor, WC2N 5HR London',\n",
       " ' Johannes Vermeerstraat 14Postbus 1001, 1071 Amsterdam',\n",
       " ' 1 North Wacker Drive, Ste 3975, 60606-2848 Chicago',\n",
       " ' 300 S. Wacker Drive, Suite 1610, 60606 Chicago',\n",
       " ' 885, Third Avenue, 34th Fl., NY 10022 New York',\n",
       " ' 4 Floor, Lansdowne House 57 Berkeley Square, W1J 6ER London',\n",
       " ' 25 Hill Street, W1J LW London',\n",
       " ' 13 Berkeley Street, 6th FloorMayfair, W1J 8DU London',\n",
       " ' 100 Victoria Embankment, EC4Y London',\n",
       " ' Aviation Park West Bournemouth International AirportChristchurch, BH23 6EW DORSET',\n",
       " ' 6 Lloyds Avenue 3/F Telephone: +44 (0)20 3567 0980, EC3N 3AX London',\n",
       " ' Aleksanterinkatu 44, 6th floor, FI-00100 Helsinki',\n",
       " ' Inovallée 12 Chemin de Malacher, 38243 Meylan',\n",
       " ' mainBuildingTaunusanlage 18, D-60325 Frankfurt am Main',\n",
       " ' The British Land Company PLCYork House, 45 Seymour Street, W1H 7LX London',\n",
       " ' 51 Astor place, 10th floor, 10003 New York',\n",
       " ' 780 Third Avenue, 37th floor, 10017 New York',\n",
       " ' 530 Fifth Ave, 22nd Floor,, 10036 New York',\n",
       " ' 1 KNIGHTSBRIDGE GREEN9TH FLOOR, SW1X 7QA London',\n",
       " ' 8 Pollen StreetMayfair, W1S 1NG London',\n",
       " ' Devonshire HouseMayfair Place, W1J 8AJ London',\n",
       " ' 35 Dover Street4th Floor, W1S 4NQ London',\n",
       " ' SG House41 Tower Hill, EC3N 4SG London',\n",
       " ' Attention: Investor RelationsP.O. Box 8999, CA 94128-8999 San Francisco',\n",
       " ' 43/45 rue Taitbou, 75009 Paris',\n",
       " \" Tel Aviv - Yaffo, 26 Se'adya Ga'on PostalC/O Migdal Capital Markets (1965) Ltd, 67135 Tel-Aviv\",\n",
       " ' Le George V, 14 Av de Grande Bretagne, 98000 Monaco City',\n",
       " ' Bâtiment Adénine \\n60 avenue Rockefeller, 69008 Lyon',\n",
       " ' 6, The Court Holywell Business Park Northfield Road - Southam, CV47 0FS WARWICKSHIRE',\n",
       " ' 5th Floor, 85 Gresham Street, EC2V 7NQ London',\n",
       " ' Batiment E 80-84 rue des Meuniers, 92220 Bagneux',\n",
       " ' 88 Wood Street, EC2V 7RS London',\n",
       " ' 31-33 Avenue Pasteur, L-2311 Luxemburg',\n",
       " ' Levl 2 Colette House52/55 Picadilly, W1J ODX London',\n",
       " ' Washington Plaza – Immeuble Artois40-44, rue Washington, 75008 Paris',\n",
       " ' Per Henrik Lings Alle 28 Floor, 2100 Copenhague',\n",
       " ' 12 Nicholas lane 1st Floor, EC4N 7BN London',\n",
       " ' 11 place Rogier , B-1210 Brussels',\n",
       " ' Porkkalankatu 3P.O. Box 330, FI-00101 Helsinki',\n",
       " ' 345 Park avenue, 41st floor, New York New York',\n",
       " ' 200 South Wacker DriveSuite 500, IL 60606 Chicago',\n",
       " ' Zugspitzstrasse140, 86165 Augsburg',\n",
       " ' 1 Grosvenor Place, 8th floor, SW1X 7HJ London',\n",
       " ' 7th Floor1 Knightsbridge Green, SW1X 7QA London',\n",
       " ' Kungsgatan 5, 10399 Stockholm',\n",
       " ' Katarinavaegen 15, 11645 Stockholm',\n",
       " ' Sveavaegen 24-26 4tr, 11157 Stockholm',\n",
       " ' Regeringsgaten 65, 11156 Stockholm',\n",
       " ' 122 East 42nd Street, Suite 2500, NY  10168 New York',\n",
       " ' 222 North La Salle Street, 7th floor, IL 60601 Chicago',\n",
       " ' Seagram Building, 375 Park Ave #12, NY 10152 New York',\n",
       " ' xx, xx Bergkamen',\n",
       " ' Palais du Luxembourg15, rue de Vaugirard, 75006 Paris',\n",
       " ' 30, Boulevard Grande-Duchesse Charlotte, L-1330 Luxemburg',\n",
       " ' 111 BUCKINGHAM PALACE ROAD, SW1W OSR London',\n",
       " ' 1700 Broadway, 38th Floor, NY 10019 New York',\n",
       " ' SKF Group Headquarters, SE 415 50 Goeteborg',\n",
       " \" 32 Duke Street St James'sLondon SW1Y 6DF, SW1Y 6DF London\",\n",
       " ' 1 Place des degrès, 92059 Paris',\n",
       " \" Via de l'Annunciata 23/4, 20100 Milan\",\n",
       " ' 20 Victoria Street , SW1H ONB London',\n",
       " ' One Bowerman Drive - JM4, OR 97005 BEAVERTON',\n",
       " ' 1345 Sixth AvenueSecond Floor, 10105 New York',\n",
       " ' 60 rue de WattigniesBâtiment B, 75012 Paris',\n",
       " ' Harborside Financial Center - Plaza 4A(135 Greene Street), NJ 07311 Jersey City',\n",
       " ' Gate House, Turnpike Road,, HP12 3NR BUCKS',\n",
       " ' 529 5th Avenue and 44th Street Floor 8, 10017 New York',\n",
       " ' 505 FIFTH AVENUE,10TH FLOOR, NY 10017 New York',\n",
       " ' 1, rue du Potager, L-2347 Luxemburg',\n",
       " ' 9 Rue du DebarcadèreCPC 03A2, 93761 Pantin',\n",
       " ' EquinitiAspect HouseLancing, BN99 6DA London',\n",
       " ' 100 North Riverside, 60606 IL Chicago',\n",
       " ' 499 Park Avenue, 11th floor, 10022 New York',\n",
       " ' Palais du CommercePlace de la Bourse, 69002 Lyon',\n",
       " ' Verbier of Chemin des Vernes 2, 1936 VERBIER GENEVE',\n",
       " ' 15 AVENUE JF KENNEDY, 1855 Luxemburg',\n",
       " ' 10 King William Street3rd Floor, EC4N 7TW London',\n",
       " ' 180 North Stetson avenue, Suite 5500, IL 60601 Chicago',\n",
       " ' C/ Serrano, 30 2º D, 28001 Madrid',\n",
       " ' Via Poggiomoro, 1 – Vallina, 50012 BAGNO A RIPOLI',\n",
       " ' Breakspear Park Breakspear Way Hemel Hempstead, HP2 4TZ London',\n",
       " ' Regina-Portmann-Strasse 16, 48159 Muenster',\n",
       " \" Prinses Beatrixlaan 23 • 2595 AK 's Gravenhage - Postbus 30250, 2500 GG The Hague\",\n",
       " ' Champion Building30 Sheshet Hayamin Street, Bnei Brak, 18096 Tel-Aviv',\n",
       " ' Smedeland 36, 2600 Copenhague',\n",
       " ' 18 avenue de Matignon, 75008 Paris',\n",
       " ' 100 Throckmorton St. - Suite 550, TX76102 FORT WORTH',\n",
       " ' 1330 Avenue of The Americas - 26th Floor, NY 10019 New York',\n",
       " ' 350 Park Ave., 17th Fl., NY 10022 New York',\n",
       " ' 95 Wellington St., W., #802,, M5J 2N7 Toronto',\n",
       " ' Via Polenghi Lombardo13, 26900 Lodi',\n",
       " ' Drève Richelle 161 Bâtiment DWaterloo, 1410',\n",
       " ' Dronning Mauds gt. 3, PO BOX 1411 Oslo',\n",
       " ' Nyenburgh Holding BVVijzelstraat 20, 1017 Amsterdam',\n",
       " ' 33 Yonge Street, Ste. 830, M5E 1G4 Toronto',\n",
       " ' 181 Bay Street, Suite # 2450Bay Wellington Tower Toronto, M5J 2T3',\n",
       " ' 54 BAKER STREET 1st FLOOR WATSON HOUSE, W1U 7BU London',\n",
       " ' Via Balestra 22B, 6900 Lugano',\n",
       " ' 1 London Wall Place, EC2Y 7QA London',\n",
       " ' 10 -12 Avenue Pasteur, L-2310 Luxemburg',\n",
       " ' 1 KNIGHTSBRIDGE GREEN, SW1X7NE London',\n",
       " ' 55 BAKET STREET, W1U 8 EW London',\n",
       " ' Le Flavia9 rue des Bateaux-Lavoirs, 94868 Ivry-Sur-Seine',\n",
       " ' 701 Brickell Avenue, 9th Floor, 33131 Miami',\n",
       " ' One John Deere Place, 61265 MOLINE, ILLINOIS',\n",
       " ' 780 Third Avenue29 th floor, NY10017 New York',\n",
       " ' 375 Park AvenueSuite 3804, NY 10152 New York',\n",
       " ' Amazonvaegen, 405, 08 Goeteborg',\n",
       " ' Flat 1, 83a Bayham Street, NW1 0AG London',\n",
       " ' Institut de la Vision13 rue Moreau, 75012 Paris',\n",
       " ' Groupe de travail sur les commissions de courtag, 75001 Paris',\n",
       " ' 101 Park Ave., 48th Fl., NY 10178 New York',\n",
       " ' 4th FloorReading Bridge HouseGeorge Street, RG1 8LS London',\n",
       " ' 750 Third avenue, 9th floor, NY 10017 New York',\n",
       " \" George’s Quay Plaza1 George's Quay, 2 Dublin\",\n",
       " ' Suite 105?51 Holland Street, W87JB London',\n",
       " ' MillstreamMaidenhead RoadWindsor, SL45GD BERKSHIRE',\n",
       " ' Queen Anne DriveLochend Industrial EstateNewbridge, EH28 8PL MIDLOTHIAN',\n",
       " ' 32 Ludgate hill, EC4M7DR1BB London',\n",
       " ' 17, rue de la RépubliqueCS 30 128, 69214 Lyon',\n",
       " ' 230 Park Ave, 13th floor, 10169 New York',\n",
       " ' 1915 Rexford RoadCharlotete, 28211 New York',\n",
       " ' 53, Rue Gabriel LippmannNeuve, 6947 Niederanven',\n",
       " ' 2nd floor22 Conduit Street, W1S 2XR London',\n",
       " ' 800 BRICKELL AVENUESUITE 100, FL 33131 Miami',\n",
       " ' PLAZA SAN NICOLAS 4, 48005 Bilbao',\n",
       " ' 3rd Floor 40 Grosvenor Place, SW1X 7AW London',\n",
       " ' 2nd Floor, 50 Pall Mall, SW1Y 5JH London',\n",
       " ' 3rd floor4 Millbank, SW1P 3XR London',\n",
       " ' 262 rue des frères LumièreZI Toulon Est, 83130 La Garde',\n",
       " ' TG Complex, Suite 2, Level 3, Brewery Street, 1470 BIRKIRKARA',\n",
       " ' 4th Floor, 40 New Bond St,, W1S 2RX London',\n",
       " ' Tweede Weteringplantsoen 21PO box 28, 1017 ZD Amsterdam',\n",
       " ' River Court120 Fleet Street, EC4A 2BE London',\n",
       " ' 6 place de Chevelu , 1201 Geneve',\n",
       " ' 26 RUE LOUVIGNY, L-1946 Luxemburg',\n",
       " ' PL 308 FI-00013, . Pohjola',\n",
       " ' 14, rue MarignacPO Box 218, 1211 Geneve',\n",
       " ' PO BOX 1800, 1000  BV Amsterdam',\n",
       " ' Strada Della Croce 39Faetano, 47896 SAN MARINO',\n",
       " ' Campus Palmas AltasParcela ZE-3 (Palmas Altas), 41014 Sevilla',\n",
       " ' De Run 6501, 5504 Amsterdam',\n",
       " ' 10, rue Denfert Rochereau, 92100 Boston',\n",
       " ' 4th Floor, Foxglove house166 Piccadilly, W1J 9EF London',\n",
       " ' 25 GREAT PULTENEY STREET3RD FLOOR, W1F 9LT London',\n",
       " ' Commercial Court Vienna, 88+8+f Vienna',\n",
       " ' World of SportAdi-Dassler-Strasse 1, 91074 Herzogenaurach',\n",
       " ' Les jardins de la Duranne510 Rue René Descartes, 13857 Aix En Provence',\n",
       " ' Tammasaarenkatu 14th Floor, 00180 Helsinki',\n",
       " ' Adva Francesc Macià,60 planta 20, 08208 Barcelone',\n",
       " ' Pollen House10-12 Cork Street, W1S3NP London',\n",
       " ' 54 avenue de Montaigne, 75008 Paris',\n",
       " ' C/ Juan Hurtado de Mendoza15 Posterior, 28036 Madrid',\n",
       " ' Via Gonzaga 2, 20100 Milan',\n",
       " ' 8-10 rue Jean Monnet, L 2180 Luxemburg',\n",
       " ' 7 rue de la Chapelle, L-1325 Luxemburg',\n",
       " ' 225 west wacker streetSuite 2400, IL 60606 Chicago',\n",
       " ' Arteparc BachassonCS 70025, 13590 Meyreuil',\n",
       " ' 110 N. Wacker Dr, 27th Floor, Chicago IL 60606, US, 60606 Chicago',\n",
       " ' 1375 Kerns Road, suite 100, ON L7P 4V7 BURLINGTON',\n",
       " ' 1 Terrasse Bellini – Tour Initiale, 92919 La Defense',\n",
       " ' 505 SANSOME ST, STE 1950, CA  94111-3173 San Francisco',\n",
       " ' 16 Avenue Marie-Thérèse, L-2132 Luxemburg',\n",
       " ' Geberit International AGSchachenstr. 77, 8645 JONA',\n",
       " ' Henrik Ibsens gate 100PO Box 2911 Soli, 0255 Oslo',\n",
       " ' 1st Floor48 Dover Street, W1S4FF London',\n",
       " ' 499 Park Avenue, 21st floor, 10022 New York',\n",
       " ' Steinsdorfstrasse 13, D-80538 Muenchen',\n",
       " ' Hon Hai Precision Industry Co., Ltd.No.2, Zihyou St., Tucheng Dist., 236 NEW TAIPEI CITY',\n",
       " ' ONE NORTH JEFFERSON AVENUE, MO  63103 St. Louis',\n",
       " ' 1350 Avenue of the Americas, Suite 435, NY 10019 New York',\n",
       " ' Ruedenplatz 2Postfach 2701, CH-8022 Zuerich',\n",
       " ' 12-14 rue Belgrand, 92300 Levallois Peret',\n",
       " ' 9 Kiprou &amp; Idras avenue - Moshato, Athens',\n",
       " ' 11 Voukourestiou Street, 10671 Athens',\n",
       " ' 4 sloane Terrace, SWIX9DQ London',\n",
       " ' Praça Marquês de Pombal, 12, 1250-162 Lisbonne',\n",
       " ' 101 California Street Suite 3250, 94111 San Francisco',\n",
       " ' 6A, Circuit de la Foire Intl, L-1347 Luxemburg',\n",
       " ' James House, Level 2, SW1Y 6HD London',\n",
       " ' 7 Lil-Dagover-Ring 7, 82031 Gruenewald',\n",
       " ' 133 - 137 ALEXANDRA ROAD  CONNECT HOUSE - WIMBLEDON , SW19 7JY London',\n",
       " ' 28 Fitzwilliam Place, Hamilton House,  Dublin',\n",
       " ' 1 rue Pierre Fontaine - Genopole – Campus 3 / Batiment 2, 91058 Evry',\n",
       " ' 4 RUE DE LA GREVE , L - 1643 Luxemburg',\n",
       " \" 3 ST JAME'S SQUARE , SW1Y 4JU London\",\n",
       " ' planta 3  Paseo de la Castellana 257, 28046 Madrid',\n",
       " ' 5th Floor, 10 Old Burlington Street, W1S 3AG London',\n",
       " ' 40 (bte 11)  Rue Belliard ,  B-1040 Brussels',\n",
       " \" St James'S Street, 13th Floor Smithson Plaza, SW1A 1HA London\",\n",
       " ' 65 E 55th Street, 9th Floor, 10022 New York',\n",
       " ' 1 Place Pierre Potier - Oncopole, 31000 Toulouse',\n",
       " ' Tour Montparnasse 33 avenue du Maine, 75015 Paris',\n",
       " ' 1 Avenue St Rémy - Espace Pierrard - PO box80157, 57600 Forbach',\n",
       " \" 27 rue du Faubourg Saint-Jacques (pépinière d'entreprises Paris Santé, Cochin), 75014 Paris\",\n",
       " ' Suite 100 10830 Jasper Avenue, AB, T5J 2B3 Edmonton',\n",
       " ' 1 Newark Street, #25, NJ 07030 Hoboken',\n",
       " ' 8 Sound Shore Drive, 3rd Floor, CT 06830 Greenwich',\n",
       " ' 101 Federal Street, Suite 1900, MA 02110 Boston',\n",
       " ' Avenida diagonal 413 2-1, 08008 Barcelone',\n",
       " ' 25 Hanover Square 2nd and 6th floor, W1S 1JF London',\n",
       " ' 888 7th Avenue, 23rd Floor, NY 1009 New York',\n",
       " ' 325 John H. McConnell Blvd, Suite 200 , 43215',\n",
       " ' 60 East 42nd Street, Suite 960 , NY 10165 New York',\n",
       " ' 41-47 Bld Marcel Sembat, 69200 Venissieux',\n",
       " ' 1 avenue Saint-Rémy - Espace Pierrard, 57600 Forbach',\n",
       " ' The Exchange ,George’s Dock, D01 P2V6 Dublin',\n",
       " ' 25 Price Street, M4W 1Z1 Toronto',\n",
       " ' 10 STADIOU STREET, 105 64 Athens',\n",
       " ' One Cavendish Pl., , W1G 0QF London',\n",
       " ' 455 N. Cityfront Plaza Drive, Suite 1710, IL 60611 Chicago',\n",
       " ' 900 boul. de Maisonneuve Ouest, Suite 1900, H3A 0A8 Montreal',\n",
       " ' C/ Santa Sabina, 8 - 1ª Planta,',\n",
       " ' 405 Lexington Avenue, Suite 3401, NY 10174 New York',\n",
       " ' 65 East 55th Street, 35 Floor, NY 10022 New York',\n",
       " ' Genopole - Campus 1, 5, rue Henri Desbruères, 91000 Evry',\n",
       " ' C/ José Miguel Iturrioz, 26, 20200',\n",
       " ' Paseo del tren Talgo, 2 - Las Matas, 28290  Madrid',\n",
       " ' 32 Boulevard Royal, L-2449 Luxemburg',\n",
       " ' Calle Rafael Calvo 39, 28010 Madrid',\n",
       " ' AV. JOAO CRISOSTOMO 30 6-ESQ, 1050-127 Lisbonne',\n",
       " ' 250 VESEY STREET 15th Floor , 10281 New York',\n",
       " ' 309 W 49th St Worldwide Plaza , 10019 New York',\n",
       " ' R ALEXANDRE HERCULANO 38, Santo António , PT-11 1269 - 180 Lisbonne',\n",
       " \" 5 Upper St. Martin'S Lane - Orion House, WC2H 9EA London\",\n",
       " ' REX HOUSE, St James, SWIY 4PE London',\n",
       " ' 5 Place Ville Marie, Suite 1100 PO Box 11002, H3C 4T2 Montreal',\n",
       " ' 120 Fifth Avenue, 11th Floor, NY 10011 New York',\n",
       " ' 25 Old Broad Street, Level 33 Tower 42, EC2N 1HQ London',\n",
       " ' SALESFORCE TOWER, 110 BISHOPSGATE, Suite 17.09,, EC2N 4AY London',\n",
       " ' Nieuwezijds Voorburg, 1000 AS Amsterdam',\n",
       " ' 520 madison avenue, floor 21, 10022 New York',\n",
       " ' 520 Madison Ave  41st Floor, NY 10022 New York',\n",
       " ' Bld de la Woluwe 58 Woluwedal B, 1200 Brussel',\n",
       " \" Whitaker Court 3rd Floor, Block C 28-29 Sir John Rogerson's Quay, Dublin 2 Dublin\",\n",
       " ' 4 Carlton Gardens , SW1Y 5AB London',\n",
       " ' 32133 LINDERO CANYON ROAD, Suite 208, CA 91361 WESTLAKE VILLAGE',\n",
       " ' APIANSTRABE 5, 85774 Unterfoehring',\n",
       " ' 25188 Genesee Trail Rd, #250, CO 80401-7587 GOLDEN',\n",
       " ' 499 Park Avenue ,20th Floor, 10022 New York',\n",
       " ' Av 24 de Julho 74-76, 200-869 Lisbonne',\n",
       " ' 4, Amerikis St.10 564  Athens, 10564 Athens',\n",
       " ' 23rd km. Athens - Lamia, GR 145 65 Athens',\n",
       " ' 600 Third Avenue, 26th Floor, NY 10016 New York',\n",
       " ' 75 Park Plz (2nd floor), MA02116 Boston',\n",
       " ' 58 rue de la Boétie, 75008 Paris',\n",
       " ' 139 Fountainbridge Edinburgh Quay 2, 5th floor, EH3 9QG Edimbourg',\n",
       " ' Muntcentrum 1, B-1000 Brussel',\n",
       " ' ITO Tower, 21st floo,  Amsterdam',\n",
       " \" 2046 Boulevard de la Defense - L'Origine Building, 92000\",\n",
       " ' 1114 Ave of the Americas, 22nd floor, 10036 New York',\n",
       " ' 888 Boylston Street, Suite 1420 Boston , 02199',\n",
       " ' Cowick HallSnaith, Goole, DN149AA London',\n",
       " ' LEVEL 122 BLIGH STREET, NSW 2000 Sydney',\n",
       " ' Av. De Europa, 18Parque Empresarial La Moraleja, 28108 Madrid',\n",
       " ' C/ Federico Salmón, 13 - 2 Floor, 28016 Madrid',\n",
       " ' Quindell Court1 Barnes Wallis RoadSegensworth East, Fareham, PO15 5UA Hampshire',\n",
       " ' 38th Floor, Tower 2, Times Square1 Matheson Street, Causeway Bay Hong Kong',\n",
       " ' Råsundavaegen 2, SE269 83 Solna',\n",
       " ' 1400-130  King Street West, M5X 1C8  Toronto',\n",
       " ' 52 MENACHEM BEGIN RD,  Tel-Aviv',\n",
       " ' 411 W Putnam Ave Suite 225, CT 06830 Greenwich',\n",
       " ' 5 Greenwich View Place Millharbour, E14 9NN London',\n",
       " ' 4 Landmark Square, Suite 301, CT 06901 Stamford',\n",
       " ' 179 Marina Street  Skyway Offices Block C Office 1 , PTA9042 PIETA',\n",
       " ' 5500 Meadows Road, Suite 200 – Lake Oswego,, OR 97035',\n",
       " ' ERIKA-MANN ST 69, D-80636 Muenchen',\n",
       " ' PODIUM 9 - 3826 AMERSFOORT, 3826 Amsterdam',\n",
       " ' 8 RUE DE VIDAILHAN HILLS PLAZA BAT B 1er étage, 31130 Balma',\n",
       " ' 10953 Arbor View Blvd, FL 32825 Orlando',\n",
       " ' 11 RUE CAMBRAI&#x0D;\\nBATIMENT 28&#x0D;\\nPARC DE FLANDRE LE BEAUVAISIS, 75019 Paris',\n",
       " ' Forum 2 Archamps Technopole 218 avenue Marie Curie, 74166 Saint-Julien-En-Genevois',\n",
       " ' 82 DEVONSHIRE STREET F3B, MA 2109 Boston',\n",
       " ' 82 DEVONSHIRE STREET F3B , MA 02109 Boston',\n",
       " ' Industrielaan 27 bus 6, 9320 Erembodegem',\n",
       " ' 30 Gresham Street Lodon &#x0D;\\nEC2V 7 PG 1st Floor, East Wing, EC2V London',\n",
       " ' Via Trieste, 76, 48122 Ravenna RA, Italy, 0 Ravenna',\n",
       " \" Corso d'Italia, 6, 00198 Roma RM, Italy, 198 Rome\",\n",
       " ' Via A. di Tocqueville, 13 - 20154 Milano, 0 Rome',\n",
       " ' Kungstraedgårdsgatan 10, Stockholm, 123 Stockholm',\n",
       " ' Pier 1, Bay 1, 94111 San Francisco',\n",
       " ' Ferdinadstrasse 12, 20095 Hamburg',\n",
       " ' via Clemente Maraini 39, 6902 MUGANO',\n",
       " ' 2 place aux Étoiles - CS 70001, 93633 St Denis',\n",
       " ' Sint-Jorisstraat 6, 8500 KortrijkST-JORISSTRAAT 6, 8500 Kortrijk',\n",
       " ' Minster House 272-274 Vauxhall Bridge Road, SW1V 1BB London',\n",
       " ' 2300 Yonge Street, Suite 1820Box 2392, M4P 1E4 Toronto',\n",
       " ' Immeuble Le Cézanne30 avenue des Fruitiers, 93200 Saint-Denis',\n",
       " ' Hovedvejen2, 2600 GLOSTRUP',\n",
       " ' Flat 322 Hatherley Grove, W2 5RB London',\n",
       " ' Devonshire House, 7th FloorMayfair Place, W1J 8AJ London',\n",
       " ' 2, Boulevard de la Foire&#x0D;\\nL-1528 LUXEMBOURG, 1528 Luxemburg',\n",
       " ' 500 West Putnam Avenue, 4th Floor, 06830-6086',\n",
       " ' 15 Peter-Behrends-Str., 12459 Berlin',\n",
       " ' 24 th Valle Ercilla&#x0D;\\n, 48011 Bilbao',\n",
       " ' 23 St Andrew Square, EH2 1BB London',\n",
       " ' NDSM-straat10&#x0D;\\n1033 SB&#x0D;\\nAmsterdam, 1033 Amsterdam',\n",
       " ' 1155 Battery Street&#x0D;\\nSan Francisco, CA 94111&#x0D;\\nUSA, 94111 New York',\n",
       " ' 3 Park Avenue,\\n37th Floor, NY 10016',\n",
       " ' One Liberty Sq., 11th Fl., 02109 Boston',\n",
       " ' 315 Madison Ave., 3rd Fl., 10017 New York',\n",
       " ' 300 Atlantic St., Suite 600, 06901 Stamford',\n",
       " ' 1301 Shoreway Rd\\nSuite 350, CA 94002',\n",
       " ' Avda de la Generalitat 152-158\\nParc Empresarial Can Sant Joan, 08174',\n",
       " ' Paseo de la Castellana 42&#x0D;\\n28046 Madrid, 28046 Madrid',\n",
       " ' PO Box&#x0D;\\nCH 8058 Zuerich Airport, 8058',\n",
       " ' 23 Shelbourne \\nRoad Ballsbridge, Dublin 4 Dublin',\n",
       " ' Ratio 6, 6921 RW Duiven, 6921 Amsterdam',\n",
       " ' 800 Boylston Street\\n15th Floor suite 1520, MA 02199',\n",
       " ' 150 E 52nd St, 22nd Floor, 10022',\n",
       " ' Ueberseering 10&#x0D;\\n22297 Hamburg, 22297',\n",
       " ' 15 ST BOTOLPH STREET BEAUFORT HOUSE , EC3A 7QX London',\n",
       " ' 600 Madison Ave., \\n#2101, 10022 New York',\n",
       " ' 60 ROUTE DES ACACIAS  - GENEVE 73, 1211 Geneve',\n",
       " ' 4, rue Peternelchen, L-2370 HOWALD',\n",
       " ' Praha 4, Czech Republic, 14053 Paris',\n",
       " ' 11-13  rue René Jacques - Immeuble Vivaldi, 92130 Issy Les Moulineaux',\n",
       " ' 257 PARK AVENUE SOUTH  15th FLOOR , 10010 New York',\n",
       " ' 1633 Broadway&#x0D;\\nNew York, NY 10019, 10019 New York',\n",
       " ' 5/3  MERCHANTS STREET , VLT1171',\n",
       " ' 26 Rue Benoît Bennier&#x0D;\\n&#x0D;\\n69260 Charbonnières-les-Bains, 69260 Lyon',\n",
       " ' 200 Greenwich Ave.,\\n3rd Fl., CT 06830 Greenwich',\n",
       " ' 12, rue Eugène Ruppert, L-2453 Luxemburg',\n",
       " ' 8 ABBA EVEN BLVD  PO BOX 2181 ENTRANCE HERZELIYA, 46733',\n",
       " ' 12TH FLOOR 5 ALDERMANBURY SQUARE, EC2V 7HR London',\n",
       " ' One New York Plazza, 10004 New York',\n",
       " ' 6th Floor34 Dover Street, W1S 4NG London',\n",
       " ' PALAIS SAINT JAMES5 AVENUE PRINCESSE ALICE, 98000 Monaco City',\n",
       " ' 10100 W CHARLESTON AVENUESUITE  214, 89135 LAS VEGAS NV',\n",
       " ' Calle Ramirez de Arellano Planta 6, 28043 Madrid',\n",
       " ' 6A rue Gabriel Lippmann, L-5365 Munsbach',\n",
       " ' John Hancock Tower, 200 Clarendon Street,14th Floor  Boston, MA 02116 Boston',\n",
       " ' AV ATAULFO DE PAIVA 1235ANDAR 6 E 7 PARTE, 22.440-034 Rio De Janeiro Rj',\n",
       " ' 1825 NW CORPORATE BLVD\\nSUITE 100, FL 33431 BOCA RATON',\n",
       " ' route de Lavaux 36, 1095 Lutry, 1095 Lutry',\n",
       " ' 666 Fifth Avenue,\\n8th Floor, NY 10103-0001 New York',\n",
       " ' 275 Grove Street,\\nSuite 2-130, MA 02466',\n",
       " ' 53/55 avenue de iena\\n, 75016 Paris',\n",
       " ' 33 Cavendish Square, W1G 0PS London',\n",
       " ' PO Box 309 - Ugland House, KY1-1104 George Town',\n",
       " ' 1 B Heienhaff Grossherzogtum Luxemburg, 1736 Senningerberg',\n",
       " ' 31 Place des Corolles Esplanade Nord, 92400 Courbevoie',\n",
       " ' 75 Rockefeller Plaza, 21st Floor, Suite A, NY 10111 New York',\n",
       " ' Rubinstein House 37 Menachem Begin Road, 65220 Tel-Aviv',\n",
       " ' 2, London Wall Buildings, EC2M 5PP London',\n",
       " ' Level 22   Heron Tower110 Bishopsgate, EC2N 4AY London',\n",
       " ' CAPITAL VENTURES INTL C/O HEIGHTS CAP MGT101 CALIFORNIA STREET , SUITE 3250, CA 94111 San Francisco',\n",
       " ' PO Box 564Bellerivestrasse 45, ch-8008 Zuerich',\n",
       " ' Lissin 27,  Tel-Aviv',\n",
       " ' 18 Henrietta Street\\n4th Floor, WC2E 8QH London',\n",
       " ' 205 East 42nd Street, 20th Floor, NY 10017 New York',\n",
       " ' 1 via M. Civitali, 20148 Milan',\n",
       " ' 1 Boulevard Royal, L-2449 Luxemburg',\n",
       " ' 94-96 avenu Ledru Rollin, 75011 Paris',\n",
       " ' 7, rue Loch, 29555 Brest',\n",
       " ' 55 Baker Street, WU 8EW London',\n",
       " ' Kolonienstrasse 11, B-1000 Brussel',\n",
       " ' GB Pirelli 19, 20124 Milan',\n",
       " ' 88 Wood St. 8th FI, EC2V 7QR London',\n",
       " \" rue d'EpagnacBP 21, 16800 Soyaux\",\n",
       " ' 6th Floor, Portsoken House155-157 Minories, EC3N 1LS London',\n",
       " \" 14 Ahad Ah'am St, 65142 Tel-Aviv\",\n",
       " ' Entenza 325-335, 08029 Barcelone',\n",
       " ' 3rd floor111 Buckingham Palace Road, SW1W 0SR London',\n",
       " ' Moore House120 London Wall, EC2Y SET London',\n",
       " ' 545 Fifth Avenue, 12th Floor, NY 10017 New York',\n",
       " ' 250 W., 55th St., 33rd Fl, 10019 New York',\n",
       " ' 650 Madison Ave 18th FI, 10022 New York',\n",
       " ' 530 Fifth Avenue 25 th Floor, 10036 New York',\n",
       " \" 20 rue de l'Arc de Triomphe&#x0D;\\n75017 Paris, 75017 Paris\",\n",
       " ' Lyford Cay House5th FloorWest Bay Street, N-7529',\n",
       " ' ONE SOUND SHORE DRIVE-SUIT 101, 06830 Greenwich',\n",
       " ' 6-8 AHUZAT BAYIT STREET, 65143 Tel-Aviv',\n",
       " ' 1 PASSERELLE DES REFLETSLA DEFENSE 2, 92913 La Defense',\n",
       " ' 16, rue Jean-Pierre Brasseur, L-1258 Luxemburg',\n",
       " ' 120 Chaussée de la Hulpe, B-1000 Brussel',\n",
       " ' Kanavaranta 1   00101 Helsinki, Finland  , 00101 Helsinki',\n",
       " ' 777 BRICKELL AVE.\\nSUITE 1010, FL 33131 Miami',\n",
       " ' The Broadgate Tower Level 20 20 Primrose Stree, EC2A 2EW London',\n",
       " ' 97 Uisadang St.(26-4 Yeouido-Dong)\\nYeongdeungpo-Gu, 07327 Seoul',\n",
       " ' c/Don Ramon de la Crue 23Entreplanta interior, 28006 Madrid',\n",
       " ' 111 Town Square Place, NJ07310 Jersey City',\n",
       " ' 640 5th Avenue19th Floor, NY 10019 New York',\n",
       " ' 72 Cummings Point Road, CT06902 Stamford',\n",
       " ' One Federal St., 28th Fl,, 02110 Boston',\n",
       " ' 27a Deggendorfer Strasse, 94559 Niederwinkling',\n",
       " ' 94 RUE DU KIEM, L-1857 Luxemburg',\n",
       " ' AV DA REPUBLICA N25 5B, 1050-186 Lisbonne',\n",
       " ' 3rd Floor,\\nNew Liverpool House\\n15 Eldon Street, EC2M 7LD London',\n",
       " ' Minholzweg 2 B, 61476 Kronberg',\n",
       " ' Koenigsalee 14, 40212 Duesseldorf',\n",
       " ' Ostendsrtasse 100, 90334 Nuremberg',\n",
       " ' Suite 13\\nVicarage House\\nKensington Church St, W8 4DB London',\n",
       " ' Bld Louis Schmidt 87 Bte 3, 1040 Brussels',\n",
       " ' 23 Fitzwilliam Place\\nGrand Canal Dock,  Dublin',\n",
       " ' 207 REGENT STREET \\n3RD FLOOR, W1B 3HH London',\n",
       " ' 40 KING  ST W, ON M5H 1 H1',\n",
       " ' Via Peri 9a, 6900 Lugano',\n",
       " ' Via Balestra 15a, 6900 Lugano',\n",
       " ' 90 Park Ave, FI 5, 10016 New York',\n",
       " ' One Beacon Street30th Floor, 02108 Boston',\n",
       " ' 171  bis chemin de la Madrague, 13002 Marseille',\n",
       " ' C/O Neighborhood  64 avenue Pierre Grenier, 92100 Boulogne-Billancourt',\n",
       " ' 250 W 55th Street, Fl 32, NY 10019 New York',\n",
       " ' 9 BOULEVARD PRINCE HENRI, L-1724 Luxemburg',\n",
       " ' 2000 McKinney Avenue, Suite 2125 , TX 75201 Dallas',\n",
       " ' BP L3 10, avenue du Maréchal Foch Nouméa Cedex, 98849 Nouméa',\n",
       " \" 455 PRO DES ANGLAIS L'ARENAS, 06200 Nice\",\n",
       " ' One International Place, Suite #3510, MA 02110 Boston',\n",
       " ' 17 RUE P ET D PONCHARDIER ESPACE FAURIEL BP 147, 42012 Saint-Étienne',\n",
       " ' 187 QUAI D ORIENT BP 188, 34203 Sète',\n",
       " ' 5 PL DE LA PYRAMIDE TOUR ARIANE LA DEFENSE, 92800 Puteaux',\n",
       " ' 135 PONT DES FLANDRES, 59350 Lille',\n",
       " ' 1 AV DU RHIN, 67100 Strasbourg',\n",
       " ' 10 AV JAMES CLERCK MAXWELL, 31100 Toulouse',\n",
       " ' 2 PL GRASLIN CS 10305, 44003 Nantes',\n",
       " ' 1111 Brickell Ave, Suite 1525, FL 33131 Miami',\n",
       " ' PL ESTRANGIN PASTRE BP 108, 13254 Marseille',\n",
       " ' 23 rue du commandant mouchotte, 94160 Saint-Mande',\n",
       " ' 9 West 57th Street, 36th Floor, 10019 New York',\n",
       " ' 5  APPOLD STREET - BROADWALK HOUSE, EC2A 2AG London',\n",
       " ' 8 allée Irène Joliot Curie ParcTechnologique de Lyon, 69800 Lyon Saint-Priest',\n",
       " ' HQ 155-157 cours Berriat, 38028 Grenoble',\n",
       " ' 250 W55 STREET  30TH FLOOR  NY , 10019 New York',\n",
       " ' Calle Prof Waksman 14 bis, 28036 Madrid',\n",
       " ' 33 avenue du Maine  - Tour Maine Montparnasse, 75015 Paris',\n",
       " ' 6 Northbrook Road, Ranelagh, D06 PH32 Dublin',\n",
       " ' 12 Kwinkweerd, 7241 Lochum',\n",
       " ' 787 Seventh Avenue, 11th Floor, NY 10019 New York',\n",
       " ' 280 Park Avenue, 5th Floor , NY 10017 New York',\n",
       " ' 767 fifth avenue, 49th floor, NY 10153 New York',\n",
       " ' 712 fifth avenue, 49th floor, NY 10019 New York',\n",
       " ' 515 Madison Avenue, 20th Floor, 10022 New York',\n",
       " ' N.V. Oosterdoksstraat 801011 DK, 1011 Amsterdam',\n",
       " ' C/O MFD Secreraties Limited - 32 Molesworth Street, D02 Y512 Dublin',\n",
       " ' 1000 Place Jean-Paul Riopelle, Suite E-400, QC H2Z 2B6 Montreal',\n",
       " ' 11 Hill Street, W1J 5LK  London',\n",
       " ' 5 PL DE LA PYRAMIDE, TOUR ARIANE LA DEFENSE 9, 92800 Puteaux',\n",
       " ' 3rd Floor, Becket House, 36 Old Jewry, EC2R 8DD London',\n",
       " ' 9th Floor Devonshire House - 1 Mayfair Place, W1J 8AJ London',\n",
       " ' 350 Park Avenue, Suite 1304, NY 10022 New York',\n",
       " ' Calle Bolsa n4 1era Planta, 29015 Malaga',\n",
       " ' 60 Petty France London SW1H 9EU&#x0D;\\n , SW1H London',\n",
       " ' 600 BRICKELL AVENUE SUITE 1550, FL 33131 Miami',\n",
       " ' 13 BERKELEY STREET SIXTH FLOOR, W1J8DU London',\n",
       " \" 23 KING STREET,ST JAME'S, SW1Y 6QY London\",\n",
       " ' Jacob Bontiusplaats 9INIT Building, 1018 LL Amsterdam',\n",
       " ' DIFC/ 502 North, Emiratss Financial Tower,  Dubaï',\n",
       " ' Rambla de Catalunya, 38 9a/1a place, 08807 Barcelone',\n",
       " ' 35 Ballards Lane, LND N3 1XW London',\n",
       " ' 60 South Street, Suite 1100, MA 02111 Boston',\n",
       " ' Via Polenghi Lombardo 13\\nCentro Polifunzionale, 26900 Lodi',\n",
       " ' 257 Fillmore St, Suite 200, CO 80206 Denver',\n",
       " ' Piaza Dante 7, 6900 Lugano',\n",
       " ' 12F Samsung Engineering Tower 39, Eongu-ro 30-gil, Gangnam-gu, 06292 Seoul',\n",
       " ' 139 RUE DE BERCY - BATIMENT COLBERT, 75572 Paris',\n",
       " ' 1501, McGill College Avenue Bureau 2220, H3A 3M8 Montreal',\n",
       " ' 14 RUE SCANDICCI TOUR ESSOR, 93500 Pantin',\n",
       " ' Immeuble les centuries 2 101 place Pierre Duhem , 34000 Montpellier',\n",
       " ' 77 King Street West, 35 Floor, ON M5K 1BZ',\n",
       " ' Largo Do Calhariz No 30, 1249-001 Lisbonne',\n",
       " ' 100 Adelaide Street W, Suite #2100, M5H 1S3 Toronto',\n",
       " ' rua de meladas, n°380 PO BOX 20 4536-902 MOZELOS , 4536 Moze-Sur-Louet',\n",
       " ' Ropemaker Place\\n28 Ropemaker Street, EC2Y 9HD London',\n",
       " ' 99 BANK STREET  # 919 , ON K1P 6B9 OTTAWA',\n",
       " ' Suite 51, One St Colme Street, EH3 6AA Edimbourg',\n",
       " ' 8 Boulevard des Moulins, 98000 Monaco City',\n",
       " ' ul. Marszalkowska 142, 00-061 Warsaw',\n",
       " ' One  Queen Street East, Suite 2500, M5C 2W5 Toronto',\n",
       " ' 76 BELMONT STREET  ON M5R 1P8,  Toronto',\n",
       " ' 8th Floor 111 Piccadilly, M1 2HY Manchester',\n",
       " \" 3rd Floor 11-12 St. James's Square, SW1Y 4LB London\",\n",
       " ' WERTPAPIERHANDELSBANK  SCHILLERSTRASSE 12 , 60313 Frankfurt am Main',\n",
       " ' 33 BOULVEVARD BISCHOFFSHEIM, 1000 Brussels',\n",
       " ' 35 Picadilly Mayfair, W1J 0DW London',\n",
       " ' 850 Third Avenue,\\n13th Floor, NY 10022 New York',\n",
       " ' VIA TAETINA 1, 50123 Florence',\n",
       " ' 452 5th Ave., 14th Floor, 10018 New York',\n",
       " ' 510 Madison Avenue; 22nd Floor , NY 10022 New York',\n",
       " ' 61 Broadway, Suite 2858 , 10006 New York',\n",
       " ' 2 Conduit Street \\n5th Floor, W1S 2XB London',\n",
       " ' 250 W 55th St 34th Floor, 10019 New York',\n",
       " ' ONE CHURCHILL PLACE -  CANARY WHAR, E14 5RD London',\n",
       " ' Chytron 30 office 31 Nicosia, 1075',\n",
       " ' 1185 Avenue of the Americas, 2nd Floor, NY 10036 New York',\n",
       " ' New Wing, Somerset House, WC2R 1LA London',\n",
       " ' 598 Madison avenue, 9th floor, NY 10022 New York',\n",
       " ' 28 STATE STREET, 23rd Floor, MA 02109 Boston',\n",
       " ' Calle Sena, 12 Nucleo Ata Planta Sant Cugat Del Valles , 08174 Barcelone',\n",
       " ' 330 MADISON AVENUE Floor 22, 10017 New York',\n",
       " ' WOLGANG  PAULI STRASSE 1, 2700 WIENER NEUSTADT',\n",
       " ' 53 State Street\\n29th floor, MA 02109 Boston',\n",
       " ' Baumstrasse 25&#x0D;\\n45128 Essen, 45128 Essen',\n",
       " ' 510 Laguardia Place\\n5th floor, NY 10012 New York',\n",
       " ' 23 SAVILLE ROW  2nd  Floor , W1S2ET London',\n",
       " ' 433 W Van Buren Street, Floor 11N, Pony Express Suite C, IL 60611 Chicago',\n",
       " ' 737 North Michigan Avenue\\nSuite 1405, IL 60611 Chicago',\n",
       " ' 4 rue Jean Monnet, L-2180 Luxemburg',\n",
       " ' 100 KING STREET WEST 43rd FLOOR , ON M5X 1H3 Toronto',\n",
       " ' Lei 19 - bus 2, B-3000 Leuven',\n",
       " ' \"Le Président\" 37 A, avenue JF Kennedy, L-1855 Luxemburg | \"Le Président\"37 A, avenue JF Kennedy, L-1855 Luxemburg',\n",
       " ' Nations House103 Wigmore Street  , W1U 1QS London',\n",
       " ' 24, avenue Aristide Briand, 92188 Antony',\n",
       " ' 8-10, rue Jean Monnet, L-2180 Luxemburg',\n",
       " ' ZIE RUE DU DUREMONT, 59960 Neuville En Ferrain',\n",
       " ' 18, rue des frères Eberts, 67 024 Strasbourg',\n",
       " ' 17-21, rue de la Nuée-Bleue, 67077 Strasbourg',\n",
       " ' 7-9, rue Auguste-Maquet, 75016 Paris | 7-9, rue Auguste-Maquet, 75016 Paris',\n",
       " ' 63, rue Pierre Charron, 75008 Paris | 63, rue Pierre Charron, 75008 Paris',\n",
       " ' 1, place de la PyramideTour Atlantique, 92911 La Defense | 1, place de la Pyramide Tour Atlantique, 92911 La Defense',\n",
       " \" Parc d'activités Gustave Eiffel22, avenue de l'Europe - Bussy-St-Georges, 77607 Marne-La-Vallée | Parc d'activités Gustave Eiffel 22, avenue de l'Europe - Bussy-St-Georges, 77607 Marne-La-Vallée\",\n",
       " ' La Commanderie33, traverse de la Martine     BP 108, 13425 Marseille | La Commanderie 33, traverse de la Martine     BP 108, 13425 Marseille',\n",
       " ' Schwartzstrasse 17, A-5020 Salzburg',\n",
       " ' Plaza Manuel Gomez Moreno, 2  , 28020 Madrid',\n",
       " ' Via de los Poblados, s/n 3rd Floor , 28033 Madrid',\n",
       " ' Parkveien 55, 256 Oslo',\n",
       " ' Barbara Strozzilaan 310Postbus 75047 , 1083 HN Amsterdam',\n",
       " ' Weteringschans 109 , 1017 SB Amsterdam | Heerengracht 466, 1017 CA Amsterdam',\n",
       " ' 7 place du Chancelier Adenauer CS 31622, 75772 Paris',\n",
       " \" Leonardo da Vinciplain 60 Paostbus 1021 , 5200 HC 's Hertogenbosch\",\n",
       " ' One Queen St., E., #2700, ON M5C 2W5 Toronto',\n",
       " ' Seidengasse 15, CH-8021 Zuerich | Seidengasse 15Postfach 2724, CH-8021 Zuerich',\n",
       " ' Quai de la poste 12 , P.O. Box 1211 Geneve',\n",
       " ' Rue Muzy 8 , 1207 Geneve | Rue Muzy 8, 1207 Geneve',\n",
       " ' 100,rue Petit, 75019 Paris | 100,rue Petit, 75019 Paris',\n",
       " ' 25,rue Louis Legrand, 75002 Paris',\n",
       " ' B.P. 0727, 53007 Laval',\n",
       " \" B.P.7Route de la Roche-sur-Yon, 85260 L'herbergement | B.P.7 Route de la Roche-sur-Yon, 85260 L'herbergement\",\n",
       " ' 16, Avenue Henri FrévilleCS98101, 35081 Rennes | 16, Avenue Henri Fréville CS98101, 35081 Rennes',\n",
       " ' I, Les Cabannes Nord, 33330 Saint-Emilion',\n",
       " \" 4, Avenue de l'AtlantiqueParc d'activités des Ulis, 91955 Courtaboeuf | 4, Avenue de l'Atlantique Parc d'activités des Ulis, 91955 Courtaboeuf\",\n",
       " ' Tour Initiale 1, Terrasse Bellini - TSA 41000, 92919 La Defense',\n",
       " ' 38 rue Saint Ferdinand, 75017 Paris | 38 rue Saint Ferdinand, 75017 Paris',\n",
       " ' 110 Avenue de la Jallère - Quartier du Lac, 33042 Bordeaux',\n",
       " ' 80-82 quai Michelet, 92532 Levallois Peret',\n",
       " \" 14 rue de l'Ancienne Comédie, 75006 Paris | 14 rue de l'Ancienne Comédie, 75006 Paris\",\n",
       " ' 57 bis rue de Tocqueville, 75017 Paris | 57 bis rue de Tocqueville, 75017 Paris',\n",
       " ' In Gassen 6\\n  , 8001 Zuerich | Paulusgasse 12, 4051 Basel',\n",
       " ' 13-15 Moorgate  , EC2R 6AD London | 13-15 Moorgate, EC2R 6AD London',\n",
       " ' P.O Box 27965, Safat, 13140 Kuwait City',\n",
       " ' P.O. Box 20607 Safat, 13067 Kuwait City',\n",
       " ' P.O. Box 29233 Safat, 13153 Kuwait City',\n",
       " ' PO-BOX 1777 Vika, N-0122 Oslo',\n",
       " ' P.O. BOX 500239, . Dubaï',\n",
       " ' 195 rue LavoisierZIRST - BP 1, 38330 Paris | 195 rue Lavoisier ZIRST - BP 1, 38330 Montbonnot-Saint-Martin',\n",
       " ' 29/31 rue Saint Augustin, 75002 Paris | 29/31 rue Saint Augustin, 75002 Paris',\n",
       " ' Le Voltaire1, Place des Degrés, 92059 La Defense | Le Voltaire 1, Place des Degrés, 92059 La Defense',\n",
       " ' 8, rue Danielle Casanova -, 75002 Paris | 8, rue Danielle Casanova -, 75002 Paris',\n",
       " ' 14 rue Fererre, 33000 Bordeaux',\n",
       " ' 57 Berkeley Square, Lansdowne House, 3rd Floor, W1J 6ER London',\n",
       " ' 181 W Madison Street, 35th Floor, IL 60602 Chicago',\n",
       " ' 2049 Century Park East, 17th Floor , CA 90067 Los Angeles',\n",
       " ' 18201 Von Karman Avenue, Suite 970 , CA 92612 Irvine',\n",
       " ' 11601 Wilshire Blvd, Suite 1200 , CA 90025 Los Angeles',\n",
       " ' 681 Fifth Avenue, 12th Floor, NY 10022 New York',\n",
       " ' 2049 Century Park East, 16th Floor , CA 90067 Los Angeles',\n",
       " ' 99 Queens Road unit 4601-4603 the Center, Central,  Hong Kong',\n",
       " ' 12424 Wilshire Blvd, Suite 1430 , CA 90025 Los Angeles',\n",
       " ...]"
      ]
     },
     "execution_count": 454,
     "metadata": {},
     "output_type": "execute_result"
    }
   ],
   "source": [
    "invalidAdress"
   ]
  },
  {
   "cell_type": "code",
   "execution_count": 461,
   "id": "d844027c",
   "metadata": {},
   "outputs": [],
   "source": [
    "def split_adresses(adress_list):\n",
    "    \"\"\"\n",
    "    Function that split combined addresses\n",
    "    \"\"\"\n",
    "    import re\n",
    "    invalidAdress_splitted=[]\n",
    "    try:\n",
    "        for i in adress_list:\n",
    "            if(bool(re.findall(r'[|]',i))==True):\n",
    "                invalidAdress_splitted.extend(i.split('|'))\n",
    "            else:\n",
    "                invalidAdress_splitted.append(i)\n",
    "    except:\n",
    "        pass\n",
    "    return invalidAdress_splitted"
   ]
  },
  {
   "cell_type": "code",
   "execution_count": 471,
   "id": "20ec5f58",
   "metadata": {},
   "outputs": [
    {
     "data": {
      "text/plain": [
       "14257"
      ]
     },
     "execution_count": 471,
     "metadata": {},
     "output_type": "execute_result"
    }
   ],
   "source": [
    "len(invalidAdress)"
   ]
  },
  {
   "cell_type": "code",
   "execution_count": 464,
   "id": "84b37815",
   "metadata": {},
   "outputs": [
    {
     "data": {
      "text/plain": [
       "14355"
      ]
     },
     "execution_count": 464,
     "metadata": {},
     "output_type": "execute_result"
    }
   ],
   "source": [
    "invalidAdress_splitted=split_adresses(invalidAdress)\n",
    "len(invalidAdress_splitted)"
   ]
  },
  {
   "cell_type": "code",
   "execution_count": 465,
   "id": "cadfbab5",
   "metadata": {
    "scrolled": true
   },
   "outputs": [
    {
     "data": {
      "text/plain": [
       "[' Veemkade 240-242Postbus 1912, 1000 Amsterdam',\n",
       " ' 60/22 Melita Street, VLT 1122 La Valette',\n",
       " ' Morgan Hall 381, MA 02163 Boston',\n",
       " ' Herengracht 130, 1001 AT Amsterdam',\n",
       " ' Nachtwachtlaan 20, 1038 EA Amsterdam',\n",
       " ' A. Tumeno str. 4B Corp., floor 7, LT-01109 Vilnius',\n",
       " ' Lvovo g.25, LT-09320 Vilnius',\n",
       " ' Tartu maantee 212th floor, 10145 Tallinn',\n",
       " ' Mikonkatu 15aGovernment Pension Fund, 00100 Helsinki',\n",
       " ' Jacobsleiter 8, 24159 Kiel',\n",
       " ' Am Markplatz 5, 65779 Kelkheim',\n",
       " ' Ovre Slottsgate 3, 21 Oslo',\n",
       " ' Campus UAB – Ronda de la Font del Carme, s/n, 08193 Barcelone',\n",
       " ' Mikonkatu 8, 8th floor, 00100 Helsinki',\n",
       " ' BOX 55930, 102 16 Stockholm',\n",
       " ' Rétkoez utca 5, 1118 BUDAPEST',\n",
       " ' Berzelii Park 9Box 7415, 103 91 Stockholm',\n",
       " ' 30 St James Square3rd FloorLondon SW1Y 4AL, SW1Y London',\n",
       " ' Professor J.H. Bavincklaan 2, 1183 AT Amstelveen',\n",
       " ' 43-45 Portman Square, W1H London',\n",
       " ' Piazza Gae Aulenti 4 Torre C, 20154 Milan',\n",
       " ' Rembrandt Tower 9th Floor, 1096 HA Amsterdam',\n",
       " ' 41 Lothbury1st Floor, EC2R 7AE London',\n",
       " ' 375 Park Avenue, 25th floor, NY 10152 New York',\n",
       " ' Sperlring 2, 85276 Pfaffenhofen',\n",
       " ' 3, Place Clairefontaine, 1341 Luxemburg',\n",
       " ' Postfach 900533, 60486 Frankfurt am Main',\n",
       " ' 689 5th Avenue12th Floor, NY 10022 New York',\n",
       " ' 5 EAST 44TH STREETSUITE 12, NY 10017 New York',\n",
       " ' 3 Columbus Circle15th floor, NY 10019 New York',\n",
       " ' One Letterman DriveBuilding D, Suite D3-700, CA 94129 San Francisco',\n",
       " ' 250 West 55th Street16th Floor Suite A, NY 10019 New York',\n",
       " ' 10 MOUNTAINVIEW ROAD#205, 07458 UPPER SADDLE RIVER',\n",
       " ' 527 Madison AvenueSuite 2600, NY 10022 New York',\n",
       " ' 100 Federal Street19th Floor, MA 02110 Boston',\n",
       " ' 299 Park Ave, 24th Floor, NY 10172 New York',\n",
       " ' De Boelelaan 7, Officia 1 Building - 9th Floor, 1083 HJ  Amsterdam',\n",
       " ' Postfach 301778, 10747 Berlin',\n",
       " ' 17 State Street38th Floor, 10004 New York',\n",
       " ' 225 W Upper Wacker Dr # 2400, IL 60606 Chicago',\n",
       " ' 1st Floor, 90 Long Acre, WC2E 9RA London',\n",
       " ' Novo Allé, 2880 Copenhague',\n",
       " ' Hedge Fund444 Madison Avenue, 10022 New York',\n",
       " ' Keilaranta 21, 02100 Espoo  , 02100 Espoo',\n",
       " ' 1 TUDOR STREET, EC4 YOAH London',\n",
       " ' Bâtiment E-volution - 425, rue Jean Rostand, 31670 Labege',\n",
       " ' 3rd Floor South55 Baker Street, W1U 8EW London',\n",
       " ' 22 Sackville StreetMayfair, W1S 3DN London',\n",
       " ' Senator House 85 Queen Victoria Street, EC4V 4ET London',\n",
       " ' Mythenquai 24P.O. Box, 8010 Zuerich',\n",
       " ' 1010 Sherbrooke St. West, Suite 1610, QC H3A 2R7 Montreal',\n",
       " ' 1 Rockefeller Plaza # 3000, NY 10020 New York',\n",
       " ' avenue Jean Eric BouscPo Box 40163, 57600 Forbach',\n",
       " ' Fjordalleen 162 Etg, 0250 Oslo',\n",
       " ' ZA Quartier Rietiere, 26190 LA MOTTE-FANJAS',\n",
       " ' 50A, rue de Mamer, L-8280 KEHLEN',\n",
       " ' Joe Englishstraat 54, B-2140 Antwerpen',\n",
       " ' 6B route de Trèves\\t, L-2633 Senningerberg',\n",
       " ' Pearson Plc, 80 Strand, WC2R 0RL London',\n",
       " ' 767 5th Ave, 44th Floor, NY 10153 New York',\n",
       " ' 515 MADISON AV 30TH FLOOR, 10022 New York',\n",
       " ' Ludwig-Ganghofer-Strasse 6, 82031 Gruenewald',\n",
       " ' Aleksanterinkatu 19 A, 5th floor, 00100 Helsinki',\n",
       " ' Suite 3300, Bentall 5 550 Burrard Street, V6C0B3 VANCOUVER',\n",
       " ' 104 Salisbury House,London Wall, EC2M 5RQ London',\n",
       " ' Palastrasse 10, 45290 Trier',\n",
       " ' 1 Bryant Park38th Floor, NY 10036 New York',\n",
       " \" Paris d'Activités, 38 rue Pafebruch, L-8308 Capellen\",\n",
       " ' Bâtiment D, Bureau D204 (2ème étage)2405 Route des Dolines, 06580 Valbonne',\n",
       " ' 55 New Bond Street3rd Floor, W1S 1DG London',\n",
       " ' 4 place de Saverne, 92971 La Defense',\n",
       " ' Ottostrasse 5, D-80333 Muenchen',\n",
       " ' Exchange House, 4th Floor12 Primrose Street, EC2A 2EG London',\n",
       " ' 62 Queen Street1st Floor Rex Building, EC4R1EB London',\n",
       " ' Riverbank, Meadows Business ParkCamberley, GU17 9AB Surrey',\n",
       " ' 3333 Warrenville Road, Suite 500, 60532 LISLE, IL',\n",
       " ' Sveavaegen 24-26, 11157 Stockholm',\n",
       " ' Am Graben 13/I/Top 40, 1010 Vienna',\n",
       " ' Waehringer Strasse 61 / 2.08, 1090 Vienna',\n",
       " ' Chausse de Louvain 490,  Lasne',\n",
       " ' Kraehlbuehlstrasse 45, 8044 Zuerich',\n",
       " ' Amstplein 1, 1096 HA Amsterdam',\n",
       " ' Bezelii Park 9,  Stockholm',\n",
       " ' Mannerheimintie 18, 7th floor, 00130 Helsinki',\n",
       " ' Tapiola Keskustorni 13.krs, 2100 Espoo',\n",
       " ' HvidestenKingosvej 1, DK-2630 TAASTRUP',\n",
       " ' Dronning Maudsgate 1, 0161 Oslo',\n",
       " ' 350 Park avenue18th floor, NY 10022 New York',\n",
       " ' 598 Madison Avenue15th Floor, NY 10022 New York',\n",
       " ' Broker ProfileAugustine House6A Austin Friars, EC2N 2HA London',\n",
       " ' Fabriksgasse 13, A-8700 LEOBEN',\n",
       " ' Kaeppelstr. 4-6, 76131 Karlsruhe',\n",
       " ' Erisusspitze 1, 20457 Hamburg',\n",
       " ' 2, Place Dargent, 1413 Luxemburg',\n",
       " ' Parnassusweg 21-1st floor, 1077 DB Amsterdam',\n",
       " ' 14 Hays Mews, 5269 London',\n",
       " ' Dennenweg 19, XX BLOEMENDAAL',\n",
       " ' Postbus 152, 1000 AD Amsterdam',\n",
       " ' 44 Esplanada de la Moselle, 6637 Wasserbillig',\n",
       " ' Three Columbus Cir., 26th Fl, 10019-1995 New York',\n",
       " ' Ny Østergade 7, 3, 1101 Copenhague',\n",
       " ' Via Milano 150 - Cologno Monzese, 20093 Rome',\n",
       " ' Via Ita Marzotto 8, 30025 FOSSALTA DI PORTOGRUARO',\n",
       " ' 75 9th Ave5th Floor, 10019 New York',\n",
       " ' Leifheistrasse 1, 56377 Nassau',\n",
       " ' 33A, avenue J-F Kennedy, L-1855 Luxemburg',\n",
       " ' 21 Ludlow DriveChappaqua, 10514 New York',\n",
       " ' One Financial CenterSuite 1620, 02111 Boston',\n",
       " ' 810 Seventh Avenue34th Floor, 10019 New York',\n",
       " ' 250 West 55th Street, Suite 16B, NY 10019 New York',\n",
       " ' The First Floor\\n62 Queen Street\\nRex Building, EC4R 1EB London',\n",
       " ' 1-3 Strand, 6th Floor Grand Buildings, WC2N London',\n",
       " ' 1010 Sherbrooke Ouest, H3A 2R7 Montreal',\n",
       " ' Paseo de la castellana 55 tercera planta, 28046 Madrid',\n",
       " ' 304, Route de Thionville, L-5884 HESPERANGE',\n",
       " ' One Sansome, Suite 3630, CA 94104 San Francisco',\n",
       " ' Forum 1Novartis Campus, 4056 Basel',\n",
       " ' 1 BD DE LA FOIRE, L-528 Luxemburg',\n",
       " ' 100 S Pointe Dr Apt 1501, FL 33139 Miami',\n",
       " ' ONE SANSOME ST - 3630, 94104 San Francisco',\n",
       " ' 4, rue Peternelchen, L-2370 HOWALD',\n",
       " ' Texas Commerce Tower, 2200 Ross Ave # 3100, TX 75201 Dallas',\n",
       " ' 20 Queen St. W., Suite 3100, ON M5H 3R3 Toronto',\n",
       " ' Hejreskowej 10A, DK3490 KVISTGAARD',\n",
       " ' 265 rue de la DécouverteBAT A, 31670 Labege',\n",
       " ' Salzburger Leite 1, D97616 Bad Neustadt',\n",
       " ' Nybrogatan 6, 102 40 Stockholm',\n",
       " ' c Marques de Riscal 11-a 1 est 2, 28010 Madrid',\n",
       " ' VELAZQUEZ Nº 140, 2º DERECHA, 28006 Madrid',\n",
       " ' 1 Bell StreetMaidenhead, SL6 1BU BERKSHIRE',\n",
       " ' 540 Madison Ave18th Fl, NY 10022 New York',\n",
       " ' Immermanstrasse 13, 40210 Duesseldorf',\n",
       " ' 650 SOUTH EXETER STREET, SUITE 1070, MD 21202 Baltimore',\n",
       " ' PIAZZA G. BERTOLDI 8, 47899 SERRAVALLE',\n",
       " ' 20 PARK PLAZA # 120, MA 02116 Boston',\n",
       " ' 666 Fifth Avenue34th Floor #3403, NY 10103 New York',\n",
       " ' 100 Fillmore Street#325, 80206 Denver',\n",
       " ' 546 5th Ave.9th Fl., NY 10036 New York',\n",
       " ' 666 Fifth Ave.8th Fl., NY 10103 New York',\n",
       " ' 300 PARK AVENUE25TH FLOOR, NY 10022 New York',\n",
       " ' 666 Fifth Ave.9th Fl., NY 10103 New York',\n",
       " ' 1 Rockefeller Pl.# 1205, NY 10020 New York',\n",
       " ' 551 Fifth AveSuite 1120, NY 10176 New York',\n",
       " ' 16 boulevard Déodat de Séverac CS 90312, 31773 Colomiers',\n",
       " ' One Canada SquareCanary Wharf, E14 5AL London',\n",
       " ' Bond Street House14 Clifford Street, W1S 4JU London',\n",
       " ' 45 Pall Mall4th Floor, SW1Y 5JG London',\n",
       " ' 667 Madison Ave21st fl., 10065 New York',\n",
       " ' Pépinière Paris Santé Cochin 27 Rue du Faubourg Saint-Jacques, 75014 Paris',\n",
       " ' Maintor Alte Mainzer Gasse 55, 60311 Frankfurt am Main',\n",
       " ' Avenue de la Liberté, 41, L - 1931 Luxemburg',\n",
       " ' 610 Broadway, 6th floor, NY 10012 New York',\n",
       " ' 13, rue de l’Industrie, L-8399 Windhof',\n",
       " ' 1 North Wacker Drive Suite 3950, IL 60606 Chicago',\n",
       " ' Gran Via De Les Corts Catalanes  635 Planta6th floor, 08010 Barcelone',\n",
       " ' 100 Yonge St., #1700, M5C 2W1 Toronto',\n",
       " ' 77 King St W #3710, ON M5K 1K7 Toronto',\n",
       " ' 199 Bay Street, Suite 2700, P.O. Box 108, ON M5L 1E2 Toronto',\n",
       " ' 540 West Madison StreetSuite 1900, IL 60661 Chicago',\n",
       " ' Rembrandstrasse 38, 40237 Duesseldorf',\n",
       " ' 10990 Wilshire Blvd.,#1400, CA 90024 Los Angeles',\n",
       " ' Plaza Manuel Gomez Moreno 2 Plata 17 A, 28020 Madrid',\n",
       " ' Suite 2, level 35, 60 Margaret St, NSW 2000 Sydney',\n",
       " ' GINZA FUGETSUDO 6-6-1-5F GINZACHUO-KU, 104-0061 Tokyo',\n",
       " ' Dublin Branch 9, Fitzwilliam Street Upper, Dublin 2 Dublin',\n",
       " ' 126 Guido Dezelle Straar, 1654 Huizingen',\n",
       " ' 4, rue Marché aux Herbes, L-1728 Luxemburg',\n",
       " ' 333 Bay St., #5100, Toronto, M5H 2R2',\n",
       " ' Pº de la Independencia, 19, 50001 Zaragoza',\n",
       " ' 145-157 St. John Street, EC1V 4PM London',\n",
       " ' Marktgrafenstr. 11, 10969 Berlin',\n",
       " ' AVENIDA DIAGONAL, 640, 3º E , 08017 Barcelone',\n",
       " \" 15-16 Brook's MewsMoss House, W1K 4DS London\",\n",
       " ' RT 30/02AVENUE GALILEE 5, B-1210 Brussel',\n",
       " ' Kapitein Maenhoutstraat 77B, 9830 Sint-Martens-Latem',\n",
       " ' Duboisstraat 48, B-2060 Anvers',\n",
       " ' Research ParkInterleuvenlaan 1515/D1, 3001 Heverlee',\n",
       " ' Bedrijvencentrum RoeselareIndustrieweg 45, 8800 Roeselare',\n",
       " ' Hanswijkstraat 37 A, B-2800 Mechelen',\n",
       " ' Lambroekstraat 5 D, B-1831 Diegem',\n",
       " ' Place Eugène Flagey 18, B-1050 Brussel',\n",
       " ' 48, rue de Bragance, L-1255 Luxemburg',\n",
       " ' Theresienstr. 6-8, 803333 Muenchen',\n",
       " ' 280 Park Ave., 12th Floor, 10017 New York',\n",
       " ' 57 Saint James Street, SW1ALD Edimbourg',\n",
       " ' Street No 230 C-Ring RoadAl Hilal AreaPO Box 24025, ..... Doha',\n",
       " ' Complejo Torres Cerda C juan Gris20-26- Torre Norte, 08014 Barcelone',\n",
       " ' 48 Dover Street2nd Floor - Suite 2:17, W1S 4FF London',\n",
       " ' Norrmalmstorg 14, 5trBox 7030, 11146SE Stockholm',\n",
       " ' 11A Regent Street3rd Floor, Southwest House, SW1Y 4LR London',\n",
       " ' Am Heiligen Rain 10, D-61440 Oberursel',\n",
       " ' 6 BOULEVARD DES MOULINS, 98000 Monaco City',\n",
       " ' 280 Park Avenue, 12th Floor, 10017 New York',\n",
       " ' Oxtorgsgatan 4, 2 lev., 111 57 Stockholm',\n",
       " ' Professor Kohtsvei 9, 1366 Lysaker',\n",
       " ' Olavinte 2, 10101 Turku',\n",
       " ' Oestbanegade 125, 2100 Copenhague',\n",
       " \" Olav V's Gate 5, 111 Oslo\",\n",
       " ' 2, avenue Charles de Gaulle, L-1653 Luxemburg',\n",
       " ' 505 Fifth Avenue South, 9th Floor, WA  98104 SEATTLE',\n",
       " ' Paseo del Club Deportivo 1. Bloque 13 BDCentro Emp la Finca, 28223 Madrid',\n",
       " ' Korporationsweg 13c, 8832 WILEN BEI WOLLERAU',\n",
       " ' Level 4, Berkeley SquareBerkeley Square House, W1J6BX London',\n",
       " ' General-Guisan-Quai 36, 8002 Zuerich, Suisse , 8002 Zuerich',\n",
       " ' Tour Ariane5 place de la PyramideTSA 55555, 92919 La Defense',\n",
       " ' Rue de la Chancellerie 2 box 1, 1000 Brussel',\n",
       " ' Leconfield HouseCurzon Street, W1J5JA London',\n",
       " ' Sundkrogsgade 4Marina PARK, 2100 Copenhague',\n",
       " ' 20 Park Plaza, 4th Floor, MA 02116 Boston',\n",
       " ' 44 Esplanade St Helier, JE4 9WG Jersey City',\n",
       " ' 1633 BROADWAY, 45TH FLOOR, NY 10019 New York',\n",
       " ' 1633 BROADWAY28 TH FLOOR, 10019 New York',\n",
       " ' 1001 BRICKELL BAY DRIVE, SUITE 1900, FL33131 Miami',\n",
       " ' 570 Lexington AvenueSuite 1403, NY 10022 New York',\n",
       " ' Weena 455, 013 AL Rotterdam',\n",
       " ' 2 BD de la Foire, L1528 Luxemburg',\n",
       " ' Dynamic Funds Tower1 Adelaide St. E., 28th Floor, ON M5C 2V9 Toronto',\n",
       " ' 3 Exchange PlaceSemple Street, EH3 8BL Edimbourg',\n",
       " ' One Park Place, Suite 700, 621 NW 53rd Street, 33487 New York',\n",
       " ' OP-Private TurkuPl 44, 20101 Turku',\n",
       " ' 333 W Wacker Dr # 1600, IL 60606 Chicago',\n",
       " ' 50 New Bond Street2nd Floor, W1S 1BJ London',\n",
       " ' 12, rue Léon Laval, L-3372 Leudelange',\n",
       " \" Olav V's Gate 5, 0161 Oslo\",\n",
       " ' 1000 HART ROAD, SUITE 260, IL 60010 BARRINGTON',\n",
       " ' 477 Madison Avenue, 8th Floor, NY 10022 New York',\n",
       " ' Rembrandt Tower - 9th floorAmstelplein 1, 1096 HA Amsterdam',\n",
       " ' Pobrežní 14/297, 18600 PRAHA 8',\n",
       " ' 222 Berkeley St., 15th Fl Boston, 02116 New York',\n",
       " ' Kungsgatan 5, 10399 Stockholm',\n",
       " ' 1 Haakon VII Gate, 161 Oslo',\n",
       " \" Olav V's Gate 5, 1111 Oslo\",\n",
       " ' Orrspelsvaegen 83, 16766 BROMMA',\n",
       " ' 2, rue Albert Broschette, 1245 Luxemburg',\n",
       " ' 14 Queen Annes Gate, SW1H 9AA London',\n",
       " ' 5 Schollhouse Lane East, 2 Dublin',\n",
       " ' BP 1634, L-1016 Luxemburg',\n",
       " ' Schurwiese 3, 8703 Erlenbach',\n",
       " ' Dalgasgade 25, 9. sal, 7400 HERNING',\n",
       " ' Arnnulfstrasse 39, 80636 Muenchen',\n",
       " ' Leonhard-Stinnes-Str.6, 45470 MUEHLHEIM AN DER RUHR',\n",
       " ' Joachimstaler Str.34, 10719 Berlin',\n",
       " ' Am Silberpalais 1, 47057 Duisburg',\n",
       " ' President Kennedypark 18, B-8500 Kortrijk',\n",
       " ' Rua Alexandre Herculano, 35, 1250-009 Lisbonne',\n",
       " ' Nedre Holmegt. 30-34 P.O. Box 559 Sentrum, N-4003 Stavanger',\n",
       " ' Alpenstrasse 70, 5033 Vienna',\n",
       " ' avenue de Octave Gréard, 75007 Paris',\n",
       " ' First Floor, Brookfield House\\n44 Davies Street, W1K 5JA London',\n",
       " ' Lindhagensgatan 86, 103 50 Stockholm',\n",
       " ' ZAC de MilieuxRue Adrienne Bolland, 42163 Andrezieux-Boutheon',\n",
       " ' 7 RUE DU GABIAN, 98000 Monaco City',\n",
       " ' ANTONIJAS LELA 3, LV 1010 Riga',\n",
       " ' Maester Samuelsgatan 1, 10388 Stockholm',\n",
       " ' Gebouw Vierlander, Fellenoord 23, 5612AA Eindhoven',\n",
       " ' 207 route de Fresney, 1218 GRAND SACONNEX',\n",
       " ' Herengracht 595, 1008 DG Amsterdam',\n",
       " ' 12 Rue Eugene Ruppert, L - 2543 Luxemburg',\n",
       " ' 2775 Sand Hill Road, Suite 220Menlo Park, 94025',\n",
       " ' 300 Drakes Landing Rd., # 210, Greenbrae, 94904-3123',\n",
       " ' 18 Mediavaegen, 135 48 TYRESOe',\n",
       " ' Værkmestergade 3, 2, DK-8000 Aarhus',\n",
       " ' 101 Grand Blvd, KS64106 KANSAS CITY',\n",
       " ' 5420 W. 61st Pl., KS66205-3084 SHAWNEEMISSION',\n",
       " ' Edificio Alfredo MahouPlaza Manuel Gomez Moreno, 2, 28020 Madrid',\n",
       " ' Lange Lozanastraat 254, B-2018 Antwerpen',\n",
       " ' corso Vittorio Emmanuele 101, 10128 Torino',\n",
       " ' Mercesstrasse 737, 70327 Stuttgart',\n",
       " ' Muehlenfelsstrasse 1, 37603 Holzminden',\n",
       " ' 4-6 Rond Point des Champs Elysées, 75008 Paris',\n",
       " ' One Financial Center, 30th Floor, MA 02111 Boston',\n",
       " ' Raiffeisenallee 16, d-82041 Oberhaching',\n",
       " ' 505 5th avenue20TH Florr, 10017 New York',\n",
       " ' Azia Center suite 300130th floor1233 lujiazui RING ROAD, PRC 200120 Shanghai',\n",
       " ' 200 State Street, 7th Floor, MA-02109 Boston',\n",
       " ' Principe de Vergara 125, 28002 Madrid',\n",
       " ' Prinses Beatrixlaan 15, 2595 La Haye',\n",
       " ' Via c Cantu 2, 20123 Milan',\n",
       " ' Via del Nazioni Unite 4, 43044 COLLECCHIO (PARMA)',\n",
       " ' Viale Europa 46 6th floor, 2093 Cologne',\n",
       " ' Aldwych House WeWork 71-91 Aldwych, WC2B 4HN London',\n",
       " ' BAG-IRBuilding W 11, D-51368 Leverkusen',\n",
       " ' Marienstrasse 43, D-70178 Stuttgart',\n",
       " ' 1 Plantation Place30 Fenchurch Street, EC3M 3BD London',\n",
       " ' 26 Bd Royal  7ème étage, L 2449 Luxemburg',\n",
       " ' Piazza Almerico da Schio, Pal. RPU, 00054 FIUMICINO (RM)',\n",
       " ' Waterside, PO Box 365, UB7 0GB HARMONDSWORTH',\n",
       " ' Soedra Foerstadsgatan 4, SE-211 43 Malmoe',\n",
       " ' 25 rue de la MilletièreBP 27335, 37073 Tours',\n",
       " ' AMS/SG Amsterdamseweg, 55 1182 Amstelveen',\n",
       " ' 150 Slater Street, K1A 1K3 OTTAWA',\n",
       " ' 6 D Route de Trèves, L-2633 Senningerberg',\n",
       " ' Box 2269, 403 14 Goeteborg',\n",
       " ' Via Trattati Comunitari Europei, 40127 Bologne',\n",
       " ' Vasagatan 7P.O. Box 704 14, S-107 25 Stockholm',\n",
       " ' Pohjoisesplanadi 35 AB, FIN-00100 Helsinki',\n",
       " ' 10 Grosvenor Street, W1K 4BJ London',\n",
       " ' 11th Floor71 Fenchurch Street, EC3M 4HD London',\n",
       " ' 140 Broadway - 7th Floor, NY 10005 New York',\n",
       " ' Orion House5 Upper St. Martin’s Lane, WC2H 9EA London',\n",
       " ' 5 allée Schaeffer, 2080 Luxemburg',\n",
       " ' 10 New Burlington St6th Floor, W1S 3BE London',\n",
       " ' Parque empresarial de las Rozas - Edif. TRIPARKC/ Jacinto Benavente 2 A, 28032 LAS ROZAS - MADRID',\n",
       " \" Regent's Place 10 Triton Street, NW13BF London\",\n",
       " ' Houghton Hall Business ParkPorz Avenue, LU5 5XE DUNSTABLE',\n",
       " ' 5-25, Harrington Gardens, SW7 4JW London',\n",
       " ' Level 8 7 Macquarie Place, NSW 2000 Sydney',\n",
       " ' Klara Soedra Kyrkogata 18, SE-113 88 Stockholm',\n",
       " ' 50 Fifth AvenueSuite 4100, NY 10110 New York',\n",
       " ' 200 Fifth Avenue (at 23rd Street)14th floor, NY 10010 New York',\n",
       " ' 123 Front Street West, Suite 1200, M5J 2M2 Toronto',\n",
       " ' 1 Market StreetSteuart Tower, 23rd Floor, CA 94105 San Francisco',\n",
       " ' route der Treves 6A, L-2663 Senningerberg',\n",
       " ' 21 Rue Aldringen, L-1118 Luxemburg',\n",
       " ' 15 Wrights Lane, W85SL London',\n",
       " ' Affolternstrasse 44, P.O Box 8131, CH-8050 Zuerich',\n",
       " ' 300-99 Yorkville Ave, ON M5R 3K5 Toronto',\n",
       " ' 630 5th Ave Ste 3270, NY10111 New York',\n",
       " ' 33 Sur John Rogerson Quay, 2 Dublin',\n",
       " ' 12-14 Lower Mount Street, 2 Dublin',\n",
       " ' 1-6-2 Higashi-shinbashi,Minato-ku, 105-8310 Tokyo',\n",
       " ' 338 Tonoshiro-cho, Kuze Minami-ku, 601-8205 KYOTO',\n",
       " ' JacobsweerdSt Jacobsstraat 200, 3503 RE Utrecht',\n",
       " ' Via S. Balestra 33PO Box 5349, 6901 Lugano',\n",
       " ' 76A, James Bourchier Blvd.Hill Tower, 1421 SOFIA',\n",
       " ' 4th Floor, Ramnath House18, Community Centre, Yusuf Sarai, 110049 New Delhi',\n",
       " ' 1180 Ave. of the Americas, 19th Fl, NY 10036 New York',\n",
       " ' Calle alcala 54 3°der, 28014 Madrid',\n",
       " ' 590 Madison Ave, Suite 25E, 10022 New York',\n",
       " ' 52-58 Neue Mainzer Strasse Main Power, 60323 Frankfurt am Main',\n",
       " ' 536 Broadway, 7th FI, NY 10012-3915 New York',\n",
       " ' 25 Deforest AvenueSuite 304, NJ 07901 Summit',\n",
       " ' 2 Broadgate, EC2M 7UR London',\n",
       " ' 12-18 Grosvenor Gardens, SW1W ODH London',\n",
       " ' 120 Cannon StreetCandlewick House, EC4N 6 AS London',\n",
       " ' 62 street Kifisou - Peristeri , 12132',\n",
       " ' C/ Príncipe de Vergara, 135, 28002 Madrid',\n",
       " ' P.O Box 6500, 6401 JH Heerlen',\n",
       " ' 1221  Brickell Avenue, Suite 900, FL-33131 Miami',\n",
       " ' Ermanno Palace, 27 Bd. Albert 1er, MC-98000 Monaco City',\n",
       " ' 125 Park Avenue, 25th Fl., 10017 New York',\n",
       " ' 1st Floor, Almack House26-28 King Street, SW1Y 6QW London',\n",
       " ' Waterside House35 North Wharf Road, W2 1NW London',\n",
       " ' Global House4 Temple Place, WC2R 2PG London',\n",
       " ' 9 Chiswick Park, 566 Chiswick High Road, W4 5XT London',\n",
       " ' No 3 Uxbridge Business ParkSanderson Road, UB8 1DH UXBRIDGE',\n",
       " ' 33 HolbornMail box 3/24, EC1N 2HT London',\n",
       " ' 27 Yehuda Halevi Street, 65546 Tel-Aviv',\n",
       " ' 452 5th Avenue12th Floor, NY 10018 New York',\n",
       " ' 5847 San Felipe, #930, TX 77057 Houston',\n",
       " ' Via Martiri di Cefalonia 67, 20097 Rome',\n",
       " ' Franz-Wolfram-Scherer-Strasse 24, 5101 Bergheim',\n",
       " ' Huband House, 16 Upper Mount Street, Dublin 2 Dublin',\n",
       " ' Stratton House\\n5 Stratton StreetStreet, W1J 8LA London',\n",
       " ' SESChâteau de Betzdorf, L-6815 Luxemburg',\n",
       " ' Tour Gallieni 2 – Accueil 11e étage\\n36 avenue du Général de Gaulle, 93175 Bagnolet',\n",
       " ' Beaufort CourtAdmirals Way, E14 9XL London',\n",
       " ' 40, rue de la Boëtie, 75008 Paris',\n",
       " ' Centre de Retours BP 801, 38297 Saint Quentin Fallavier',\n",
       " ' 85 Mesogeion str, 11526 Athens',\n",
       " ' Largo Jean Monnet 14, 1269 057 Lisbonne',\n",
       " ' Immeuble Ile de France115-123 avenue Charles de Gaulle, 92200 Neuilly Sur Seine',\n",
       " ' 888 Seventh Avenues, 10019 New York',\n",
       " ' 489-499 Avebury BoulevardSaxon Gate West, MK9 2NW CENTRAL MILTON KEYNES',\n",
       " ' 980 Great West Road, Middlesex TW8 9GS BRENTFORD',\n",
       " ' Kinnaird House1/4 Pall Mall East, SW1Y 5AU London',\n",
       " ' Knowle Hill Park,Fairmile LaneCobham, KT11 2PD Surrey',\n",
       " ' 3 rue Jean Monet, L-2180 Luxemburg',\n",
       " ' 3rd Floor10 Portman SquareMarylebone, WC1H 6AZ London',\n",
       " \" 1C, rue Gabiel LippmannParc d'activité Syrdall, 5365 Munsbach\",\n",
       " ' Tour Ariane5, place de la Pyramide, 92088 La Defense',\n",
       " ' 570 avenue du club hippiqueImmeuble le Derby, 13097 Aix En Provence',\n",
       " ' Chuerstrasse 82, 8808 Pfaeffikon',\n",
       " ' Aleksanterinkatu 19 A, 4th FloorPO Box 1081, FI-00101 Helsinki',\n",
       " ' Principe de Vergara, 156, 28002 Madrid',\n",
       " ' Schenkkade (laagbouw) 65, 2595 AS The Hague',\n",
       " ' 41 rue Jourdan1060 Saint Gilles, 1060 Brussels',\n",
       " ' 4th Floor, 117 Jermyn Street, SW1Y 6HH London',\n",
       " ' Neathouse PlaceVictoria, SW1V 1BH London',\n",
       " ' Lloyds Chambers, 5th Floor1 Portsoken Street, E1 8BT London',\n",
       " ' Broadwater Park - DenhamUB9 5HRUK, UB9 5HR Buckinghamshire',\n",
       " ' Commerce &amp; Finance BuildingKantariPO Box 113, 6243 Beyrouth',\n",
       " ' Luton AirportBedfordshire, LU2 9LS London',\n",
       " ' 15, rue pasteu, 92300 Levallois Peret',\n",
       " ' 10 New England Business Center DriveSuite 200, MA 01810 ANDOVER',\n",
       " ' Luise Benger Strasse 15, D-70329 Stuttgart',\n",
       " ' 5 Avenue Kléber, 75795 Paris',\n",
       " ' 29th Floor1 Adelaide Street East, ON M5C 2V9 Toronto',\n",
       " ' 200 Bay St N Tower, #1800, Toronto',\n",
       " ' 640 5th Avenue14th Floor, 10019 New York',\n",
       " ' 121 Avenue de la Faiencerie,, L-1511 Luxemburg',\n",
       " ' 225 S Lake Ave., Suite 400, 91101-3005 PASADENA',\n",
       " ' 885 Third Avenue34th Floor, NY 10022 New York',\n",
       " ' 26 rue de Louvigny, L-1946 Luxemburg',\n",
       " ' 1010 Washington Blvd., 6th Floor, CT06901 Stamford',\n",
       " ' Via Gramsci, 215, 13876 SANDIGLIANO (BI)',\n",
       " ' 780 3rd Avenue9th Floor, NY 10017 New York',\n",
       " ' 620 Eight Avenue, 10018 New York',\n",
       " ' 520 Madison Ave., 20th Fl., 10022 New York',\n",
       " ' 2-12 Holmenskanal, 1092 Copenhague',\n",
       " ' Hochstrass 43, 60313 Frankfurt am Main',\n",
       " ' Campus Bio-Ouest6 rue Alain-Bombard, 44821 Saint Herblain',\n",
       " ' rue du Lac Neuchatel 1053 les berges du Lac, . Tunis',\n",
       " ' 1 GROSVENOR PLACE - Third Floor, SW1X 7 JH London',\n",
       " ' Calle Barbara de Braganza 2Suite 2A, 28004 Madrid',\n",
       " ' Apac Fot - Parc des Affaires EDONIARue des iles des KerguelenCS 66835, 35768 Saint-Grégoire',\n",
       " ' 100 Liverpool Street, EC2M 2RH London',\n",
       " ' 40 Bank StreetCanary Wharf, E14 5 EJ London',\n",
       " ' 2 boulevard Royal, L-2983 Luxemburg',\n",
       " \" 26 Se'adia Ga'on Street, 67135 Tel-Aviv\",\n",
       " ' 32 Old Burlington Street2nd Floor, W1S 3AT London',\n",
       " ' 601 Lexington Ave, NY10022 New York',\n",
       " ' Diemermere 25,NL1112 TC Diemen,P.O.Box 12600, NL-1100 AP Amsterdam',\n",
       " ' 6TH FLOOR201 BISHOPSGATEEC2M 3NS, EC2M 3NS London',\n",
       " ' 46 avenue JF Kennedy, L-1855 Luxemburg',\n",
       " ' 161 Bay Street, Suite 3000P.O. Box 516, ON M5J 2S1 Toronto',\n",
       " ' 865 South Figueroa StreetSuite #1800, 90017 Los Angeles',\n",
       " ' One Churchill PlaceCanary Wharf, E14 5RD London',\n",
       " ' Paseo de la Castellana, nº 83-85 - Madrid11 floor, 28046 Madrid',\n",
       " ' Via de los Poblados, 3Complejo CristaliaEdificio 9, X Madrid',\n",
       " ' Torre Espacio Paseo de la Castellana, 259\\xa0 14 Floor, 28046 Madrid',\n",
       " ' Avda San Luis 77, 28033 Madrid',\n",
       " ' 157 rue Cents, L-1319 Luxemburg',\n",
       " ' Via P. Mantovani 1/8, 16149 GENOA',\n",
       " ' Langebrogade 1P.O box 17, 1001 Copenhague',\n",
       " ' 25, Ermou Str. - Nea Kifissia, GR 145 64',\n",
       " ' 57th klm National Road Athens - Lamia - Inofyta, 32011',\n",
       " ' Building K10, 51369 Leverkusen',\n",
       " ' Investor RelationsEnel S.p.A.Viale Regina Margherita,137, I - 00198 Rome',\n",
       " ' Via Sachetti, 20 - Sesto San Giovanni, 20099 Rome',\n",
       " ' 702 Southwest Eighth Street, 72716 Bentonville New York',\n",
       " ' 54 rue MartreBP 153, 92113 Clichy',\n",
       " ' 68 bis rue Marjolin, 92685 Levallois Peret',\n",
       " ' Av. Fontes Pereira de Melo, 40-9th floor, 1069-300 Lisbonne',\n",
       " ' C/Anabel Segura, 11. Edificio C, 28108 Madrid',\n",
       " ' Investor Relations Telenor Group, N-1331 Fornebu',\n",
       " ' VHH 11. floor P.O. Box 1849, D-38436 WOLKSBURG',\n",
       " ' 63 St Mary Axe, EC3A 8LE London',\n",
       " ' 2 &amp; A Half Devonshire Square, EC2M 4UJ London',\n",
       " ' Gebhardinaukio 1PO Box 308, FI-00013 Pohjola',\n",
       " ' Ultrechtseweg 44, 3704 HD Zeist',\n",
       " \" 11C rue des AulnesBP 10020, 69542 Champagne-Au-Mont-D'or\",\n",
       " ' One Strand 4th Floor, WC2N 5HR London',\n",
       " ' Johannes Vermeerstraat 14Postbus 1001, 1071 Amsterdam',\n",
       " ' 1 North Wacker Drive, Ste 3975, 60606-2848 Chicago',\n",
       " ' 300 S. Wacker Drive, Suite 1610, 60606 Chicago',\n",
       " ' 885, Third Avenue, 34th Fl., NY 10022 New York',\n",
       " ' 4 Floor, Lansdowne House 57 Berkeley Square, W1J 6ER London',\n",
       " ' 25 Hill Street, W1J LW London',\n",
       " ' 13 Berkeley Street, 6th FloorMayfair, W1J 8DU London',\n",
       " ' 100 Victoria Embankment, EC4Y London',\n",
       " ' Aviation Park West Bournemouth International AirportChristchurch, BH23 6EW DORSET',\n",
       " ' 6 Lloyds Avenue 3/F Telephone: +44 (0)20 3567 0980, EC3N 3AX London',\n",
       " ' Aleksanterinkatu 44, 6th floor, FI-00100 Helsinki',\n",
       " ' Inovallée 12 Chemin de Malacher, 38243 Meylan',\n",
       " ' mainBuildingTaunusanlage 18, D-60325 Frankfurt am Main',\n",
       " ' The British Land Company PLCYork House, 45 Seymour Street, W1H 7LX London',\n",
       " ' 51 Astor place, 10th floor, 10003 New York',\n",
       " ' 780 Third Avenue, 37th floor, 10017 New York',\n",
       " ' 530 Fifth Ave, 22nd Floor,, 10036 New York',\n",
       " ' 1 KNIGHTSBRIDGE GREEN9TH FLOOR, SW1X 7QA London',\n",
       " ' 8 Pollen StreetMayfair, W1S 1NG London',\n",
       " ' Devonshire HouseMayfair Place, W1J 8AJ London',\n",
       " ' 35 Dover Street4th Floor, W1S 4NQ London',\n",
       " ' SG House41 Tower Hill, EC3N 4SG London',\n",
       " ' Attention: Investor RelationsP.O. Box 8999, CA 94128-8999 San Francisco',\n",
       " ' 43/45 rue Taitbou, 75009 Paris',\n",
       " \" Tel Aviv - Yaffo, 26 Se'adya Ga'on PostalC/O Migdal Capital Markets (1965) Ltd, 67135 Tel-Aviv\",\n",
       " ' Le George V, 14 Av de Grande Bretagne, 98000 Monaco City',\n",
       " ' Bâtiment Adénine \\n60 avenue Rockefeller, 69008 Lyon',\n",
       " ' 6, The Court Holywell Business Park Northfield Road - Southam, CV47 0FS WARWICKSHIRE',\n",
       " ' 5th Floor, 85 Gresham Street, EC2V 7NQ London',\n",
       " ' Batiment E 80-84 rue des Meuniers, 92220 Bagneux',\n",
       " ' 88 Wood Street, EC2V 7RS London',\n",
       " ' 31-33 Avenue Pasteur, L-2311 Luxemburg',\n",
       " ' Levl 2 Colette House52/55 Picadilly, W1J ODX London',\n",
       " ' Washington Plaza – Immeuble Artois40-44, rue Washington, 75008 Paris',\n",
       " ' Per Henrik Lings Alle 28 Floor, 2100 Copenhague',\n",
       " ' 12 Nicholas lane 1st Floor, EC4N 7BN London',\n",
       " ' 11 place Rogier , B-1210 Brussels',\n",
       " ' Porkkalankatu 3P.O. Box 330, FI-00101 Helsinki',\n",
       " ' 345 Park avenue, 41st floor, New York New York',\n",
       " ' 200 South Wacker DriveSuite 500, IL 60606 Chicago',\n",
       " ' Zugspitzstrasse140, 86165 Augsburg',\n",
       " ' 1 Grosvenor Place, 8th floor, SW1X 7HJ London',\n",
       " ' 7th Floor1 Knightsbridge Green, SW1X 7QA London',\n",
       " ' Kungsgatan 5, 10399 Stockholm',\n",
       " ' Katarinavaegen 15, 11645 Stockholm',\n",
       " ' Sveavaegen 24-26 4tr, 11157 Stockholm',\n",
       " ' Regeringsgaten 65, 11156 Stockholm',\n",
       " ' 122 East 42nd Street, Suite 2500, NY  10168 New York',\n",
       " ' 222 North La Salle Street, 7th floor, IL 60601 Chicago',\n",
       " ' Seagram Building, 375 Park Ave #12, NY 10152 New York',\n",
       " ' xx, xx Bergkamen',\n",
       " ' Palais du Luxembourg15, rue de Vaugirard, 75006 Paris',\n",
       " ' 30, Boulevard Grande-Duchesse Charlotte, L-1330 Luxemburg',\n",
       " ' 111 BUCKINGHAM PALACE ROAD, SW1W OSR London',\n",
       " ' 1700 Broadway, 38th Floor, NY 10019 New York',\n",
       " ' SKF Group Headquarters, SE 415 50 Goeteborg',\n",
       " \" 32 Duke Street St James'sLondon SW1Y 6DF, SW1Y 6DF London\",\n",
       " ' 1 Place des degrès, 92059 Paris',\n",
       " \" Via de l'Annunciata 23/4, 20100 Milan\",\n",
       " ' 20 Victoria Street , SW1H ONB London',\n",
       " ' One Bowerman Drive - JM4, OR 97005 BEAVERTON',\n",
       " ' 1345 Sixth AvenueSecond Floor, 10105 New York',\n",
       " ' 60 rue de WattigniesBâtiment B, 75012 Paris',\n",
       " ' Harborside Financial Center - Plaza 4A(135 Greene Street), NJ 07311 Jersey City',\n",
       " ' Gate House, Turnpike Road,, HP12 3NR BUCKS',\n",
       " ' 529 5th Avenue and 44th Street Floor 8, 10017 New York',\n",
       " ' 505 FIFTH AVENUE,10TH FLOOR, NY 10017 New York',\n",
       " ' 1, rue du Potager, L-2347 Luxemburg',\n",
       " ' 9 Rue du DebarcadèreCPC 03A2, 93761 Pantin',\n",
       " ' EquinitiAspect HouseLancing, BN99 6DA London',\n",
       " ' 100 North Riverside, 60606 IL Chicago',\n",
       " ' 499 Park Avenue, 11th floor, 10022 New York',\n",
       " ' Palais du CommercePlace de la Bourse, 69002 Lyon',\n",
       " ' Verbier of Chemin des Vernes 2, 1936 VERBIER GENEVE',\n",
       " ' 15 AVENUE JF KENNEDY, 1855 Luxemburg',\n",
       " ' 10 King William Street3rd Floor, EC4N 7TW London',\n",
       " ' 180 North Stetson avenue, Suite 5500, IL 60601 Chicago',\n",
       " ' C/ Serrano, 30 2º D, 28001 Madrid',\n",
       " ' Via Poggiomoro, 1 – Vallina, 50012 BAGNO A RIPOLI',\n",
       " ' Breakspear Park Breakspear Way Hemel Hempstead, HP2 4TZ London',\n",
       " ' Regina-Portmann-Strasse 16, 48159 Muenster',\n",
       " \" Prinses Beatrixlaan 23 • 2595 AK 's Gravenhage - Postbus 30250, 2500 GG The Hague\",\n",
       " ' Champion Building30 Sheshet Hayamin Street, Bnei Brak, 18096 Tel-Aviv',\n",
       " ' Smedeland 36, 2600 Copenhague',\n",
       " ' 18 avenue de Matignon, 75008 Paris',\n",
       " ' 100 Throckmorton St. - Suite 550, TX76102 FORT WORTH',\n",
       " ' 1330 Avenue of The Americas - 26th Floor, NY 10019 New York',\n",
       " ' 350 Park Ave., 17th Fl., NY 10022 New York',\n",
       " ' 95 Wellington St., W., #802,, M5J 2N7 Toronto',\n",
       " ' Via Polenghi Lombardo13, 26900 Lodi',\n",
       " ' Drève Richelle 161 Bâtiment DWaterloo, 1410',\n",
       " ' Dronning Mauds gt. 3, PO BOX 1411 Oslo',\n",
       " ' Nyenburgh Holding BVVijzelstraat 20, 1017 Amsterdam',\n",
       " ' 33 Yonge Street, Ste. 830, M5E 1G4 Toronto',\n",
       " ' 181 Bay Street, Suite # 2450Bay Wellington Tower Toronto, M5J 2T3',\n",
       " ' 54 BAKER STREET 1st FLOOR WATSON HOUSE, W1U 7BU London',\n",
       " ' Via Balestra 22B, 6900 Lugano',\n",
       " ' 1 London Wall Place, EC2Y 7QA London',\n",
       " ' 10 -12 Avenue Pasteur, L-2310 Luxemburg',\n",
       " ' 1 KNIGHTSBRIDGE GREEN, SW1X7NE London',\n",
       " ' 55 BAKET STREET, W1U 8 EW London',\n",
       " ' Le Flavia9 rue des Bateaux-Lavoirs, 94868 Ivry-Sur-Seine',\n",
       " ' 701 Brickell Avenue, 9th Floor, 33131 Miami',\n",
       " ' One John Deere Place, 61265 MOLINE, ILLINOIS',\n",
       " ' 780 Third Avenue29 th floor, NY10017 New York',\n",
       " ' 375 Park AvenueSuite 3804, NY 10152 New York',\n",
       " ' Amazonvaegen, 405, 08 Goeteborg',\n",
       " ' Flat 1, 83a Bayham Street, NW1 0AG London',\n",
       " ' Institut de la Vision13 rue Moreau, 75012 Paris',\n",
       " ' Groupe de travail sur les commissions de courtag, 75001 Paris',\n",
       " ' 101 Park Ave., 48th Fl., NY 10178 New York',\n",
       " ' 4th FloorReading Bridge HouseGeorge Street, RG1 8LS London',\n",
       " ' 750 Third avenue, 9th floor, NY 10017 New York',\n",
       " \" George’s Quay Plaza1 George's Quay, 2 Dublin\",\n",
       " ' Suite 105?51 Holland Street, W87JB London',\n",
       " ' MillstreamMaidenhead RoadWindsor, SL45GD BERKSHIRE',\n",
       " ' Queen Anne DriveLochend Industrial EstateNewbridge, EH28 8PL MIDLOTHIAN',\n",
       " ' 32 Ludgate hill, EC4M7DR1BB London',\n",
       " ' 17, rue de la RépubliqueCS 30 128, 69214 Lyon',\n",
       " ' 230 Park Ave, 13th floor, 10169 New York',\n",
       " ' 1915 Rexford RoadCharlotete, 28211 New York',\n",
       " ' 53, Rue Gabriel LippmannNeuve, 6947 Niederanven',\n",
       " ' 2nd floor22 Conduit Street, W1S 2XR London',\n",
       " ' 800 BRICKELL AVENUESUITE 100, FL 33131 Miami',\n",
       " ' PLAZA SAN NICOLAS 4, 48005 Bilbao',\n",
       " ' 3rd Floor 40 Grosvenor Place, SW1X 7AW London',\n",
       " ' 2nd Floor, 50 Pall Mall, SW1Y 5JH London',\n",
       " ' 3rd floor4 Millbank, SW1P 3XR London',\n",
       " ' 262 rue des frères LumièreZI Toulon Est, 83130 La Garde',\n",
       " ' TG Complex, Suite 2, Level 3, Brewery Street, 1470 BIRKIRKARA',\n",
       " ' 4th Floor, 40 New Bond St,, W1S 2RX London',\n",
       " ' Tweede Weteringplantsoen 21PO box 28, 1017 ZD Amsterdam',\n",
       " ' River Court120 Fleet Street, EC4A 2BE London',\n",
       " ' 6 place de Chevelu , 1201 Geneve',\n",
       " ' 26 RUE LOUVIGNY, L-1946 Luxemburg',\n",
       " ' PL 308 FI-00013, . Pohjola',\n",
       " ' 14, rue MarignacPO Box 218, 1211 Geneve',\n",
       " ' PO BOX 1800, 1000  BV Amsterdam',\n",
       " ' Strada Della Croce 39Faetano, 47896 SAN MARINO',\n",
       " ' Campus Palmas AltasParcela ZE-3 (Palmas Altas), 41014 Sevilla',\n",
       " ' De Run 6501, 5504 Amsterdam',\n",
       " ' 10, rue Denfert Rochereau, 92100 Boston',\n",
       " ' 4th Floor, Foxglove house166 Piccadilly, W1J 9EF London',\n",
       " ' 25 GREAT PULTENEY STREET3RD FLOOR, W1F 9LT London',\n",
       " ' Commercial Court Vienna, 88+8+f Vienna',\n",
       " ' World of SportAdi-Dassler-Strasse 1, 91074 Herzogenaurach',\n",
       " ' Les jardins de la Duranne510 Rue René Descartes, 13857 Aix En Provence',\n",
       " ' Tammasaarenkatu 14th Floor, 00180 Helsinki',\n",
       " ' Adva Francesc Macià,60 planta 20, 08208 Barcelone',\n",
       " ' Pollen House10-12 Cork Street, W1S3NP London',\n",
       " ' 54 avenue de Montaigne, 75008 Paris',\n",
       " ' C/ Juan Hurtado de Mendoza15 Posterior, 28036 Madrid',\n",
       " ' Via Gonzaga 2, 20100 Milan',\n",
       " ' 8-10 rue Jean Monnet, L 2180 Luxemburg',\n",
       " ' 7 rue de la Chapelle, L-1325 Luxemburg',\n",
       " ' 225 west wacker streetSuite 2400, IL 60606 Chicago',\n",
       " ' Arteparc BachassonCS 70025, 13590 Meyreuil',\n",
       " ' 110 N. Wacker Dr, 27th Floor, Chicago IL 60606, US, 60606 Chicago',\n",
       " ' 1375 Kerns Road, suite 100, ON L7P 4V7 BURLINGTON',\n",
       " ' 1 Terrasse Bellini – Tour Initiale, 92919 La Defense',\n",
       " ' 505 SANSOME ST, STE 1950, CA  94111-3173 San Francisco',\n",
       " ' 16 Avenue Marie-Thérèse, L-2132 Luxemburg',\n",
       " ' Geberit International AGSchachenstr. 77, 8645 JONA',\n",
       " ' Henrik Ibsens gate 100PO Box 2911 Soli, 0255 Oslo',\n",
       " ' 1st Floor48 Dover Street, W1S4FF London',\n",
       " ' 499 Park Avenue, 21st floor, 10022 New York',\n",
       " ' Steinsdorfstrasse 13, D-80538 Muenchen',\n",
       " ' Hon Hai Precision Industry Co., Ltd.No.2, Zihyou St., Tucheng Dist., 236 NEW TAIPEI CITY',\n",
       " ' ONE NORTH JEFFERSON AVENUE, MO  63103 St. Louis',\n",
       " ' 1350 Avenue of the Americas, Suite 435, NY 10019 New York',\n",
       " ' Ruedenplatz 2Postfach 2701, CH-8022 Zuerich',\n",
       " ' 12-14 rue Belgrand, 92300 Levallois Peret',\n",
       " ' 9 Kiprou &amp; Idras avenue - Moshato, Athens',\n",
       " ' 11 Voukourestiou Street, 10671 Athens',\n",
       " ' 4 sloane Terrace, SWIX9DQ London',\n",
       " ' Praça Marquês de Pombal, 12, 1250-162 Lisbonne',\n",
       " ' 101 California Street Suite 3250, 94111 San Francisco',\n",
       " ' 6A, Circuit de la Foire Intl, L-1347 Luxemburg',\n",
       " ' James House, Level 2, SW1Y 6HD London',\n",
       " ' 7 Lil-Dagover-Ring 7, 82031 Gruenewald',\n",
       " ' 133 - 137 ALEXANDRA ROAD  CONNECT HOUSE - WIMBLEDON , SW19 7JY London',\n",
       " ' 28 Fitzwilliam Place, Hamilton House,  Dublin',\n",
       " ' 1 rue Pierre Fontaine - Genopole – Campus 3 / Batiment 2, 91058 Evry',\n",
       " ' 4 RUE DE LA GREVE , L - 1643 Luxemburg',\n",
       " \" 3 ST JAME'S SQUARE , SW1Y 4JU London\",\n",
       " ' planta 3  Paseo de la Castellana 257, 28046 Madrid',\n",
       " ' 5th Floor, 10 Old Burlington Street, W1S 3AG London',\n",
       " ' 40 (bte 11)  Rue Belliard ,  B-1040 Brussels',\n",
       " \" St James'S Street, 13th Floor Smithson Plaza, SW1A 1HA London\",\n",
       " ' 65 E 55th Street, 9th Floor, 10022 New York',\n",
       " ' 1 Place Pierre Potier - Oncopole, 31000 Toulouse',\n",
       " ' Tour Montparnasse 33 avenue du Maine, 75015 Paris',\n",
       " ' 1 Avenue St Rémy - Espace Pierrard - PO box80157, 57600 Forbach',\n",
       " \" 27 rue du Faubourg Saint-Jacques (pépinière d'entreprises Paris Santé, Cochin), 75014 Paris\",\n",
       " ' Suite 100 10830 Jasper Avenue, AB, T5J 2B3 Edmonton',\n",
       " ' 1 Newark Street, #25, NJ 07030 Hoboken',\n",
       " ' 8 Sound Shore Drive, 3rd Floor, CT 06830 Greenwich',\n",
       " ' 101 Federal Street, Suite 1900, MA 02110 Boston',\n",
       " ' Avenida diagonal 413 2-1, 08008 Barcelone',\n",
       " ' 25 Hanover Square 2nd and 6th floor, W1S 1JF London',\n",
       " ' 888 7th Avenue, 23rd Floor, NY 1009 New York',\n",
       " ' 325 John H. McConnell Blvd, Suite 200 , 43215',\n",
       " ' 60 East 42nd Street, Suite 960 , NY 10165 New York',\n",
       " ' 41-47 Bld Marcel Sembat, 69200 Venissieux',\n",
       " ' 1 avenue Saint-Rémy - Espace Pierrard, 57600 Forbach',\n",
       " ' The Exchange ,George’s Dock, D01 P2V6 Dublin',\n",
       " ' 25 Price Street, M4W 1Z1 Toronto',\n",
       " ' 10 STADIOU STREET, 105 64 Athens',\n",
       " ' One Cavendish Pl., , W1G 0QF London',\n",
       " ' 455 N. Cityfront Plaza Drive, Suite 1710, IL 60611 Chicago',\n",
       " ' 900 boul. de Maisonneuve Ouest, Suite 1900, H3A 0A8 Montreal',\n",
       " ' C/ Santa Sabina, 8 - 1ª Planta,',\n",
       " ' 405 Lexington Avenue, Suite 3401, NY 10174 New York',\n",
       " ' 65 East 55th Street, 35 Floor, NY 10022 New York',\n",
       " ' Genopole - Campus 1, 5, rue Henri Desbruères, 91000 Evry',\n",
       " ' C/ José Miguel Iturrioz, 26, 20200',\n",
       " ' Paseo del tren Talgo, 2 - Las Matas, 28290  Madrid',\n",
       " ' 32 Boulevard Royal, L-2449 Luxemburg',\n",
       " ' Calle Rafael Calvo 39, 28010 Madrid',\n",
       " ' AV. JOAO CRISOSTOMO 30 6-ESQ, 1050-127 Lisbonne',\n",
       " ' 250 VESEY STREET 15th Floor , 10281 New York',\n",
       " ' 309 W 49th St Worldwide Plaza , 10019 New York',\n",
       " ' R ALEXANDRE HERCULANO 38, Santo António , PT-11 1269 - 180 Lisbonne',\n",
       " \" 5 Upper St. Martin'S Lane - Orion House, WC2H 9EA London\",\n",
       " ' REX HOUSE, St James, SWIY 4PE London',\n",
       " ' 5 Place Ville Marie, Suite 1100 PO Box 11002, H3C 4T2 Montreal',\n",
       " ' 120 Fifth Avenue, 11th Floor, NY 10011 New York',\n",
       " ' 25 Old Broad Street, Level 33 Tower 42, EC2N 1HQ London',\n",
       " ' SALESFORCE TOWER, 110 BISHOPSGATE, Suite 17.09,, EC2N 4AY London',\n",
       " ' Nieuwezijds Voorburg, 1000 AS Amsterdam',\n",
       " ' 520 madison avenue, floor 21, 10022 New York',\n",
       " ' 520 Madison Ave  41st Floor, NY 10022 New York',\n",
       " ' Bld de la Woluwe 58 Woluwedal B, 1200 Brussel',\n",
       " \" Whitaker Court 3rd Floor, Block C 28-29 Sir John Rogerson's Quay, Dublin 2 Dublin\",\n",
       " ' 4 Carlton Gardens , SW1Y 5AB London',\n",
       " ' 32133 LINDERO CANYON ROAD, Suite 208, CA 91361 WESTLAKE VILLAGE',\n",
       " ' APIANSTRABE 5, 85774 Unterfoehring',\n",
       " ' 25188 Genesee Trail Rd, #250, CO 80401-7587 GOLDEN',\n",
       " ' 499 Park Avenue ,20th Floor, 10022 New York',\n",
       " ' Av 24 de Julho 74-76, 200-869 Lisbonne',\n",
       " ' 4, Amerikis St.10 564  Athens, 10564 Athens',\n",
       " ' 23rd km. Athens - Lamia, GR 145 65 Athens',\n",
       " ' 600 Third Avenue, 26th Floor, NY 10016 New York',\n",
       " ' 75 Park Plz (2nd floor), MA02116 Boston',\n",
       " ' 58 rue de la Boétie, 75008 Paris',\n",
       " ' 139 Fountainbridge Edinburgh Quay 2, 5th floor, EH3 9QG Edimbourg',\n",
       " ' Muntcentrum 1, B-1000 Brussel',\n",
       " ' ITO Tower, 21st floo,  Amsterdam',\n",
       " \" 2046 Boulevard de la Defense - L'Origine Building, 92000\",\n",
       " ' 1114 Ave of the Americas, 22nd floor, 10036 New York',\n",
       " ' 888 Boylston Street, Suite 1420 Boston , 02199',\n",
       " ' Cowick HallSnaith, Goole, DN149AA London',\n",
       " ' LEVEL 122 BLIGH STREET, NSW 2000 Sydney',\n",
       " ' Av. De Europa, 18Parque Empresarial La Moraleja, 28108 Madrid',\n",
       " ' C/ Federico Salmón, 13 - 2 Floor, 28016 Madrid',\n",
       " ' Quindell Court1 Barnes Wallis RoadSegensworth East, Fareham, PO15 5UA Hampshire',\n",
       " ' 38th Floor, Tower 2, Times Square1 Matheson Street, Causeway Bay Hong Kong',\n",
       " ' Råsundavaegen 2, SE269 83 Solna',\n",
       " ' 1400-130  King Street West, M5X 1C8  Toronto',\n",
       " ' 52 MENACHEM BEGIN RD,  Tel-Aviv',\n",
       " ' 411 W Putnam Ave Suite 225, CT 06830 Greenwich',\n",
       " ' 5 Greenwich View Place Millharbour, E14 9NN London',\n",
       " ' 4 Landmark Square, Suite 301, CT 06901 Stamford',\n",
       " ' 179 Marina Street  Skyway Offices Block C Office 1 , PTA9042 PIETA',\n",
       " ' 5500 Meadows Road, Suite 200 – Lake Oswego,, OR 97035',\n",
       " ' ERIKA-MANN ST 69, D-80636 Muenchen',\n",
       " ' PODIUM 9 - 3826 AMERSFOORT, 3826 Amsterdam',\n",
       " ' 8 RUE DE VIDAILHAN HILLS PLAZA BAT B 1er étage, 31130 Balma',\n",
       " ' 10953 Arbor View Blvd, FL 32825 Orlando',\n",
       " ' 11 RUE CAMBRAI&#x0D;\\nBATIMENT 28&#x0D;\\nPARC DE FLANDRE LE BEAUVAISIS, 75019 Paris',\n",
       " ' Forum 2 Archamps Technopole 218 avenue Marie Curie, 74166 Saint-Julien-En-Genevois',\n",
       " ' 82 DEVONSHIRE STREET F3B, MA 2109 Boston',\n",
       " ' 82 DEVONSHIRE STREET F3B , MA 02109 Boston',\n",
       " ' Industrielaan 27 bus 6, 9320 Erembodegem',\n",
       " ' 30 Gresham Street Lodon &#x0D;\\nEC2V 7 PG 1st Floor, East Wing, EC2V London',\n",
       " ' Via Trieste, 76, 48122 Ravenna RA, Italy, 0 Ravenna',\n",
       " \" Corso d'Italia, 6, 00198 Roma RM, Italy, 198 Rome\",\n",
       " ' Via A. di Tocqueville, 13 - 20154 Milano, 0 Rome',\n",
       " ' Kungstraedgårdsgatan 10, Stockholm, 123 Stockholm',\n",
       " ' Pier 1, Bay 1, 94111 San Francisco',\n",
       " ' Ferdinadstrasse 12, 20095 Hamburg',\n",
       " ' via Clemente Maraini 39, 6902 MUGANO',\n",
       " ' 2 place aux Étoiles - CS 70001, 93633 St Denis',\n",
       " ' Sint-Jorisstraat 6, 8500 KortrijkST-JORISSTRAAT 6, 8500 Kortrijk',\n",
       " ' Minster House 272-274 Vauxhall Bridge Road, SW1V 1BB London',\n",
       " ' 2300 Yonge Street, Suite 1820Box 2392, M4P 1E4 Toronto',\n",
       " ' Immeuble Le Cézanne30 avenue des Fruitiers, 93200 Saint-Denis',\n",
       " ' Hovedvejen2, 2600 GLOSTRUP',\n",
       " ' Flat 322 Hatherley Grove, W2 5RB London',\n",
       " ' Devonshire House, 7th FloorMayfair Place, W1J 8AJ London',\n",
       " ' 2, Boulevard de la Foire&#x0D;\\nL-1528 LUXEMBOURG, 1528 Luxemburg',\n",
       " ' 500 West Putnam Avenue, 4th Floor, 06830-6086',\n",
       " ' 15 Peter-Behrends-Str., 12459 Berlin',\n",
       " ' 24 th Valle Ercilla&#x0D;\\n, 48011 Bilbao',\n",
       " ' 23 St Andrew Square, EH2 1BB London',\n",
       " ' NDSM-straat10&#x0D;\\n1033 SB&#x0D;\\nAmsterdam, 1033 Amsterdam',\n",
       " ' 1155 Battery Street&#x0D;\\nSan Francisco, CA 94111&#x0D;\\nUSA, 94111 New York',\n",
       " ' 3 Park Avenue,\\n37th Floor, NY 10016',\n",
       " ' One Liberty Sq., 11th Fl., 02109 Boston',\n",
       " ' 315 Madison Ave., 3rd Fl., 10017 New York',\n",
       " ' 300 Atlantic St., Suite 600, 06901 Stamford',\n",
       " ' 1301 Shoreway Rd\\nSuite 350, CA 94002',\n",
       " ' Avda de la Generalitat 152-158\\nParc Empresarial Can Sant Joan, 08174',\n",
       " ' Paseo de la Castellana 42&#x0D;\\n28046 Madrid, 28046 Madrid',\n",
       " ' PO Box&#x0D;\\nCH 8058 Zuerich Airport, 8058',\n",
       " ' 23 Shelbourne \\nRoad Ballsbridge, Dublin 4 Dublin',\n",
       " ' Ratio 6, 6921 RW Duiven, 6921 Amsterdam',\n",
       " ' 800 Boylston Street\\n15th Floor suite 1520, MA 02199',\n",
       " ' 150 E 52nd St, 22nd Floor, 10022',\n",
       " ' Ueberseering 10&#x0D;\\n22297 Hamburg, 22297',\n",
       " ' 15 ST BOTOLPH STREET BEAUFORT HOUSE , EC3A 7QX London',\n",
       " ' 600 Madison Ave., \\n#2101, 10022 New York',\n",
       " ' 60 ROUTE DES ACACIAS  - GENEVE 73, 1211 Geneve',\n",
       " ' 4, rue Peternelchen, L-2370 HOWALD',\n",
       " ' Praha 4, Czech Republic, 14053 Paris',\n",
       " ' 11-13  rue René Jacques - Immeuble Vivaldi, 92130 Issy Les Moulineaux',\n",
       " ' 257 PARK AVENUE SOUTH  15th FLOOR , 10010 New York',\n",
       " ' 1633 Broadway&#x0D;\\nNew York, NY 10019, 10019 New York',\n",
       " ' 5/3  MERCHANTS STREET , VLT1171',\n",
       " ' 26 Rue Benoît Bennier&#x0D;\\n&#x0D;\\n69260 Charbonnières-les-Bains, 69260 Lyon',\n",
       " ' 200 Greenwich Ave.,\\n3rd Fl., CT 06830 Greenwich',\n",
       " ' 12, rue Eugène Ruppert, L-2453 Luxemburg',\n",
       " ' 8 ABBA EVEN BLVD  PO BOX 2181 ENTRANCE HERZELIYA, 46733',\n",
       " ' 12TH FLOOR 5 ALDERMANBURY SQUARE, EC2V 7HR London',\n",
       " ' One New York Plazza, 10004 New York',\n",
       " ' 6th Floor34 Dover Street, W1S 4NG London',\n",
       " ' PALAIS SAINT JAMES5 AVENUE PRINCESSE ALICE, 98000 Monaco City',\n",
       " ' 10100 W CHARLESTON AVENUESUITE  214, 89135 LAS VEGAS NV',\n",
       " ' Calle Ramirez de Arellano Planta 6, 28043 Madrid',\n",
       " ' 6A rue Gabriel Lippmann, L-5365 Munsbach',\n",
       " ' John Hancock Tower, 200 Clarendon Street,14th Floor  Boston, MA 02116 Boston',\n",
       " ' AV ATAULFO DE PAIVA 1235ANDAR 6 E 7 PARTE, 22.440-034 Rio De Janeiro Rj',\n",
       " ' 1825 NW CORPORATE BLVD\\nSUITE 100, FL 33431 BOCA RATON',\n",
       " ' route de Lavaux 36, 1095 Lutry, 1095 Lutry',\n",
       " ' 666 Fifth Avenue,\\n8th Floor, NY 10103-0001 New York',\n",
       " ' 275 Grove Street,\\nSuite 2-130, MA 02466',\n",
       " ' 53/55 avenue de iena\\n, 75016 Paris',\n",
       " ' 33 Cavendish Square, W1G 0PS London',\n",
       " ' PO Box 309 - Ugland House, KY1-1104 George Town',\n",
       " ' 1 B Heienhaff Grossherzogtum Luxemburg, 1736 Senningerberg',\n",
       " ' 31 Place des Corolles Esplanade Nord, 92400 Courbevoie',\n",
       " ' 75 Rockefeller Plaza, 21st Floor, Suite A, NY 10111 New York',\n",
       " ' Rubinstein House 37 Menachem Begin Road, 65220 Tel-Aviv',\n",
       " ' 2, London Wall Buildings, EC2M 5PP London',\n",
       " ' Level 22   Heron Tower110 Bishopsgate, EC2N 4AY London',\n",
       " ' CAPITAL VENTURES INTL C/O HEIGHTS CAP MGT101 CALIFORNIA STREET , SUITE 3250, CA 94111 San Francisco',\n",
       " ' PO Box 564Bellerivestrasse 45, ch-8008 Zuerich',\n",
       " ' Lissin 27,  Tel-Aviv',\n",
       " ' 18 Henrietta Street\\n4th Floor, WC2E 8QH London',\n",
       " ' 205 East 42nd Street, 20th Floor, NY 10017 New York',\n",
       " ' 1 via M. Civitali, 20148 Milan',\n",
       " ' 1 Boulevard Royal, L-2449 Luxemburg',\n",
       " ' 94-96 avenu Ledru Rollin, 75011 Paris',\n",
       " ' 7, rue Loch, 29555 Brest',\n",
       " ' 55 Baker Street, WU 8EW London',\n",
       " ' Kolonienstrasse 11, B-1000 Brussel',\n",
       " ' GB Pirelli 19, 20124 Milan',\n",
       " ' 88 Wood St. 8th FI, EC2V 7QR London',\n",
       " \" rue d'EpagnacBP 21, 16800 Soyaux\",\n",
       " ' 6th Floor, Portsoken House155-157 Minories, EC3N 1LS London',\n",
       " \" 14 Ahad Ah'am St, 65142 Tel-Aviv\",\n",
       " ' Entenza 325-335, 08029 Barcelone',\n",
       " ' 3rd floor111 Buckingham Palace Road, SW1W 0SR London',\n",
       " ' Moore House120 London Wall, EC2Y SET London',\n",
       " ' 545 Fifth Avenue, 12th Floor, NY 10017 New York',\n",
       " ' 250 W., 55th St., 33rd Fl, 10019 New York',\n",
       " ' 650 Madison Ave 18th FI, 10022 New York',\n",
       " ' 530 Fifth Avenue 25 th Floor, 10036 New York',\n",
       " \" 20 rue de l'Arc de Triomphe&#x0D;\\n75017 Paris, 75017 Paris\",\n",
       " ' Lyford Cay House5th FloorWest Bay Street, N-7529',\n",
       " ' ONE SOUND SHORE DRIVE-SUIT 101, 06830 Greenwich',\n",
       " ' 6-8 AHUZAT BAYIT STREET, 65143 Tel-Aviv',\n",
       " ' 1 PASSERELLE DES REFLETSLA DEFENSE 2, 92913 La Defense',\n",
       " ' 16, rue Jean-Pierre Brasseur, L-1258 Luxemburg',\n",
       " ' 120 Chaussée de la Hulpe, B-1000 Brussel',\n",
       " ' Kanavaranta 1   00101 Helsinki, Finland  , 00101 Helsinki',\n",
       " ' 777 BRICKELL AVE.\\nSUITE 1010, FL 33131 Miami',\n",
       " ' The Broadgate Tower Level 20 20 Primrose Stree, EC2A 2EW London',\n",
       " ' 97 Uisadang St.(26-4 Yeouido-Dong)\\nYeongdeungpo-Gu, 07327 Seoul',\n",
       " ' c/Don Ramon de la Crue 23Entreplanta interior, 28006 Madrid',\n",
       " ' 111 Town Square Place, NJ07310 Jersey City',\n",
       " ' 640 5th Avenue19th Floor, NY 10019 New York',\n",
       " ' 72 Cummings Point Road, CT06902 Stamford',\n",
       " ' One Federal St., 28th Fl,, 02110 Boston',\n",
       " ' 27a Deggendorfer Strasse, 94559 Niederwinkling',\n",
       " ' 94 RUE DU KIEM, L-1857 Luxemburg',\n",
       " ' AV DA REPUBLICA N25 5B, 1050-186 Lisbonne',\n",
       " ' 3rd Floor,\\nNew Liverpool House\\n15 Eldon Street, EC2M 7LD London',\n",
       " ' Minholzweg 2 B, 61476 Kronberg',\n",
       " ' Koenigsalee 14, 40212 Duesseldorf',\n",
       " ' Ostendsrtasse 100, 90334 Nuremberg',\n",
       " ' Suite 13\\nVicarage House\\nKensington Church St, W8 4DB London',\n",
       " ' Bld Louis Schmidt 87 Bte 3, 1040 Brussels',\n",
       " ' 23 Fitzwilliam Place\\nGrand Canal Dock,  Dublin',\n",
       " ' 207 REGENT STREET \\n3RD FLOOR, W1B 3HH London',\n",
       " ' 40 KING  ST W, ON M5H 1 H1',\n",
       " ' Via Peri 9a, 6900 Lugano',\n",
       " ' Via Balestra 15a, 6900 Lugano',\n",
       " ' 90 Park Ave, FI 5, 10016 New York',\n",
       " ' One Beacon Street30th Floor, 02108 Boston',\n",
       " ' 171  bis chemin de la Madrague, 13002 Marseille',\n",
       " ' C/O Neighborhood  64 avenue Pierre Grenier, 92100 Boulogne-Billancourt',\n",
       " ' 250 W 55th Street, Fl 32, NY 10019 New York',\n",
       " ' 9 BOULEVARD PRINCE HENRI, L-1724 Luxemburg',\n",
       " ' 2000 McKinney Avenue, Suite 2125 , TX 75201 Dallas',\n",
       " ' BP L3 10, avenue du Maréchal Foch Nouméa Cedex, 98849 Nouméa',\n",
       " \" 455 PRO DES ANGLAIS L'ARENAS, 06200 Nice\",\n",
       " ' One International Place, Suite #3510, MA 02110 Boston',\n",
       " ' 17 RUE P ET D PONCHARDIER ESPACE FAURIEL BP 147, 42012 Saint-Étienne',\n",
       " ' 187 QUAI D ORIENT BP 188, 34203 Sète',\n",
       " ' 5 PL DE LA PYRAMIDE TOUR ARIANE LA DEFENSE, 92800 Puteaux',\n",
       " ' 135 PONT DES FLANDRES, 59350 Lille',\n",
       " ' 1 AV DU RHIN, 67100 Strasbourg',\n",
       " ' 10 AV JAMES CLERCK MAXWELL, 31100 Toulouse',\n",
       " ' 2 PL GRASLIN CS 10305, 44003 Nantes',\n",
       " ' 1111 Brickell Ave, Suite 1525, FL 33131 Miami',\n",
       " ' PL ESTRANGIN PASTRE BP 108, 13254 Marseille',\n",
       " ' 23 rue du commandant mouchotte, 94160 Saint-Mande',\n",
       " ' 9 West 57th Street, 36th Floor, 10019 New York',\n",
       " ' 5  APPOLD STREET - BROADWALK HOUSE, EC2A 2AG London',\n",
       " ' 8 allée Irène Joliot Curie ParcTechnologique de Lyon, 69800 Lyon Saint-Priest',\n",
       " ' HQ 155-157 cours Berriat, 38028 Grenoble',\n",
       " ' 250 W55 STREET  30TH FLOOR  NY , 10019 New York',\n",
       " ' Calle Prof Waksman 14 bis, 28036 Madrid',\n",
       " ' 33 avenue du Maine  - Tour Maine Montparnasse, 75015 Paris',\n",
       " ' 6 Northbrook Road, Ranelagh, D06 PH32 Dublin',\n",
       " ' 12 Kwinkweerd, 7241 Lochum',\n",
       " ' 787 Seventh Avenue, 11th Floor, NY 10019 New York',\n",
       " ' 280 Park Avenue, 5th Floor , NY 10017 New York',\n",
       " ' 767 fifth avenue, 49th floor, NY 10153 New York',\n",
       " ' 712 fifth avenue, 49th floor, NY 10019 New York',\n",
       " ' 515 Madison Avenue, 20th Floor, 10022 New York',\n",
       " ' N.V. Oosterdoksstraat 801011 DK, 1011 Amsterdam',\n",
       " ' C/O MFD Secreraties Limited - 32 Molesworth Street, D02 Y512 Dublin',\n",
       " ' 1000 Place Jean-Paul Riopelle, Suite E-400, QC H2Z 2B6 Montreal',\n",
       " ' 11 Hill Street, W1J 5LK  London',\n",
       " ' 5 PL DE LA PYRAMIDE, TOUR ARIANE LA DEFENSE 9, 92800 Puteaux',\n",
       " ' 3rd Floor, Becket House, 36 Old Jewry, EC2R 8DD London',\n",
       " ' 9th Floor Devonshire House - 1 Mayfair Place, W1J 8AJ London',\n",
       " ' 350 Park Avenue, Suite 1304, NY 10022 New York',\n",
       " ' Calle Bolsa n4 1era Planta, 29015 Malaga',\n",
       " ' 60 Petty France London SW1H 9EU&#x0D;\\n , SW1H London',\n",
       " ' 600 BRICKELL AVENUE SUITE 1550, FL 33131 Miami',\n",
       " ' 13 BERKELEY STREET SIXTH FLOOR, W1J8DU London',\n",
       " \" 23 KING STREET,ST JAME'S, SW1Y 6QY London\",\n",
       " ' Jacob Bontiusplaats 9INIT Building, 1018 LL Amsterdam',\n",
       " ' DIFC/ 502 North, Emiratss Financial Tower,  Dubaï',\n",
       " ' Rambla de Catalunya, 38 9a/1a place, 08807 Barcelone',\n",
       " ' 35 Ballards Lane, LND N3 1XW London',\n",
       " ' 60 South Street, Suite 1100, MA 02111 Boston',\n",
       " ' Via Polenghi Lombardo 13\\nCentro Polifunzionale, 26900 Lodi',\n",
       " ' 257 Fillmore St, Suite 200, CO 80206 Denver',\n",
       " ' Piaza Dante 7, 6900 Lugano',\n",
       " ' 12F Samsung Engineering Tower 39, Eongu-ro 30-gil, Gangnam-gu, 06292 Seoul',\n",
       " ' 139 RUE DE BERCY - BATIMENT COLBERT, 75572 Paris',\n",
       " ' 1501, McGill College Avenue Bureau 2220, H3A 3M8 Montreal',\n",
       " ' 14 RUE SCANDICCI TOUR ESSOR, 93500 Pantin',\n",
       " ' Immeuble les centuries 2 101 place Pierre Duhem , 34000 Montpellier',\n",
       " ' 77 King Street West, 35 Floor, ON M5K 1BZ',\n",
       " ' Largo Do Calhariz No 30, 1249-001 Lisbonne',\n",
       " ' 100 Adelaide Street W, Suite #2100, M5H 1S3 Toronto',\n",
       " ' rua de meladas, n°380 PO BOX 20 4536-902 MOZELOS , 4536 Moze-Sur-Louet',\n",
       " ' Ropemaker Place\\n28 Ropemaker Street, EC2Y 9HD London',\n",
       " ' 99 BANK STREET  # 919 , ON K1P 6B9 OTTAWA',\n",
       " ' Suite 51, One St Colme Street, EH3 6AA Edimbourg',\n",
       " ' 8 Boulevard des Moulins, 98000 Monaco City',\n",
       " ' ul. Marszalkowska 142, 00-061 Warsaw',\n",
       " ' One  Queen Street East, Suite 2500, M5C 2W5 Toronto',\n",
       " ' 76 BELMONT STREET  ON M5R 1P8,  Toronto',\n",
       " ' 8th Floor 111 Piccadilly, M1 2HY Manchester',\n",
       " \" 3rd Floor 11-12 St. James's Square, SW1Y 4LB London\",\n",
       " ' WERTPAPIERHANDELSBANK  SCHILLERSTRASSE 12 , 60313 Frankfurt am Main',\n",
       " ' 33 BOULVEVARD BISCHOFFSHEIM, 1000 Brussels',\n",
       " ' 35 Picadilly Mayfair, W1J 0DW London',\n",
       " ' 850 Third Avenue,\\n13th Floor, NY 10022 New York',\n",
       " ' VIA TAETINA 1, 50123 Florence',\n",
       " ' 452 5th Ave., 14th Floor, 10018 New York',\n",
       " ' 510 Madison Avenue; 22nd Floor , NY 10022 New York',\n",
       " ' 61 Broadway, Suite 2858 , 10006 New York',\n",
       " ' 2 Conduit Street \\n5th Floor, W1S 2XB London',\n",
       " ' 250 W 55th St 34th Floor, 10019 New York',\n",
       " ' ONE CHURCHILL PLACE -  CANARY WHAR, E14 5RD London',\n",
       " ' Chytron 30 office 31 Nicosia, 1075',\n",
       " ' 1185 Avenue of the Americas, 2nd Floor, NY 10036 New York',\n",
       " ' New Wing, Somerset House, WC2R 1LA London',\n",
       " ' 598 Madison avenue, 9th floor, NY 10022 New York',\n",
       " ' 28 STATE STREET, 23rd Floor, MA 02109 Boston',\n",
       " ' Calle Sena, 12 Nucleo Ata Planta Sant Cugat Del Valles , 08174 Barcelone',\n",
       " ' 330 MADISON AVENUE Floor 22, 10017 New York',\n",
       " ' WOLGANG  PAULI STRASSE 1, 2700 WIENER NEUSTADT',\n",
       " ' 53 State Street\\n29th floor, MA 02109 Boston',\n",
       " ' Baumstrasse 25&#x0D;\\n45128 Essen, 45128 Essen',\n",
       " ' 510 Laguardia Place\\n5th floor, NY 10012 New York',\n",
       " ' 23 SAVILLE ROW  2nd  Floor , W1S2ET London',\n",
       " ' 433 W Van Buren Street, Floor 11N, Pony Express Suite C, IL 60611 Chicago',\n",
       " ' 737 North Michigan Avenue\\nSuite 1405, IL 60611 Chicago',\n",
       " ' 4 rue Jean Monnet, L-2180 Luxemburg',\n",
       " ' 100 KING STREET WEST 43rd FLOOR , ON M5X 1H3 Toronto',\n",
       " ' Lei 19 - bus 2, B-3000 Leuven',\n",
       " ' Nations House103 Wigmore Street  , W1U 1QS London',\n",
       " ' 24, avenue Aristide Briand, 92188 Antony',\n",
       " ' 8-10, rue Jean Monnet, L-2180 Luxemburg',\n",
       " ' ZIE RUE DU DUREMONT, 59960 Neuville En Ferrain',\n",
       " ' 18, rue des frères Eberts, 67 024 Strasbourg',\n",
       " ' 17-21, rue de la Nuée-Bleue, 67077 Strasbourg',\n",
       " ' 63, rue Pierre Charron, 75008 Paris ',\n",
       " ' 63, rue Pierre Charron, 75008 Paris',\n",
       " \" Parc d'activités Gustave Eiffel22, avenue de l'Europe - Bussy-St-Georges, 77607 Marne-La-Vallée \",\n",
       " \" Parc d'activités Gustave Eiffel 22, avenue de l'Europe - Bussy-St-Georges, 77607 Marne-La-Vallée\",\n",
       " ' Schwartzstrasse 17, A-5020 Salzburg',\n",
       " ' Plaza Manuel Gomez Moreno, 2  , 28020 Madrid',\n",
       " ' Via de los Poblados, s/n 3rd Floor , 28033 Madrid',\n",
       " ' Parkveien 55, 256 Oslo',\n",
       " ' Barbara Strozzilaan 310Postbus 75047 , 1083 HN Amsterdam',\n",
       " ' 7 place du Chancelier Adenauer CS 31622, 75772 Paris',\n",
       " \" Leonardo da Vinciplain 60 Paostbus 1021 , 5200 HC 's Hertogenbosch\",\n",
       " ' One Queen St., E., #2700, ON M5C 2W5 Toronto',\n",
       " ' Quai de la poste 12 , P.O. Box 1211 Geneve',\n",
       " ' 100,rue Petit, 75019 Paris ',\n",
       " ' 100,rue Petit, 75019 Paris',\n",
       " ' 25,rue Louis Legrand, 75002 Paris',\n",
       " ' B.P. 0727, 53007 Laval',\n",
       " ' 16, Avenue Henri FrévilleCS98101, 35081 Rennes ',\n",
       " ' 16, Avenue Henri Fréville CS98101, 35081 Rennes',\n",
       " ' I, Les Cabannes Nord, 33330 Saint-Emilion',\n",
       " ' Tour Initiale 1, Terrasse Bellini - TSA 41000, 92919 La Defense',\n",
       " ' 110 Avenue de la Jallère - Quartier du Lac, 33042 Bordeaux',\n",
       " ' 80-82 quai Michelet, 92532 Levallois Peret',\n",
       " ' 57 bis rue de Tocqueville, 75017 Paris ',\n",
       " ' 57 bis rue de Tocqueville, 75017 Paris',\n",
       " ' 13-15 Moorgate  , EC2R 6AD London ',\n",
       " ' 13-15 Moorgate, EC2R 6AD London',\n",
       " ' P.O Box 27965, Safat, 13140 Kuwait City',\n",
       " ' P.O. Box 20607 Safat, 13067 Kuwait City',\n",
       " ' P.O. Box 29233 Safat, 13153 Kuwait City',\n",
       " ' PO-BOX 1777 Vika, N-0122 Oslo',\n",
       " ' P.O. BOX 500239, . Dubaï',\n",
       " ' 29/31 rue Saint Augustin, 75002 Paris ',\n",
       " ' 29/31 rue Saint Augustin, 75002 Paris',\n",
       " ' 8, rue Danielle Casanova -, 75002 Paris ',\n",
       " ' 8, rue Danielle Casanova -, 75002 Paris',\n",
       " ' 14 rue Fererre, 33000 Bordeaux',\n",
       " ' 57 Berkeley Square, Lansdowne House, 3rd Floor, W1J 6ER London',\n",
       " ' 181 W Madison Street, 35th Floor, IL 60602 Chicago',\n",
       " ' 2049 Century Park East, 17th Floor , CA 90067 Los Angeles',\n",
       " ' 18201 Von Karman Avenue, Suite 970 , CA 92612 Irvine',\n",
       " ' 11601 Wilshire Blvd, Suite 1200 , CA 90025 Los Angeles',\n",
       " ' 681 Fifth Avenue, 12th Floor, NY 10022 New York',\n",
       " ' 2049 Century Park East, 16th Floor , CA 90067 Los Angeles',\n",
       " ' 99 Queens Road unit 4601-4603 the Center, Central,  Hong Kong',\n",
       " ' 12424 Wilshire Blvd, Suite 1430 , CA 90025 Los Angeles',\n",
       " ' 810 Seventh Avenue, Suite 803, NY 10019 New York',\n",
       " ' 2 Filipstad Brygge, N-0125 Oslo',\n",
       " ' 1 PLACE JEAN MILLIER - TOUR AREVA, 92400 Courbevoie',\n",
       " ' 148 Electric Road, 1-3a, 35/F, North Point,  Hong Kong',\n",
       " ' 3105 Tower 2 China World Trade Centre 1 Jianguomenwai Dajie, 100004 Beijing',\n",
       " ' Rm 1401-02 Tower B International Chamber of Commerce Building Fuhua Yi Lu, Futian District, 518048 SHENZHEN',\n",
       " ...]"
      ]
     },
     "execution_count": 465,
     "metadata": {},
     "output_type": "execute_result"
    }
   ],
   "source": [
    "invalidAdress_splitted"
   ]
  },
  {
   "cell_type": "code",
   "execution_count": 951,
   "id": "aad35387",
   "metadata": {},
   "outputs": [
    {
     "name": "stdout",
     "output_type": "stream",
     "text": [
      "['    ', '    ', '    ', ' fdfff  fff', ' Appieto  20167', ' BP30836  98895', ' BP66131  35671', ' Postfach  8058', ' Zugspitzstrasse140  86165', ' Marius Eriksen Strasse1  17291', '    75009', ' poiuytreza  75000', ' Oustry  81300', ' Oustry  81300', ' Charles de Gaulle Platz1  50679', ' Charles de Gaulle Platz1  50679', ' Charles de Gaulle Platz1  50679', ' Charles de Gaulle Platz1  50679', ' Aeschengraben21  4001', ' Strawinskylaan1203  1077', ' Galusstrasse 4 ', '  9', ' vfvf  75', '  1145', ' Hamburg  52483', ' Dublin  54836', ' Brazil  247458', '    123']\n"
     ]
    }
   ],
   "source": [
    "a= [\"Ermanno Palace, 27 Bd\\xa0. \\nAlbert 1er, MC-98000 Monaco City\",\" Baumstrasse 25&#x0D;\\n45128 Essen, 45128&#65 Essen\",\" xxxxxx, 123\",\" www.Norican.com, 1145xxx\",\"ben.foster@teneobluerubicon.com, x9\",\"The First Floor\\n62 Queen xxxxStreet\\nRex Building, EC4R 1EB London\",\"Bâtiment D, Bureau D204 (2ème étage)2405 Route des Dolines, 06580 Valbonne\",\"Paris d'Activités, 38 rue Pafebruch, L-8308 Capellen\",\"1 Rockefeller Plaza # 3000, NY 10020 New York\"]\n",
    "\n",
    "import re\n",
    "import html\n",
    "\n",
    "def remove_email_and_websites(addresslist):\n",
    "    \"\"\"\n",
    "    Function that remove address mails and websites from a list of addresses\n",
    "    \"\"\"\n",
    "    L=[]\n",
    "    for i in addresslist:\n",
    "        #remove email addresses\n",
    "        s=re.sub(r'\\S+@\\S+','',i)\n",
    "        #remove website urls\n",
    "        s=re.sub(r'http\\S+','',s)\n",
    "        s=re.sub(r'www\\S+','',s)\n",
    "        L.append(s)\n",
    "    return L\n",
    "\n",
    "\n",
    "def remove_xml_escape_characters(addresslist):\n",
    "    \"\"\"\n",
    "    Function that remove xml escape characters\n",
    "    \"\"\"\n",
    "    L=[]\n",
    "    for i in addresslist:\n",
    "        s=html.unescape(i)\n",
    "        s=re.sub(r'&[a-zA-Z0-9]+',' ',s)\n",
    "        L.append(s)\n",
    "    return L\n",
    "\n",
    "\n",
    "def remove_x_words(addresslist):\n",
    "    \"\"\"\n",
    "    Function that remove x words from a list of addresses\n",
    "    \"\"\"\n",
    "    L=[]\n",
    "    for i in addresslist:\n",
    "        L.append(re.sub(r'x{2,10}|X{2,10}',' ',i))\n",
    "    return L\n",
    "\n",
    "\n",
    "def remove_regex_white_spaces(addresslist):\n",
    "    \"\"\"\n",
    "    Function that remove white spaces from a list of addresses\n",
    "    \"\"\"\n",
    "    L=[]\n",
    "    for i in addresslist:\n",
    "        L.append(re.sub(r'[ \\t\\n\\r\\f]',' ',i))\n",
    "    return L\n",
    "\n",
    "\n",
    "def Unicode_normalization(addresslist):\n",
    "    \"\"\"\n",
    "    Function that normalize characters from a strings contained in a list\n",
    "    \"\"\"\n",
    "    L=[]\n",
    "    for i in addresslist:\n",
    "        i=unicodedata.normalize(u'NFC',i) #Using NFC (Normalization Form Canonical Composition)\n",
    "        L.append(i)\n",
    "    return L\n",
    "\n",
    "\n",
    "def remove_special_characters(addresslist):\n",
    "    \"\"\"\n",
    "    Function that remove special characters from a strings contained in a list\n",
    "    \"\"\"\n",
    "    L=[]\n",
    "    for i in addresslist:\n",
    "        i=re.sub(r'[^ \\nA-Za-z0-9À-ÖØ-öø-ÿ/]+', ' ', i)\n",
    "        L.append(i)\n",
    "    return L\n",
    "\n",
    "\n",
    "uni=Unicode_normalization(len2)\n",
    "clean_address = remove_xml_escape_caracters(uni)\n",
    "no_white_spaces=remove_regex_white_spaces(clean_address)\n",
    "no_email=remove_email_and_websites(no_white_spaces)\n",
    "no_x=remove_x_words(no_email)\n",
    "ll=remove_special_characters(no_x)\n",
    "\n",
    "print(ll)"
   ]
  },
  {
   "cell_type": "code",
   "execution_count": 899,
   "id": "fc315bb0",
   "metadata": {},
   "outputs": [],
   "source": [
    "#regex patterns\n",
    "Netherlands_pattern=r'[1-9]\\d{3} [A-Z]{2}|[1-9]\\d{3}[A-Z]{2}'\n",
    "USA_pattern=r'([A-Z]{1,3}([\\-])?)?([\\s])?\\d{6}(-\\d{4})?|([A-Z]{1,3}([\\-])?)?([\\s])?\\d{5}(-\\d{4})?'\n",
    "pattern=r'((?i)rue|avenue|boulevard|route|chemin|strasse|weg|platz|allee|st|street|ave|rd|road|blvd|ln|lane|dr|drive|ct|court)\n",
    "Lithuania_pattern=r'((LT)[\\-])?(\\d{5})'\n",
    "Estonia_pattern=r'([A-Z]{1,3}([\\-])?)?([\\s])?\\d{6}|([A-Z]{1,3}([\\-])?)?([\\s])?\\d{5}|([A-Z]{1,3}([\\-])?)?([\\s])?\\d{4}'\n",
    "Finland_pattern=r'([A-Z]{1,3}([\\-])?)?([\\s])?\\d{5}'\n",
    "Germany_pattern=r'([A-Z]{1,3}([\\-])?)?([\\s])?\\d{5}'\n",
    "Luxembourg_pattern=r'((L)[\\-])?(\\d{4})'\n",
    "Norway_pattern=r'\\d{4}'\n",
    "Switzerland_pattern=r'[1-9]\\d{3}'\n",
    "Spain_pattern=r'\\d{5}'\n",
    "Sweden_pattern=r'([A-Z]{2,3}([\\-])?)?([\\s])?[1-9]\\d{2} \\d{2}'\n",
    "Hungary_pattern=r'[1-9]\\d{3}'\n",
    "Malta_pattern=r'[A-Z]{3} [0-9]{4}|[A-Z]{2}[0-9]{2}|[A-Z]{2} [0-9]{2}|[A-Z]{3}[0-9]{4}|[A-Z]{3}[0-9]{2}|[A-Z]{3} [0-9]{2}'\n",
    "United_Kingdom_pattern=r'[A-Z]{1,2}\\d[A-Z\\d]? \\d([\\s])?[A-Z]{2}'\n",
    "France_pattern=r'\\d{5}'\n",
    "Italy_pattern=r'\\d{5}'\n",
    "Denmark_pattern=r'\\d{4}'\n",
    "Austria_pattern=r\"\\d{4}\"\n",
    "Belgium_pattern=r'\\d{4}'\n",
    "Canada_pattern=r'[A-Z][0-9][A-Z]([\\s])?[0-9][A-Z][0-9]'\n",
    "Liechtenstein_pattern=r'\\d{4}'\n",
    "China_pattern=r'\\d{6}'\n",
    "San_Marino_pattern=r'(4789\\d)'\n",
    "Australia_pattern=r'\\d{4}'\n",
    "Japan_pattern=r'([A-Z]{1,3}([\\-])?)?([\\s])?(\\d{3}-\\d{4})'\n",
    "Monaco_pattern=r'980[0-9]{2}'\n",
    "Jersey2_pattern=r'JE[0-9]{1}[\\s]([\\d][A-Z]{2})'\n",
    "Jersey_pattern=r'([Gg][Ii][Rr] 0[Aa]{2})|((([A-Za-z][0-9]{1,2})|(([A-Za-z][A-Ha-hJ-Yj-y][0-9]{1,2})|(([A-Za-z][0-9][A-Za-z])|([A-Za-z][A-Ha-hJ-Yj-y][0-9][A-Za-z]?))))\\s?[0-9][A-Za-z]{2})'\n",
    "Czech_Republic_pattern=r'[1-7][0-9]{2} [0-9]{2}|[1-7][0-9]{4}'\n",
    "Portugal_pattern=r'[0-9]{4}-[0-9]{3}'\n",
    "Latvia_pattern=r'LV-[0-9]{4}'\n",
    "Algeria_pattern=r'[0-9]{5}'\n",
    "Bulgaria_pattern=r'[0-9]{4}'\n",
    "India_pattern=r'[1-9]\\d{5}'\n",
    "Greece_pattern=r'[0-9]{3} [0-9]{2}'\n",
    "Israel_pattern=r'[0-9]{5}|[0-9]{7}'\n",
    "Lebanon_pattern=r'[0-9]{4} [0-9]{4}'\n",
    "Tunisia_pattern=r'\\d{4}'\n",
    "Korea_pattern=r'\\d{5}'\n",
    "Swaziland_pattern=r'([A-Z]\\d{3})'\n",
    "French_Guiana_pattern=r'\\d{5}'\n",
    "Taiwan_pattern=r'(\\d{3}\\-\\d{3})|(\\d{3}[-]\\d{2})|(\\d{6})|(\\d{3})'\n",
    "Gibraltar_pattern=r'(GX11 1AA)'\n",
    "Singapore_pattern=r'\\d{6}'\n",
    "Hong_Kong=r'(999077)'\n",
    "Brazil_pattern=r'[0-9]{5}-[0-9]{3}'\n",
    "Cayman_Islands_pattern=r'[A-Z]{2}[0-9]-[0-9]{4}'\n",
    "New_Caledonia_pattern=r'988\\d{2'\n",
    "French_Polynesia_pattern=r'((987)\\d{2})'\n",
    "United_Arab_Emirates_pattern=r''\n",
    "Poland_pattern=r'[0-9]{2}[-]([0-9]){3}'\n",
    "Russian_Federation_pattern=r'[0-9]{6}'\n",
    "Cyprus_pattern=r'[0-9]{4}'\n",
    "South_Africa_pattern=r'\\d{4}'\n",
    "Morocco_pattern=r'[1-9]\\d{4}'\n",
    "Kuwait_pattern=r'[0-9]{5}'\n",
    "Oman_pattern=r'[0-9]{3}'\n",
    "British_Virgin_Islands_pattern=r'(VG11)[0-6][0]'\n",
    "Mauritius_pattern=r'([0-9A-R]\\d{4})'\n",
    "Andorra_pattern=r'AD\\d{3}'\n",
    "Bermuda_pattern=r'[A-Z]{2}[0-9]{2}'\n",
    "Mexico_pattern=r'[0-9]{5}'\n",
    "Saudi_Arabia_pattern=r'[1-8]\\d{4}([\\-]\\d{4})?'\n",
    "Guernsey_pattern=r'([Gg][Ii][Rr] 0[Aa]{2})|((([A-Za-z][0-9]{1,2})|(([A-Za-z][A-Ha-hJ-Yj-y][0-9]{1,2})|(([A-Za-z][0-9][A-Za-z])|([A-Za-z][A-Ha-hJ-Yj-y][0-9][A-Za-z]?))))\\s?[0-9][A-Za-z]{2})'\n",
    "Bahrain_pattern=r'\\d{3}\\d?'\n",
    "New_Zealand_pattern=r'[0-9]{4}'\n",
    "Croatia_pattern=r'[1-5]\\d{4}'\n",
    "Argentina_pattern=r'([A-Z]\\d{4}[A-Z]{3})|([A-Z]\\d{4})'\n",
    "Jordan_pattern=r'[0-9]{5}'\n",
    "Chile_pattern=r'[0-9]{7}'\n",
    "Philippines_pattern=r'[0-9]{4}'\n",
    "Malaysia_pattern=r'[0-9]{5}'\n",
    "Thailand_pattern=r'[0-9]{5}'\n",
    "Brunei_Darussalam_pattern=r'[A-Z]{2}\\d{4}'\n",
    "Peru_pattern=r'[0-9]{5}'\n",
    "Colombia_pattern=r'[0-9]{6}'\n",
    "Ecuador_pattern=r'[0-9]{6}'\n",
    "Turkey_pattern=r'[0-9]{5}'\n",
    "Panama_pattern=r'[0-9]{4}'\n",
    "Uruguay_pattern=r'[0-9]{5}'\n",
    "Afghanistan_pattern=r'[0-9]{4}'\n",
    "Saint_Pierre_and_Miquelon_pattern=r'\\d{5}'\n",
    "Slovenia_pattern=r'[1-9]\\d{3}'\n",
    "Albania_pattern=r'(120|122)[0-9]{2}'\n",
    "Romania_pattern=r'[0-9]{6}'\n",
    "Slovakia_pattern=r'[0-9]{3} [0-9]{2}'"
   ]
  },
  {
   "cell_type": "code",
   "execution_count": 900,
   "id": "e18bfc5e",
   "metadata": {},
   "outputs": [],
   "source": [
    "#regex patterns\n",
    "postal_code_patterns=[Canada_pattern,USA_pattern,Japan_pattern,Estonia_pattern,China_pattern,Netherlands_pattern,Lithuania_pattern,Finland_pattern,Germany_pattern,Luxembourg_pattern,Norway_pattern,Switzerland_pattern,Spain_pattern,Sweden_pattern,Hungary_pattern,Malta_pattern,United_Kingdom_pattern,France_pattern,Italy_pattern,Denmark_pattern,Austria_pattern,Belgium_pattern,Liechtenstein_pattern,San_Marino_pattern,Australia_pattern,Ireland_pattern,Monaco_pattern,Jersey2_pattern,Jersey_pattern,Czech_Republic_pattern,Portugal_pattern,Latvia_pattern,Algeria_pattern,Bulgaria_pattern,India_pattern,Greece_pattern,Israel_pattern,Lebanon_pattern,Tunisia_pattern,Korea_pattern,Swaziland_pattern,French_Guiana_pattern,Taiwan_pattern,Gibraltar_pattern,Singapore_pattern,Hong_Kong,Brazil_pattern,Cayman_Islands_pattern,New_Caledonia_pattern,French_Polynesia_pattern,United_Arab_Emirates_pattern,Poland_pattern,Russian_Federation_pattern,Cyprus_pattern,South_Africa_pattern,Morocco_pattern,Kuwait_pattern,Oman_pattern,British_Virgin_Islands_pattern,Mauritius_pattern,Andorra_pattern,Bermuda_pattern,Mexico_pattern,Saudi_Arabia_pattern,Guernsey_pattern,Bahrain_pattern,New_Zealand_pattern,Croatia_pattern,Argentina_pattern,Jordan_pattern,Chile_pattern,Philippines_pattern,Malaysia_pattern,Thailand_pattern,Brunei_Darussalam_pattern,Peru_pattern,Colombia_pattern,Ecuador_pattern,Turkey_pattern,Panama_pattern,Uruguay_pattern,Afghanistan_pattern,Saint_Pierre_and_Miquelon_pattern,Slovenia_pattern,Albania_pattern,Romania_pattern,Slovakia_pattern]"
   ]
  },
  {
   "cell_type": "code",
   "execution_count": 907,
   "id": "4ec19e41",
   "metadata": {},
   "outputs": [
    {
     "data": {
      "text/plain": [
       "'EC4M7DR'"
      ]
     },
     "execution_count": 907,
     "metadata": {},
     "output_type": "execute_result"
    }
   ],
   "source": [
    "def Postal_code_extractor(addresse):\n",
    "    \"\"\"\n",
    "    Extract postal code from an address\n",
    "    \"\"\"\n",
    "    for postcode in postal_code_patterns:\n",
    "        if (bool(re.search(postcode, addresse))==True):\n",
    "            postcode_match = re.search(postcode, addresse)\n",
    "            break\n",
    "        else: \n",
    "            continue\n",
    "    if postcode_match:\n",
    "        return postcode_match.group()\n",
    "Postal_code_extractor(\"32 Ludgate hill, EC4M7DR1BB London\")"
   ]
  },
  {
   "cell_type": "code",
   "execution_count": null,
   "id": "ffe0cf13",
   "metadata": {},
   "outputs": [],
   "source": [
    "def "
   ]
  },
  {
   "cell_type": "code",
   "execution_count": 1,
   "id": "66de3907",
   "metadata": {},
   "outputs": [
    {
     "ename": "NameError",
     "evalue": "name 're' is not defined",
     "output_type": "error",
     "traceback": [
      "\u001b[1;31m---------------------------------------------------------------------------\u001b[0m",
      "\u001b[1;31mNameError\u001b[0m                                 Traceback (most recent call last)",
      "\u001b[1;32m<ipython-input-1-38589206467b>\u001b[0m in \u001b[0;36m<module>\u001b[1;34m\u001b[0m\n\u001b[0;32m      4\u001b[0m     \u001b[1;32mif\u001b[0m \u001b[0mmatch\u001b[0m\u001b[1;33m:\u001b[0m\u001b[1;33m\u001b[0m\u001b[1;33m\u001b[0m\u001b[0m\n\u001b[0;32m      5\u001b[0m         \u001b[0mprint\u001b[0m\u001b[1;33m(\u001b[0m\u001b[0mmatch\u001b[0m\u001b[1;33m.\u001b[0m\u001b[0mgroup\u001b[0m\u001b[1;33m(\u001b[0m\u001b[1;36m1\u001b[0m\u001b[1;33m)\u001b[0m\u001b[1;33m)\u001b[0m\u001b[1;33m\u001b[0m\u001b[1;33m\u001b[0m\u001b[0m\n\u001b[1;32m----> 6\u001b[1;33m \u001b[0msplit_combined_components\u001b[0m\u001b[1;33m(\u001b[0m\u001b[1;34m\"100Yonge St., 1700, M5C 2W1 Toronto\"\u001b[0m\u001b[1;33m)\u001b[0m\u001b[1;33m\u001b[0m\u001b[1;33m\u001b[0m\u001b[0m\n\u001b[0m",
      "\u001b[1;32m<ipython-input-1-38589206467b>\u001b[0m in \u001b[0;36msplit_combined_components\u001b[1;34m(address)\u001b[0m\n\u001b[0;32m      1\u001b[0m \u001b[1;32mdef\u001b[0m \u001b[0msplit_combined_components\u001b[0m\u001b[1;33m(\u001b[0m\u001b[0maddress\u001b[0m\u001b[1;33m)\u001b[0m\u001b[1;33m:\u001b[0m\u001b[1;33m\u001b[0m\u001b[1;33m\u001b[0m\u001b[0m\n\u001b[0;32m      2\u001b[0m     \u001b[0mpattern\u001b[0m\u001b[1;33m=\u001b[0m\u001b[1;34mr'(\\d+\\w*)\\s*(.*)([a-zA-Z]+)'\u001b[0m\u001b[1;33m\u001b[0m\u001b[1;33m\u001b[0m\u001b[0m\n\u001b[1;32m----> 3\u001b[1;33m     \u001b[0mmatch\u001b[0m\u001b[1;33m=\u001b[0m\u001b[0mre\u001b[0m\u001b[1;33m.\u001b[0m\u001b[0mmatch\u001b[0m\u001b[1;33m(\u001b[0m\u001b[0mpattern\u001b[0m\u001b[1;33m,\u001b[0m\u001b[0maddress\u001b[0m\u001b[1;33m)\u001b[0m\u001b[1;33m\u001b[0m\u001b[1;33m\u001b[0m\u001b[0m\n\u001b[0m\u001b[0;32m      4\u001b[0m     \u001b[1;32mif\u001b[0m \u001b[0mmatch\u001b[0m\u001b[1;33m:\u001b[0m\u001b[1;33m\u001b[0m\u001b[1;33m\u001b[0m\u001b[0m\n\u001b[0;32m      5\u001b[0m         \u001b[0mprint\u001b[0m\u001b[1;33m(\u001b[0m\u001b[0mmatch\u001b[0m\u001b[1;33m.\u001b[0m\u001b[0mgroup\u001b[0m\u001b[1;33m(\u001b[0m\u001b[1;36m1\u001b[0m\u001b[1;33m)\u001b[0m\u001b[1;33m)\u001b[0m\u001b[1;33m\u001b[0m\u001b[1;33m\u001b[0m\u001b[0m\n",
      "\u001b[1;31mNameError\u001b[0m: name 're' is not defined"
     ]
    }
   ],
   "source": [
    "def split_combined_components(address):\n",
    "    pattern=r'(\\d+\\w*)\\s*(.*)([a-zA-Z]+)'\n",
    "    match=re.match(pattern,address)\n",
    "    if match:\n",
    "        print(match.group(1))\n",
    "split_combined_components(\"100Yonge St., 1700, M5C 2W1 Toronto\")"
   ]
  },
  {
   "cell_type": "code",
   "execution_count": 527,
   "id": "17ab4dec",
   "metadata": {},
   "outputs": [],
   "source": [
    "import re\n",
    "invalidAdress_splitted_without_special_car=removing_special_car(invalidAdress_splitted)"
   ]
  },
  {
   "cell_type": "code",
   "execution_count": 1033,
   "id": "7da5e177",
   "metadata": {},
   "outputs": [],
   "source": [
    "Canada=r'((CA|CAN)([\\-])?)?([\\s])?[A-Z][0-9][A-Z]([\\s])?[0-9][A-Z][0-9]'\n",
    "Netherlands=r'[1-9]\\d{3}([\\s])?[A-Z]{2}'\n",
    "United_Kingdom_pattern=r'[A-Z]{1,2}\\d[A-Z\\d]?([\\s])?\\d([\\s])?[A-Z]{2}'\n",
    "BritishIndianOceanTerritory=r'((IO|IOT)([\\-])?)?([\\s])?(BB9D 1ZZ)'\n",
    "USA_6=r'((AL|AK|AZ|FIN|AR|CA|CO|CT|DE|FL|GA|HI|ID|IL|IN|IA|KS|KY|LA|ME|MD|MA|MI|MN|MS|MO|MT|NE|NV|NH|NJ|NM|NY|NC|ND|OH|OK|OR|PA|RI|SC|SD|TN|TX|UT|VT|VA|WA|WV|WI|WY)([\\s])?([\\-])?)?([\\s])?\\d{6}(([\\-])?\\d{4})?'\n",
    "six_chiffres1=r'((CN|CHN|CO|COL|KH|KHM|AM|ARM|BY|BLR|EC|ECU|MW|MWI|NE|NER|VN|VNM|SG|SGP|RO|ROU|RU|RUS|UZ|UZB|TW|TWN)([\\-])?)?([\\s])?\\d{6}'\n",
    "Croatia=r'(((?i)AL|AK|AS|ASM|FIN|AZ|AR|CA|CO|CT|DE|FL|GA|HI|ID|IL|IN|IA|KS|KY|LA|ME|MD|MA|MI|MN|MS|MO|MT|NE|NV|NH|NJ|NM|NY|NC|ND|OH|OK|OR|PA|RI|SC|SD|TN|TX|UT|VT|VA|WA|WV|WI|WY|HR|HRV)([\\-])?)?([\\s])?[1-5]\\d{4}([\\s])?(-\\d{4})?'\n",
    "Burkina_faso=r'(((?i)AL|AK|AS|ASM|FIN|AZ|AR|CA|CO|CT|DE|FL|GA|HI|ID|IL|IN|IA|KS|KY|LA|ME|MD|MA|MI|MN|MS|MO|MT|NE|NV|NH|NJ|NM|NY|NC|ND|OH|OK|OR|PA|RI|SC|SD|TN|TX|UT|VT|VA|WA|WV|WI|WY|BF|BFA)([\\-])?)?([\\s])?[1-9]\\d{4}([\\s])?(-\\d{4})?'\n",
    "USA_5=r'(((?i)AL|AK|AS|ASM|AZ|FIN|AR|CA|CO|CT|DE|FL|GA|HI|ID|IL|IN|IA|KS|KY|LA|ME|MD|MA|MI|MN|MS|MO|MT|NE|NV|NH|NJ|NM|NY|NC|ND|OH|OK|OR|PA|RI|SC|SD|TN|TX|UT|VT|VA|WA|WV|WI|WY)([\\-])?)?([\\s])?\\d{5}(([\\-])?\\d{4})?'\n",
    "cinq_chiffres1=r'((KH|KHM|DZ|DZA|CU|CUB|BB|BRB|ID|IDN|MA|MAR|PK|PAK|SN|SEN|BA|BIH|BT|BTN|CR|CRI|DE|DEU|D|DO|DOM|EE|EST|EG|EGY|ES|ESP|FI|FIN|FR|FRA|GR|GRC|GT|GTM|HN|HND|IQ|IRQ|IT|ITA|I|JO|JOR|KE|KEN|KH|KHM|KR|KOR|KW|KWT|LA|LAO|LK|LKA|LT|LTU|ME|MNE|MM|MMR|MN|MNG|MV|MDV|MX|MEX|MY|MYS|NA|NAM|NI|NIC|NP|NPL|PE|PER|RS|SRB|SD|SDN|SK|SVK|SS|SSD|TH|THA|TR|TUR|TZ|TZA|UA|UKR|VI|VIR|WF|WLF|ZM|ZMB)([\\s])?([\\-])?)?([\\s])?\\d{5}'\n",
    "cinq_chiffres2=r'(((?i)KH|KHM|DZ|DZA|CU|CUB|BB|BRB|ID|IDN|MA|MAR|PK|PAK|SN|SEN|BA|BIH|BT|BTN|CR|CRI|DE|DEU|D|DO|DOM|EE|EST|EG|EGY|ES|ESP|FI|FIN|FR|FRA|GR|GRC|GT|GTM|HN|HND|IQ|IRQ|IT|ITA|I|JO|JOR|KE|KEN|KH|KHM|KR|KOR|KW|KWT|LA|LAO|LK|LKA|LT|LTU|ME|MNE|MM|MMR|MN|MNG|MV|MDV|MX|MEX|MY|MYS|NA|NAM|NI|NIC|NP|NPL|PE|PER|RS|SRB|SD|SDN|SK|SVK|SS|SSD|TH|THA|TR|TUR|TZ|TZA|UA|UKR|VI|VIR|WF|WLF|ZM|ZMB)([\\s])?([\\-]))?([\\s])?\\d{5}'\n",
    "Brazil=r'((BR|BRA)([\\-])?)?([\\s])?\\d{5}([\\-])?([\\s])?\\d{3}'\n",
    "CaymanIslands=r'[K][Y][0-9]{1}[-]([0-9]){4}'\n",
    "Argentina=r'([A-Z]\\d{4}[A-Z]{3})|([A-Z]\\d{4})'\n",
    "quatre_chiffres=r'((NSW|AI|AIA|AM|ARM|AL|ALB|AF|AFG|AU|AUS|AT|AUT|AZ|AZE|BD|BGD|BE|BEL|BG|BGR|DK|DNK|SV|SLV|ET|ETH|GE|GEO|BH|BHR|GN|GIN|HR|HRV|HT|HTI|KI|KIR|LB|LBN|CV|CPV|LR|LBR|LI|LIE|LU|LUX|L|LV|LVA|MD|MDA|NO|NOR|MS|MSR|MK|MKD|MZ|MOZ|NE|NER|NZ|NZL|PA|PAN|PH|PHL|PY|PRY|VC|VCT|ZA|ZAF|TN|TUN)([\\s])?([\\-])?)?([\\s])?\\d{4}'\n",
    "sweden=r'((S|SE|SWE)([\\-])?)([\\s])?[1-9]\\d{2}([\\s])?([\\-])?\\d{2}'\n",
    "trois_chiffres=r'((JP|JPN|AD|AND|BH|BHR|GN|GIN|TW|TWN|PS|PSE|PG|PNG|LS|LSO|MG|MDG|OM|OMN|FO|FRO|GR|GRC)([\\-])?)?([\\s])?\\d{3}([\\s])?([\\-])?([\\s])?(\\d{3})?(\\d{2})?(\\d{4})?'\n",
    "deux_chiffres=r'((BM|BMU|LC|LCA|PL|POL)([\\-])?)?([\\s])?\\d{2}([\\s])?([\\-])?([\\s])?(\\d{3})?(\\d{2})?'\n",
    "patterns=[Canada,Netherlands,United_Kingdom_pattern,BritishIndianOceanTerritory,USA_6,six_chiffres1,Croatia,Burkina_faso,American_Samoa,USA_5,cinq_chiffres1,cinq_chiffres2,quatre_chiffres,sweden,trois_chiffres,deux_chiffres]\n",
    "\n",
    "#iso_only=r'(AO|AGO|AG|ATG|AW|ABW|BS|BHS|BZ|BLZ|BJ|BEN|BO|BOL|BW|BWA|BV|BVT|CM|CMR|)?'\n",
    "#Bermuda=r'[A-Z]{2} \\d{2}'\n",
    "[A-Z]{3} [0-9]{4}|[A-Z]{2}[0-9]{2}|[A-Z]{2} [0-9]{2}|[A-Z]{3}[0-9]{4}|[A-Z]{3}[0-9]{2}|[A-Z]{3} [0-9]{2}\n"
   ]
  },
  {
   "cell_type": "code",
   "execution_count": 979,
   "id": "da5a217b",
   "metadata": {},
   "outputs": [],
   "source": [
    "test=[\" 16, Avenue Henri Fréville CS98101, 35081 Rennes\",\"100 Yonge St., 1700, M5C 2W1 Toronto\",\"32 Ludgate hill, EC4M7DR1BB London\",\" Investor RelationsEnel S.p.A.Viale Regina Margherita,137, I - 00198 Rome\",\"25, Ermou Str. - Nea Kifissia, GR 145 64\",\"9 Chiswick Park, 566 Chiswick High Road, W4 5XT London\",\"120 Cannon StreetCandlewick House, (mochkla taa espace) EC4N 6 AS London\",\"536 Broadway, 7th FI, NY 10012-3915 New York\",\"Level 8 7 Macquarie Place, NSW 2000 Sydney\",\"Vasagatan 7P.O. Box 704 14, S-107 25 Stockholm\",\"Azia Center suite 300130th floor1233 lujiazui RING ROAD, PRC 200120 Shanghai\",\"Raiffeisenallee 16, d-82041 Oberhaching\",\"300 Drakes Landing Rd.,  210, Greenbrae, 94904-3123\",\"BP 1634, L-1016 Luxemburg\",\"Herengracht 595, 1008 DG Amsterdam\",\" Gebouw Vierlander, Fellenoord 23, 5612AA Eindhoven\",\"Suite 2, level 35, 60 Margaret St, NSW 2000 Sydney\",\"Senator House 85 Queen Victoria Street, EC4V 4ET London\",\"60/22 Melita Street, VLT 1122 La Valette\",\"Herengracht 130, 1001 AT Amsterdam\",\"Berzelii Park 9Box 7415, 103 91 Stockholm\",\"One Letterman DriveBuilding D, Suite D3-700, CA 94129 San Francisco\",\"225 W Upper Wacker Dr  2400, IL 60606 Chicago\",\"62 Queen Street1st Floor Rex Building, EC4R1EB London\",\" Suite 3300, Bentall 5 550 Burrard Street, V6C0B3 VANCOUVER\",\"33A, avenue J-F Kennedy, L-855 Luxemburg\",\"Level 4, Berkeley SquareBerkeley Square House, W1J6BX London\",\"101 Grand Blvd, KS64106 KANSAS CITY\",\"12 Rue Eugene Ruppert, L - 2543 Luxemburg\",\"5420 W. 61st Pl., KS66205-3084 SHAWNEEMISSION\",\"Pohjoisesplanadi 35 AB, FIN-00100 Helsinki\",\" Klara Soedra Kyrkogata 18, SE-113 88 Stockholm\",\" 1-6-2 Higashi-shinbashi,Minato-ku, 105-8310 Tokyo\",\"4th Floor, Ramnath House18, Community Centre, Yusuf Sarai, 110049 New Delhi\",\"1221  Brickell Avenue, Suite 900, FL-33131 Miami\",\"33 HolbornMail box 3/24, EC1N 2HT London\",\"121 Avenue de la Faiencerie,, 1511 Luxemburg\",\"121 Avenue de la Faiencerie,, L1511 Luxemburg\",\"121 Avenue de la Faiencerie,, L-1511 Luxemburg\",\"29th Floor1 Adelaide Street East, ON M5C 2V9 Toronto\",\"570 avenue du club hippiqueImmeuble le Derby, 13097 Aix En Provence\",\"Am Graben 13/I/Top 40, 1010 Vienna\",\"598 Madison Avenue15th Floor, NY 10022 New York\",\"Ottostrasse 5, D-80333 Muenchen\"]"
   ]
  },
  {
   "cell_type": "code",
   "execution_count": 1034,
   "id": "8712da96",
   "metadata": {
    "scrolled": true
   },
   "outputs": [
    {
     "name": "stdout",
     "output_type": "stream",
     "text": [
      "(((?i)AL|AK|AS|ASM|FIN|AZ|AR|CA|CO|CT|DE|FL|GA|HI|ID|IL|IN|IA|KS|KY|LA|ME|MD|MA|MI|MN|MS|MO|MT|NE|NV|NH|NJ|NM|NY|NC|ND|OH|OK|OR|PA|RI|SC|SD|TN|TX|UT|VT|VA|WA|WV|WI|WY|HR|HRV)([\\-])?)?([\\s])?[1-5]\\d{4}([\\s])?(-\\d{4})?\n",
      "Postcode:  35081 \n",
      "---\n",
      "((CA|CAN)([\\-])?)?([\\s])?[A-Z][0-9][A-Z]([\\s])?[0-9][A-Z][0-9]\n",
      "Postcode:  M5C 2W1\n",
      "---\n",
      "[A-Z]{1,2}\\d[A-Z\\d]?([\\s])?\\d([\\s])?[A-Z]{2}\n",
      "Postcode: EC4M7DR\n",
      "---\n",
      "((AS|ASM)([\\-])?)?([\\s])?\\d{5}(-\\d{4})?\n",
      "Postcode:  00198\n",
      "---\n",
      "((JP|JPN|AD|AND|BH|BHR|GN|GIN|TW|TWN|PS|PSE|PG|PNG|LS|LSO|MG|MDG|OM|OMN|FO|FRO|GR|GRC)([\\-])?)?([\\s])?\\d{3}([\\s])?([\\-])?([\\s])?(\\d{3})?(\\d{2})?(\\d{4})?\n",
      "Postcode: GR 145 64\n",
      "---\n",
      "[A-Z]{1,2}\\d[A-Z\\d]?([\\s])?\\d([\\s])?[A-Z]{2}\n",
      "Postcode: W4 5XT\n",
      "---\n",
      "[A-Z]{1,2}\\d[A-Z\\d]?([\\s])?\\d([\\s])?[A-Z]{2}\n",
      "Postcode: EC4N 6 AS\n",
      "---\n",
      "(((?i)AL|AK|AS|ASM|FIN|AZ|AR|CA|CO|CT|DE|FL|GA|HI|ID|IL|IN|IA|KS|KY|LA|ME|MD|MA|MI|MN|MS|MO|MT|NE|NV|NH|NJ|NM|NY|NC|ND|OH|OK|OR|PA|RI|SC|SD|TN|TX|UT|VT|VA|WA|WV|WI|WY|HR|HRV)([\\-])?)?([\\s])?[1-5]\\d{4}([\\s])?(-\\d{4})?\n",
      "Postcode: NY 10012-3915\n",
      "---\n",
      "((AI|AIA|AM|ARM|AL|ALB|AF|AFG|AU|AUS|AT|AUT|AZ|AZE|BD|BGD|BE|BEL|BG|BGR|DK|DNK|SV|SLV|ET|ETH|GE|GEO|BH|BHR|GN|GIN|HR|HRV|HT|HTI|KI|KIR|LB|LBN|CV|CPV|LR|LBR|LI|LIE|LU|LUX|L|LV|LVA|MD|MDA|NO|NOR|MS|MSR|MK|MKD|MZ|MOZ|NE|NER|NZ|NZL|PA|PAN|PH|PHL|PY|PRY|VC|VCT|ZA|ZAF|TN|TUN)([\\s])?([\\-])?)?([\\s])?\\d{4}\n",
      "Postcode:  2000\n",
      "---\n",
      "((S|SE|SWE)([\\-])?)([\\s])?[1-9]\\d{2}([\\s])?([\\-])?\\d{2}\n",
      "Postcode: S-107 25\n",
      "---\n",
      "((AL|AK|AZ|FIN|AR|CA|CO|CT|DE|FL|GA|HI|ID|IL|IN|IA|KS|KY|LA|ME|MD|MA|MI|MN|MS|MO|MT|NE|NV|NH|NJ|NM|NY|NC|ND|OH|OK|OR|PA|RI|SC|SD|TN|TX|UT|VT|VA|WA|WV|WI|WY)([\\s])?([\\-])?)?([\\s])?\\d{6}(([\\-])?\\d{4})?\n",
      "Postcode:  300130\n",
      "---\n",
      "(((?i)AL|AK|AS|ASM|FIN|AZ|AR|CA|CO|CT|DE|FL|GA|HI|ID|IL|IN|IA|KS|KY|LA|ME|MD|MA|MI|MN|MS|MO|MT|NE|NV|NH|NJ|NM|NY|NC|ND|OH|OK|OR|PA|RI|SC|SD|TN|TX|UT|VT|VA|WA|WV|WI|WY|BF|BFA)([\\-])?)?([\\s])?[1-9]\\d{4}([\\s])?(-\\d{4})?\n",
      "Postcode: 82041 \n",
      "---\n",
      "(((?i)AL|AK|AS|ASM|FIN|AZ|AR|CA|CO|CT|DE|FL|GA|HI|ID|IL|IN|IA|KS|KY|LA|ME|MD|MA|MI|MN|MS|MO|MT|NE|NV|NH|NJ|NM|NY|NC|ND|OH|OK|OR|PA|RI|SC|SD|TN|TX|UT|VT|VA|WA|WV|WI|WY|BF|BFA)([\\-])?)?([\\s])?[1-9]\\d{4}([\\s])?(-\\d{4})?\n",
      "Postcode:  94904-3123\n",
      "---\n",
      "((AI|AIA|AM|ARM|AL|ALB|AF|AFG|AU|AUS|AT|AUT|AZ|AZE|BD|BGD|BE|BEL|BG|BGR|DK|DNK|SV|SLV|ET|ETH|GE|GEO|BH|BHR|GN|GIN|HR|HRV|HT|HTI|KI|KIR|LB|LBN|CV|CPV|LR|LBR|LI|LIE|LU|LUX|L|LV|LVA|MD|MDA|NO|NOR|MS|MSR|MK|MKD|MZ|MOZ|NE|NER|NZ|NZL|PA|PAN|PH|PHL|PY|PRY|VC|VCT|ZA|ZAF|TN|TUN)([\\s])?([\\-])?)?([\\s])?\\d{4}\n",
      "Postcode:  1634\n",
      "---\n",
      "[1-9]\\d{3}([\\s])?[A-Z]{2}\n",
      "Postcode: 1008 DG\n",
      "---\n",
      "[1-9]\\d{3}([\\s])?[A-Z]{2}\n",
      "Postcode: 5612AA\n",
      "---\n",
      "((AI|AIA|AM|ARM|AL|ALB|AF|AFG|AU|AUS|AT|AUT|AZ|AZE|BD|BGD|BE|BEL|BG|BGR|DK|DNK|SV|SLV|ET|ETH|GE|GEO|BH|BHR|GN|GIN|HR|HRV|HT|HTI|KI|KIR|LB|LBN|CV|CPV|LR|LBR|LI|LIE|LU|LUX|L|LV|LVA|MD|MDA|NO|NOR|MS|MSR|MK|MKD|MZ|MOZ|NE|NER|NZ|NZL|PA|PAN|PH|PHL|PY|PRY|VC|VCT|ZA|ZAF|TN|TUN)([\\s])?([\\-])?)?([\\s])?\\d{4}\n",
      "Postcode:  2000\n",
      "---\n",
      "[A-Z]{1,2}\\d[A-Z\\d]?([\\s])?\\d([\\s])?[A-Z]{2}\n",
      "Postcode: EC4V 4ET\n",
      "---\n",
      "((AI|AIA|AM|ARM|AL|ALB|AF|AFG|AU|AUS|AT|AUT|AZ|AZE|BD|BGD|BE|BEL|BG|BGR|DK|DNK|SV|SLV|ET|ETH|GE|GEO|BH|BHR|GN|GIN|HR|HRV|HT|HTI|KI|KIR|LB|LBN|CV|CPV|LR|LBR|LI|LIE|LU|LUX|L|LV|LVA|MD|MDA|NO|NOR|MS|MSR|MK|MKD|MZ|MOZ|NE|NER|NZ|NZL|PA|PAN|PH|PHL|PY|PRY|VC|VCT|ZA|ZAF|TN|TUN)([\\s])?([\\-])?)?([\\s])?\\d{4}\n",
      "Postcode:  1122\n",
      "---\n",
      "[1-9]\\d{3}([\\s])?[A-Z]{2}\n",
      "Postcode: 1001 AT\n",
      "---\n",
      "((AI|AIA|AM|ARM|AL|ALB|AF|AFG|AU|AUS|AT|AUT|AZ|AZE|BD|BGD|BE|BEL|BG|BGR|DK|DNK|SV|SLV|ET|ETH|GE|GEO|BH|BHR|GN|GIN|HR|HRV|HT|HTI|KI|KIR|LB|LBN|CV|CPV|LR|LBR|LI|LIE|LU|LUX|L|LV|LVA|MD|MDA|NO|NOR|MS|MSR|MK|MKD|MZ|MOZ|NE|NER|NZ|NZL|PA|PAN|PH|PHL|PY|PRY|VC|VCT|ZA|ZAF|TN|TUN)([\\s])?([\\-])?)?([\\s])?\\d{4}\n",
      "Postcode:  7415\n",
      "---\n",
      "(((?i)AL|AK|AS|ASM|FIN|AZ|AR|CA|CO|CT|DE|FL|GA|HI|ID|IL|IN|IA|KS|KY|LA|ME|MD|MA|MI|MN|MS|MO|MT|NE|NV|NH|NJ|NM|NY|NC|ND|OH|OK|OR|PA|RI|SC|SD|TN|TX|UT|VT|VA|WA|WV|WI|WY|BF|BFA)([\\-])?)?([\\s])?[1-9]\\d{4}([\\s])?(-\\d{4})?\n",
      "Postcode: CA 94129 \n",
      "---\n",
      "(((?i)AL|AK|AS|ASM|FIN|AZ|AR|CA|CO|CT|DE|FL|GA|HI|ID|IL|IN|IA|KS|KY|LA|ME|MD|MA|MI|MN|MS|MO|MT|NE|NV|NH|NJ|NM|NY|NC|ND|OH|OK|OR|PA|RI|SC|SD|TN|TX|UT|VT|VA|WA|WV|WI|WY|BF|BFA)([\\-])?)?([\\s])?[1-9]\\d{4}([\\s])?(-\\d{4})?\n",
      "Postcode: IL 60606 \n",
      "---\n",
      "[A-Z]{1,2}\\d[A-Z\\d]?([\\s])?\\d([\\s])?[A-Z]{2}\n",
      "Postcode: EC4R1EB\n",
      "---\n",
      "((CA|CAN)([\\-])?)?([\\s])?[A-Z][0-9][A-Z]([\\s])?[0-9][A-Z][0-9]\n",
      "Postcode:  V6C0B3\n",
      "---\n",
      "((JP|JPN|AD|AND|BH|BHR|GN|GIN|TW|TWN|PS|PSE|PG|PNG|LS|LSO|MG|MDG|OM|OMN|FO|FRO|GR|GRC)([\\-])?)?([\\s])?\\d{3}([\\s])?([\\-])?([\\s])?(\\d{3})?(\\d{2})?(\\d{4})?\n",
      "Postcode: 855 \n",
      "---\n",
      "[A-Z]{1,2}\\d[A-Z\\d]?([\\s])?\\d([\\s])?[A-Z]{2}\n",
      "Postcode: W1J6BX\n",
      "---\n",
      "[1-9]\\d{3}([\\s])?[A-Z]{2}\n",
      "Postcode: 4106 KA\n",
      "---\n",
      "((AI|AIA|AM|ARM|AL|ALB|AF|AFG|AU|AUS|AT|AUT|AZ|AZE|BD|BGD|BE|BEL|BG|BGR|DK|DNK|SV|SLV|ET|ETH|GE|GEO|BH|BHR|GN|GIN|HR|HRV|HT|HTI|KI|KIR|LB|LBN|CV|CPV|LR|LBR|LI|LIE|LU|LUX|L|LV|LVA|MD|MDA|NO|NOR|MS|MSR|MK|MKD|MZ|MOZ|NE|NER|NZ|NZL|PA|PAN|PH|PHL|PY|PRY|VC|VCT|ZA|ZAF|TN|TUN)([\\s])?([\\-])?)?([\\s])?\\d{4}\n",
      "Postcode: L - 2543\n",
      "---\n",
      "[1-9]\\d{3}([\\s])?[A-Z]{2}\n",
      "Postcode: 3084 SH\n",
      "---\n",
      "((AS|ASM)([\\-])?)?([\\s])?\\d{5}(-\\d{4})?\n",
      "Postcode: 00100\n",
      "---\n",
      "((S|SE|SWE)([\\-])?)([\\s])?[1-9]\\d{2}([\\s])?([\\-])?\\d{2}\n",
      "Postcode: SE-113 88\n",
      "---\n",
      "((AI|AIA|AM|ARM|AL|ALB|AF|AFG|AU|AUS|AT|AUT|AZ|AZE|BD|BGD|BE|BEL|BG|BGR|DK|DNK|SV|SLV|ET|ETH|GE|GEO|BH|BHR|GN|GIN|HR|HRV|HT|HTI|KI|KIR|LB|LBN|CV|CPV|LR|LBR|LI|LIE|LU|LUX|L|LV|LVA|MD|MDA|NO|NOR|MS|MSR|MK|MKD|MZ|MOZ|NE|NER|NZ|NZL|PA|PAN|PH|PHL|PY|PRY|VC|VCT|ZA|ZAF|TN|TUN)([\\s])?([\\-])?)?([\\s])?\\d{4}\n",
      "Postcode: 8310\n",
      "---\n",
      "((AL|AK|AZ|FIN|AR|CA|CO|CT|DE|FL|GA|HI|ID|IL|IN|IA|KS|KY|LA|ME|MD|MA|MI|MN|MS|MO|MT|NE|NV|NH|NJ|NM|NY|NC|ND|OH|OK|OR|PA|RI|SC|SD|TN|TX|UT|VT|VA|WA|WV|WI|WY)([\\s])?([\\-])?)?([\\s])?\\d{6}(([\\-])?\\d{4})?\n",
      "Postcode:  110049\n",
      "---\n",
      "(((?i)AL|AK|AS|ASM|FIN|AZ|AR|CA|CO|CT|DE|FL|GA|HI|ID|IL|IN|IA|KS|KY|LA|ME|MD|MA|MI|MN|MS|MO|MT|NE|NV|NH|NJ|NM|NY|NC|ND|OH|OK|OR|PA|RI|SC|SD|TN|TX|UT|VT|VA|WA|WV|WI|WY|HR|HRV)([\\-])?)?([\\s])?[1-5]\\d{4}([\\s])?(-\\d{4})?\n",
      "Postcode: FL-33131 \n",
      "---\n",
      "[A-Z]{1,2}\\d[A-Z\\d]?([\\s])?\\d([\\s])?[A-Z]{2}\n",
      "Postcode: EC1N 2HT\n",
      "---\n",
      "((AI|AIA|AM|ARM|AL|ALB|AF|AFG|AU|AUS|AT|AUT|AZ|AZE|BD|BGD|BE|BEL|BG|BGR|DK|DNK|SV|SLV|ET|ETH|GE|GEO|BH|BHR|GN|GIN|HR|HRV|HT|HTI|KI|KIR|LB|LBN|CV|CPV|LR|LBR|LI|LIE|LU|LUX|L|LV|LVA|MD|MDA|NO|NOR|MS|MSR|MK|MKD|MZ|MOZ|NE|NER|NZ|NZL|PA|PAN|PH|PHL|PY|PRY|VC|VCT|ZA|ZAF|TN|TUN)([\\s])?([\\-])?)?([\\s])?\\d{4}\n",
      "Postcode:  1511\n",
      "---\n",
      "((AI|AIA|AM|ARM|AL|ALB|AF|AFG|AU|AUS|AT|AUT|AZ|AZE|BD|BGD|BE|BEL|BG|BGR|DK|DNK|SV|SLV|ET|ETH|GE|GEO|BH|BHR|GN|GIN|HR|HRV|HT|HTI|KI|KIR|LB|LBN|CV|CPV|LR|LBR|LI|LIE|LU|LUX|L|LV|LVA|MD|MDA|NO|NOR|MS|MSR|MK|MKD|MZ|MOZ|NE|NER|NZ|NZL|PA|PAN|PH|PHL|PY|PRY|VC|VCT|ZA|ZAF|TN|TUN)([\\s])?([\\-])?)?([\\s])?\\d{4}\n",
      "Postcode: L1511\n",
      "---\n",
      "((AI|AIA|AM|ARM|AL|ALB|AF|AFG|AU|AUS|AT|AUT|AZ|AZE|BD|BGD|BE|BEL|BG|BGR|DK|DNK|SV|SLV|ET|ETH|GE|GEO|BH|BHR|GN|GIN|HR|HRV|HT|HTI|KI|KIR|LB|LBN|CV|CPV|LR|LBR|LI|LIE|LU|LUX|L|LV|LVA|MD|MDA|NO|NOR|MS|MSR|MK|MKD|MZ|MOZ|NE|NER|NZ|NZL|PA|PAN|PH|PHL|PY|PRY|VC|VCT|ZA|ZAF|TN|TUN)([\\s])?([\\-])?)?([\\s])?\\d{4}\n",
      "Postcode: L-1511\n",
      "---\n",
      "((CA|CAN)([\\-])?)?([\\s])?[A-Z][0-9][A-Z]([\\s])?[0-9][A-Z][0-9]\n",
      "Postcode:  M5C 2V9\n",
      "---\n",
      "(((?i)AL|AK|AS|ASM|FIN|AZ|AR|CA|CO|CT|DE|FL|GA|HI|ID|IL|IN|IA|KS|KY|LA|ME|MD|MA|MI|MN|MS|MO|MT|NE|NV|NH|NJ|NM|NY|NC|ND|OH|OK|OR|PA|RI|SC|SD|TN|TX|UT|VT|VA|WA|WV|WI|WY|HR|HRV)([\\-])?)?([\\s])?[1-5]\\d{4}([\\s])?(-\\d{4})?\n",
      "Postcode:  13097 \n",
      "---\n",
      "((AI|AIA|AM|ARM|AL|ALB|AF|AFG|AU|AUS|AT|AUT|AZ|AZE|BD|BGD|BE|BEL|BG|BGR|DK|DNK|SV|SLV|ET|ETH|GE|GEO|BH|BHR|GN|GIN|HR|HRV|HT|HTI|KI|KIR|LB|LBN|CV|CPV|LR|LBR|LI|LIE|LU|LUX|L|LV|LVA|MD|MDA|NO|NOR|MS|MSR|MK|MKD|MZ|MOZ|NE|NER|NZ|NZL|PA|PAN|PH|PHL|PY|PRY|VC|VCT|ZA|ZAF|TN|TUN)([\\s])?([\\-])?)?([\\s])?\\d{4}\n",
      "Postcode:  1010\n",
      "---\n",
      "(((?i)AL|AK|AS|ASM|FIN|AZ|AR|CA|CO|CT|DE|FL|GA|HI|ID|IL|IN|IA|KS|KY|LA|ME|MD|MA|MI|MN|MS|MO|MT|NE|NV|NH|NJ|NM|NY|NC|ND|OH|OK|OR|PA|RI|SC|SD|TN|TX|UT|VT|VA|WA|WV|WI|WY|HR|HRV)([\\-])?)?([\\s])?[1-5]\\d{4}([\\s])?(-\\d{4})?\n",
      "Postcode: NY 10022 \n",
      "---\n",
      "(((?i)AL|AK|AS|ASM|FIN|AZ|AR|CA|CO|CT|DE|FL|GA|HI|ID|IL|IN|IA|KS|KY|LA|ME|MD|MA|MI|MN|MS|MO|MT|NE|NV|NH|NJ|NM|NY|NC|ND|OH|OK|OR|PA|RI|SC|SD|TN|TX|UT|VT|VA|WA|WV|WI|WY|BF|BFA)([\\-])?)?([\\s])?[1-9]\\d{4}([\\s])?(-\\d{4})?\n",
      "Postcode: 80333 \n",
      "---\n"
     ]
    }
   ],
   "source": [
    "for address in test:\n",
    "    for postcode in patterns:\n",
    "        if (bool(re.search(postcode, address))==True):\n",
    "            postcode_match = re.search(postcode, address)\n",
    "            print(postcode)\n",
    "            break\n",
    "        else: \n",
    "            continue\n",
    "    if postcode_match:\n",
    "        print('Postcode:', postcode_match.group())\n",
    "    print('---')"
   ]
  },
  {
   "cell_type": "code",
   "execution_count": 517,
   "id": "d151a627",
   "metadata": {},
   "outputs": [],
   "source": [
    "#removing missingness:\n",
    "def delete_useless_adress(invalidAdress_list):\n",
    "    for i in invalidAdress_list:\n",
    "        s=i.split()\n",
    "        if len(s)==1:\n",
    "            invalidAdress_list.remove(i)\n",
    "        if len(s)==2:\n",
    "            invalidAdress_list.remove(i)\n",
    "    return invalidAdress_list"
   ]
  },
  {
   "cell_type": "code",
   "execution_count": 528,
   "id": "de82ee0d",
   "metadata": {},
   "outputs": [],
   "source": [
    "invalidAdress_splitted_without_special_car_clean=delete_useless_adress(invalidAdress_splitted_without_special_car)"
   ]
  },
  {
   "cell_type": "code",
   "execution_count": 529,
   "id": "e628fc59",
   "metadata": {},
   "outputs": [
    {
     "data": {
      "text/plain": [
       "14262"
      ]
     },
     "execution_count": 529,
     "metadata": {},
     "output_type": "execute_result"
    }
   ],
   "source": [
    "len(invalidAdress_splitted_without_special_car_clean)"
   ]
  },
  {
   "cell_type": "code",
   "execution_count": null,
   "id": "747b98f1",
   "metadata": {},
   "outputs": [],
   "source": [
    "s/n \n",
    "C/O\n",
    "3/F\n",
    "-\n"
   ]
  },
  {
   "cell_type": "code",
   "execution_count": 530,
   "id": "f75407f5",
   "metadata": {},
   "outputs": [
    {
     "data": {
      "text/plain": [
       "[' Veemkade 240-242Postbus 1912, 1000 Amsterdam',\n",
       " ' 60/22 Melita Street, VLT 1122 La Valette',\n",
       " ' Morgan Hall 381, MA 02163 Boston',\n",
       " ' Herengracht 130, 1001 AT Amsterdam',\n",
       " ' Nachtwachtlaan 20, 1038 EA Amsterdam',\n",
       " ' A. Tumeno str. 4B Corp., floor 7, LT-01109 Vilnius',\n",
       " ' Lvovo g.25, LT-09320 Vilnius',\n",
       " ' Tartu maantee 212th floor, 10145 Tallinn',\n",
       " ' Mikonkatu 15aGovernment Pension Fund, 00100 Helsinki',\n",
       " ' Jacobsleiter 8, 24159 Kiel',\n",
       " ' Am Markplatz 5, 65779 Kelkheim',\n",
       " ' Ovre Slottsgate 3, 21 Oslo',\n",
       " ' Campus UAB – Ronda de la Font del Carme, s/n, 08193 Barcelone',\n",
       " ' Mikonkatu 8, 8th floor, 00100 Helsinki',\n",
       " ' BOX 55930, 102 16 Stockholm',\n",
       " ' Rétkoez utca 5, 1118 BUDAPEST',\n",
       " ' Berzelii Park 9Box 7415, 103 91 Stockholm',\n",
       " ' 30 St James Square3rd FloorLondon SW1Y 4AL, SW1Y London',\n",
       " ' Professor J.H. Bavincklaan 2, 1183 AT Amstelveen',\n",
       " ' 43-45 Portman Square, W1H London',\n",
       " ' Piazza Gae Aulenti 4 Torre C, 20154 Milan',\n",
       " ' Rembrandt Tower 9th Floor, 1096 HA Amsterdam',\n",
       " ' 41 Lothbury1st Floor, EC2R 7AE London',\n",
       " ' 375 Park Avenue, 25th floor, NY 10152 New York',\n",
       " ' Sperlring 2, 85276 Pfaffenhofen',\n",
       " ' 3, Place Clairefontaine, 1341 Luxemburg',\n",
       " ' Postfach 900533, 60486 Frankfurt am Main',\n",
       " ' 689 5th Avenue12th Floor, NY 10022 New York',\n",
       " ' 5 EAST 44TH STREETSUITE 12, NY 10017 New York',\n",
       " ' 3 Columbus Circle15th floor, NY 10019 New York',\n",
       " ' One Letterman DriveBuilding D, Suite D3-700, CA 94129 San Francisco',\n",
       " ' 250 West 55th Street16th Floor Suite A, NY 10019 New York',\n",
       " ' 10 MOUNTAINVIEW ROAD205, 07458 UPPER SADDLE RIVER',\n",
       " ' 527 Madison AvenueSuite 2600, NY 10022 New York',\n",
       " ' 100 Federal Street19th Floor, MA 02110 Boston',\n",
       " ' 299 Park Ave, 24th Floor, NY 10172 New York',\n",
       " ' De Boelelaan 7, Officia 1 Building - 9th Floor, 1083 HJ  Amsterdam',\n",
       " ' Postfach 301778, 10747 Berlin',\n",
       " ' 17 State Street38th Floor, 10004 New York',\n",
       " ' 225 W Upper Wacker Dr  2400, IL 60606 Chicago',\n",
       " ' 1st Floor, 90 Long Acre, WC2E 9RA London',\n",
       " ' Novo Allé, 2880 Copenhague',\n",
       " ' Hedge Fund444 Madison Avenue, 10022 New York',\n",
       " ' Keilaranta 21, 02100 Espoo  , 02100 Espoo',\n",
       " ' 1 TUDOR STREET, EC4 YOAH London',\n",
       " ' Bâtiment E-volution - 425, rue Jean Rostand, 31670 Labege',\n",
       " ' 3rd Floor South55 Baker Street, W1U 8EW London',\n",
       " ' 22 Sackville StreetMayfair, W1S 3DN London',\n",
       " ' Senator House 85 Queen Victoria Street, EC4V 4ET London',\n",
       " ' Mythenquai 24P.O. Box, 8010 Zuerich',\n",
       " ' 1010 Sherbrooke St. West, Suite 1610, QC H3A 2R7 Montreal',\n",
       " ' 1 Rockefeller Plaza  3000, NY 10020 New York',\n",
       " ' avenue Jean Eric BouscPo Box 40163, 57600 Forbach',\n",
       " ' Fjordalleen 162 Etg, 0250 Oslo',\n",
       " ' ZA Quartier Rietiere, 26190 LA MOTTE-FANJAS',\n",
       " ' 50A, rue de Mamer, L-8280 KEHLEN',\n",
       " ' Joe Englishstraat 54, B-2140 Antwerpen',\n",
       " ' 6B route de Trèves, L-2633 Senningerberg',\n",
       " ' Pearson Plc, 80 Strand, WC2R 0RL London',\n",
       " ' 767 5th Ave, 44th Floor, NY 10153 New York',\n",
       " ' 515 MADISON AV 30TH FLOOR, 10022 New York',\n",
       " ' Ludwig-Ganghofer-Strasse 6, 82031 Gruenewald',\n",
       " ' Aleksanterinkatu 19 A, 5th floor, 00100 Helsinki',\n",
       " ' Suite 3300, Bentall 5 550 Burrard Street, V6C0B3 VANCOUVER',\n",
       " ' 104 Salisbury House,London Wall, EC2M 5RQ London',\n",
       " ' Palastrasse 10, 45290 Trier',\n",
       " ' 1 Bryant Park38th Floor, NY 10036 New York',\n",
       " \" Paris d'Activités, 38 rue Pafebruch, L-8308 Capellen\",\n",
       " ' Bâtiment D, Bureau D204 2405 Route des Dolines, 06580 Valbonne',\n",
       " ' 55 New Bond Street3rd Floor, W1S 1DG London',\n",
       " ' 4 place de Saverne, 92971 La Defense',\n",
       " ' Ottostrasse 5, D-80333 Muenchen',\n",
       " ' Exchange House, 4th Floor12 Primrose Street, EC2A 2EG London',\n",
       " ' 62 Queen Street1st Floor Rex Building, EC4R1EB London',\n",
       " ' Riverbank, Meadows Business ParkCamberley, GU17 9AB Surrey',\n",
       " ' 3333 Warrenville Road, Suite 500, 60532 LISLE, IL',\n",
       " ' Sveavaegen 24-26, 11157 Stockholm',\n",
       " ' Am Graben 13/I/Top 40, 1010 Vienna',\n",
       " ' Waehringer Strasse 61 / 2.08, 1090 Vienna',\n",
       " ' Chausse de Louvain 490,  Lasne',\n",
       " ' Kraehlbuehlstrasse 45, 8044 Zuerich',\n",
       " ' Amstplein 1, 1096 HA Amsterdam',\n",
       " ' Bezelii Park 9,  Stockholm',\n",
       " ' Mannerheimintie 18, 7th floor, 00130 Helsinki',\n",
       " ' Tapiola Keskustorni 13.krs, 2100 Espoo',\n",
       " ' HvidestenKingosvej 1, DK-2630 TAASTRUP',\n",
       " ' Dronning Maudsgate 1, 0161 Oslo',\n",
       " ' 350 Park avenue18th floor, NY 10022 New York',\n",
       " ' 598 Madison Avenue15th Floor, NY 10022 New York',\n",
       " ' Broker ProfileAugustine House6A Austin Friars, EC2N 2HA London',\n",
       " ' Fabriksgasse 13, A-8700 LEOBEN',\n",
       " ' Kaeppelstr. 4-6, 76131 Karlsruhe',\n",
       " ' Erisusspitze 1, 20457 Hamburg',\n",
       " ' 2, Place Dargent, 1413 Luxemburg',\n",
       " ' Parnassusweg 21-1st floor, 1077 DB Amsterdam',\n",
       " ' 14 Hays Mews, 5269 London',\n",
       " ' Dennenweg 19, XX BLOEMENDAAL',\n",
       " ' Postbus 152, 1000 AD Amsterdam',\n",
       " ' 44 Esplanada de la Moselle, 6637 Wasserbillig',\n",
       " ' Three Columbus Cir., 26th Fl, 10019-1995 New York',\n",
       " ' Ny Østergade 7, 3, 1101 Copenhague',\n",
       " ' Via Milano 150 - Cologno Monzese, 20093 Rome',\n",
       " ' Via Ita Marzotto 8, 30025 FOSSALTA DI PORTOGRUARO',\n",
       " ' 75 9th Ave5th Floor, 10019 New York',\n",
       " ' Leifheistrasse 1, 56377 Nassau',\n",
       " ' 33A, avenue J-F Kennedy, L-1855 Luxemburg',\n",
       " ' 21 Ludlow DriveChappaqua, 10514 New York',\n",
       " ' One Financial CenterSuite 1620, 02111 Boston',\n",
       " ' 810 Seventh Avenue34th Floor, 10019 New York',\n",
       " ' 250 West 55th Street, Suite 16B, NY 10019 New York',\n",
       " ' The First Floor62 Queen StreetRex Building, EC4R 1EB London',\n",
       " ' 1-3 Strand, 6th Floor Grand Buildings, WC2N London',\n",
       " ' 1010 Sherbrooke Ouest, H3A 2R7 Montreal',\n",
       " ' Paseo de la castellana 55 tercera planta, 28046 Madrid',\n",
       " ' 304, Route de Thionville, L-5884 HESPERANGE',\n",
       " ' One Sansome, Suite 3630, CA 94104 San Francisco',\n",
       " ' Forum 1Novartis Campus, 4056 Basel',\n",
       " ' 1 BD DE LA FOIRE, L-528 Luxemburg',\n",
       " ' 100 S Pointe Dr Apt 1501, FL 33139 Miami',\n",
       " ' ONE SANSOME ST - 3630, 94104 San Francisco',\n",
       " ' 4, rue Peternelchen, L-2370 HOWALD',\n",
       " ' Texas Commerce Tower, 2200 Ross Ave  3100, TX 75201 Dallas',\n",
       " ' 20 Queen St. W., Suite 3100, ON M5H 3R3 Toronto',\n",
       " ' Hejreskowej 10A, DK3490 KVISTGAARD',\n",
       " ' 265 rue de la DécouverteBAT A, 31670 Labege',\n",
       " ' Salzburger Leite 1, D97616 Bad Neustadt',\n",
       " ' Nybrogatan 6, 102 40 Stockholm',\n",
       " ' c Marques de Riscal 11-a 1 est 2, 28010 Madrid',\n",
       " ' VELAZQUEZ Nº 140, 2º DERECHA, 28006 Madrid',\n",
       " ' 1 Bell StreetMaidenhead, SL6 1BU BERKSHIRE',\n",
       " ' 540 Madison Ave18th Fl, NY 10022 New York',\n",
       " ' Immermanstrasse 13, 40210 Duesseldorf',\n",
       " ' 650 SOUTH EXETER STREET, SUITE 1070, MD 21202 Baltimore',\n",
       " ' PIAZZA G. BERTOLDI 8, 47899 SERRAVALLE',\n",
       " ' 20 PARK PLAZA  120, MA 02116 Boston',\n",
       " ' 666 Fifth Avenue34th Floor 3403, NY 10103 New York',\n",
       " ' 100 Fillmore Street325, 80206 Denver',\n",
       " ' 546 5th Ave.9th Fl., NY 10036 New York',\n",
       " ' 666 Fifth Ave.8th Fl., NY 10103 New York',\n",
       " ' 300 PARK AVENUE25TH FLOOR, NY 10022 New York',\n",
       " ' 666 Fifth Ave.9th Fl., NY 10103 New York',\n",
       " ' 1 Rockefeller Pl. 1205, NY 10020 New York',\n",
       " ' 551 Fifth AveSuite 1120, NY 10176 New York',\n",
       " ' 16 boulevard Déodat de Séverac CS 90312, 31773 Colomiers',\n",
       " ' One Canada SquareCanary Wharf, E14 5AL London',\n",
       " ' Bond Street House14 Clifford Street, W1S 4JU London',\n",
       " ' 45 Pall Mall4th Floor, SW1Y 5JG London',\n",
       " ' 667 Madison Ave21st fl., 10065 New York',\n",
       " ' Pépinière Paris Santé Cochin 27 Rue du Faubourg Saint-Jacques, 75014 Paris',\n",
       " ' Maintor Alte Mainzer Gasse 55, 60311 Frankfurt am Main',\n",
       " ' Avenue de la Liberté, 41, L - 1931 Luxemburg',\n",
       " ' 610 Broadway, 6th floor, NY 10012 New York',\n",
       " ' 13, rue de l’Industrie, L-8399 Windhof',\n",
       " ' 1 North Wacker Drive Suite 3950, IL 60606 Chicago',\n",
       " ' Gran Via De Les Corts Catalanes  635 Planta6th floor, 08010 Barcelone',\n",
       " ' 100 Yonge St., 1700, M5C 2W1 Toronto',\n",
       " ' 77 King St W 3710, ON M5K 1K7 Toronto',\n",
       " ' 199 Bay Street, Suite 2700, P.O. Box 108, ON M5L 1E2 Toronto',\n",
       " ' 540 West Madison StreetSuite 1900, IL 60661 Chicago',\n",
       " ' Rembrandstrasse 38, 40237 Duesseldorf',\n",
       " ' 10990 Wilshire Blvd.,1400, CA 90024 Los Angeles',\n",
       " ' Plaza Manuel Gomez Moreno 2 Plata 17 A, 28020 Madrid',\n",
       " ' Suite 2, level 35, 60 Margaret St, NSW 2000 Sydney',\n",
       " ' GINZA FUGETSUDO 6-6-1-5F GINZACHUO-KU, 104-0061 Tokyo',\n",
       " ' Dublin Branch 9, Fitzwilliam Street Upper, Dublin 2 Dublin',\n",
       " ' 126 Guido Dezelle Straar, 1654 Huizingen',\n",
       " ' 4, rue Marché aux Herbes, L-1728 Luxemburg',\n",
       " ' 333 Bay St., 5100, Toronto, M5H 2R2',\n",
       " ' Pº de la Independencia, 19, 50001 Zaragoza',\n",
       " ' 145-157 St. John Street, EC1V 4PM London',\n",
       " ' Marktgrafenstr. 11, 10969 Berlin',\n",
       " ' AVENIDA DIAGONAL, 640, 3º E , 08017 Barcelone',\n",
       " \" 15-16 Brook's MewsMoss House, W1K 4DS London\",\n",
       " ' RT 30/02AVENUE GALILEE 5, B-1210 Brussel',\n",
       " ' Kapitein Maenhoutstraat 77B, 9830 Sint-Martens-Latem',\n",
       " ' Duboisstraat 48, B-2060 Anvers',\n",
       " ' Research ParkInterleuvenlaan 1515/D1, 3001 Heverlee',\n",
       " ' Bedrijvencentrum RoeselareIndustrieweg 45, 8800 Roeselare',\n",
       " ' Hanswijkstraat 37 A, B-2800 Mechelen',\n",
       " ' Lambroekstraat 5 D, B-1831 Diegem',\n",
       " ' Place Eugène Flagey 18, B-1050 Brussel',\n",
       " ' 48, rue de Bragance, L-1255 Luxemburg',\n",
       " ' Theresienstr. 6-8, 803333 Muenchen',\n",
       " ' 280 Park Ave., 12th Floor, 10017 New York',\n",
       " ' 57 Saint James Street, SW1ALD Edimbourg',\n",
       " ' Street No 230 C-Ring RoadAl Hilal AreaPO Box 24025, ..... Doha',\n",
       " ' Complejo Torres Cerda C juan Gris20-26- Torre Norte, 08014 Barcelone',\n",
       " ' 48 Dover Street2nd Floor - Suite 2:17, W1S 4FF London',\n",
       " ' Norrmalmstorg 14, 5trBox 7030, 11146SE Stockholm',\n",
       " ' 11A Regent Street3rd Floor, Southwest House, SW1Y 4LR London',\n",
       " ' Am Heiligen Rain 10, D-61440 Oberursel',\n",
       " ' 6 BOULEVARD DES MOULINS, 98000 Monaco City',\n",
       " ' 280 Park Avenue, 12th Floor, 10017 New York',\n",
       " ' Oxtorgsgatan 4, 2 lev., 111 57 Stockholm',\n",
       " ' Professor Kohtsvei 9, 1366 Lysaker',\n",
       " ' Olavinte 2, 10101 Turku',\n",
       " ' Oestbanegade 125, 2100 Copenhague',\n",
       " \" Olav V's Gate 5, 111 Oslo\",\n",
       " ' 2, avenue Charles de Gaulle, L-1653 Luxemburg',\n",
       " ' 505 Fifth Avenue South, 9th Floor, WA  98104 SEATTLE',\n",
       " ' Paseo del Club Deportivo 1. Bloque 13 BDCentro Emp la Finca, 28223 Madrid',\n",
       " ' Korporationsweg 13c, 8832 WILEN BEI WOLLERAU',\n",
       " ' Level 4, Berkeley SquareBerkeley Square House, W1J6BX London',\n",
       " ' General-Guisan-Quai 36, 8002 Zuerich, Suisse , 8002 Zuerich',\n",
       " ' Tour Ariane5 place de la PyramideTSA 55555, 92919 La Defense',\n",
       " ' Rue de la Chancellerie 2 box 1, 1000 Brussel',\n",
       " ' Leconfield HouseCurzon Street, W1J5JA London',\n",
       " ' Sundkrogsgade 4Marina PARK, 2100 Copenhague',\n",
       " ' 20 Park Plaza, 4th Floor, MA 02116 Boston',\n",
       " ' 44 Esplanade St Helier, JE4 9WG Jersey City',\n",
       " ' 1633 BROADWAY, 45TH FLOOR, NY 10019 New York',\n",
       " ' 1633 BROADWAY28 TH FLOOR, 10019 New York',\n",
       " ' 1001 BRICKELL BAY DRIVE, SUITE 1900, FL33131 Miami',\n",
       " ' 570 Lexington AvenueSuite 1403, NY 10022 New York',\n",
       " ' Weena 455, 013 AL Rotterdam',\n",
       " ' 2 BD de la Foire, L1528 Luxemburg',\n",
       " ' Dynamic Funds Tower1 Adelaide St. E., 28th Floor, ON M5C 2V9 Toronto',\n",
       " ' 3 Exchange PlaceSemple Street, EH3 8BL Edimbourg',\n",
       " ' One Park Place, Suite 700, 621 NW 53rd Street, 33487 New York',\n",
       " ' OP-Private TurkuPl 44, 20101 Turku',\n",
       " ' 333 W Wacker Dr  1600, IL 60606 Chicago',\n",
       " ' 50 New Bond Street2nd Floor, W1S 1BJ London',\n",
       " ' 12, rue Léon Laval, L-3372 Leudelange',\n",
       " \" Olav V's Gate 5, 0161 Oslo\",\n",
       " ' 1000 HART ROAD, SUITE 260, IL 60010 BARRINGTON',\n",
       " ' 477 Madison Avenue, 8th Floor, NY 10022 New York',\n",
       " ' Rembrandt Tower - 9th floorAmstelplein 1, 1096 HA Amsterdam',\n",
       " ' Pobrežní 14/297, 18600 PRAHA 8',\n",
       " ' 222 Berkeley St., 15th Fl Boston, 02116 New York',\n",
       " ' Kungsgatan 5, 10399 Stockholm',\n",
       " ' 1 Haakon VII Gate, 161 Oslo',\n",
       " \" Olav V's Gate 5, 1111 Oslo\",\n",
       " ' Orrspelsvaegen 83, 16766 BROMMA',\n",
       " ' 2, rue Albert Broschette, 1245 Luxemburg',\n",
       " ' 14 Queen Annes Gate, SW1H 9AA London',\n",
       " ' 5 Schollhouse Lane East, 2 Dublin',\n",
       " ' BP 1634, L-1016 Luxemburg',\n",
       " ' Schurwiese 3, 8703 Erlenbach',\n",
       " ' Dalgasgade 25, 9. sal, 7400 HERNING',\n",
       " ' Arnnulfstrasse 39, 80636 Muenchen',\n",
       " ' Leonhard-Stinnes-Str.6, 45470 MUEHLHEIM AN DER RUHR',\n",
       " ' Joachimstaler Str.34, 10719 Berlin',\n",
       " ' Am Silberpalais 1, 47057 Duisburg',\n",
       " ' President Kennedypark 18, B-8500 Kortrijk',\n",
       " ' Rua Alexandre Herculano, 35, 1250-009 Lisbonne',\n",
       " ' Nedre Holmegt. 30-34 P.O. Box 559 Sentrum, N-4003 Stavanger',\n",
       " ' Alpenstrasse 70, 5033 Vienna',\n",
       " ' avenue de Octave Gréard, 75007 Paris',\n",
       " ' First Floor, Brookfield House44 Davies Street, W1K 5JA London',\n",
       " ' Lindhagensgatan 86, 103 50 Stockholm',\n",
       " ' ZAC de MilieuxRue Adrienne Bolland, 42163 Andrezieux-Boutheon',\n",
       " ' 7 RUE DU GABIAN, 98000 Monaco City',\n",
       " ' ANTONIJAS LELA 3, LV 1010 Riga',\n",
       " ' Maester Samuelsgatan 1, 10388 Stockholm',\n",
       " ' Gebouw Vierlander, Fellenoord 23, 5612AA Eindhoven',\n",
       " ' 207 route de Fresney, 1218 GRAND SACONNEX',\n",
       " ' Herengracht 595, 1008 DG Amsterdam',\n",
       " ' 12 Rue Eugene Ruppert, L - 2543 Luxemburg',\n",
       " ' 2775 Sand Hill Road, Suite 220Menlo Park, 94025',\n",
       " ' 300 Drakes Landing Rd.,  210, Greenbrae, 94904-3123',\n",
       " ' 18 Mediavaegen, 135 48 TYRESOe',\n",
       " ' Værkmestergade 3, 2, DK-8000 Aarhus',\n",
       " ' 101 Grand Blvd, KS64106 KANSAS CITY',\n",
       " ' 5420 W. 61st Pl., KS66205-3084 SHAWNEEMISSION',\n",
       " ' Edificio Alfredo MahouPlaza Manuel Gomez Moreno, 2, 28020 Madrid',\n",
       " ' Lange Lozanastraat 254, B-2018 Antwerpen',\n",
       " ' corso Vittorio Emmanuele 101, 10128 Torino',\n",
       " ' Mercesstrasse 737, 70327 Stuttgart',\n",
       " ' Muehlenfelsstrasse 1, 37603 Holzminden',\n",
       " ' 4-6 Rond Point des Champs Elysées, 75008 Paris',\n",
       " ' One Financial Center, 30th Floor, MA 02111 Boston',\n",
       " ' Raiffeisenallee 16, d-82041 Oberhaching',\n",
       " ' 505 5th avenue20TH Florr, 10017 New York',\n",
       " ' Azia Center suite 300130th floor1233 lujiazui RING ROAD, PRC 200120 Shanghai',\n",
       " ' 200 State Street, 7th Floor, MA-02109 Boston',\n",
       " ' Principe de Vergara 125, 28002 Madrid',\n",
       " ' Prinses Beatrixlaan 15, 2595 La Haye',\n",
       " ' Via c Cantu 2, 20123 Milan',\n",
       " ' Via del Nazioni Unite 4, 43044 COLLECCHIO ',\n",
       " ' Viale Europa 46 6th floor, 2093 Cologne',\n",
       " ' Aldwych House WeWork 71-91 Aldwych, WC2B 4HN London',\n",
       " ' BAG-IRBuilding W 11, D-51368 Leverkusen',\n",
       " ' Marienstrasse 43, D-70178 Stuttgart',\n",
       " ' 1 Plantation Place30 Fenchurch Street, EC3M 3BD London',\n",
       " ' 26 Bd Royal  7ème étage, L 2449 Luxemburg',\n",
       " ' Piazza Almerico da Schio, Pal. RPU, 00054 FIUMICINO ',\n",
       " ' Waterside, PO Box 365, UB7 0GB HARMONDSWORTH',\n",
       " ' Soedra Foerstadsgatan 4, SE-211 43 Malmoe',\n",
       " ' 25 rue de la MilletièreBP 27335, 37073 Tours',\n",
       " ' AMS/SG Amsterdamseweg, 55 1182 Amstelveen',\n",
       " ' 150 Slater Street, K1A 1K3 OTTAWA',\n",
       " ' 6 D Route de Trèves, L-2633 Senningerberg',\n",
       " ' Box 2269, 403 14 Goeteborg',\n",
       " ' Via Trattati Comunitari Europei, 40127 Bologne',\n",
       " ' Vasagatan 7P.O. Box 704 14, S-107 25 Stockholm',\n",
       " ' Pohjoisesplanadi 35 AB, FIN-00100 Helsinki',\n",
       " ' 10 Grosvenor Street, W1K 4BJ London',\n",
       " ' 11th Floor71 Fenchurch Street, EC3M 4HD London',\n",
       " ' 140 Broadway - 7th Floor, NY 10005 New York',\n",
       " ' Orion House5 Upper St. Martin’s Lane, WC2H 9EA London',\n",
       " ' 5 allée Schaeffer, 2080 Luxemburg',\n",
       " ' 10 New Burlington St6th Floor, W1S 3BE London',\n",
       " ' Parque empresarial de las Rozas - Edif. TRIPARKC/ Jacinto Benavente 2 A, 28032 LAS ROZAS - MADRID',\n",
       " \" Regent's Place 10 Triton Street, NW13BF London\",\n",
       " ' Houghton Hall Business ParkPorz Avenue, LU5 5XE DUNSTABLE',\n",
       " ' 5-25, Harrington Gardens, SW7 4JW London',\n",
       " ' Level 8 7 Macquarie Place, NSW 2000 Sydney',\n",
       " ' Klara Soedra Kyrkogata 18, SE-113 88 Stockholm',\n",
       " ' 50 Fifth AvenueSuite 4100, NY 10110 New York',\n",
       " ' 200 Fifth Avenue 14th floor, NY 10010 New York',\n",
       " ' 123 Front Street West, Suite 1200, M5J 2M2 Toronto',\n",
       " ' 1 Market StreetSteuart Tower, 23rd Floor, CA 94105 San Francisco',\n",
       " ' route der Treves 6A, L-2663 Senningerberg',\n",
       " ' 21 Rue Aldringen, L-1118 Luxemburg',\n",
       " ' 15 Wrights Lane, W85SL London',\n",
       " ' Affolternstrasse 44, P.O Box 8131, CH-8050 Zuerich',\n",
       " ' 300-99 Yorkville Ave, ON M5R 3K5 Toronto',\n",
       " ' 630 5th Ave Ste 3270, NY10111 New York',\n",
       " ' 33 Sur John Rogerson Quay, 2 Dublin',\n",
       " ' 12-14 Lower Mount Street, 2 Dublin',\n",
       " ' 1-6-2 Higashi-shinbashi,Minato-ku, 105-8310 Tokyo',\n",
       " ' 338 Tonoshiro-cho, Kuze Minami-ku, 601-8205 KYOTO',\n",
       " ' JacobsweerdSt Jacobsstraat 200, 3503 RE Utrecht',\n",
       " ' Via S. Balestra 33PO Box 5349, 6901 Lugano',\n",
       " ' 76A, James Bourchier Blvd.Hill Tower, 1421 SOFIA',\n",
       " ' 4th Floor, Ramnath House18, Community Centre, Yusuf Sarai, 110049 New Delhi',\n",
       " ' 1180 Ave. of the Americas, 19th Fl, NY 10036 New York',\n",
       " ' Calle alcala 54 3°der, 28014 Madrid',\n",
       " ' 590 Madison Ave, Suite 25E, 10022 New York',\n",
       " ' 52-58 Neue Mainzer Strasse Main Power, 60323 Frankfurt am Main',\n",
       " ' 536 Broadway, 7th FI, NY 10012-3915 New York',\n",
       " ' 25 Deforest AvenueSuite 304, NJ 07901 Summit',\n",
       " ' 2 Broadgate, EC2M 7UR London',\n",
       " ' 12-18 Grosvenor Gardens, SW1W ODH London',\n",
       " ' 120 Cannon StreetCandlewick House, EC4N 6 AS London',\n",
       " ' 62 street Kifisou - Peristeri , 12132',\n",
       " ' C/ Príncipe de Vergara, 135, 28002 Madrid',\n",
       " ' P.O Box 6500, 6401 JH Heerlen',\n",
       " ' 1221  Brickell Avenue, Suite 900, FL-33131 Miami',\n",
       " ' Ermanno Palace, 27 Bd. Albert 1er, MC-98000 Monaco City',\n",
       " ' 125 Park Avenue, 25th Fl., 10017 New York',\n",
       " ' 1st Floor, Almack House26-28 King Street, SW1Y 6QW London',\n",
       " ' Waterside House35 North Wharf Road, W2 1NW London',\n",
       " ' Global House4 Temple Place, WC2R 2PG London',\n",
       " ' 9 Chiswick Park, 566 Chiswick High Road, W4 5XT London',\n",
       " ' No 3 Uxbridge Business ParkSanderson Road, UB8 1DH UXBRIDGE',\n",
       " ' 33 HolbornMail box 3/24, EC1N 2HT London',\n",
       " ' 27 Yehuda Halevi Street, 65546 Tel-Aviv',\n",
       " ' 452 5th Avenue12th Floor, NY 10018 New York',\n",
       " ' 5847 San Felipe, 930, TX 77057 Houston',\n",
       " ' Via Martiri di Cefalonia 67, 20097 Rome',\n",
       " ' Franz-Wolfram-Scherer-Strasse 24, 5101 Bergheim',\n",
       " ' Huband House, 16 Upper Mount Street, Dublin 2 Dublin',\n",
       " ' Stratton House5 Stratton StreetStreet, W1J 8LA London',\n",
       " ' SESChâteau de Betzdorf, L-6815 Luxemburg',\n",
       " ' Tour Gallieni 2 – Accueil 11e étage36 avenue du Général de Gaulle, 93175 Bagnolet',\n",
       " ' Beaufort CourtAdmirals Way, E14 9XL London',\n",
       " ' 40, rue de la Boëtie, 75008 Paris',\n",
       " ' Centre de Retours BP 801, 38297 Saint Quentin Fallavier',\n",
       " ' 85 Mesogeion str, 11526 Athens',\n",
       " ' Largo Jean Monnet 14, 1269 057 Lisbonne',\n",
       " ' Immeuble Ile de France115-123 avenue Charles de Gaulle, 92200 Neuilly Sur Seine',\n",
       " ' 888 Seventh Avenues, 10019 New York',\n",
       " ' 489-499 Avebury BoulevardSaxon Gate West, MK9 2NW CENTRAL MILTON KEYNES',\n",
       " ' 980 Great West Road, Middlesex TW8 9GS BRENTFORD',\n",
       " ' Kinnaird House1/4 Pall Mall East, SW1Y 5AU London',\n",
       " ' Knowle Hill Park,Fairmile LaneCobham, KT11 2PD Surrey',\n",
       " ' 3 rue Jean Monet, L-2180 Luxemburg',\n",
       " ' 3rd Floor10 Portman SquareMarylebone, WC1H 6AZ London',\n",
       " \" 1C, rue Gabiel LippmannParc d'activité Syrdall, 5365 Munsbach\",\n",
       " ' Tour Ariane5, place de la Pyramide, 92088 La Defense',\n",
       " ' 570 avenue du club hippiqueImmeuble le Derby, 13097 Aix En Provence',\n",
       " ' Chuerstrasse 82, 8808 Pfaeffikon',\n",
       " ' Aleksanterinkatu 19 A, 4th FloorPO Box 1081, FI-00101 Helsinki',\n",
       " ' Principe de Vergara, 156, 28002 Madrid',\n",
       " ' Schenkkade  65, 2595 AS The Hague',\n",
       " ' 41 rue Jourdan1060 Saint Gilles, 1060 Brussels',\n",
       " ' 4th Floor, 117 Jermyn Street, SW1Y 6HH London',\n",
       " ' Neathouse PlaceVictoria, SW1V 1BH London',\n",
       " ' Lloyds Chambers, 5th Floor1 Portsoken Street, E1 8BT London',\n",
       " ' Broadwater Park - DenhamUB9 5HRUK, UB9 5HR Buckinghamshire',\n",
       " ' Commerce &amp; Finance BuildingKantariPO Box 113, 6243 Beyrouth',\n",
       " ' Luton AirportBedfordshire, LU2 9LS London',\n",
       " ' 15, rue pasteu, 92300 Levallois Peret',\n",
       " ' 10 New England Business Center DriveSuite 200, MA 01810 ANDOVER',\n",
       " ' Luise Benger Strasse 15, D-70329 Stuttgart',\n",
       " ' 5 Avenue Kléber, 75795 Paris',\n",
       " ' 29th Floor1 Adelaide Street East, ON M5C 2V9 Toronto',\n",
       " ' 200 Bay St N Tower, 1800, Toronto',\n",
       " ' 640 5th Avenue14th Floor, 10019 New York',\n",
       " ' 121 Avenue de la Faiencerie,, L-1511 Luxemburg',\n",
       " ' 225 S Lake Ave., Suite 400, 91101-3005 PASADENA',\n",
       " ' 885 Third Avenue34th Floor, NY 10022 New York',\n",
       " ' 26 rue de Louvigny, L-1946 Luxemburg',\n",
       " ' 1010 Washington Blvd., 6th Floor, CT06901 Stamford',\n",
       " ' Via Gramsci, 215, 13876 SANDIGLIANO ',\n",
       " ' 780 3rd Avenue9th Floor, NY 10017 New York',\n",
       " ' 620 Eight Avenue, 10018 New York',\n",
       " ' 520 Madison Ave., 20th Fl., 10022 New York',\n",
       " ' 2-12 Holmenskanal, 1092 Copenhague',\n",
       " ' Hochstrass 43, 60313 Frankfurt am Main',\n",
       " ' Campus Bio-Ouest6 rue Alain-Bombard, 44821 Saint Herblain',\n",
       " ' rue du Lac Neuchatel 1053 les berges du Lac, . Tunis',\n",
       " ' 1 GROSVENOR PLACE - Third Floor, SW1X 7 JH London',\n",
       " ' Calle Barbara de Braganza 2Suite 2A, 28004 Madrid',\n",
       " ' Apac Fot - Parc des Affaires EDONIARue des iles des KerguelenCS 66835, 35768 Saint-Grégoire',\n",
       " ' 100 Liverpool Street, EC2M 2RH London',\n",
       " ' 40 Bank StreetCanary Wharf, E14 5 EJ London',\n",
       " ' 2 boulevard Royal, L-2983 Luxemburg',\n",
       " \" 26 Se'adia Ga'on Street, 67135 Tel-Aviv\",\n",
       " ' 32 Old Burlington Street2nd Floor, W1S 3AT London',\n",
       " ' 601 Lexington Ave, NY10022 New York',\n",
       " ' Diemermere 25,NL1112 TC Diemen,P.O.Box 12600, NL-1100 AP Amsterdam',\n",
       " ' 6TH FLOOR201 BISHOPSGATEEC2M 3NS, EC2M 3NS London',\n",
       " ' 46 avenue JF Kennedy, L-1855 Luxemburg',\n",
       " ' 161 Bay Street, Suite 3000P.O. Box 516, ON M5J 2S1 Toronto',\n",
       " ' 865 South Figueroa StreetSuite 1800, 90017 Los Angeles',\n",
       " ' One Churchill PlaceCanary Wharf, E14 5RD London',\n",
       " ' Paseo de la Castellana, nº 83-85 - Madrid11 floor, 28046 Madrid',\n",
       " ' Via de los Poblados, 3Complejo CristaliaEdificio 9, X Madrid',\n",
       " ' Torre Espacio Paseo de la Castellana, 259 14 Floor, 28046 Madrid',\n",
       " ' Avda San Luis 77, 28033 Madrid',\n",
       " ' 157 rue Cents, L-1319 Luxemburg',\n",
       " ' Via P. Mantovani 1/8, 16149 GENOA',\n",
       " ' Langebrogade 1P.O box 17, 1001 Copenhague',\n",
       " ' 25, Ermou Str. - Nea Kifissia, GR 145 64',\n",
       " ' 57th klm National Road Athens - Lamia - Inofyta, 32011',\n",
       " ' Building K10, 51369 Leverkusen',\n",
       " ' Investor RelationsEnel S.p.A.Viale Regina Margherita,137, I - 00198 Rome',\n",
       " ' Via Sachetti, 20 - Sesto San Giovanni, 20099 Rome',\n",
       " ' 702 Southwest Eighth Street, 72716 Bentonville New York',\n",
       " ' 54 rue MartreBP 153, 92113 Clichy',\n",
       " ' 68 bis rue Marjolin, 92685 Levallois Peret',\n",
       " ' Av. Fontes Pereira de Melo, 40-9th floor, 1069-300 Lisbonne',\n",
       " ' C/Anabel Segura, 11. Edificio C, 28108 Madrid',\n",
       " ' Investor Relations Telenor Group, N-1331 Fornebu',\n",
       " ' VHH 11. floor P.O. Box 1849, D-38436 WOLKSBURG',\n",
       " ' 63 St Mary Axe, EC3A 8LE London',\n",
       " ' 2 &amp; A Half Devonshire Square, EC2M 4UJ London',\n",
       " ' Gebhardinaukio 1PO Box 308, FI-00013 Pohjola',\n",
       " ' Ultrechtseweg 44, 3704 HD Zeist',\n",
       " \" 11C rue des AulnesBP 10020, 69542 Champagne-Au-Mont-D'or\",\n",
       " ' One Strand 4th Floor, WC2N 5HR London',\n",
       " ' Johannes Vermeerstraat 14Postbus 1001, 1071 Amsterdam',\n",
       " ' 1 North Wacker Drive, Ste 3975, 60606-2848 Chicago',\n",
       " ' 300 S. Wacker Drive, Suite 1610, 60606 Chicago',\n",
       " ' 885, Third Avenue, 34th Fl., NY 10022 New York',\n",
       " ' 4 Floor, Lansdowne House 57 Berkeley Square, W1J 6ER London',\n",
       " ' 25 Hill Street, W1J LW London',\n",
       " ' 13 Berkeley Street, 6th FloorMayfair, W1J 8DU London',\n",
       " ' 100 Victoria Embankment, EC4Y London',\n",
       " ' Aviation Park West Bournemouth International AirportChristchurch, BH23 6EW DORSET',\n",
       " ' 6 Lloyds Avenue 3/F Telephone: +44 20 3567 0980, EC3N 3AX London',\n",
       " ' Aleksanterinkatu 44, 6th floor, FI-00100 Helsinki',\n",
       " ' Inovallée 12 Chemin de Malacher, 38243 Meylan',\n",
       " ' mainBuildingTaunusanlage 18, D-60325 Frankfurt am Main',\n",
       " ' The British Land Company PLCYork House, 45 Seymour Street, W1H 7LX London',\n",
       " ' 51 Astor place, 10th floor, 10003 New York',\n",
       " ' 780 Third Avenue, 37th floor, 10017 New York',\n",
       " ' 530 Fifth Ave, 22nd Floor,, 10036 New York',\n",
       " ' 1 KNIGHTSBRIDGE GREEN9TH FLOOR, SW1X 7QA London',\n",
       " ' 8 Pollen StreetMayfair, W1S 1NG London',\n",
       " ' Devonshire HouseMayfair Place, W1J 8AJ London',\n",
       " ' 35 Dover Street4th Floor, W1S 4NQ London',\n",
       " ' SG House41 Tower Hill, EC3N 4SG London',\n",
       " ' Attention: Investor RelationsP.O. Box 8999, CA 94128-8999 San Francisco',\n",
       " ' 43/45 rue Taitbou, 75009 Paris',\n",
       " \" Tel Aviv - Yaffo, 26 Se'adya Ga'on PostalC/O Migdal Capital Markets  Ltd, 67135 Tel-Aviv\",\n",
       " ' Le George V, 14 Av de Grande Bretagne, 98000 Monaco City',\n",
       " ' Bâtiment Adénine 60 avenue Rockefeller, 69008 Lyon',\n",
       " ' 6, The Court Holywell Business Park Northfield Road - Southam, CV47 0FS WARWICKSHIRE',\n",
       " ' 5th Floor, 85 Gresham Street, EC2V 7NQ London',\n",
       " ' Batiment E 80-84 rue des Meuniers, 92220 Bagneux',\n",
       " ' 88 Wood Street, EC2V 7RS London',\n",
       " ' 31-33 Avenue Pasteur, L-2311 Luxemburg',\n",
       " ' Levl 2 Colette House52/55 Picadilly, W1J ODX London',\n",
       " ' Washington Plaza – Immeuble Artois40-44, rue Washington, 75008 Paris',\n",
       " ' Per Henrik Lings Alle 28 Floor, 2100 Copenhague',\n",
       " ' 12 Nicholas lane 1st Floor, EC4N 7BN London',\n",
       " ' 11 place Rogier , B-1210 Brussels',\n",
       " ' Porkkalankatu 3P.O. Box 330, FI-00101 Helsinki',\n",
       " ' 345 Park avenue, 41st floor, New York New York',\n",
       " ' 200 South Wacker DriveSuite 500, IL 60606 Chicago',\n",
       " ' Zugspitzstrasse140, 86165 Augsburg',\n",
       " ' 1 Grosvenor Place, 8th floor, SW1X 7HJ London',\n",
       " ' 7th Floor1 Knightsbridge Green, SW1X 7QA London',\n",
       " ' Kungsgatan 5, 10399 Stockholm',\n",
       " ' Katarinavaegen 15, 11645 Stockholm',\n",
       " ' Sveavaegen 24-26 4tr, 11157 Stockholm',\n",
       " ' Regeringsgaten 65, 11156 Stockholm',\n",
       " ' 122 East 42nd Street, Suite 2500, NY  10168 New York',\n",
       " ' 222 North La Salle Street, 7th floor, IL 60601 Chicago',\n",
       " ' Seagram Building, 375 Park Ave 12, NY 10152 New York',\n",
       " ' xx, xx Bergkamen',\n",
       " ' Palais du Luxembourg15, rue de Vaugirard, 75006 Paris',\n",
       " ' 30, Boulevard Grande-Duchesse Charlotte, L-1330 Luxemburg',\n",
       " ' 111 BUCKINGHAM PALACE ROAD, SW1W OSR London',\n",
       " ' 1700 Broadway, 38th Floor, NY 10019 New York',\n",
       " ' SKF Group Headquarters, SE 415 50 Goeteborg',\n",
       " \" 32 Duke Street St James'sLondon SW1Y 6DF, SW1Y 6DF London\",\n",
       " ' 1 Place des degrès, 92059 Paris',\n",
       " \" Via de l'Annunciata 23/4, 20100 Milan\",\n",
       " ' 20 Victoria Street , SW1H ONB London',\n",
       " ' One Bowerman Drive - JM4, OR 97005 BEAVERTON',\n",
       " ' 1345 Sixth AvenueSecond Floor, 10105 New York',\n",
       " ' 60 rue de WattigniesBâtiment B, 75012 Paris',\n",
       " ' Harborside Financial Center - Plaza 4A, NJ 07311 Jersey City',\n",
       " ' Gate House, Turnpike Road,, HP12 3NR BUCKS',\n",
       " ' 529 5th Avenue and 44th Street Floor 8, 10017 New York',\n",
       " ' 505 FIFTH AVENUE,10TH FLOOR, NY 10017 New York',\n",
       " ' 1, rue du Potager, L-2347 Luxemburg',\n",
       " ' 9 Rue du DebarcadèreCPC 03A2, 93761 Pantin',\n",
       " ' EquinitiAspect HouseLancing, BN99 6DA London',\n",
       " ' 100 North Riverside, 60606 IL Chicago',\n",
       " ' 499 Park Avenue, 11th floor, 10022 New York',\n",
       " ' Palais du CommercePlace de la Bourse, 69002 Lyon',\n",
       " ' Verbier of Chemin des Vernes 2, 1936 VERBIER GENEVE',\n",
       " ' 15 AVENUE JF KENNEDY, 1855 Luxemburg',\n",
       " ' 10 King William Street3rd Floor, EC4N 7TW London',\n",
       " ' 180 North Stetson avenue, Suite 5500, IL 60601 Chicago',\n",
       " ' C/ Serrano, 30 2º D, 28001 Madrid',\n",
       " ' Via Poggiomoro, 1 – Vallina, 50012 BAGNO A RIPOLI',\n",
       " ' Breakspear Park Breakspear Way Hemel Hempstead, HP2 4TZ London',\n",
       " ' Regina-Portmann-Strasse 16, 48159 Muenster',\n",
       " \" Prinses Beatrixlaan 23 • 2595 AK 's Gravenhage - Postbus 30250, 2500 GG The Hague\",\n",
       " ' Champion Building30 Sheshet Hayamin Street, Bnei Brak, 18096 Tel-Aviv',\n",
       " ' Smedeland 36, 2600 Copenhague',\n",
       " ' 18 avenue de Matignon, 75008 Paris',\n",
       " ' 100 Throckmorton St. - Suite 550, TX76102 FORT WORTH',\n",
       " ' 1330 Avenue of The Americas - 26th Floor, NY 10019 New York',\n",
       " ' 350 Park Ave., 17th Fl., NY 10022 New York',\n",
       " ' 95 Wellington St., W., 802,, M5J 2N7 Toronto',\n",
       " ' Via Polenghi Lombardo13, 26900 Lodi',\n",
       " ' Drève Richelle 161 Bâtiment DWaterloo, 1410',\n",
       " ' Dronning Mauds gt. 3, PO BOX 1411 Oslo',\n",
       " ' Nyenburgh Holding BVVijzelstraat 20, 1017 Amsterdam',\n",
       " ' 33 Yonge Street, Ste. 830, M5E 1G4 Toronto',\n",
       " ' 181 Bay Street, Suite  2450Bay Wellington Tower Toronto, M5J 2T3',\n",
       " ' 54 BAKER STREET 1st FLOOR WATSON HOUSE, W1U 7BU London',\n",
       " ' Via Balestra 22B, 6900 Lugano',\n",
       " ' 1 London Wall Place, EC2Y 7QA London',\n",
       " ' 10 -12 Avenue Pasteur, L-2310 Luxemburg',\n",
       " ' 1 KNIGHTSBRIDGE GREEN, SW1X7NE London',\n",
       " ' 55 BAKET STREET, W1U 8 EW London',\n",
       " ' Le Flavia9 rue des Bateaux-Lavoirs, 94868 Ivry-Sur-Seine',\n",
       " ' 701 Brickell Avenue, 9th Floor, 33131 Miami',\n",
       " ' One John Deere Place, 61265 MOLINE, ILLINOIS',\n",
       " ' 780 Third Avenue29 th floor, NY10017 New York',\n",
       " ' 375 Park AvenueSuite 3804, NY 10152 New York',\n",
       " ' Amazonvaegen, 405, 08 Goeteborg',\n",
       " ' Flat 1, 83a Bayham Street, NW1 0AG London',\n",
       " ' Institut de la Vision13 rue Moreau, 75012 Paris',\n",
       " ' Groupe de travail sur les commissions de courtag, 75001 Paris',\n",
       " ' 101 Park Ave., 48th Fl., NY 10178 New York',\n",
       " ' 4th FloorReading Bridge HouseGeorge Street, RG1 8LS London',\n",
       " ' 750 Third avenue, 9th floor, NY 10017 New York',\n",
       " \" George’s Quay Plaza1 George's Quay, 2 Dublin\",\n",
       " ' Suite 105?51 Holland Street, W87JB London',\n",
       " ' MillstreamMaidenhead RoadWindsor, SL45GD BERKSHIRE',\n",
       " ' Queen Anne DriveLochend Industrial EstateNewbridge, EH28 8PL MIDLOTHIAN',\n",
       " ' 32 Ludgate hill, EC4M7DR1BB London',\n",
       " ' 17, rue de la RépubliqueCS 30 128, 69214 Lyon',\n",
       " ' 230 Park Ave, 13th floor, 10169 New York',\n",
       " ' 1915 Rexford RoadCharlotete, 28211 New York',\n",
       " ' 53, Rue Gabriel LippmannNeuve, 6947 Niederanven',\n",
       " ' 2nd floor22 Conduit Street, W1S 2XR London',\n",
       " ' 800 BRICKELL AVENUESUITE 100, FL 33131 Miami',\n",
       " ' PLAZA SAN NICOLAS 4, 48005 Bilbao',\n",
       " ' 3rd Floor 40 Grosvenor Place, SW1X 7AW London',\n",
       " ' 2nd Floor, 50 Pall Mall, SW1Y 5JH London',\n",
       " ' 3rd floor4 Millbank, SW1P 3XR London',\n",
       " ' 262 rue des frères LumièreZI Toulon Est, 83130 La Garde',\n",
       " ' TG Complex, Suite 2, Level 3, Brewery Street, 1470 BIRKIRKARA',\n",
       " ' 4th Floor, 40 New Bond St,, W1S 2RX London',\n",
       " ' Tweede Weteringplantsoen 21PO box 28, 1017 ZD Amsterdam',\n",
       " ' River Court120 Fleet Street, EC4A 2BE London',\n",
       " ' 6 place de Chevelu , 1201 Geneve',\n",
       " ' 26 RUE LOUVIGNY, L-1946 Luxemburg',\n",
       " ' PL 308 FI-00013, . Pohjola',\n",
       " ' 14, rue MarignacPO Box 218, 1211 Geneve',\n",
       " ' PO BOX 1800, 1000  BV Amsterdam',\n",
       " ' Strada Della Croce 39Faetano, 47896 SAN MARINO',\n",
       " ' Campus Palmas AltasParcela ZE-3 , 41014 Sevilla',\n",
       " ' De Run 6501, 5504 Amsterdam',\n",
       " ' 10, rue Denfert Rochereau, 92100 Boston',\n",
       " ' 4th Floor, Foxglove house166 Piccadilly, W1J 9EF London',\n",
       " ' 25 GREAT PULTENEY STREET3RD FLOOR, W1F 9LT London',\n",
       " ' Commercial Court Vienna, 88+8+f Vienna',\n",
       " ' World of SportAdi-Dassler-Strasse 1, 91074 Herzogenaurach',\n",
       " ' Les jardins de la Duranne510 Rue René Descartes, 13857 Aix En Provence',\n",
       " ' Tammasaarenkatu 14th Floor, 00180 Helsinki',\n",
       " ' Adva Francesc Macià,60 planta 20, 08208 Barcelone',\n",
       " ' Pollen House10-12 Cork Street, W1S3NP London',\n",
       " ' 54 avenue de Montaigne, 75008 Paris',\n",
       " ' C/ Juan Hurtado de Mendoza15 Posterior, 28036 Madrid',\n",
       " ' Via Gonzaga 2, 20100 Milan',\n",
       " ' 8-10 rue Jean Monnet, L 2180 Luxemburg',\n",
       " ' 7 rue de la Chapelle, L-1325 Luxemburg',\n",
       " ' 225 west wacker streetSuite 2400, IL 60606 Chicago',\n",
       " ' Arteparc BachassonCS 70025, 13590 Meyreuil',\n",
       " ' 110 N. Wacker Dr, 27th Floor, Chicago IL 60606, US, 60606 Chicago',\n",
       " ' 1375 Kerns Road, suite 100, ON L7P 4V7 BURLINGTON',\n",
       " ' 1 Terrasse Bellini – Tour Initiale, 92919 La Defense',\n",
       " ' 505 SANSOME ST, STE 1950, CA  94111-3173 San Francisco',\n",
       " ' 16 Avenue Marie-Thérèse, L-2132 Luxemburg',\n",
       " ' Geberit International AGSchachenstr. 77, 8645 JONA',\n",
       " ' Henrik Ibsens gate 100PO Box 2911 Soli, 0255 Oslo',\n",
       " ' 1st Floor48 Dover Street, W1S4FF London',\n",
       " ' 499 Park Avenue, 21st floor, 10022 New York',\n",
       " ' Steinsdorfstrasse 13, D-80538 Muenchen',\n",
       " ' Hon Hai Precision Industry Co., Ltd.No.2, Zihyou St., Tucheng Dist., 236 NEW TAIPEI CITY',\n",
       " ' ONE NORTH JEFFERSON AVENUE, MO  63103 St. Louis',\n",
       " ' 1350 Avenue of the Americas, Suite 435, NY 10019 New York',\n",
       " ' Ruedenplatz 2Postfach 2701, CH-8022 Zuerich',\n",
       " ' 12-14 rue Belgrand, 92300 Levallois Peret',\n",
       " ' 9 Kiprou &amp; Idras avenue - Moshato, Athens',\n",
       " ' 11 Voukourestiou Street, 10671 Athens',\n",
       " ' 4 sloane Terrace, SWIX9DQ London',\n",
       " ' Praça Marquês de Pombal, 12, 1250-162 Lisbonne',\n",
       " ' 101 California Street Suite 3250, 94111 San Francisco',\n",
       " ' 6A, Circuit de la Foire Intl, L-1347 Luxemburg',\n",
       " ' James House, Level 2, SW1Y 6HD London',\n",
       " ' 7 Lil-Dagover-Ring 7, 82031 Gruenewald',\n",
       " ' 133 - 137 ALEXANDRA ROAD  CONNECT HOUSE - WIMBLEDON , SW19 7JY London',\n",
       " ' 28 Fitzwilliam Place, Hamilton House,  Dublin',\n",
       " ' 1 rue Pierre Fontaine - Genopole – Campus 3 / Batiment 2, 91058 Evry',\n",
       " ' 4 RUE DE LA GREVE , L - 1643 Luxemburg',\n",
       " \" 3 ST JAME'S SQUARE , SW1Y 4JU London\",\n",
       " ' planta 3  Paseo de la Castellana 257, 28046 Madrid',\n",
       " ' 5th Floor, 10 Old Burlington Street, W1S 3AG London',\n",
       " ' 40   Rue Belliard ,  B-1040 Brussels',\n",
       " \" St James'S Street, 13th Floor Smithson Plaza, SW1A 1HA London\",\n",
       " ' 65 E 55th Street, 9th Floor, 10022 New York',\n",
       " ' 1 Place Pierre Potier - Oncopole, 31000 Toulouse',\n",
       " ' Tour Montparnasse 33 avenue du Maine, 75015 Paris',\n",
       " ' 1 Avenue St Rémy - Espace Pierrard - PO box80157, 57600 Forbach',\n",
       " ' 27 rue du Faubourg Saint-Jacques , 75014 Paris',\n",
       " ' Suite 100 10830 Jasper Avenue, AB, T5J 2B3 Edmonton',\n",
       " ' 1 Newark Street, 25, NJ 07030 Hoboken',\n",
       " ' 8 Sound Shore Drive, 3rd Floor, CT 06830 Greenwich',\n",
       " ' 101 Federal Street, Suite 1900, MA 02110 Boston',\n",
       " ' Avenida diagonal 413 2-1, 08008 Barcelone',\n",
       " ' 25 Hanover Square 2nd and 6th floor, W1S 1JF London',\n",
       " ' 888 7th Avenue, 23rd Floor, NY 1009 New York',\n",
       " ' 325 John H. McConnell Blvd, Suite 200 , 43215',\n",
       " ' 60 East 42nd Street, Suite 960 , NY 10165 New York',\n",
       " ' 41-47 Bld Marcel Sembat, 69200 Venissieux',\n",
       " ' 1 avenue Saint-Rémy - Espace Pierrard, 57600 Forbach',\n",
       " ' The Exchange ,George’s Dock, D01 P2V6 Dublin',\n",
       " ' 25 Price Street, M4W 1Z1 Toronto',\n",
       " ' 10 STADIOU STREET, 105 64 Athens',\n",
       " ' One Cavendish Pl., , W1G 0QF London',\n",
       " ' 455 N. Cityfront Plaza Drive, Suite 1710, IL 60611 Chicago',\n",
       " ' 900 boul. de Maisonneuve Ouest, Suite 1900, H3A 0A8 Montreal',\n",
       " ' C/ Santa Sabina, 8 - 1ª Planta,',\n",
       " ' 405 Lexington Avenue, Suite 3401, NY 10174 New York',\n",
       " ' 65 East 55th Street, 35 Floor, NY 10022 New York',\n",
       " ' Genopole - Campus 1, 5, rue Henri Desbruères, 91000 Evry',\n",
       " ' C/ José Miguel Iturrioz, 26, 20200',\n",
       " ' Paseo del tren Talgo, 2 - Las Matas, 28290  Madrid',\n",
       " ' 32 Boulevard Royal, L-2449 Luxemburg',\n",
       " ' Calle Rafael Calvo 39, 28010 Madrid',\n",
       " ' AV. JOAO CRISOSTOMO 30 6-ESQ, 1050-127 Lisbonne',\n",
       " ' 250 VESEY STREET 15th Floor , 10281 New York',\n",
       " ' 309 W 49th St Worldwide Plaza , 10019 New York',\n",
       " ' R ALEXANDRE HERCULANO 38, Santo António , PT-11 1269 - 180 Lisbonne',\n",
       " \" 5 Upper St. Martin'S Lane - Orion House, WC2H 9EA London\",\n",
       " ' REX HOUSE, St James, SWIY 4PE London',\n",
       " ' 5 Place Ville Marie, Suite 1100 PO Box 11002, H3C 4T2 Montreal',\n",
       " ' 120 Fifth Avenue, 11th Floor, NY 10011 New York',\n",
       " ' 25 Old Broad Street, Level 33 Tower 42, EC2N 1HQ London',\n",
       " ' SALESFORCE TOWER, 110 BISHOPSGATE, Suite 17.09,, EC2N 4AY London',\n",
       " ' Nieuwezijds Voorburg, 1000 AS Amsterdam',\n",
       " ' 520 madison avenue, floor 21, 10022 New York',\n",
       " ' 520 Madison Ave  41st Floor, NY 10022 New York',\n",
       " ' Bld de la Woluwe 58 Woluwedal B, 1200 Brussel',\n",
       " \" Whitaker Court 3rd Floor, Block C 28-29 Sir John Rogerson's Quay, Dublin 2 Dublin\",\n",
       " ' 4 Carlton Gardens , SW1Y 5AB London',\n",
       " ' 32133 LINDERO CANYON ROAD, Suite 208, CA 91361 WESTLAKE VILLAGE',\n",
       " ' APIANSTRABE 5, 85774 Unterfoehring',\n",
       " ' 25188 Genesee Trail Rd, 250, CO 80401-7587 GOLDEN',\n",
       " ' 499 Park Avenue ,20th Floor, 10022 New York',\n",
       " ' Av 24 de Julho 74-76, 200-869 Lisbonne',\n",
       " ' 4, Amerikis St.10 564  Athens, 10564 Athens',\n",
       " ' 23rd km. Athens - Lamia, GR 145 65 Athens',\n",
       " ' 600 Third Avenue, 26th Floor, NY 10016 New York',\n",
       " ' 75 Park Plz , MA02116 Boston',\n",
       " ' 58 rue de la Boétie, 75008 Paris',\n",
       " ' 139 Fountainbridge Edinburgh Quay 2, 5th floor, EH3 9QG Edimbourg',\n",
       " ' Muntcentrum 1, B-1000 Brussel',\n",
       " ' ITO Tower, 21st floo,  Amsterdam',\n",
       " \" 2046 Boulevard de la Defense - L'Origine Building, 92000\",\n",
       " ' 1114 Ave of the Americas, 22nd floor, 10036 New York',\n",
       " ' 888 Boylston Street, Suite 1420 Boston , 02199',\n",
       " ' Cowick HallSnaith, Goole, DN149AA London',\n",
       " ' LEVEL 122 BLIGH STREET, NSW 2000 Sydney',\n",
       " ' Av. De Europa, 18Parque Empresarial La Moraleja, 28108 Madrid',\n",
       " ' C/ Federico Salmón, 13 - 2 Floor, 28016 Madrid',\n",
       " ' Quindell Court1 Barnes Wallis RoadSegensworth East, Fareham, PO15 5UA Hampshire',\n",
       " ' 38th Floor, Tower 2, Times Square1 Matheson Street, Causeway Bay Hong Kong',\n",
       " ' Råsundavaegen 2, SE269 83 Solna',\n",
       " ' 1400-130  King Street West, M5X 1C8  Toronto',\n",
       " ' 52 MENACHEM BEGIN RD,  Tel-Aviv',\n",
       " ' 411 W Putnam Ave Suite 225, CT 06830 Greenwich',\n",
       " ' 5 Greenwich View Place Millharbour, E14 9NN London',\n",
       " ' 4 Landmark Square, Suite 301, CT 06901 Stamford',\n",
       " ' 179 Marina Street  Skyway Offices Block C Office 1 , PTA9042 PIETA',\n",
       " ' 5500 Meadows Road, Suite 200 – Lake Oswego,, OR 97035',\n",
       " ' ERIKA-MANN ST 69, D-80636 Muenchen',\n",
       " ' PODIUM 9 - 3826 AMERSFOORT, 3826 Amsterdam',\n",
       " ' 8 RUE DE VIDAILHAN HILLS PLAZA BAT B 1er étage, 31130 Balma',\n",
       " ' 10953 Arbor View Blvd, FL 32825 Orlando',\n",
       " ' 11 RUE CAMBRAI BATIMENT 28 PARC DE FLANDRE LE BEAUVAISIS, 75019 Paris',\n",
       " ' Forum 2 Archamps Technopole 218 avenue Marie Curie, 74166 Saint-Julien-En-Genevois',\n",
       " ' 82 DEVONSHIRE STREET F3B, MA 2109 Boston',\n",
       " ' 82 DEVONSHIRE STREET F3B , MA 02109 Boston',\n",
       " ' Industrielaan 27 bus 6, 9320 Erembodegem',\n",
       " ' 30 Gresham Street Lodon  EC2V 7 PG 1st Floor, East Wing, EC2V London',\n",
       " ' Via Trieste, 76, 48122 Ravenna RA, Italy, 0 Ravenna',\n",
       " \" Corso d'Italia, 6, 00198 Roma RM, Italy, 198 Rome\",\n",
       " ' Via A. di Tocqueville, 13 - 20154 Milano, 0 Rome',\n",
       " ' Kungstraedgårdsgatan 10, Stockholm, 123 Stockholm',\n",
       " ' Pier 1, Bay 1, 94111 San Francisco',\n",
       " ' Ferdinadstrasse 12, 20095 Hamburg',\n",
       " ' via Clemente Maraini 39, 6902 MUGANO',\n",
       " ' 2 place aux Étoiles - CS 70001, 93633 St Denis',\n",
       " ' Sint-Jorisstraat 6, 8500 KortrijkST-JORISSTRAAT 6, 8500 Kortrijk',\n",
       " ' Minster House 272-274 Vauxhall Bridge Road, SW1V 1BB London',\n",
       " ' 2300 Yonge Street, Suite 1820Box 2392, M4P 1E4 Toronto',\n",
       " ' Immeuble Le Cézanne30 avenue des Fruitiers, 93200 Saint-Denis',\n",
       " ' Hovedvejen2, 2600 GLOSTRUP',\n",
       " ' Flat 322 Hatherley Grove, W2 5RB London',\n",
       " ' Devonshire House, 7th FloorMayfair Place, W1J 8AJ London',\n",
       " ' 2, Boulevard de la Foire L-1528 LUXEMBOURG, 1528 Luxemburg',\n",
       " ' 500 West Putnam Avenue, 4th Floor, 06830-6086',\n",
       " ' 15 Peter-Behrends-Str., 12459 Berlin',\n",
       " ' 24 th Valle Ercilla , 48011 Bilbao',\n",
       " ' 23 St Andrew Square, EH2 1BB London',\n",
       " ' NDSM-straat10 1033 SB Amsterdam, 1033 Amsterdam',\n",
       " ' 1155 Battery Street San Francisco, CA 94111 USA, 94111 New York',\n",
       " ' 3 Park Avenue,37th Floor, NY 10016',\n",
       " ' One Liberty Sq., 11th Fl., 02109 Boston',\n",
       " ' 315 Madison Ave., 3rd Fl., 10017 New York',\n",
       " ' 300 Atlantic St., Suite 600, 06901 Stamford',\n",
       " ' 1301 Shoreway RdSuite 350, CA 94002',\n",
       " ' Avda de la Generalitat 152-158Parc Empresarial Can Sant Joan, 08174',\n",
       " ' Paseo de la Castellana 42 28046 Madrid, 28046 Madrid',\n",
       " ' PO Box CH 8058 Zuerich Airport, 8058',\n",
       " ' 23 Shelbourne Road Ballsbridge, Dublin 4 Dublin',\n",
       " ' Ratio 6, 6921 RW Duiven, 6921 Amsterdam',\n",
       " ' 800 Boylston Street15th Floor suite 1520, MA 02199',\n",
       " ' 150 E 52nd St, 22nd Floor, 10022',\n",
       " ' Ueberseering 10 22297 Hamburg, 22297',\n",
       " ' 15 ST BOTOLPH STREET BEAUFORT HOUSE , EC3A 7QX London',\n",
       " ' 600 Madison Ave., 2101, 10022 New York',\n",
       " ' 60 ROUTE DES ACACIAS  - GENEVE 73, 1211 Geneve',\n",
       " ' 4, rue Peternelchen, L-2370 HOWALD',\n",
       " ' Praha 4, Czech Republic, 14053 Paris',\n",
       " ' 11-13  rue René Jacques - Immeuble Vivaldi, 92130 Issy Les Moulineaux',\n",
       " ' 257 PARK AVENUE SOUTH  15th FLOOR , 10010 New York',\n",
       " ' 1633 Broadway New York, NY 10019, 10019 New York',\n",
       " ' 5/3  MERCHANTS STREET , VLT1171',\n",
       " ' 26 Rue Benoît Bennier  69260 Charbonnières-les-Bains, 69260 Lyon',\n",
       " ' 200 Greenwich Ave.,3rd Fl., CT 06830 Greenwich',\n",
       " ' 12, rue Eugène Ruppert, L-2453 Luxemburg',\n",
       " ' 8 ABBA EVEN BLVD  PO BOX 2181 ENTRANCE HERZELIYA, 46733',\n",
       " ' 12TH FLOOR 5 ALDERMANBURY SQUARE, EC2V 7HR London',\n",
       " ' One New York Plazza, 10004 New York',\n",
       " ' 6th Floor34 Dover Street, W1S 4NG London',\n",
       " ' PALAIS SAINT JAMES5 AVENUE PRINCESSE ALICE, 98000 Monaco City',\n",
       " ' 10100 W CHARLESTON AVENUESUITE  214, 89135 LAS VEGAS NV',\n",
       " ' Calle Ramirez de Arellano Planta 6, 28043 Madrid',\n",
       " ' 6A rue Gabriel Lippmann, L-5365 Munsbach',\n",
       " ' John Hancock Tower, 200 Clarendon Street,14th Floor  Boston, MA 02116 Boston',\n",
       " ' AV ATAULFO DE PAIVA 1235ANDAR 6 E 7 PARTE, 22.440-034 Rio De Janeiro Rj',\n",
       " ' 1825 NW CORPORATE BLVDSUITE 100, FL 33431 BOCA RATON',\n",
       " ' route de Lavaux 36, 1095 Lutry, 1095 Lutry',\n",
       " ' 666 Fifth Avenue,8th Floor, NY 10103-0001 New York',\n",
       " ' 275 Grove Street,Suite 2-130, MA 02466',\n",
       " ' 53/55 avenue de iena, 75016 Paris',\n",
       " ' 33 Cavendish Square, W1G 0PS London',\n",
       " ' PO Box 309 - Ugland House, KY1-1104 George Town',\n",
       " ' 1 B Heienhaff Grossherzogtum Luxemburg, 1736 Senningerberg',\n",
       " ' 31 Place des Corolles Esplanade Nord, 92400 Courbevoie',\n",
       " ' 75 Rockefeller Plaza, 21st Floor, Suite A, NY 10111 New York',\n",
       " ' Rubinstein House 37 Menachem Begin Road, 65220 Tel-Aviv',\n",
       " ' 2, London Wall Buildings, EC2M 5PP London',\n",
       " ' Level 22   Heron Tower110 Bishopsgate, EC2N 4AY London',\n",
       " ' CAPITAL VENTURES INTL C/O HEIGHTS CAP MGT101 CALIFORNIA STREET , SUITE 3250, CA 94111 San Francisco',\n",
       " ' PO Box 564Bellerivestrasse 45, ch-8008 Zuerich',\n",
       " ' Lissin 27,  Tel-Aviv',\n",
       " ' 18 Henrietta Street4th Floor, WC2E 8QH London',\n",
       " ' 205 East 42nd Street, 20th Floor, NY 10017 New York',\n",
       " ' 1 via M. Civitali, 20148 Milan',\n",
       " ' 1 Boulevard Royal, L-2449 Luxemburg',\n",
       " ' 94-96 avenu Ledru Rollin, 75011 Paris',\n",
       " ' 7, rue Loch, 29555 Brest',\n",
       " ' 55 Baker Street, WU 8EW London',\n",
       " ' Kolonienstrasse 11, B-1000 Brussel',\n",
       " ' GB Pirelli 19, 20124 Milan',\n",
       " ' 88 Wood St. 8th FI, EC2V 7QR London',\n",
       " \" rue d'EpagnacBP 21, 16800 Soyaux\",\n",
       " ' 6th Floor, Portsoken House155-157 Minories, EC3N 1LS London',\n",
       " \" 14 Ahad Ah'am St, 65142 Tel-Aviv\",\n",
       " ' Entenza 325-335, 08029 Barcelone',\n",
       " ' 3rd floor111 Buckingham Palace Road, SW1W 0SR London',\n",
       " ' Moore House120 London Wall, EC2Y SET London',\n",
       " ' 545 Fifth Avenue, 12th Floor, NY 10017 New York',\n",
       " ' 250 W., 55th St., 33rd Fl, 10019 New York',\n",
       " ' 650 Madison Ave 18th FI, 10022 New York',\n",
       " ' 530 Fifth Avenue 25 th Floor, 10036 New York',\n",
       " \" 20 rue de l'Arc de Triomphe 75017 Paris, 75017 Paris\",\n",
       " ' Lyford Cay House5th FloorWest Bay Street, N-7529',\n",
       " ' ONE SOUND SHORE DRIVE-SUIT 101, 06830 Greenwich',\n",
       " ' 6-8 AHUZAT BAYIT STREET, 65143 Tel-Aviv',\n",
       " ' 1 PASSERELLE DES REFLETSLA DEFENSE 2, 92913 La Defense',\n",
       " ' 16, rue Jean-Pierre Brasseur, L-1258 Luxemburg',\n",
       " ' 120 Chaussée de la Hulpe, B-1000 Brussel',\n",
       " ' Kanavaranta 1   00101 Helsinki, Finland  , 00101 Helsinki',\n",
       " ' 777 BRICKELL AVE.SUITE 1010, FL 33131 Miami',\n",
       " ' The Broadgate Tower Level 20 20 Primrose Stree, EC2A 2EW London',\n",
       " ' 97 Uisadang St.Yeongdeungpo-Gu, 07327 Seoul',\n",
       " ' c/Don Ramon de la Crue 23Entreplanta interior, 28006 Madrid',\n",
       " ' 111 Town Square Place, NJ07310 Jersey City',\n",
       " ' 640 5th Avenue19th Floor, NY 10019 New York',\n",
       " ' 72 Cummings Point Road, CT06902 Stamford',\n",
       " ' One Federal St., 28th Fl,, 02110 Boston',\n",
       " ' 27a Deggendorfer Strasse, 94559 Niederwinkling',\n",
       " ' 94 RUE DU KIEM, L-1857 Luxemburg',\n",
       " ' AV DA REPUBLICA N25 5B, 1050-186 Lisbonne',\n",
       " ' 3rd Floor,New Liverpool House15 Eldon Street, EC2M 7LD London',\n",
       " ' Minholzweg 2 B, 61476 Kronberg',\n",
       " ' Koenigsalee 14, 40212 Duesseldorf',\n",
       " ' Ostendsrtasse 100, 90334 Nuremberg',\n",
       " ' Suite 13Vicarage HouseKensington Church St, W8 4DB London',\n",
       " ' Bld Louis Schmidt 87 Bte 3, 1040 Brussels',\n",
       " ' 23 Fitzwilliam PlaceGrand Canal Dock,  Dublin',\n",
       " ' 207 REGENT STREET 3RD FLOOR, W1B 3HH London',\n",
       " ' 40 KING  ST W, ON M5H 1 H1',\n",
       " ' Via Peri 9a, 6900 Lugano',\n",
       " ' Via Balestra 15a, 6900 Lugano',\n",
       " ' 90 Park Ave, FI 5, 10016 New York',\n",
       " ' One Beacon Street30th Floor, 02108 Boston',\n",
       " ' 171  bis chemin de la Madrague, 13002 Marseille',\n",
       " ' C/O Neighborhood  64 avenue Pierre Grenier, 92100 Boulogne-Billancourt',\n",
       " ' 250 W 55th Street, Fl 32, NY 10019 New York',\n",
       " ' 9 BOULEVARD PRINCE HENRI, L-1724 Luxemburg',\n",
       " ' 2000 McKinney Avenue, Suite 2125 , TX 75201 Dallas',\n",
       " ' BP L3 10, avenue du Maréchal Foch Nouméa Cedex, 98849 Nouméa',\n",
       " \" 455 PRO DES ANGLAIS L'ARENAS, 06200 Nice\",\n",
       " ' One International Place, Suite 3510, MA 02110 Boston',\n",
       " ' 17 RUE P ET D PONCHARDIER ESPACE FAURIEL BP 147, 42012 Saint-Étienne',\n",
       " ' 187 QUAI D ORIENT BP 188, 34203 Sète',\n",
       " ' 5 PL DE LA PYRAMIDE TOUR ARIANE LA DEFENSE, 92800 Puteaux',\n",
       " ' 135 PONT DES FLANDRES, 59350 Lille',\n",
       " ' 1 AV DU RHIN, 67100 Strasbourg',\n",
       " ' 10 AV JAMES CLERCK MAXWELL, 31100 Toulouse',\n",
       " ' 2 PL GRASLIN CS 10305, 44003 Nantes',\n",
       " ' 1111 Brickell Ave, Suite 1525, FL 33131 Miami',\n",
       " ' PL ESTRANGIN PASTRE BP 108, 13254 Marseille',\n",
       " ' 23 rue du commandant mouchotte, 94160 Saint-Mande',\n",
       " ' 9 West 57th Street, 36th Floor, 10019 New York',\n",
       " ' 5  APPOLD STREET - BROADWALK HOUSE, EC2A 2AG London',\n",
       " ' 8 allée Irène Joliot Curie ParcTechnologique de Lyon, 69800 Lyon Saint-Priest',\n",
       " ' HQ 155-157 cours Berriat, 38028 Grenoble',\n",
       " ' 250 W55 STREET  30TH FLOOR  NY , 10019 New York',\n",
       " ' Calle Prof Waksman 14 bis, 28036 Madrid',\n",
       " ' 33 avenue du Maine  - Tour Maine Montparnasse, 75015 Paris',\n",
       " ' 6 Northbrook Road, Ranelagh, D06 PH32 Dublin',\n",
       " ' 12 Kwinkweerd, 7241 Lochum',\n",
       " ' 787 Seventh Avenue, 11th Floor, NY 10019 New York',\n",
       " ' 280 Park Avenue, 5th Floor , NY 10017 New York',\n",
       " ' 767 fifth avenue, 49th floor, NY 10153 New York',\n",
       " ' 712 fifth avenue, 49th floor, NY 10019 New York',\n",
       " ' 515 Madison Avenue, 20th Floor, 10022 New York',\n",
       " ' N.V. Oosterdoksstraat 801011 DK, 1011 Amsterdam',\n",
       " ' C/O MFD Secreraties Limited - 32 Molesworth Street, D02 Y512 Dublin',\n",
       " ' 1000 Place Jean-Paul Riopelle, Suite E-400, QC H2Z 2B6 Montreal',\n",
       " ' 11 Hill Street, W1J 5LK  London',\n",
       " ' 5 PL DE LA PYRAMIDE, TOUR ARIANE LA DEFENSE 9, 92800 Puteaux',\n",
       " ' 3rd Floor, Becket House, 36 Old Jewry, EC2R 8DD London',\n",
       " ' 9th Floor Devonshire House - 1 Mayfair Place, W1J 8AJ London',\n",
       " ' 350 Park Avenue, Suite 1304, NY 10022 New York',\n",
       " ' Calle Bolsa n4 1era Planta, 29015 Malaga',\n",
       " ' 60 Petty France London SW1H 9EU  , SW1H London',\n",
       " ' 600 BRICKELL AVENUE SUITE 1550, FL 33131 Miami',\n",
       " ' 13 BERKELEY STREET SIXTH FLOOR, W1J8DU London',\n",
       " \" 23 KING STREET,ST JAME'S, SW1Y 6QY London\",\n",
       " ' Jacob Bontiusplaats 9INIT Building, 1018 LL Amsterdam',\n",
       " ' DIFC/ 502 North, Emiratss Financial Tower,  Dubaï',\n",
       " ' Rambla de Catalunya, 38 9a/1a place, 08807 Barcelone',\n",
       " ' 35 Ballards Lane, LND N3 1XW London',\n",
       " ' 60 South Street, Suite 1100, MA 02111 Boston',\n",
       " ' Via Polenghi Lombardo 13Centro Polifunzionale, 26900 Lodi',\n",
       " ' 257 Fillmore St, Suite 200, CO 80206 Denver',\n",
       " ' Piaza Dante 7, 6900 Lugano',\n",
       " ' 12F Samsung Engineering Tower 39, Eongu-ro 30-gil, Gangnam-gu, 06292 Seoul',\n",
       " ' 139 RUE DE BERCY - BATIMENT COLBERT, 75572 Paris',\n",
       " ' 1501, McGill College Avenue Bureau 2220, H3A 3M8 Montreal',\n",
       " ' 14 RUE SCANDICCI TOUR ESSOR, 93500 Pantin',\n",
       " ' Immeuble les centuries 2 101 place Pierre Duhem , 34000 Montpellier',\n",
       " ' 77 King Street West, 35 Floor, ON M5K 1BZ',\n",
       " ' Largo Do Calhariz No 30, 1249-001 Lisbonne',\n",
       " ' 100 Adelaide Street W, Suite 2100, M5H 1S3 Toronto',\n",
       " ' rua de meladas, n°380 PO BOX 20 4536-902 MOZELOS , 4536 Moze-Sur-Louet',\n",
       " ' Ropemaker Place28 Ropemaker Street, EC2Y 9HD London',\n",
       " ' 99 BANK STREET   919 , ON K1P 6B9 OTTAWA',\n",
       " ' Suite 51, One St Colme Street, EH3 6AA Edimbourg',\n",
       " ' 8 Boulevard des Moulins, 98000 Monaco City',\n",
       " ' ul. Marszalkowska 142, 00-061 Warsaw',\n",
       " ' One  Queen Street East, Suite 2500, M5C 2W5 Toronto',\n",
       " ' 76 BELMONT STREET  ON M5R 1P8,  Toronto',\n",
       " ' 8th Floor 111 Piccadilly, M1 2HY Manchester',\n",
       " \" 3rd Floor 11-12 St. James's Square, SW1Y 4LB London\",\n",
       " ' WERTPAPIERHANDELSBANK  SCHILLERSTRASSE 12 , 60313 Frankfurt am Main',\n",
       " ' 33 BOULVEVARD BISCHOFFSHEIM, 1000 Brussels',\n",
       " ' 35 Picadilly Mayfair, W1J 0DW London',\n",
       " ' 850 Third Avenue,13th Floor, NY 10022 New York',\n",
       " ' VIA TAETINA 1, 50123 Florence',\n",
       " ' 452 5th Ave., 14th Floor, 10018 New York',\n",
       " ' 510 Madison Avenue; 22nd Floor , NY 10022 New York',\n",
       " ' 61 Broadway, Suite 2858 , 10006 New York',\n",
       " ' 2 Conduit Street 5th Floor, W1S 2XB London',\n",
       " ' 250 W 55th St 34th Floor, 10019 New York',\n",
       " ' ONE CHURCHILL PLACE -  CANARY WHAR, E14 5RD London',\n",
       " ' Chytron 30 office 31 Nicosia, 1075',\n",
       " ' 1185 Avenue of the Americas, 2nd Floor, NY 10036 New York',\n",
       " ' New Wing, Somerset House, WC2R 1LA London',\n",
       " ' 598 Madison avenue, 9th floor, NY 10022 New York',\n",
       " ' 28 STATE STREET, 23rd Floor, MA 02109 Boston',\n",
       " ' Calle Sena, 12 Nucleo Ata Planta Sant Cugat Del Valles , 08174 Barcelone',\n",
       " ' 330 MADISON AVENUE Floor 22, 10017 New York',\n",
       " ' WOLGANG  PAULI STRASSE 1, 2700 WIENER NEUSTADT',\n",
       " ' 53 State Street29th floor, MA 02109 Boston',\n",
       " ' Baumstrasse 25 45128 Essen, 45128 Essen',\n",
       " ' 510 Laguardia Place5th floor, NY 10012 New York',\n",
       " ' 23 SAVILLE ROW  2nd  Floor , W1S2ET London',\n",
       " ' 433 W Van Buren Street, Floor 11N, Pony Express Suite C, IL 60611 Chicago',\n",
       " ' 737 North Michigan AvenueSuite 1405, IL 60611 Chicago',\n",
       " ' 4 rue Jean Monnet, L-2180 Luxemburg',\n",
       " ' 100 KING STREET WEST 43rd FLOOR , ON M5X 1H3 Toronto',\n",
       " ' Lei 19 - bus 2, B-3000 Leuven',\n",
       " ' Nations House103 Wigmore Street  , W1U 1QS London',\n",
       " ' 24, avenue Aristide Briand, 92188 Antony',\n",
       " ' 8-10, rue Jean Monnet, L-2180 Luxemburg',\n",
       " ' ZIE RUE DU DUREMONT, 59960 Neuville En Ferrain',\n",
       " ' 18, rue des frères Eberts, 67 024 Strasbourg',\n",
       " ' 17-21, rue de la Nuée-Bleue, 67077 Strasbourg',\n",
       " ' 63, rue Pierre Charron, 75008 Paris ',\n",
       " ' 63, rue Pierre Charron, 75008 Paris',\n",
       " \" Parc d'activités Gustave Eiffel22, avenue de l'Europe - Bussy-St-Georges, 77607 Marne-La-Vallée \",\n",
       " \" Parc d'activités Gustave Eiffel 22, avenue de l'Europe - Bussy-St-Georges, 77607 Marne-La-Vallée\",\n",
       " ' Schwartzstrasse 17, A-5020 Salzburg',\n",
       " ' Plaza Manuel Gomez Moreno, 2  , 28020 Madrid',\n",
       " ' Via de los Poblados, s/n 3rd Floor , 28033 Madrid',\n",
       " ' Parkveien 55, 256 Oslo',\n",
       " ' Barbara Strozzilaan 310Postbus 75047 , 1083 HN Amsterdam',\n",
       " ' 7 place du Chancelier Adenauer CS 31622, 75772 Paris',\n",
       " \" Leonardo da Vinciplain 60 Paostbus 1021 , 5200 HC 's Hertogenbosch\",\n",
       " ' One Queen St., E., 2700, ON M5C 2W5 Toronto',\n",
       " ' Quai de la poste 12 , P.O. Box 1211 Geneve',\n",
       " ' 100,rue Petit, 75019 Paris ',\n",
       " ' 100,rue Petit, 75019 Paris',\n",
       " ' 25,rue Louis Legrand, 75002 Paris',\n",
       " ' B.P. 0727, 53007 Laval',\n",
       " ' 16, Avenue Henri FrévilleCS98101, 35081 Rennes ',\n",
       " ' 16, Avenue Henri Fréville CS98101, 35081 Rennes',\n",
       " ' I, Les Cabannes Nord, 33330 Saint-Emilion',\n",
       " ' Tour Initiale 1, Terrasse Bellini - TSA 41000, 92919 La Defense',\n",
       " ' 110 Avenue de la Jallère - Quartier du Lac, 33042 Bordeaux',\n",
       " ' 80-82 quai Michelet, 92532 Levallois Peret',\n",
       " ' 57 bis rue de Tocqueville, 75017 Paris ',\n",
       " ' 57 bis rue de Tocqueville, 75017 Paris',\n",
       " ' 13-15 Moorgate  , EC2R 6AD London ',\n",
       " ' 13-15 Moorgate, EC2R 6AD London',\n",
       " ' P.O Box 27965, Safat, 13140 Kuwait City',\n",
       " ' P.O. Box 20607 Safat, 13067 Kuwait City',\n",
       " ' P.O. Box 29233 Safat, 13153 Kuwait City',\n",
       " ' PO-BOX 1777 Vika, N-0122 Oslo',\n",
       " ' P.O. BOX 500239, . Dubaï',\n",
       " ' 29/31 rue Saint Augustin, 75002 Paris ',\n",
       " ' 29/31 rue Saint Augustin, 75002 Paris',\n",
       " ' 8, rue Danielle Casanova -, 75002 Paris ',\n",
       " ' 8, rue Danielle Casanova -, 75002 Paris',\n",
       " ' 14 rue Fererre, 33000 Bordeaux',\n",
       " ' 57 Berkeley Square, Lansdowne House, 3rd Floor, W1J 6ER London',\n",
       " ' 181 W Madison Street, 35th Floor, IL 60602 Chicago',\n",
       " ' 2049 Century Park East, 17th Floor , CA 90067 Los Angeles',\n",
       " ' 18201 Von Karman Avenue, Suite 970 , CA 92612 Irvine',\n",
       " ' 11601 Wilshire Blvd, Suite 1200 , CA 90025 Los Angeles',\n",
       " ' 681 Fifth Avenue, 12th Floor, NY 10022 New York',\n",
       " ' 2049 Century Park East, 16th Floor , CA 90067 Los Angeles',\n",
       " ' 99 Queens Road unit 4601-4603 the Center, Central,  Hong Kong',\n",
       " ' 12424 Wilshire Blvd, Suite 1430 , CA 90025 Los Angeles',\n",
       " ' 810 Seventh Avenue, Suite 803, NY 10019 New York',\n",
       " ' 2 Filipstad Brygge, N-0125 Oslo',\n",
       " ' 1 PLACE JEAN MILLIER - TOUR AREVA, 92400 Courbevoie',\n",
       " ' 148 Electric Road, 1-3a, 35/F, North Point,  Hong Kong',\n",
       " ' 3105 Tower 2 China World Trade Centre 1 Jianguomenwai Dajie, 100004 Beijing',\n",
       " ' Rm 1401-02 Tower B International Chamber of Commerce Building Fuhua Yi Lu, Futian District, 518048 SHENZHEN',\n",
       " ...]"
      ]
     },
     "execution_count": 530,
     "metadata": {},
     "output_type": "execute_result"
    }
   ],
   "source": [
    "invalidAdress_splitted_without_special_car_clean"
   ]
  },
  {
   "cell_type": "code",
   "execution_count": 938,
   "id": "ff244813",
   "metadata": {},
   "outputs": [],
   "source": [
    "import pandas as pd\n",
    "df=pd.read_csv('worldcities.csv')\n",
    "city_names =list(df[\"city_ascii\"])"
   ]
  },
  {
   "cell_type": "code",
   "execution_count": 939,
   "id": "88e98ad6",
   "metadata": {},
   "outputs": [
    {
     "name": "stdout",
     "output_type": "stream",
     "text": [
      "Number: 11\n",
      "Street: 11A Regent Street3rd Floor\n",
      "City: London\n",
      "Postcode: SW1Y 4LR\n",
      "State: SW\n",
      "---\n",
      "Number: 15\n",
      "Street: Street15th Floor\n",
      "---\n",
      "Street: StreetCalamar\n",
      "---\n",
      "Street: StreetCaalamarBnn\n",
      "---\n",
      "Number: 71\n",
      "Street: 71 High Holborn Level 9 MidCity Place\n",
      "City: London\n",
      "Postcode: WC1V 6EA\n",
      "State: WC\n",
      "---\n",
      "Number: 123\n",
      "Street: 123 Main St\n",
      "City: Apt\n",
      "Country: USA\n",
      "State: NY\n",
      "---\n",
      "Number: 10\n",
      "Street: 10 Downing St\n",
      "City: London\n",
      "Country: UK\n",
      "Postcode: SW1A 2AA\n",
      "State: SW\n",
      "---\n",
      "Street: Champs-\n",
      "City: Paris\n",
      "Country: France\n",
      "---\n",
      "Street: Wan Chai\n",
      "City: Hong Kong\n",
      "---\n"
     ]
    }
   ],
   "source": [
    "import re\n",
    "\n",
    "address_list = [\"11A Regent Street3rd Floor, Southwest House, SW1Y 4LR London\" ,\"Street15th Floor\", \"StreetCalamar\", \"StreetCaalamarBnn\", \"71 High Holborn Level 9 MidCity Place , WC1V 6EA London\", \"123 Main St, Apt 4A, New York, NY 10001, USA\", \"10 Downing St, London, SW1A 2AA, UK\", \"Champs-Élysées, Paris, France\", \"Wan Chai, Hong Kong\"]\n",
    "\n",
    "# define sample lists of cities and countries to improve accuracy of city and country extraction\n",
    "#city_names = ['London', 'Paris', 'New York', 'Hong Kong']\n",
    "country_names = ['UK', 'France', 'USA', 'China']\n",
    "\n",
    "# define regular expression patterns to extract information from addresses\n",
    "number_pattern = r'\\d+'  # match one or more digits\n",
    "street_pattern = r'\\b(?:\\d+\\s)?[A-Za-z0-9\\'\\-]+\\b(?:\\s[A-Za-z0-9\\'\\-]+)*'  # match one or more words, numbers, apostrophes, hyphens, and spaces\n",
    "city_pattern = r'\\b(?:{})\\b'.format('|'.join(city_names))  # match any city name in the list\n",
    "country_pattern = r'\\b(?:{})\\b'.format('|'.join(country_names))  # match any country name in the list\n",
    "postcode_pattern = r'[A-Z]{1,2}\\d[A-Z\\d]? \\d[A-Z]{2}'  # match UK postcode format\n",
    "state_pattern = r'[A-Z]{2}'  # match US state abbreviation format\n",
    "\n",
    "# extract information from each address\n",
    "for address in address_list:\n",
    "    \"\"\"\"\"\"\n",
    "    \n",
    "    \"\"\"\"\"\"\n",
    "    number_match = re.search(number_pattern, address)\n",
    "    street_match = re.search(street_pattern, address)\n",
    "    city_match = re.search(city_pattern, address)\n",
    "    country_match = re.search(country_pattern, address)\n",
    "    postcode_match = re.search(postcode_pattern, address)\n",
    "    state_match = re.search(state_pattern, address)\n",
    "\n",
    "    # print the extracted information\n",
    "    if number_match:\n",
    "        print('Number:', number_match.group())\n",
    "    if street_match:\n",
    "        print('Street:', street_match.group())\n",
    "    if city_match:\n",
    "        city = city_match.group().strip()\n",
    "        print('City:', city)\n",
    "    if country_match:\n",
    "        country = country_match.group().strip()\n",
    "        print('Country:', country)\n",
    "    if postcode_match:\n",
    "        print('Postcode:', postcode_match.group())\n",
    "    if state_match:\n",
    "        print('State:', state_match.group())\n",
    "    print('---')\n"
   ]
  },
  {
   "cell_type": "code",
   "execution_count": 597,
   "id": "bc9df73b",
   "metadata": {
    "scrolled": false
   },
   "outputs": [
    {
     "name": "stdout",
     "output_type": "stream",
     "text": [
      "Number: 11\n",
      "Street: Regent Street\n",
      "City: London\n",
      "Postcode: SW1Y 4LR\n",
      "---\n",
      "Number: 15\n",
      "---\n",
      "---\n",
      "---\n",
      "Number: 71\n",
      "City: London\n",
      "Postcode: WC1V 6EA\n",
      "---\n"
     ]
    },
    {
     "name": "stderr",
     "output_type": "stream",
     "text": [
      "<ipython-input-597-696f40e51eeb>:23: DeprecationWarning:\n",
      "\n",
      "Flags not at the start of the expression '\\\\b(\\\\d+((?i)th|rd|nd|' (truncated)\n",
      "\n"
     ]
    }
   ],
   "source": [
    "import re\n",
    "\n",
    "address_list = [\"11A Regent Street  floor 3 , Southwest House, SW1Y 4LR London\",\"Street15th Floor\", \"StreetCalamar\", \"StreetCaalamarBnn\", \"71 High Holborn Level 9 MidCity Place , WC1V 6EA London\"]\n",
    "\n",
    "# define a list of city names to improve accuracy of city extraction\n",
    "city_names = ['London', 'Manchester', 'Liverpool', 'Birmingham', 'Glasgow', 'Edinburgh', 'Bristol', 'Leeds', 'Sheffield', 'Newcastle', 'Belfast', 'Dublin']\n",
    "\n",
    "# define regular expression patterns to extract information from addresses\n",
    "number_pattern = r'\\d+'  # match one or more digits\n",
    "street_pattern = r'\\b\\w+\\s+((?i)rue|avenue|boulevard|route|chemin|strasse|weg|platz|allee|st|street|ave|rd|road|blvd|ln|lane|dr|drive|ct|court)\\b'  # match one or more words\n",
    "city_pattern = r'\\b(?:{})\\b'.format('|'.join(city_names))  # match any city name in the list\n",
    "postcode_pattern = r'[A-Z]{1,2}\\d[A-Z\\d]? \\d[A-Z]{2}'  # match UK postcode format\n",
    "floor_pattern=r'\\b(\\d+((?i)th|rd|nd|st|ème|eme|e)?\\s+((?i)floor|flr|fl.|fl|lvl|lv|level|étage|etage)\\s*\\d+)\\s*\\d*\\b'\n",
    "\n",
    "#floor_pattern=r'\\b((?i)\\d+(?:th|rd|nd|st|ème|eme|e)?\\s+((?i)(?:floor|flr|fl\\.|fl|lvl|lv|level|étage|etage))\\s*\\d+)\\s*\\d*\\b'\n",
    "#street_pattern2 = r'\\b(?:\\d+\\s)?[A-Za-z0-9\\'\\-]+\\b(?:\\s[A-Za-z0-9\\'\\-]+)*'\n",
    "# extract information from each address\n",
    "for address in address_list:\n",
    "    number_match = re.search(number_pattern, address)\n",
    "    street_match = re.search(street_pattern, address)\n",
    "    city_match = re.search(city_pattern, address)\n",
    "    postcode_match = re.search(postcode_pattern, address)\n",
    "    floor_match=re.search(floor_pattern,address)\n",
    "\n",
    "    # print the extracted information\n",
    "    if number_match:\n",
    "        print('Number:', number_match.group())\n",
    "    if street_match:\n",
    "        print('Street:', street_match.group())\n",
    "    if city_match:\n",
    "        city = city_match.group().strip()\n",
    "        print('City:', city)\n",
    "    if floor_match:\n",
    "        floor = floor_match.group().strip()\n",
    "        print('Floor:', floor)\n",
    "    if postcode_match:\n",
    "        print('Postcode:', postcode_match.group())\n",
    "    print('---')"
   ]
  },
  {
   "cell_type": "code",
   "execution_count": 595,
   "id": "1621f364",
   "metadata": {},
   "outputs": [],
   "source": [
    "for i in list(df2.index):\n",
    "    try:\n",
    "        if df2['Visit address'][i] in validAdress:\n",
    "            df2['Class'][i]=\"valide\"\n",
    "        elif df2['Visit address'][i] in invalidAdress:\n",
    "            df2['Class'][i]=\"invalide\"\n",
    "    except:\n",
    "        pass"
   ]
  },
  {
   "cell_type": "code",
   "execution_count": null,
   "id": "ab7bee5c",
   "metadata": {},
   "outputs": [],
   "source": [
    "fig = px.scatter_geo(df2, locations=\"Country_nm\", color=\"Class\",\n",
    "                     hover_name=\"Country_EN\",\n",
    "                     color_discrete_sequence=['#003C30','#55A185'],\n",
    "                     projection=\"natural earth\")\n",
    "fig.show()"
   ]
  }
 ],
 "metadata": {
  "kernelspec": {
   "display_name": "Python 3",
   "language": "python",
   "name": "python3"
  },
  "language_info": {
   "codemirror_mode": {
    "name": "ipython",
    "version": 3
   },
   "file_extension": ".py",
   "mimetype": "text/x-python",
   "name": "python",
   "nbconvert_exporter": "python",
   "pygments_lexer": "ipython3",
   "version": "3.8.8"
  }
 },
 "nbformat": 4,
 "nbformat_minor": 5
}
