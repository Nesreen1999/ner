{
 "cells": [
  {
   "cell_type": "code",
   "execution_count": 85,
   "id": "7153d1f1",
   "metadata": {},
   "outputs": [],
   "source": [
    "import spacy\n",
    "from sklearn.model_selection import train_test_split"
   ]
  },
  {
   "cell_type": "code",
   "execution_count": 2,
   "id": "d595263c",
   "metadata": {},
   "outputs": [
    {
     "data": {
      "text/plain": [
       "'3.6.0'"
      ]
     },
     "execution_count": 2,
     "metadata": {},
     "output_type": "execute_result"
    }
   ],
   "source": [
    "spacy.__version__"
   ]
  },
  {
   "cell_type": "code",
   "execution_count": 4,
   "id": "f95bb761",
   "metadata": {},
   "outputs": [],
   "source": [
    "from spacy.tokens import DocBin\n",
    "import pandas as pd\n",
    "import re"
   ]
  },
  {
   "cell_type": "code",
   "execution_count": 86,
   "id": "15d5f527",
   "metadata": {},
   "outputs": [],
   "source": [
    "df=pd.read_excel(\"physical_france_generated.xlsx\")    "
   ]
  },
  {
   "cell_type": "code",
   "execution_count": 87,
   "id": "2bb28e31",
   "metadata": {},
   "outputs": [],
   "source": [
    "df = df.fillna('')"
   ]
  },
  {
   "cell_type": "code",
   "execution_count": 88,
   "id": "37fa0652",
   "metadata": {},
   "outputs": [],
   "source": [
    "shuffled_data = df.sample(frac=1, random_state=42)  # Shuffle the dataset randomly"
   ]
  },
  {
   "cell_type": "code",
   "execution_count": 91,
   "id": "3d7ad3eb",
   "metadata": {},
   "outputs": [
    {
     "data": {
      "text/plain": [
       "8000"
      ]
     },
     "execution_count": 91,
     "metadata": {},
     "output_type": "execute_result"
    }
   ],
   "source": [
    "split_index = int(0.8 * len(shuffled_data))  # Calculate the index to split the dataset"
   ]
  },
  {
   "cell_type": "code",
   "execution_count": 92,
   "id": "2b4a2b82",
   "metadata": {},
   "outputs": [],
   "source": [
    "df_train = shuffled_data[:split_index]  # Training data\n",
    "df_test = shuffled_data[split_index:]  # Testing data"
   ]
  },
  {
   "cell_type": "code",
   "execution_count": 95,
   "id": "59c4d186",
   "metadata": {},
   "outputs": [],
   "source": [
    "def massage_data(address):\n",
    "    '''Pre process address string to remove new line characters, add comma punctuations etc.'''\n",
    "    cleansed_address1=re.sub(r'(,)(?!\\s)',', ',address)\n",
    "    cleansed_address2=re.sub(r'(\\\\n)',', ',cleansed_address1)\n",
    "    cleansed_address3=re.sub(r'(?!\\s)(-)(?!\\s)',' - ',cleansed_address2)\n",
    "    cleansed_address=re.sub(r'\\.','',cleansed_address3)\n",
    "    return cleansed_address"
   ]
  },
  {
   "cell_type": "code",
   "execution_count": 96,
   "id": "7b1bb1fe",
   "metadata": {},
   "outputs": [],
   "source": [
    "def get_address_span(address=None,address_component=None,label=None):\n",
    "    '''Search for specified address component and get the span.\n",
    "    Eg: get_address_span(address=\"221 B, Baker Street, London\",address_component=\"221\",label=\"BUILDING_NO\") would return (0,2,\"BUILDING_NO\")'''\n",
    "\n",
    "    if pd.isna(address_component) or str(address_component)=='nan' or str(address_component)=='NaN' or address_component==None:\n",
    "        pass\n",
    "    else:\n",
    "        address_component1=re.sub('\\.','',address_component)\n",
    "        address_component2 = re.escape(re.sub(r'(?!\\s)(-)(?!\\s)',' - ',address_component1))\n",
    "        span=re.search('\\\\b(?:'+address_component2+')\\\\b',address)\n",
    "        if span is not None:\n",
    "            return (span.start(), span.end(), label)\n",
    "        else:\n",
    "            return None"
   ]
  },
  {
   "cell_type": "code",
   "execution_count": 97,
   "id": "2a12b201",
   "metadata": {},
   "outputs": [],
   "source": [
    "def extend_list(entity_list, entity):\n",
    "    if isinstance(entity, list):\n",
    "        entity_list.extend(entity)\n",
    "    elif not pd.isna(entity):\n",
    "        entity_list.append(entity)\n",
    "    return entity_list"
   ]
  },
  {
   "cell_type": "code",
   "execution_count": 98,
   "id": "5506b7a4",
   "metadata": {},
   "outputs": [],
   "source": [
    "def create_entity_spans(df,tag_list):\n",
    "    '''Create entity spans for training/test datasets'''\n",
    "    df['Address']=df['Address'].apply(lambda x: massage_data(x))\n",
    "    df[\"SubdivisionTag\"]=df.apply(lambda row:get_address_span(address=row['Address'],address_component=row['Subdivision'],label='SUBDIVISION'),axis=1)\n",
    "    df[\"building_nameTag\"]=df.apply(lambda row:get_address_span(address=row['Address'],address_component=row['building_name'],label='BUILDING_NAME'),axis=1)\n",
    "    df[\"sub_building_types_Tag\"]=df.apply(lambda row:get_address_span(address=row['Address'],address_component=row['sub_building_types'],label='SUBBUILDING'),axis=1)\n",
    "    df[\"numberTag\"]=df.apply(lambda row:get_address_span(address=row['Address'],address_component=row['number'],label='NUMBER'),axis=1)\n",
    "    df[\"StreetTag\"]=df.apply(lambda row:get_address_span(address=row['Address'],address_component=row['Street'],label='STREET'),axis=1)\n",
    "    df[\"PostcodeTag\"]=df.apply(lambda row:get_address_span(address=row['Address'],address_component=row['postcode'],label='POSTCODE'),axis=1)\n",
    "    df[\"CityTag\"]=df.apply(lambda row:get_address_span(address=row['Address'],address_component=row['city'],label='CITY'),axis=1)\n",
    "    df['EmptySpan']=df.apply(lambda x: [], axis=1)\n",
    "    for i in tag_list:\n",
    "        df['EntitySpans']=df.apply(lambda row: extend_list(row['EmptySpan'],row[i]),axis=1)\n",
    "        df['EntitySpans']=df[['EntitySpans','Address']].apply(lambda x: (x[1], x[0]),axis=1)\n",
    "    return df['EntitySpans']"
   ]
  },
  {
   "cell_type": "code",
   "execution_count": 99,
   "id": "d9d9cb2f",
   "metadata": {},
   "outputs": [],
   "source": [
    "#Define custom entity tag list\n",
    "tag_list=[\"SubdivisionTag\",\"building_nameTag\",\"sub_building_types_Tag\",\"numberTag\",\"StreetTag\",\"PostcodeTag\",\"CityTag\",\"EmptySpan\"]\n",
    "# Get entity spans\n",
    "df_entity_spans= create_entity_spans(df_train.astype(str),tag_list)\n",
    "training_data= df_entity_spans.values.tolist()"
   ]
  },
  {
   "cell_type": "code",
   "execution_count": 102,
   "id": "bdbab341",
   "metadata": {},
   "outputs": [],
   "source": [
    "def get_doc_bin(training_data, nlp):\n",
    "    db = DocBin()\n",
    "    for text, annotations in training_data:\n",
    "        doc = nlp(text)\n",
    "        ents = []\n",
    "        entity_positions = set()\n",
    "        for start, end, label in annotations:\n",
    "            if any(start <= position < end for position in entity_positions):\n",
    "                continue\n",
    "            span = doc.char_span(start, end, label=label)\n",
    "            if span is not None:\n",
    "                ents.append(span)\n",
    "                entity_positions.update(range(start, end))\n",
    "        doc.ents = ents\n",
    "        db.add(doc)\n",
    "    return db"
   ]
  },
  {
   "cell_type": "code",
   "execution_count": 103,
   "id": "ce9b214b",
   "metadata": {},
   "outputs": [],
   "source": [
    "#Load blank French model. This is needed for initializing a Document object for our training/test set.\n",
    "nlp = spacy.blank(\"fr\")"
   ]
  },
  {
   "cell_type": "code",
   "execution_count": 104,
   "id": "95877cc3",
   "metadata": {},
   "outputs": [],
   "source": [
    "# Get & Persist DocBin to disk\n",
    "doc_bin_train= get_doc_bin(training_data,nlp)\n",
    "doc_bin_train.to_disk(\"train.spacy\")"
   ]
  },
  {
   "cell_type": "code",
   "execution_count": 105,
   "id": "b4f997ad",
   "metadata": {},
   "outputs": [],
   "source": [
    "###### Validation dataset prep ###########\n",
    "# Get entity spans\n",
    "df_entity_spans= create_entity_spans(df_test.astype(str),tag_list)\n",
    "validation_data= df_entity_spans.values.tolist()\n",
    "\n",
    "# Get & Persist DocBin to disk\n",
    "doc_bin_test= get_doc_bin(validation_data,nlp)\n",
    "doc_bin_test.to_disk(\"test.spacy\")"
   ]
  },
  {
   "cell_type": "code",
   "execution_count": 82,
   "id": "c4d20a65",
   "metadata": {},
   "outputs": [
    {
     "ename": "OSError",
     "evalue": "[E050] Can't find model 'output\\models\\model-best'. It doesn't seem to be a Python package or a valid path to a data directory.",
     "output_type": "error",
     "traceback": [
      "\u001b[1;31m---------------------------------------------------------------------------\u001b[0m",
      "\u001b[1;31mOSError\u001b[0m                                   Traceback (most recent call last)",
      "\u001b[1;32m~\\AppData\\Local\\Temp\\ipykernel_15868\\3865359566.py\u001b[0m in \u001b[0;36m<module>\u001b[1;34m\u001b[0m\n\u001b[1;32m----> 1\u001b[1;33m \u001b[0mnlp\u001b[0m\u001b[1;33m=\u001b[0m\u001b[0mspacy\u001b[0m\u001b[1;33m.\u001b[0m\u001b[0mload\u001b[0m\u001b[1;33m(\u001b[0m\u001b[1;34m\"output\\models\\model-best\"\u001b[0m\u001b[1;33m)\u001b[0m\u001b[1;33m\u001b[0m\u001b[1;33m\u001b[0m\u001b[0m\n\u001b[0m",
      "\u001b[1;32m~\\anaconda3\\lib\\site-packages\\spacy\\__init__.py\u001b[0m in \u001b[0;36mload\u001b[1;34m(name, vocab, disable, enable, exclude, config)\u001b[0m\n\u001b[0;32m     49\u001b[0m     \u001b[0mRETURNS\u001b[0m \u001b[1;33m(\u001b[0m\u001b[0mLanguage\u001b[0m\u001b[1;33m)\u001b[0m\u001b[1;33m:\u001b[0m \u001b[0mThe\u001b[0m \u001b[0mloaded\u001b[0m \u001b[0mnlp\u001b[0m \u001b[0mobject\u001b[0m\u001b[1;33m.\u001b[0m\u001b[1;33m\u001b[0m\u001b[1;33m\u001b[0m\u001b[0m\n\u001b[0;32m     50\u001b[0m     \"\"\"\n\u001b[1;32m---> 51\u001b[1;33m     return util.load_model(\n\u001b[0m\u001b[0;32m     52\u001b[0m         \u001b[0mname\u001b[0m\u001b[1;33m,\u001b[0m\u001b[1;33m\u001b[0m\u001b[1;33m\u001b[0m\u001b[0m\n\u001b[0;32m     53\u001b[0m         \u001b[0mvocab\u001b[0m\u001b[1;33m=\u001b[0m\u001b[0mvocab\u001b[0m\u001b[1;33m,\u001b[0m\u001b[1;33m\u001b[0m\u001b[1;33m\u001b[0m\u001b[0m\n",
      "\u001b[1;32m~\\anaconda3\\lib\\site-packages\\spacy\\util.py\u001b[0m in \u001b[0;36mload_model\u001b[1;34m(name, vocab, disable, enable, exclude, config)\u001b[0m\n\u001b[0;32m    470\u001b[0m     \u001b[1;32mif\u001b[0m \u001b[0mname\u001b[0m \u001b[1;32min\u001b[0m \u001b[0mOLD_MODEL_SHORTCUTS\u001b[0m\u001b[1;33m:\u001b[0m\u001b[1;33m\u001b[0m\u001b[1;33m\u001b[0m\u001b[0m\n\u001b[0;32m    471\u001b[0m         \u001b[1;32mraise\u001b[0m \u001b[0mIOError\u001b[0m\u001b[1;33m(\u001b[0m\u001b[0mErrors\u001b[0m\u001b[1;33m.\u001b[0m\u001b[0mE941\u001b[0m\u001b[1;33m.\u001b[0m\u001b[0mformat\u001b[0m\u001b[1;33m(\u001b[0m\u001b[0mname\u001b[0m\u001b[1;33m=\u001b[0m\u001b[0mname\u001b[0m\u001b[1;33m,\u001b[0m \u001b[0mfull\u001b[0m\u001b[1;33m=\u001b[0m\u001b[0mOLD_MODEL_SHORTCUTS\u001b[0m\u001b[1;33m[\u001b[0m\u001b[0mname\u001b[0m\u001b[1;33m]\u001b[0m\u001b[1;33m)\u001b[0m\u001b[1;33m)\u001b[0m  \u001b[1;31m# type: ignore[index]\u001b[0m\u001b[1;33m\u001b[0m\u001b[1;33m\u001b[0m\u001b[0m\n\u001b[1;32m--> 472\u001b[1;33m     \u001b[1;32mraise\u001b[0m \u001b[0mIOError\u001b[0m\u001b[1;33m(\u001b[0m\u001b[0mErrors\u001b[0m\u001b[1;33m.\u001b[0m\u001b[0mE050\u001b[0m\u001b[1;33m.\u001b[0m\u001b[0mformat\u001b[0m\u001b[1;33m(\u001b[0m\u001b[0mname\u001b[0m\u001b[1;33m=\u001b[0m\u001b[0mname\u001b[0m\u001b[1;33m)\u001b[0m\u001b[1;33m)\u001b[0m\u001b[1;33m\u001b[0m\u001b[1;33m\u001b[0m\u001b[0m\n\u001b[0m\u001b[0;32m    473\u001b[0m \u001b[1;33m\u001b[0m\u001b[0m\n\u001b[0;32m    474\u001b[0m \u001b[1;33m\u001b[0m\u001b[0m\n",
      "\u001b[1;31mOSError\u001b[0m: [E050] Can't find model 'output\\models\\model-best'. It doesn't seem to be a Python package or a valid path to a data directory."
     ]
    }
   ],
   "source": [
    "nlp=spacy.load(\"output\\models\\model-best\")"
   ]
  }
 ],
 "metadata": {
  "kernelspec": {
   "display_name": "Python 3 (ipykernel)",
   "language": "python",
   "name": "python3"
  },
  "language_info": {
   "codemirror_mode": {
    "name": "ipython",
    "version": 3
   },
   "file_extension": ".py",
   "mimetype": "text/x-python",
   "name": "python",
   "nbconvert_exporter": "python",
   "pygments_lexer": "ipython3",
   "version": "3.9.13"
  }
 },
 "nbformat": 4,
 "nbformat_minor": 5
}
